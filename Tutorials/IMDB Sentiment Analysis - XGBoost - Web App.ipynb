{
 "cells": [
  {
   "cell_type": "markdown",
   "metadata": {},
   "source": [
    "# Sentiment Analysis Web App\n",
    "\n",
    "_Deep Learning Nanodegree Program | Deployment_\n",
    "\n",
    "---\n",
    "\n",
    "In this notebook we will use Amazon's SageMaker service to construct a random tree model to predict the sentiment of a movie review. In addition, we will deploy this model to an endpoint and construct a very simple web app which will interact with our model's deployed endpoint.\n",
    "\n",
    "## General Outline\n",
    "\n",
    "Typically, when using a notebook instance with SageMaker, you will proceed through the following steps. Of course, not every step will need to be done with each project. Also, there is quite a lot of room for variation in many of the steps, as you will see throughout these lessons.\n",
    "\n",
    "1. Download or otherwise retrieve the data.\n",
    "2. Process / Prepare the data.\n",
    "3. Upload the processed data to S3.\n",
    "4. Train a chosen model.\n",
    "5. Test the trained model (typically using a batch transform job).\n",
    "6. Deploy the trained model.\n",
    "7. Use the deployed model.\n",
    "\n",
    "In this notebook we will progress through each of the steps above. We will also see that the final step, using the deployed model, can be quite challenging."
   ]
  },
  {
   "cell_type": "markdown",
   "metadata": {},
   "source": [
    "## Step 1: Downloading the data\n",
    "\n",
    "The dataset we are going to use is very popular among researchers in Natural Language Processing, usually referred to as the [IMDb dataset](http://ai.stanford.edu/~amaas/data/sentiment/). It consists of movie reviews from the website [imdb.com](http://www.imdb.com/), each labeled as either '**pos**itive', if the reviewer enjoyed the film, or '**neg**ative' otherwise.\n",
    "\n",
    "> Maas, Andrew L., et al. [Learning Word Vectors for Sentiment Analysis](http://ai.stanford.edu/~amaas/data/sentiment/). In _Proceedings of the 49th Annual Meeting of the Association for Computational Linguistics: Human Language Technologies_. Association for Computational Linguistics, 2011.\n",
    "\n",
    "We begin by using some Jupyter Notebook magic to download and extract the dataset."
   ]
  },
  {
   "cell_type": "code",
   "execution_count": 1,
   "metadata": {},
   "outputs": [
    {
     "name": "stdout",
     "output_type": "stream",
     "text": [
      "mkdir: cannot create directory ‘../data’: File exists\n",
      "--2020-03-01 15:26:10--  http://ai.stanford.edu/~amaas/data/sentiment/aclImdb_v1.tar.gz\n",
      "Resolving ai.stanford.edu (ai.stanford.edu)... 171.64.68.10\n",
      "Connecting to ai.stanford.edu (ai.stanford.edu)|171.64.68.10|:80... connected.\n",
      "HTTP request sent, awaiting response... 200 OK\n",
      "Length: 84125825 (80M) [application/x-gzip]\n",
      "Saving to: ‘../data/aclImdb_v1.tar.gz’\n",
      "\n",
      "../data/aclImdb_v1. 100%[===================>]  80.23M  24.4MB/s    in 3.9s    \n",
      "\n",
      "2020-03-01 15:26:14 (20.5 MB/s) - ‘../data/aclImdb_v1.tar.gz’ saved [84125825/84125825]\n",
      "\n"
     ]
    }
   ],
   "source": [
    "%mkdir ../data\n",
    "!wget -O ../data/aclImdb_v1.tar.gz http://ai.stanford.edu/~amaas/data/sentiment/aclImdb_v1.tar.gz\n",
    "!tar -zxf ../data/aclImdb_v1.tar.gz -C ../data"
   ]
  },
  {
   "cell_type": "markdown",
   "metadata": {},
   "source": [
    "## Step 2: Preparing and Processing the data\n",
    "\n",
    "The data we have downloaded is split into various files, each of which contains a single review. It will be much easier going forward if we combine these individual files into two large files, one for training and one for testing."
   ]
  },
  {
   "cell_type": "code",
   "execution_count": 2,
   "metadata": {},
   "outputs": [],
   "source": [
    "import os\n",
    "import glob\n",
    "\n",
    "def read_imdb_data(data_dir='../data/aclImdb'):\n",
    "    data = {}\n",
    "    labels = {}\n",
    "    \n",
    "    for data_type in ['train', 'test']:\n",
    "        data[data_type] = {}\n",
    "        labels[data_type] = {}\n",
    "        \n",
    "        for sentiment in ['pos', 'neg']:\n",
    "            data[data_type][sentiment] = []\n",
    "            labels[data_type][sentiment] = []\n",
    "            \n",
    "            path = os.path.join(data_dir, data_type, sentiment, '*.txt')\n",
    "            files = glob.glob(path)\n",
    "            \n",
    "            for f in files:\n",
    "                with open(f) as review:\n",
    "                    data[data_type][sentiment].append(review.read())\n",
    "                    # Here we represent a positive review by '1' and a negative review by '0'\n",
    "                    labels[data_type][sentiment].append(1 if sentiment == 'pos' else 0)\n",
    "                    \n",
    "            assert len(data[data_type][sentiment]) == len(labels[data_type][sentiment]), \\\n",
    "                    \"{}/{} data size does not match labels size\".format(data_type, sentiment)\n",
    "                \n",
    "    return data, labels"
   ]
  },
  {
   "cell_type": "code",
   "execution_count": 3,
   "metadata": {},
   "outputs": [
    {
     "name": "stdout",
     "output_type": "stream",
     "text": [
      "IMDB reviews: train = 12500 pos / 12500 neg, test = 12500 pos / 12500 neg\n"
     ]
    }
   ],
   "source": [
    "data, labels = read_imdb_data()\n",
    "print(\"IMDB reviews: train = {} pos / {} neg, test = {} pos / {} neg\".format(\n",
    "            len(data['train']['pos']), len(data['train']['neg']),\n",
    "            len(data['test']['pos']), len(data['test']['neg'])))"
   ]
  },
  {
   "cell_type": "code",
   "execution_count": 4,
   "metadata": {},
   "outputs": [],
   "source": [
    "from sklearn.utils import shuffle\n",
    "\n",
    "def prepare_imdb_data(data, labels):\n",
    "    \"\"\"Prepare training and test sets from IMDb movie reviews.\"\"\"\n",
    "    \n",
    "    #Combine positive and negative reviews and labels\n",
    "    data_train = data['train']['pos'] + data['train']['neg']\n",
    "    data_test = data['test']['pos'] + data['test']['neg']\n",
    "    labels_train = labels['train']['pos'] + labels['train']['neg']\n",
    "    labels_test = labels['test']['pos'] + labels['test']['neg']\n",
    "    \n",
    "    #Shuffle reviews and corresponding labels within training and test sets\n",
    "    data_train, labels_train = shuffle(data_train, labels_train)\n",
    "    data_test, labels_test = shuffle(data_test, labels_test)\n",
    "    \n",
    "    # Return a unified training data, test data, training labels, test labets\n",
    "    return data_train, data_test, labels_train, labels_test"
   ]
  },
  {
   "cell_type": "code",
   "execution_count": 5,
   "metadata": {},
   "outputs": [
    {
     "name": "stdout",
     "output_type": "stream",
     "text": [
      "IMDb reviews (combined): train = 25000, test = 25000\n"
     ]
    }
   ],
   "source": [
    "train_X, test_X, train_y, test_y = prepare_imdb_data(data, labels)\n",
    "print(\"IMDb reviews (combined): train = {}, test = {}\".format(len(train_X), len(test_X)))"
   ]
  },
  {
   "cell_type": "code",
   "execution_count": 6,
   "metadata": {},
   "outputs": [
    {
     "data": {
      "text/plain": [
       "\"This was a better than average movie I thought, for it being on cable. I had expected something along the lines of cheesy melodrama and bad special effects seen in such classics as Christmas Rush or First Daughter/Target/Shot, etc.<br /><br />The cast was well chosen...I especially liked Ron Livingston as the hard pressed SWAT Commander. It's good to see him revisiting the same material he had so much fortune with in Band of Brothers. The producers and designers had done their homework because all the scenes and shots looked like they did on that day back in 1997.<br /><br />So, if you get a chance to see this film, and I am sure you will since FX reruns everything 50 times...take 2 hours and enjoy it.\""
      ]
     },
     "execution_count": 6,
     "metadata": {},
     "output_type": "execute_result"
    }
   ],
   "source": [
    "train_X[100]"
   ]
  },
  {
   "cell_type": "markdown",
   "metadata": {},
   "source": [
    "## Processing the data\n",
    "\n",
    "Now that we have our training and testing datasets merged and ready to use, we need to start processing the raw data into something that will be useable by our machine learning algorithm. To begin with, we remove any html formatting and any non-alpha numeric characters that may appear in the reviews. We will do this in a very simplistic way using Python's regular expression module. We will discuss the reason for this rather simplistic pre-processing later on."
   ]
  },
  {
   "cell_type": "code",
   "execution_count": 7,
   "metadata": {},
   "outputs": [],
   "source": [
    "import re\n",
    "\n",
    "REPLACE_NO_SPACE = re.compile(\"(\\.)|(\\;)|(\\:)|(\\!)|(\\')|(\\?)|(\\,)|(\\\")|(\\()|(\\))|(\\[)|(\\])\")\n",
    "REPLACE_WITH_SPACE = re.compile(\"(<br\\s*/><br\\s*/>)|(\\-)|(\\/)\")\n",
    "\n",
    "def review_to_words(review):\n",
    "    words = REPLACE_NO_SPACE.sub(\"\", review.lower())\n",
    "    words = REPLACE_WITH_SPACE.sub(\" \", words)\n",
    "    return words"
   ]
  },
  {
   "cell_type": "code",
   "execution_count": 8,
   "metadata": {},
   "outputs": [
    {
     "data": {
      "text/plain": [
       "'this was a better than average movie i thought for it being on cable i had expected something along the lines of cheesy melodrama and bad special effects seen in such classics as christmas rush or first daughter target shot etc the cast was well choseni especially liked ron livingston as the hard pressed swat commander its good to see him revisiting the same material he had so much fortune with in band of brothers the producers and designers had done their homework because all the scenes and shots looked like they did on that day back in 1997 so if you get a chance to see this film and i am sure you will since fx reruns everything 50 timestake 2 hours and enjoy it'"
      ]
     },
     "execution_count": 8,
     "metadata": {},
     "output_type": "execute_result"
    }
   ],
   "source": [
    "review_to_words(train_X[100])"
   ]
  },
  {
   "cell_type": "code",
   "execution_count": 9,
   "metadata": {},
   "outputs": [],
   "source": [
    "import pickle\n",
    "\n",
    "cache_dir = os.path.join(\"../cache\", \"sentiment_web_app\")  # where to store cache files\n",
    "os.makedirs(cache_dir, exist_ok=True)  # ensure cache directory exists\n",
    "\n",
    "def preprocess_data(data_train, data_test, labels_train, labels_test,\n",
    "                    cache_dir=cache_dir, cache_file=\"preprocessed_data.pkl\"):\n",
    "    \"\"\"Convert each review to words; read from cache if available.\"\"\"\n",
    "\n",
    "    # If cache_file is not None, try to read from it first\n",
    "    cache_data = None\n",
    "    if cache_file is not None:\n",
    "        try:\n",
    "            with open(os.path.join(cache_dir, cache_file), \"rb\") as f:\n",
    "                cache_data = pickle.load(f)\n",
    "            print(\"Read preprocessed data from cache file:\", cache_file)\n",
    "        except:\n",
    "            pass  # unable to read from cache, but that's okay\n",
    "    \n",
    "    # If cache is missing, then do the heavy lifting\n",
    "    if cache_data is None:\n",
    "        # Preprocess training and test data to obtain words for each review\n",
    "        #words_train = list(map(review_to_words, data_train))\n",
    "        #words_test = list(map(review_to_words, data_test))\n",
    "        words_train = [review_to_words(review) for review in data_train]\n",
    "        words_test = [review_to_words(review) for review in data_test]\n",
    "        \n",
    "        # Write to cache file for future runs\n",
    "        if cache_file is not None:\n",
    "            cache_data = dict(words_train=words_train, words_test=words_test,\n",
    "                              labels_train=labels_train, labels_test=labels_test)\n",
    "            with open(os.path.join(cache_dir, cache_file), \"wb\") as f:\n",
    "                pickle.dump(cache_data, f)\n",
    "            print(\"Wrote preprocessed data to cache file:\", cache_file)\n",
    "    else:\n",
    "        # Unpack data loaded from cache file\n",
    "        words_train, words_test, labels_train, labels_test = (cache_data['words_train'],\n",
    "                cache_data['words_test'], cache_data['labels_train'], cache_data['labels_test'])\n",
    "    \n",
    "    return words_train, words_test, labels_train, labels_test"
   ]
  },
  {
   "cell_type": "code",
   "execution_count": 10,
   "metadata": {},
   "outputs": [
    {
     "name": "stdout",
     "output_type": "stream",
     "text": [
      "Wrote preprocessed data to cache file: preprocessed_data.pkl\n"
     ]
    }
   ],
   "source": [
    "# Preprocess data\n",
    "train_X, test_X, train_y, test_y = preprocess_data(train_X, test_X, train_y, test_y)"
   ]
  },
  {
   "cell_type": "markdown",
   "metadata": {},
   "source": [
    "### Extract Bag-of-Words features\n",
    "\n",
    "For the model we will be implementing, rather than using the reviews directly, we are going to transform each review into a Bag-of-Words feature representation. Keep in mind that 'in the wild' we will only have access to the training set so our transformer can only use the training set to construct a representation."
   ]
  },
  {
   "cell_type": "code",
   "execution_count": 11,
   "metadata": {},
   "outputs": [],
   "source": [
    "import numpy as np\n",
    "from sklearn.feature_extraction.text import CountVectorizer\n",
    "from sklearn.externals import joblib\n",
    "# joblib is an enhanced version of pickle that is more efficient for storing NumPy arrays\n",
    "\n",
    "def extract_BoW_features(words_train, words_test, vocabulary_size=5000,\n",
    "                         cache_dir=cache_dir, cache_file=\"bow_features.pkl\"):\n",
    "    \"\"\"Extract Bag-of-Words for a given set of documents, already preprocessed into words.\"\"\"\n",
    "    \n",
    "    # If cache_file is not None, try to read from it first\n",
    "    cache_data = None\n",
    "    if cache_file is not None:\n",
    "        try:\n",
    "            with open(os.path.join(cache_dir, cache_file), \"rb\") as f:\n",
    "                cache_data = joblib.load(f)\n",
    "            print(\"Read features from cache file:\", cache_file)\n",
    "        except:\n",
    "            pass  # unable to read from cache, but that's okay\n",
    "    \n",
    "    # If cache is missing, then do the heavy lifting\n",
    "    if cache_data is None:\n",
    "        # Fit a vectorizer to training documents and use it to transform them\n",
    "        # NOTE: Training documents have already been preprocessed and tokenized into words;\n",
    "        #       pass in dummy functions to skip those steps, e.g. preprocessor=lambda x: x\n",
    "        vectorizer = CountVectorizer(max_features=vocabulary_size)\n",
    "        features_train = vectorizer.fit_transform(words_train).toarray()\n",
    "\n",
    "        # Apply the same vectorizer to transform the test documents (ignore unknown words)\n",
    "        features_test = vectorizer.transform(words_test).toarray()\n",
    "        \n",
    "        # NOTE: Remember to convert the features using .toarray() for a compact representation\n",
    "        \n",
    "        # Write to cache file for future runs (store vocabulary as well)\n",
    "        if cache_file is not None:\n",
    "            vocabulary = vectorizer.vocabulary_\n",
    "            cache_data = dict(features_train=features_train, features_test=features_test,\n",
    "                             vocabulary=vocabulary)\n",
    "            with open(os.path.join(cache_dir, cache_file), \"wb\") as f:\n",
    "                joblib.dump(cache_data, f)\n",
    "            print(\"Wrote features to cache file:\", cache_file)\n",
    "    else:\n",
    "        # Unpack data loaded from cache file\n",
    "        features_train, features_test, vocabulary = (cache_data['features_train'],\n",
    "                cache_data['features_test'], cache_data['vocabulary'])\n",
    "    \n",
    "    # Return both the extracted features as well as the vocabulary\n",
    "    return features_train, features_test, vocabulary"
   ]
  },
  {
   "cell_type": "code",
   "execution_count": 12,
   "metadata": {},
   "outputs": [
    {
     "name": "stdout",
     "output_type": "stream",
     "text": [
      "Wrote features to cache file: bow_features.pkl\n"
     ]
    }
   ],
   "source": [
    "# Extract Bag of Words features for both training and test datasets\n",
    "train_X, test_X, vocabulary = extract_BoW_features(train_X, test_X)"
   ]
  },
  {
   "cell_type": "code",
   "execution_count": 13,
   "metadata": {},
   "outputs": [
    {
     "data": {
      "text/plain": [
       "5000"
      ]
     },
     "execution_count": 13,
     "metadata": {},
     "output_type": "execute_result"
    }
   ],
   "source": [
    "len(train_X[100])"
   ]
  },
  {
   "cell_type": "markdown",
   "metadata": {},
   "source": [
    "## Step 3: Upload data to S3\n",
    "\n",
    "Now that we have created the feature representation of our training (and testing) data, it is time to start setting up and using the XGBoost classifier provided by SageMaker.\n",
    "\n",
    "### Writing the datasets\n",
    "\n",
    "The XGBoost classifier that we will be using requires the dataset to be written to a file and stored using Amazon S3. To do this, we will start by splitting the training dataset into two parts, the data we will train the model with and a validation set. Then, we will write those datasets to a file locally and then upload the files to S3. In addition, we will write the test set to a file and upload that file to S3. This is so that we can use SageMakers Batch Transform functionality to test our model once we've fit it."
   ]
  },
  {
   "cell_type": "code",
   "execution_count": 14,
   "metadata": {},
   "outputs": [],
   "source": [
    "import pandas as pd\n",
    "\n",
    "# Earlier we shuffled the training dataset so to make things simple we can just assign\n",
    "# the first 10 000 reviews to the validation set and use the remaining reviews for training.\n",
    "val_X = pd.DataFrame(train_X[:10000])\n",
    "train_X = pd.DataFrame(train_X[10000:])\n",
    "\n",
    "val_y = pd.DataFrame(train_y[:10000])\n",
    "train_y = pd.DataFrame(train_y[10000:])"
   ]
  },
  {
   "cell_type": "markdown",
   "metadata": {},
   "source": [
    "The documentation for the XGBoost algorithm in SageMaker requires that the training and validation datasets should contain no headers or index and that the label should occur first for each sample.\n",
    "\n",
    "For more information about this and other algorithms, the SageMaker developer documentation can be found on __[Amazon's website.](https://docs.aws.amazon.com/sagemaker/latest/dg/)__"
   ]
  },
  {
   "cell_type": "code",
   "execution_count": 15,
   "metadata": {},
   "outputs": [],
   "source": [
    "# First we make sure that the local directory in which we'd like to store the training and validation csv files exists.\n",
    "data_dir = '../data/sentiment_web_app'\n",
    "if not os.path.exists(data_dir):\n",
    "    os.makedirs(data_dir)"
   ]
  },
  {
   "cell_type": "code",
   "execution_count": 16,
   "metadata": {},
   "outputs": [],
   "source": [
    "pd.DataFrame(test_X).to_csv(os.path.join(data_dir, 'test.csv'), header=False, index=False)\n",
    "\n",
    "pd.concat([val_y, val_X], axis=1).to_csv(os.path.join(data_dir, 'validation.csv'), header=False, index=False)\n",
    "pd.concat([train_y, train_X], axis=1).to_csv(os.path.join(data_dir, 'train.csv'), header=False, index=False)"
   ]
  },
  {
   "cell_type": "code",
   "execution_count": 17,
   "metadata": {},
   "outputs": [],
   "source": [
    "# To save a bit of memory we can set text_X, train_X, val_X, train_y and val_y to None.\n",
    "\n",
    "test_X = train_X = val_X = train_y = val_y = None"
   ]
  },
  {
   "cell_type": "markdown",
   "metadata": {},
   "source": [
    "### Uploading Training / Validation files to S3\n",
    "\n",
    "Amazon's S3 service allows us to store files that can be accessed by both the built-in training models such as the XGBoost model we will be using as well as custom models such as the one we will see a little later.\n",
    "\n",
    "For this and most other tasks we will be doing using SageMaker, there are two methods we could use. The first is to use the low level functionality of SageMaker which requires knowing each of the objects involved in the SageMaker environment. The second is to use the high level functionality in which certain choices have been made on the user's behalf. The low level approach benefits from allowing the user a great deal of flexibility while the high level approach makes development much quicker. For our purposes we will opt to use the high level approach although using the low-level approach is certainly an option.\n",
    "\n",
    "Recall the method `upload_data()` which is a member of the object representing our current SageMaker session. What this method does is upload the data to the default bucket (which is created if it does not exist) into the path described by the key_prefix variable. To see this for yourself, once you have uploaded the data files, go to the S3 console and look to see where the files have been uploaded.\n",
    "\n",
    "For additional resources, see the __[SageMaker API documentation](http://sagemaker.readthedocs.io/en/latest/)__ and in addition the __[SageMaker Developer Guide.](https://docs.aws.amazon.com/sagemaker/latest/dg/)__"
   ]
  },
  {
   "cell_type": "code",
   "execution_count": 18,
   "metadata": {},
   "outputs": [],
   "source": [
    "import sagemaker\n",
    "\n",
    "session = sagemaker.Session() # Store the current SageMaker session\n",
    "\n",
    "# S3 prefix (which folder will we use)\n",
    "prefix = 'sentiment-web-app'\n",
    "\n",
    "test_location = session.upload_data(os.path.join(data_dir, 'test.csv'), key_prefix=prefix)\n",
    "val_location = session.upload_data(os.path.join(data_dir, 'validation.csv'), key_prefix=prefix)\n",
    "train_location = session.upload_data(os.path.join(data_dir, 'train.csv'), key_prefix=prefix)"
   ]
  },
  {
   "cell_type": "markdown",
   "metadata": {},
   "source": [
    "## Step 4: Creating the XGBoost model\n",
    "\n",
    "Now that the data has been uploaded it is time to create the XGBoost model. To begin with, we need to do some setup. At this point it is worth discussing what a model is in SageMaker. It is easiest to think of a model of comprising three different objects in the SageMaker ecosystem, which interact with one another.\n",
    "\n",
    "- Model Artifacts\n",
    "- Training Code (Container)\n",
    "- Inference Code (Container)\n",
    "\n",
    "The Model Artifacts are what you might think of as the actual model itself. For example, if you were building a neural network, the model artifacts would be the weights of the various layers. In our case, for an XGBoost model, the artifacts are the actual trees that are created during training.\n",
    "\n",
    "The other two objects, the training code and the inference code are then used to manipulate the training artifacts. More precisely, the training code uses the training data that is provided and creates the model artifacts, while the inference code uses the model artifacts to make predictions on new data.\n",
    "\n",
    "The way that SageMaker runs the training and inference code is by making use of Docker containers. For now, think of a container as being a way of packaging code up so that dependencies aren't an issue."
   ]
  },
  {
   "cell_type": "code",
   "execution_count": 19,
   "metadata": {},
   "outputs": [],
   "source": [
    "from sagemaker import get_execution_role\n",
    "\n",
    "# Our current execution role is required when creating the model as the training\n",
    "# and inference code will need to access the model artifacts.\n",
    "role = get_execution_role()"
   ]
  },
  {
   "cell_type": "code",
   "execution_count": 20,
   "metadata": {},
   "outputs": [
    {
     "name": "stderr",
     "output_type": "stream",
     "text": [
      "WARNING:root:There is a more up to date SageMaker XGBoost image. To use the newer image, please set 'repo_version'='0.90-1'. For example:\n",
      "\tget_image_uri(region, 'xgboost', '0.90-1').\n"
     ]
    }
   ],
   "source": [
    "# We need to retrieve the location of the container which is provided by Amazon for using XGBoost.\n",
    "# As a matter of convenience, the training and inference code both use the same container.\n",
    "from sagemaker.amazon.amazon_estimator import get_image_uri\n",
    "\n",
    "container = get_image_uri(session.boto_region_name, 'xgboost')"
   ]
  },
  {
   "cell_type": "code",
   "execution_count": 21,
   "metadata": {},
   "outputs": [],
   "source": [
    "# First we create a SageMaker estimator object for our model.\n",
    "xgb = sagemaker.estimator.Estimator(container, # The location of the container we wish to use\n",
    "                                    role,                                    # What is our current IAM Role\n",
    "                                    train_instance_count=1,                  # How many compute instances\n",
    "                                    train_instance_type='ml.m4.xlarge',      # What kind of compute instances\n",
    "                                    output_path='s3://{}/{}/output'.format(session.default_bucket(), prefix),\n",
    "                                    sagemaker_session=session)\n",
    "\n",
    "# And then set the algorithm specific parameters.\n",
    "xgb.set_hyperparameters(max_depth=5,\n",
    "                        eta=0.2,\n",
    "                        gamma=4,\n",
    "                        min_child_weight=6,\n",
    "                        subsample=0.8,\n",
    "                        silent=0,\n",
    "                        objective='binary:logistic',\n",
    "                        early_stopping_rounds=10,\n",
    "                        num_round=500)"
   ]
  },
  {
   "cell_type": "markdown",
   "metadata": {},
   "source": [
    "### Fit the XGBoost model\n",
    "\n",
    "Now that our model has been set up we simply need to attach the training and validation datasets and then ask SageMaker to set up the computation."
   ]
  },
  {
   "cell_type": "code",
   "execution_count": 22,
   "metadata": {},
   "outputs": [],
   "source": [
    "s3_input_train = sagemaker.s3_input(s3_data=train_location, content_type='csv')\n",
    "s3_input_validation = sagemaker.s3_input(s3_data=val_location, content_type='csv')"
   ]
  },
  {
   "cell_type": "code",
   "execution_count": 23,
   "metadata": {},
   "outputs": [
    {
     "name": "stdout",
     "output_type": "stream",
     "text": [
      "2020-03-01 15:38:50 Starting - Starting the training job...\n",
      "2020-03-01 15:38:51 Starting - Launching requested ML instances.........\n",
      "2020-03-01 15:40:22 Starting - Preparing the instances for training...\n",
      "2020-03-01 15:41:12 Downloading - Downloading input data...\n",
      "2020-03-01 15:41:46 Training - Training image download completed. Training in progress..\u001b[34mArguments: train\u001b[0m\n",
      "\u001b[34m[2020-03-01:15:41:47:INFO] Running standalone xgboost training.\u001b[0m\n",
      "\u001b[34m[2020-03-01:15:41:47:INFO] File size need to be processed in the node: 238.5mb. Available memory size in the node: 8502.86mb\u001b[0m\n",
      "\u001b[34m[2020-03-01:15:41:47:INFO] Determined delimiter of CSV input is ','\u001b[0m\n",
      "\u001b[34m[15:41:47] S3DistributionType set as FullyReplicated\u001b[0m\n",
      "\u001b[34m[15:41:49] 15000x5000 matrix with 75000000 entries loaded from /opt/ml/input/data/train?format=csv&label_column=0&delimiter=,\u001b[0m\n",
      "\u001b[34m[2020-03-01:15:41:49:INFO] Determined delimiter of CSV input is ','\u001b[0m\n",
      "\u001b[34m[15:41:49] S3DistributionType set as FullyReplicated\u001b[0m\n",
      "\u001b[34m[15:41:50] 10000x5000 matrix with 50000000 entries loaded from /opt/ml/input/data/validation?format=csv&label_column=0&delimiter=,\u001b[0m\n",
      "\u001b[34m[15:41:53] src/tree/updater_prune.cc:74: tree pruning end, 1 roots, 44 extra nodes, 4 pruned nodes, max_depth=5\u001b[0m\n",
      "\u001b[34m[0]#011train-error:0.2944#011validation-error:0.2987\u001b[0m\n",
      "\u001b[34mMultiple eval metrics have been passed: 'validation-error' will be used for early stopping.\n",
      "\u001b[0m\n",
      "\u001b[34mWill train until validation-error hasn't improved in 10 rounds.\u001b[0m\n",
      "\u001b[34m[15:41:55] src/tree/updater_prune.cc:74: tree pruning end, 1 roots, 44 extra nodes, 2 pruned nodes, max_depth=5\u001b[0m\n",
      "\u001b[34m[1]#011train-error:0.281067#011validation-error:0.2867\u001b[0m\n",
      "\u001b[34m[15:41:56] src/tree/updater_prune.cc:74: tree pruning end, 1 roots, 40 extra nodes, 6 pruned nodes, max_depth=5\u001b[0m\n",
      "\u001b[34m[2]#011train-error:0.289733#011validation-error:0.2935\u001b[0m\n",
      "\u001b[34m[15:41:57] src/tree/updater_prune.cc:74: tree pruning end, 1 roots, 36 extra nodes, 4 pruned nodes, max_depth=5\u001b[0m\n",
      "\u001b[34m[3]#011train-error:0.277933#011validation-error:0.2814\u001b[0m\n",
      "\u001b[34m[15:41:59] src/tree/updater_prune.cc:74: tree pruning end, 1 roots, 46 extra nodes, 4 pruned nodes, max_depth=5\u001b[0m\n",
      "\u001b[34m[4]#011train-error:0.269133#011validation-error:0.2758\u001b[0m\n",
      "\u001b[34m[15:42:00] src/tree/updater_prune.cc:74: tree pruning end, 1 roots, 30 extra nodes, 6 pruned nodes, max_depth=5\u001b[0m\n",
      "\u001b[34m[5]#011train-error:0.269267#011validation-error:0.2708\u001b[0m\n",
      "\u001b[34m[15:42:01] src/tree/updater_prune.cc:74: tree pruning end, 1 roots, 34 extra nodes, 6 pruned nodes, max_depth=5\u001b[0m\n",
      "\u001b[34m[6]#011train-error:0.249933#011validation-error:0.2613\u001b[0m\n",
      "\u001b[34m[15:42:03] src/tree/updater_prune.cc:74: tree pruning end, 1 roots, 36 extra nodes, 4 pruned nodes, max_depth=5\u001b[0m\n",
      "\u001b[34m[7]#011train-error:0.243333#011validation-error:0.2531\u001b[0m\n",
      "\u001b[34m[15:42:04] src/tree/updater_prune.cc:74: tree pruning end, 1 roots, 32 extra nodes, 4 pruned nodes, max_depth=5\u001b[0m\n",
      "\u001b[34m[8]#011train-error:0.241933#011validation-error:0.2536\u001b[0m\n",
      "\u001b[34m[15:42:05] src/tree/updater_prune.cc:74: tree pruning end, 1 roots, 36 extra nodes, 4 pruned nodes, max_depth=5\u001b[0m\n",
      "\u001b[34m[9]#011train-error:0.234133#011validation-error:0.2477\u001b[0m\n",
      "\u001b[34m[15:42:06] src/tree/updater_prune.cc:74: tree pruning end, 1 roots, 22 extra nodes, 12 pruned nodes, max_depth=5\u001b[0m\n",
      "\u001b[34m[10]#011train-error:0.229067#011validation-error:0.2405\u001b[0m\n",
      "\u001b[34m[15:42:08] src/tree/updater_prune.cc:74: tree pruning end, 1 roots, 34 extra nodes, 8 pruned nodes, max_depth=5\u001b[0m\n",
      "\u001b[34m[11]#011train-error:0.220533#011validation-error:0.2358\u001b[0m\n",
      "\u001b[34m[15:42:09] src/tree/updater_prune.cc:74: tree pruning end, 1 roots, 34 extra nodes, 2 pruned nodes, max_depth=5\u001b[0m\n",
      "\u001b[34m[12]#011train-error:0.215733#011validation-error:0.2324\u001b[0m\n",
      "\u001b[34m[15:42:10] src/tree/updater_prune.cc:74: tree pruning end, 1 roots, 30 extra nodes, 2 pruned nodes, max_depth=5\u001b[0m\n",
      "\u001b[34m[13]#011train-error:0.211533#011validation-error:0.2288\u001b[0m\n",
      "\u001b[34m[15:42:12] src/tree/updater_prune.cc:74: tree pruning end, 1 roots, 28 extra nodes, 10 pruned nodes, max_depth=5\u001b[0m\n",
      "\u001b[34m[14]#011train-error:0.206067#011validation-error:0.2269\u001b[0m\n",
      "\u001b[34m[15:42:13] src/tree/updater_prune.cc:74: tree pruning end, 1 roots, 26 extra nodes, 10 pruned nodes, max_depth=5\u001b[0m\n",
      "\u001b[34m[15]#011train-error:0.204267#011validation-error:0.2221\u001b[0m\n",
      "\u001b[34m[15:42:14] src/tree/updater_prune.cc:74: tree pruning end, 1 roots, 32 extra nodes, 10 pruned nodes, max_depth=5\u001b[0m\n",
      "\u001b[34m[16]#011train-error:0.200867#011validation-error:0.221\u001b[0m\n",
      "\u001b[34m[15:42:15] src/tree/updater_prune.cc:74: tree pruning end, 1 roots, 30 extra nodes, 2 pruned nodes, max_depth=5\u001b[0m\n",
      "\u001b[34m[17]#011train-error:0.198133#011validation-error:0.2195\u001b[0m\n",
      "\u001b[34m[15:42:17] src/tree/updater_prune.cc:74: tree pruning end, 1 roots, 38 extra nodes, 4 pruned nodes, max_depth=5\u001b[0m\n",
      "\u001b[34m[18]#011train-error:0.194933#011validation-error:0.2196\u001b[0m\n",
      "\u001b[34m[15:42:18] src/tree/updater_prune.cc:74: tree pruning end, 1 roots, 20 extra nodes, 10 pruned nodes, max_depth=5\u001b[0m\n",
      "\u001b[34m[19]#011train-error:0.192867#011validation-error:0.2167\u001b[0m\n",
      "\u001b[34m[15:42:19] src/tree/updater_prune.cc:74: tree pruning end, 1 roots, 36 extra nodes, 6 pruned nodes, max_depth=5\u001b[0m\n",
      "\u001b[34m[20]#011train-error:0.188733#011validation-error:0.213\u001b[0m\n",
      "\u001b[34m[15:42:20] src/tree/updater_prune.cc:74: tree pruning end, 1 roots, 24 extra nodes, 12 pruned nodes, max_depth=5\u001b[0m\n",
      "\u001b[34m[21]#011train-error:0.187933#011validation-error:0.2105\u001b[0m\n",
      "\u001b[34m[15:42:22] src/tree/updater_prune.cc:74: tree pruning end, 1 roots, 28 extra nodes, 8 pruned nodes, max_depth=5\u001b[0m\n",
      "\u001b[34m[22]#011train-error:0.185#011validation-error:0.2074\u001b[0m\n",
      "\u001b[34m[15:42:23] src/tree/updater_prune.cc:74: tree pruning end, 1 roots, 26 extra nodes, 10 pruned nodes, max_depth=5\u001b[0m\n",
      "\u001b[34m[23]#011train-error:0.1828#011validation-error:0.2056\u001b[0m\n",
      "\u001b[34m[15:42:24] src/tree/updater_prune.cc:74: tree pruning end, 1 roots, 22 extra nodes, 12 pruned nodes, max_depth=5\u001b[0m\n",
      "\u001b[34m[24]#011train-error:0.1826#011validation-error:0.2045\u001b[0m\n",
      "\u001b[34m[15:42:26] src/tree/updater_prune.cc:74: tree pruning end, 1 roots, 22 extra nodes, 10 pruned nodes, max_depth=5\u001b[0m\n",
      "\u001b[34m[25]#011train-error:0.179533#011validation-error:0.2035\u001b[0m\n",
      "\u001b[34m[15:42:27] src/tree/updater_prune.cc:74: tree pruning end, 1 roots, 28 extra nodes, 4 pruned nodes, max_depth=5\u001b[0m\n",
      "\u001b[34m[26]#011train-error:0.1764#011validation-error:0.2024\u001b[0m\n",
      "\u001b[34m[15:42:28] src/tree/updater_prune.cc:74: tree pruning end, 1 roots, 32 extra nodes, 8 pruned nodes, max_depth=5\u001b[0m\n",
      "\u001b[34m[27]#011train-error:0.174467#011validation-error:0.2001\u001b[0m\n",
      "\u001b[34m[15:42:29] src/tree/updater_prune.cc:74: tree pruning end, 1 roots, 26 extra nodes, 2 pruned nodes, max_depth=5\u001b[0m\n",
      "\u001b[34m[28]#011train-error:0.172733#011validation-error:0.201\u001b[0m\n",
      "\u001b[34m[15:42:31] src/tree/updater_prune.cc:74: tree pruning end, 1 roots, 30 extra nodes, 14 pruned nodes, max_depth=5\u001b[0m\n",
      "\u001b[34m[29]#011train-error:0.169533#011validation-error:0.1994\u001b[0m\n",
      "\u001b[34m[15:42:32] src/tree/updater_prune.cc:74: tree pruning end, 1 roots, 26 extra nodes, 6 pruned nodes, max_depth=5\u001b[0m\n",
      "\u001b[34m[30]#011train-error:0.167533#011validation-error:0.1964\u001b[0m\n",
      "\u001b[34m[15:42:33] src/tree/updater_prune.cc:74: tree pruning end, 1 roots, 34 extra nodes, 6 pruned nodes, max_depth=5\u001b[0m\n",
      "\u001b[34m[31]#011train-error:0.166867#011validation-error:0.1956\u001b[0m\n",
      "\u001b[34m[15:42:34] src/tree/updater_prune.cc:74: tree pruning end, 1 roots, 18 extra nodes, 12 pruned nodes, max_depth=5\u001b[0m\n",
      "\u001b[34m[32]#011train-error:0.164933#011validation-error:0.1956\u001b[0m\n",
      "\u001b[34m[15:42:36] src/tree/updater_prune.cc:74: tree pruning end, 1 roots, 24 extra nodes, 10 pruned nodes, max_depth=5\u001b[0m\n",
      "\u001b[34m[33]#011train-error:0.162333#011validation-error:0.1929\u001b[0m\n",
      "\u001b[34m[15:42:37] src/tree/updater_prune.cc:74: tree pruning end, 1 roots, 20 extra nodes, 12 pruned nodes, max_depth=5\u001b[0m\n",
      "\u001b[34m[34]#011train-error:0.162067#011validation-error:0.1915\u001b[0m\n",
      "\u001b[34m[15:42:38] src/tree/updater_prune.cc:74: tree pruning end, 1 roots, 30 extra nodes, 2 pruned nodes, max_depth=5\u001b[0m\n",
      "\u001b[34m[35]#011train-error:0.1602#011validation-error:0.1907\u001b[0m\n",
      "\u001b[34m[15:42:39] src/tree/updater_prune.cc:74: tree pruning end, 1 roots, 40 extra nodes, 6 pruned nodes, max_depth=5\u001b[0m\n",
      "\u001b[34m[36]#011train-error:0.1586#011validation-error:0.1893\u001b[0m\n",
      "\u001b[34m[15:42:41] src/tree/updater_prune.cc:74: tree pruning end, 1 roots, 28 extra nodes, 8 pruned nodes, max_depth=5\u001b[0m\n",
      "\u001b[34m[37]#011train-error:0.1566#011validation-error:0.1873\u001b[0m\n",
      "\u001b[34m[15:42:42] src/tree/updater_prune.cc:74: tree pruning end, 1 roots, 20 extra nodes, 4 pruned nodes, max_depth=5\u001b[0m\n",
      "\u001b[34m[38]#011train-error:0.154733#011validation-error:0.1858\u001b[0m\n",
      "\u001b[34m[15:42:43] src/tree/updater_prune.cc:74: tree pruning end, 1 roots, 32 extra nodes, 2 pruned nodes, max_depth=5\u001b[0m\n",
      "\u001b[34m[39]#011train-error:0.1526#011validation-error:0.1848\u001b[0m\n",
      "\u001b[34m[15:42:45] src/tree/updater_prune.cc:74: tree pruning end, 1 roots, 24 extra nodes, 8 pruned nodes, max_depth=5\u001b[0m\n",
      "\u001b[34m[40]#011train-error:0.150667#011validation-error:0.1833\u001b[0m\n",
      "\u001b[34m[15:42:46] src/tree/updater_prune.cc:74: tree pruning end, 1 roots, 24 extra nodes, 8 pruned nodes, max_depth=5\u001b[0m\n",
      "\u001b[34m[41]#011train-error:0.149933#011validation-error:0.1823\u001b[0m\n",
      "\u001b[34m[15:42:47] src/tree/updater_prune.cc:74: tree pruning end, 1 roots, 12 extra nodes, 8 pruned nodes, max_depth=5\u001b[0m\n",
      "\u001b[34m[42]#011train-error:0.148733#011validation-error:0.1812\u001b[0m\n",
      "\u001b[34m[15:42:48] src/tree/updater_prune.cc:74: tree pruning end, 1 roots, 26 extra nodes, 6 pruned nodes, max_depth=5\u001b[0m\n",
      "\u001b[34m[43]#011train-error:0.147133#011validation-error:0.181\u001b[0m\n",
      "\u001b[34m[15:42:50] src/tree/updater_prune.cc:74: tree pruning end, 1 roots, 30 extra nodes, 2 pruned nodes, max_depth=5\u001b[0m\n",
      "\u001b[34m[44]#011train-error:0.145867#011validation-error:0.1807\u001b[0m\n",
      "\u001b[34m[15:42:51] src/tree/updater_prune.cc:74: tree pruning end, 1 roots, 32 extra nodes, 12 pruned nodes, max_depth=5\u001b[0m\n",
      "\u001b[34m[45]#011train-error:0.144733#011validation-error:0.1788\u001b[0m\n",
      "\u001b[34m[15:42:52] src/tree/updater_prune.cc:74: tree pruning end, 1 roots, 22 extra nodes, 12 pruned nodes, max_depth=5\u001b[0m\n",
      "\u001b[34m[46]#011train-error:0.144067#011validation-error:0.1782\u001b[0m\n",
      "\u001b[34m[15:42:53] src/tree/updater_prune.cc:74: tree pruning end, 1 roots, 18 extra nodes, 8 pruned nodes, max_depth=5\u001b[0m\n",
      "\u001b[34m[47]#011train-error:0.141533#011validation-error:0.1777\u001b[0m\n",
      "\u001b[34m[15:42:55] src/tree/updater_prune.cc:74: tree pruning end, 1 roots, 30 extra nodes, 4 pruned nodes, max_depth=5\u001b[0m\n",
      "\u001b[34m[48]#011train-error:0.140067#011validation-error:0.1772\u001b[0m\n",
      "\u001b[34m[15:42:56] src/tree/updater_prune.cc:74: tree pruning end, 1 roots, 16 extra nodes, 16 pruned nodes, max_depth=5\u001b[0m\n",
      "\u001b[34m[49]#011train-error:0.1396#011validation-error:0.175\u001b[0m\n",
      "\u001b[34m[15:42:57] src/tree/updater_prune.cc:74: tree pruning end, 1 roots, 24 extra nodes, 4 pruned nodes, max_depth=5\u001b[0m\n",
      "\u001b[34m[50]#011train-error:0.137533#011validation-error:0.1752\u001b[0m\n",
      "\u001b[34m[15:42:58] src/tree/updater_prune.cc:74: tree pruning end, 1 roots, 24 extra nodes, 10 pruned nodes, max_depth=5\u001b[0m\n",
      "\u001b[34m[51]#011train-error:0.136#011validation-error:0.1751\u001b[0m\n",
      "\u001b[34m[15:43:00] src/tree/updater_prune.cc:74: tree pruning end, 1 roots, 22 extra nodes, 12 pruned nodes, max_depth=5\u001b[0m\n",
      "\u001b[34m[52]#011train-error:0.136267#011validation-error:0.1751\u001b[0m\n",
      "\u001b[34m[15:43:01] src/tree/updater_prune.cc:74: tree pruning end, 1 roots, 16 extra nodes, 14 pruned nodes, max_depth=5\u001b[0m\n",
      "\u001b[34m[53]#011train-error:0.136933#011validation-error:0.1763\u001b[0m\n",
      "\u001b[34m[15:43:02] src/tree/updater_prune.cc:74: tree pruning end, 1 roots, 20 extra nodes, 12 pruned nodes, max_depth=5\u001b[0m\n",
      "\u001b[34m[54]#011train-error:0.136733#011validation-error:0.1762\u001b[0m\n",
      "\u001b[34m[15:43:03] src/tree/updater_prune.cc:74: tree pruning end, 1 roots, 18 extra nodes, 10 pruned nodes, max_depth=5\u001b[0m\n",
      "\u001b[34m[55]#011train-error:0.136#011validation-error:0.1742\u001b[0m\n",
      "\u001b[34m[15:43:05] src/tree/updater_prune.cc:74: tree pruning end, 1 roots, 16 extra nodes, 8 pruned nodes, max_depth=5\u001b[0m\n",
      "\u001b[34m[56]#011train-error:0.135133#011validation-error:0.1748\u001b[0m\n",
      "\u001b[34m[15:43:06] src/tree/updater_prune.cc:74: tree pruning end, 1 roots, 16 extra nodes, 12 pruned nodes, max_depth=5\u001b[0m\n",
      "\u001b[34m[57]#011train-error:0.133667#011validation-error:0.1736\u001b[0m\n",
      "\u001b[34m[15:43:07] src/tree/updater_prune.cc:74: tree pruning end, 1 roots, 36 extra nodes, 6 pruned nodes, max_depth=5\u001b[0m\n",
      "\u001b[34m[58]#011train-error:0.1328#011validation-error:0.1711\u001b[0m\n",
      "\u001b[34m[15:43:09] src/tree/updater_prune.cc:74: tree pruning end, 1 roots, 22 extra nodes, 10 pruned nodes, max_depth=5\u001b[0m\n",
      "\u001b[34m[59]#011train-error:0.1312#011validation-error:0.1697\u001b[0m\n",
      "\u001b[34m[15:43:10] src/tree/updater_prune.cc:74: tree pruning end, 1 roots, 26 extra nodes, 6 pruned nodes, max_depth=5\u001b[0m\n",
      "\u001b[34m[60]#011train-error:0.130467#011validation-error:0.1688\u001b[0m\n",
      "\u001b[34m[15:43:11] src/tree/updater_prune.cc:74: tree pruning end, 1 roots, 16 extra nodes, 6 pruned nodes, max_depth=5\u001b[0m\n",
      "\u001b[34m[61]#011train-error:0.129533#011validation-error:0.1693\u001b[0m\n",
      "\u001b[34m[15:43:12] src/tree/updater_prune.cc:74: tree pruning end, 1 roots, 18 extra nodes, 10 pruned nodes, max_depth=5\u001b[0m\n",
      "\u001b[34m[62]#011train-error:0.1288#011validation-error:0.1696\u001b[0m\n",
      "\u001b[34m[15:43:14] src/tree/updater_prune.cc:74: tree pruning end, 1 roots, 14 extra nodes, 6 pruned nodes, max_depth=5\u001b[0m\n",
      "\u001b[34m[63]#011train-error:0.128067#011validation-error:0.1677\u001b[0m\n",
      "\u001b[34m[15:43:15] src/tree/updater_prune.cc:74: tree pruning end, 1 roots, 20 extra nodes, 10 pruned nodes, max_depth=5\u001b[0m\n",
      "\u001b[34m[64]#011train-error:0.127867#011validation-error:0.168\u001b[0m\n",
      "\u001b[34m[15:43:16] src/tree/updater_prune.cc:74: tree pruning end, 1 roots, 16 extra nodes, 12 pruned nodes, max_depth=5\u001b[0m\n",
      "\u001b[34m[65]#011train-error:0.126933#011validation-error:0.1678\u001b[0m\n",
      "\u001b[34m[15:43:17] src/tree/updater_prune.cc:74: tree pruning end, 1 roots, 18 extra nodes, 8 pruned nodes, max_depth=5\u001b[0m\n",
      "\u001b[34m[66]#011train-error:0.125333#011validation-error:0.1681\u001b[0m\n",
      "\u001b[34m[15:43:19] src/tree/updater_prune.cc:74: tree pruning end, 1 roots, 16 extra nodes, 12 pruned nodes, max_depth=5\u001b[0m\n",
      "\u001b[34m[67]#011train-error:0.125#011validation-error:0.1674\u001b[0m\n",
      "\u001b[34m[15:43:20] src/tree/updater_prune.cc:74: tree pruning end, 1 roots, 14 extra nodes, 6 pruned nodes, max_depth=5\u001b[0m\n",
      "\u001b[34m[68]#011train-error:0.124#011validation-error:0.167\u001b[0m\n",
      "\u001b[34m[15:43:21] src/tree/updater_prune.cc:74: tree pruning end, 1 roots, 18 extra nodes, 14 pruned nodes, max_depth=5\u001b[0m\n",
      "\u001b[34m[69]#011train-error:0.123067#011validation-error:0.1657\u001b[0m\n",
      "\u001b[34m[15:43:22] src/tree/updater_prune.cc:74: tree pruning end, 1 roots, 14 extra nodes, 2 pruned nodes, max_depth=5\u001b[0m\n",
      "\u001b[34m[70]#011train-error:0.1218#011validation-error:0.1642\u001b[0m\n",
      "\u001b[34m[15:43:24] src/tree/updater_prune.cc:74: tree pruning end, 1 roots, 14 extra nodes, 8 pruned nodes, max_depth=5\u001b[0m\n",
      "\u001b[34m[71]#011train-error:0.121333#011validation-error:0.1639\u001b[0m\n",
      "\u001b[34m[15:43:25] src/tree/updater_prune.cc:74: tree pruning end, 1 roots, 28 extra nodes, 6 pruned nodes, max_depth=5\u001b[0m\n",
      "\u001b[34m[72]#011train-error:0.1214#011validation-error:0.1647\u001b[0m\n",
      "\u001b[34m[15:43:26] src/tree/updater_prune.cc:74: tree pruning end, 1 roots, 22 extra nodes, 6 pruned nodes, max_depth=5\u001b[0m\n",
      "\u001b[34m[73]#011train-error:0.1208#011validation-error:0.1646\u001b[0m\n",
      "\u001b[34m[15:43:27] src/tree/updater_prune.cc:74: tree pruning end, 1 roots, 12 extra nodes, 6 pruned nodes, max_depth=5\u001b[0m\n",
      "\u001b[34m[74]#011train-error:0.1202#011validation-error:0.1638\u001b[0m\n",
      "\u001b[34m[15:43:29] src/tree/updater_prune.cc:74: tree pruning end, 1 roots, 18 extra nodes, 8 pruned nodes, max_depth=5\u001b[0m\n",
      "\u001b[34m[75]#011train-error:0.119533#011validation-error:0.1637\u001b[0m\n",
      "\u001b[34m[15:43:30] src/tree/updater_prune.cc:74: tree pruning end, 1 roots, 14 extra nodes, 4 pruned nodes, max_depth=5\u001b[0m\n",
      "\u001b[34m[76]#011train-error:0.118667#011validation-error:0.1633\u001b[0m\n",
      "\u001b[34m[15:43:31] src/tree/updater_prune.cc:74: tree pruning end, 1 roots, 38 extra nodes, 8 pruned nodes, max_depth=5\u001b[0m\n",
      "\u001b[34m[77]#011train-error:0.1166#011validation-error:0.1623\u001b[0m\n",
      "\u001b[34m[15:43:33] src/tree/updater_prune.cc:74: tree pruning end, 1 roots, 14 extra nodes, 6 pruned nodes, max_depth=5\u001b[0m\n",
      "\u001b[34m[78]#011train-error:0.1172#011validation-error:0.1615\u001b[0m\n",
      "\u001b[34m[15:43:34] src/tree/updater_prune.cc:74: tree pruning end, 1 roots, 24 extra nodes, 10 pruned nodes, max_depth=5\u001b[0m\n",
      "\u001b[34m[79]#011train-error:0.1154#011validation-error:0.1611\u001b[0m\n",
      "\u001b[34m[15:43:35] src/tree/updater_prune.cc:74: tree pruning end, 1 roots, 16 extra nodes, 6 pruned nodes, max_depth=5\u001b[0m\n",
      "\u001b[34m[80]#011train-error:0.114667#011validation-error:0.1605\u001b[0m\n",
      "\u001b[34m[15:43:36] src/tree/updater_prune.cc:74: tree pruning end, 1 roots, 16 extra nodes, 12 pruned nodes, max_depth=5\u001b[0m\n",
      "\u001b[34m[81]#011train-error:0.114533#011validation-error:0.1605\u001b[0m\n",
      "\u001b[34m[15:43:38] src/tree/updater_prune.cc:74: tree pruning end, 1 roots, 14 extra nodes, 12 pruned nodes, max_depth=5\u001b[0m\n",
      "\u001b[34m[82]#011train-error:0.114467#011validation-error:0.1608\u001b[0m\n",
      "\u001b[34m[15:43:39] src/tree/updater_prune.cc:74: tree pruning end, 1 roots, 14 extra nodes, 8 pruned nodes, max_depth=5\u001b[0m\n",
      "\u001b[34m[83]#011train-error:0.114467#011validation-error:0.1607\u001b[0m\n",
      "\u001b[34m[15:43:40] src/tree/updater_prune.cc:74: tree pruning end, 1 roots, 10 extra nodes, 16 pruned nodes, max_depth=5\u001b[0m\n",
      "\u001b[34m[84]#011train-error:0.1138#011validation-error:0.1601\u001b[0m\n",
      "\u001b[34m[15:43:42] src/tree/updater_prune.cc:74: tree pruning end, 1 roots, 16 extra nodes, 10 pruned nodes, max_depth=5\u001b[0m\n",
      "\u001b[34m[85]#011train-error:0.1128#011validation-error:0.1594\u001b[0m\n",
      "\u001b[34m[15:43:43] src/tree/updater_prune.cc:74: tree pruning end, 1 roots, 28 extra nodes, 12 pruned nodes, max_depth=5\u001b[0m\n",
      "\u001b[34m[86]#011train-error:0.111267#011validation-error:0.159\u001b[0m\n",
      "\u001b[34m[15:43:44] src/tree/updater_prune.cc:74: tree pruning end, 1 roots, 24 extra nodes, 6 pruned nodes, max_depth=5\u001b[0m\n",
      "\u001b[34m[87]#011train-error:0.110533#011validation-error:0.1576\u001b[0m\n",
      "\u001b[34m[15:43:45] src/tree/updater_prune.cc:74: tree pruning end, 1 roots, 12 extra nodes, 10 pruned nodes, max_depth=5\u001b[0m\n",
      "\u001b[34m[88]#011train-error:0.110267#011validation-error:0.1581\u001b[0m\n",
      "\u001b[34m[15:43:47] src/tree/updater_prune.cc:74: tree pruning end, 1 roots, 28 extra nodes, 12 pruned nodes, max_depth=5\u001b[0m\n",
      "\u001b[34m[89]#011train-error:0.109733#011validation-error:0.1582\u001b[0m\n",
      "\u001b[34m[15:43:48] src/tree/updater_prune.cc:74: tree pruning end, 1 roots, 12 extra nodes, 8 pruned nodes, max_depth=5\u001b[0m\n",
      "\u001b[34m[90]#011train-error:0.110067#011validation-error:0.1579\u001b[0m\n",
      "\u001b[34m[15:43:49] src/tree/updater_prune.cc:74: tree pruning end, 1 roots, 12 extra nodes, 8 pruned nodes, max_depth=5\u001b[0m\n",
      "\u001b[34m[91]#011train-error:0.1094#011validation-error:0.158\u001b[0m\n",
      "\u001b[34m[15:43:50] src/tree/updater_prune.cc:74: tree pruning end, 1 roots, 14 extra nodes, 8 pruned nodes, max_depth=5\u001b[0m\n",
      "\u001b[34m[92]#011train-error:0.108867#011validation-error:0.1581\u001b[0m\n",
      "\u001b[34m[15:43:52] src/tree/updater_prune.cc:74: tree pruning end, 1 roots, 24 extra nodes, 8 pruned nodes, max_depth=5\u001b[0m\n",
      "\u001b[34m[93]#011train-error:0.108333#011validation-error:0.1582\u001b[0m\n",
      "\u001b[34m[15:43:53] src/tree/updater_prune.cc:74: tree pruning end, 1 roots, 26 extra nodes, 10 pruned nodes, max_depth=5\u001b[0m\n",
      "\u001b[34m[94]#011train-error:0.108333#011validation-error:0.1571\u001b[0m\n",
      "\u001b[34m[15:43:54] src/tree/updater_prune.cc:74: tree pruning end, 1 roots, 22 extra nodes, 8 pruned nodes, max_depth=5\u001b[0m\n",
      "\u001b[34m[95]#011train-error:0.107333#011validation-error:0.1576\u001b[0m\n",
      "\u001b[34m[15:43:55] src/tree/updater_prune.cc:74: tree pruning end, 1 roots, 14 extra nodes, 20 pruned nodes, max_depth=5\u001b[0m\n",
      "\u001b[34m[96]#011train-error:0.106467#011validation-error:0.1577\u001b[0m\n",
      "\u001b[34m[15:43:57] src/tree/updater_prune.cc:74: tree pruning end, 1 roots, 14 extra nodes, 6 pruned nodes, max_depth=5\u001b[0m\n",
      "\u001b[34m[97]#011train-error:0.105933#011validation-error:0.1575\u001b[0m\n",
      "\u001b[34m[15:43:58] src/tree/updater_prune.cc:74: tree pruning end, 1 roots, 20 extra nodes, 4 pruned nodes, max_depth=5\u001b[0m\n",
      "\u001b[34m[98]#011train-error:0.1058#011validation-error:0.1568\u001b[0m\n",
      "\u001b[34m[15:43:59] src/tree/updater_prune.cc:74: tree pruning end, 1 roots, 32 extra nodes, 6 pruned nodes, max_depth=5\u001b[0m\n",
      "\u001b[34m[99]#011train-error:0.104667#011validation-error:0.1573\u001b[0m\n",
      "\u001b[34m[15:44:00] src/tree/updater_prune.cc:74: tree pruning end, 1 roots, 22 extra nodes, 2 pruned nodes, max_depth=5\u001b[0m\n",
      "\u001b[34m[100]#011train-error:0.103733#011validation-error:0.1569\u001b[0m\n",
      "\u001b[34m[15:44:02] src/tree/updater_prune.cc:74: tree pruning end, 1 roots, 12 extra nodes, 12 pruned nodes, max_depth=5\u001b[0m\n",
      "\u001b[34m[101]#011train-error:0.103067#011validation-error:0.1564\u001b[0m\n",
      "\u001b[34m[15:44:03] src/tree/updater_prune.cc:74: tree pruning end, 1 roots, 34 extra nodes, 6 pruned nodes, max_depth=5\u001b[0m\n",
      "\u001b[34m[102]#011train-error:0.102267#011validation-error:0.1548\u001b[0m\n",
      "\u001b[34m[15:44:04] src/tree/updater_prune.cc:74: tree pruning end, 1 roots, 36 extra nodes, 10 pruned nodes, max_depth=5\u001b[0m\n",
      "\u001b[34m[103]#011train-error:0.101067#011validation-error:0.1554\u001b[0m\n",
      "\u001b[34m[15:44:05] src/tree/updater_prune.cc:74: tree pruning end, 1 roots, 28 extra nodes, 6 pruned nodes, max_depth=5\u001b[0m\n",
      "\u001b[34m[104]#011train-error:0.1012#011validation-error:0.156\u001b[0m\n",
      "\u001b[34m[15:44:07] src/tree/updater_prune.cc:74: tree pruning end, 1 roots, 20 extra nodes, 6 pruned nodes, max_depth=5\u001b[0m\n",
      "\u001b[34m[105]#011train-error:0.101067#011validation-error:0.1546\u001b[0m\n",
      "\u001b[34m[15:44:08] src/tree/updater_prune.cc:74: tree pruning end, 1 roots, 22 extra nodes, 16 pruned nodes, max_depth=5\u001b[0m\n",
      "\u001b[34m[106]#011train-error:0.100067#011validation-error:0.1541\u001b[0m\n",
      "\u001b[34m[15:44:09] src/tree/updater_prune.cc:74: tree pruning end, 1 roots, 20 extra nodes, 6 pruned nodes, max_depth=5\u001b[0m\n",
      "\u001b[34m[107]#011train-error:0.099133#011validation-error:0.1536\u001b[0m\n",
      "\u001b[34m[15:44:11] src/tree/updater_prune.cc:74: tree pruning end, 1 roots, 14 extra nodes, 8 pruned nodes, max_depth=5\u001b[0m\n",
      "\u001b[34m[108]#011train-error:0.098733#011validation-error:0.1545\u001b[0m\n",
      "\u001b[34m[15:44:12] src/tree/updater_prune.cc:74: tree pruning end, 1 roots, 12 extra nodes, 10 pruned nodes, max_depth=5\u001b[0m\n",
      "\u001b[34m[109]#011train-error:0.098467#011validation-error:0.1538\u001b[0m\n",
      "\u001b[34m[15:44:13] src/tree/updater_prune.cc:74: tree pruning end, 1 roots, 30 extra nodes, 14 pruned nodes, max_depth=5\u001b[0m\n",
      "\u001b[34m[110]#011train-error:0.097733#011validation-error:0.1551\u001b[0m\n",
      "\u001b[34m[15:44:14] src/tree/updater_prune.cc:74: tree pruning end, 1 roots, 16 extra nodes, 8 pruned nodes, max_depth=5\u001b[0m\n",
      "\u001b[34m[111]#011train-error:0.097067#011validation-error:0.1551\u001b[0m\n",
      "\u001b[34m[15:44:16] src/tree/updater_prune.cc:74: tree pruning end, 1 roots, 22 extra nodes, 14 pruned nodes, max_depth=5\u001b[0m\n",
      "\u001b[34m[112]#011train-error:0.096#011validation-error:0.1547\u001b[0m\n",
      "\u001b[34m[15:44:17] src/tree/updater_prune.cc:74: tree pruning end, 1 roots, 26 extra nodes, 6 pruned nodes, max_depth=5\u001b[0m\n",
      "\u001b[34m[113]#011train-error:0.095333#011validation-error:0.1549\u001b[0m\n",
      "\u001b[34m[15:44:18] src/tree/updater_prune.cc:74: tree pruning end, 1 roots, 18 extra nodes, 10 pruned nodes, max_depth=5\u001b[0m\n",
      "\u001b[34m[114]#011train-error:0.095267#011validation-error:0.1538\u001b[0m\n",
      "\u001b[34m[15:44:19] src/tree/updater_prune.cc:74: tree pruning end, 1 roots, 24 extra nodes, 4 pruned nodes, max_depth=5\u001b[0m\n",
      "\u001b[34m[115]#011train-error:0.094667#011validation-error:0.1535\u001b[0m\n",
      "\u001b[34m[15:44:21] src/tree/updater_prune.cc:74: tree pruning end, 1 roots, 14 extra nodes, 2 pruned nodes, max_depth=5\u001b[0m\n",
      "\u001b[34m[116]#011train-error:0.0948#011validation-error:0.1534\u001b[0m\n",
      "\u001b[34m[15:44:22] src/tree/updater_prune.cc:74: tree pruning end, 1 roots, 22 extra nodes, 2 pruned nodes, max_depth=5\u001b[0m\n",
      "\u001b[34m[117]#011train-error:0.093933#011validation-error:0.1526\u001b[0m\n",
      "\u001b[34m[15:44:23] src/tree/updater_prune.cc:74: tree pruning end, 1 roots, 16 extra nodes, 8 pruned nodes, max_depth=5\u001b[0m\n",
      "\u001b[34m[118]#011train-error:0.093733#011validation-error:0.1525\u001b[0m\n",
      "\u001b[34m[15:44:24] src/tree/updater_prune.cc:74: tree pruning end, 1 roots, 14 extra nodes, 18 pruned nodes, max_depth=5\u001b[0m\n",
      "\u001b[34m[119]#011train-error:0.094#011validation-error:0.1517\u001b[0m\n",
      "\u001b[34m[15:44:26] src/tree/updater_prune.cc:74: tree pruning end, 1 roots, 10 extra nodes, 2 pruned nodes, max_depth=5\u001b[0m\n",
      "\u001b[34m[120]#011train-error:0.093333#011validation-error:0.1509\u001b[0m\n",
      "\u001b[34m[15:44:27] src/tree/updater_prune.cc:74: tree pruning end, 1 roots, 12 extra nodes, 10 pruned nodes, max_depth=5\u001b[0m\n",
      "\u001b[34m[121]#011train-error:0.093#011validation-error:0.151\u001b[0m\n",
      "\u001b[34m[15:44:28] src/tree/updater_prune.cc:74: tree pruning end, 1 roots, 20 extra nodes, 10 pruned nodes, max_depth=5\u001b[0m\n",
      "\u001b[34m[122]#011train-error:0.093067#011validation-error:0.1509\u001b[0m\n",
      "\u001b[34m[15:44:29] src/tree/updater_prune.cc:74: tree pruning end, 1 roots, 18 extra nodes, 14 pruned nodes, max_depth=5\u001b[0m\n",
      "\u001b[34m[123]#011train-error:0.0926#011validation-error:0.1517\u001b[0m\n",
      "\u001b[34m[15:44:31] src/tree/updater_prune.cc:74: tree pruning end, 1 roots, 20 extra nodes, 12 pruned nodes, max_depth=5\u001b[0m\n",
      "\u001b[34m[124]#011train-error:0.0922#011validation-error:0.151\u001b[0m\n",
      "\u001b[34m[15:44:32] src/tree/updater_prune.cc:74: tree pruning end, 1 roots, 22 extra nodes, 8 pruned nodes, max_depth=5\u001b[0m\n",
      "\u001b[34m[125]#011train-error:0.092#011validation-error:0.1505\u001b[0m\n",
      "\u001b[34m[15:44:33] src/tree/updater_prune.cc:74: tree pruning end, 1 roots, 14 extra nodes, 6 pruned nodes, max_depth=5\u001b[0m\n",
      "\u001b[34m[126]#011train-error:0.091933#011validation-error:0.15\u001b[0m\n",
      "\u001b[34m[15:44:34] src/tree/updater_prune.cc:74: tree pruning end, 1 roots, 22 extra nodes, 8 pruned nodes, max_depth=5\u001b[0m\n",
      "\u001b[34m[127]#011train-error:0.091533#011validation-error:0.1504\u001b[0m\n",
      "\u001b[34m[15:44:36] src/tree/updater_prune.cc:74: tree pruning end, 1 roots, 14 extra nodes, 6 pruned nodes, max_depth=5\u001b[0m\n",
      "\u001b[34m[128]#011train-error:0.0912#011validation-error:0.1504\u001b[0m\n",
      "\u001b[34m[15:44:37] src/tree/updater_prune.cc:74: tree pruning end, 1 roots, 26 extra nodes, 14 pruned nodes, max_depth=5\u001b[0m\n",
      "\u001b[34m[129]#011train-error:0.090733#011validation-error:0.1493\u001b[0m\n",
      "\u001b[34m[15:44:38] src/tree/updater_prune.cc:74: tree pruning end, 1 roots, 14 extra nodes, 6 pruned nodes, max_depth=5\u001b[0m\n",
      "\u001b[34m[130]#011train-error:0.090333#011validation-error:0.1493\u001b[0m\n",
      "\u001b[34m[15:44:40] src/tree/updater_prune.cc:74: tree pruning end, 1 roots, 24 extra nodes, 2 pruned nodes, max_depth=5\u001b[0m\n",
      "\u001b[34m[131]#011train-error:0.089133#011validation-error:0.1497\u001b[0m\n",
      "\u001b[34m[15:44:41] src/tree/updater_prune.cc:74: tree pruning end, 1 roots, 10 extra nodes, 16 pruned nodes, max_depth=5\u001b[0m\n",
      "\u001b[34m[132]#011train-error:0.088667#011validation-error:0.1499\u001b[0m\n",
      "\u001b[34m[15:44:42] src/tree/updater_prune.cc:74: tree pruning end, 1 roots, 22 extra nodes, 12 pruned nodes, max_depth=5\u001b[0m\n",
      "\u001b[34m[133]#011train-error:0.088067#011validation-error:0.1508\u001b[0m\n",
      "\u001b[34m[15:44:43] src/tree/updater_prune.cc:74: tree pruning end, 1 roots, 22 extra nodes, 2 pruned nodes, max_depth=5\u001b[0m\n",
      "\u001b[34m[134]#011train-error:0.087867#011validation-error:0.1504\u001b[0m\n",
      "\u001b[34m[15:44:45] src/tree/updater_prune.cc:74: tree pruning end, 1 roots, 18 extra nodes, 6 pruned nodes, max_depth=5\u001b[0m\n",
      "\u001b[34m[135]#011train-error:0.087267#011validation-error:0.1513\u001b[0m\n",
      "\u001b[34m[15:44:46] src/tree/updater_prune.cc:74: tree pruning end, 1 roots, 12 extra nodes, 14 pruned nodes, max_depth=5\u001b[0m\n",
      "\u001b[34m[136]#011train-error:0.0868#011validation-error:0.1502\u001b[0m\n",
      "\u001b[34m[15:44:47] src/tree/updater_prune.cc:74: tree pruning end, 1 roots, 12 extra nodes, 6 pruned nodes, max_depth=5\u001b[0m\n",
      "\u001b[34m[137]#011train-error:0.086867#011validation-error:0.1496\u001b[0m\n",
      "\u001b[34m[15:44:48] src/tree/updater_prune.cc:74: tree pruning end, 1 roots, 22 extra nodes, 8 pruned nodes, max_depth=5\u001b[0m\n",
      "\u001b[34m[138]#011train-error:0.085933#011validation-error:0.1494\u001b[0m\n",
      "\u001b[34m[15:44:50] src/tree/updater_prune.cc:74: tree pruning end, 1 roots, 12 extra nodes, 2 pruned nodes, max_depth=5\u001b[0m\n",
      "\u001b[34m[139]#011train-error:0.085867#011validation-error:0.1489\u001b[0m\n",
      "\u001b[34m[15:44:51] src/tree/updater_prune.cc:74: tree pruning end, 1 roots, 14 extra nodes, 8 pruned nodes, max_depth=5\u001b[0m\n",
      "\u001b[34m[140]#011train-error:0.085467#011validation-error:0.1491\u001b[0m\n",
      "\u001b[34m[15:44:52] src/tree/updater_prune.cc:74: tree pruning end, 1 roots, 14 extra nodes, 2 pruned nodes, max_depth=5\u001b[0m\n",
      "\u001b[34m[141]#011train-error:0.084867#011validation-error:0.1486\u001b[0m\n",
      "\u001b[34m[15:44:53] src/tree/updater_prune.cc:74: tree pruning end, 1 roots, 20 extra nodes, 12 pruned nodes, max_depth=5\u001b[0m\n",
      "\u001b[34m[142]#011train-error:0.084333#011validation-error:0.1481\u001b[0m\n",
      "\u001b[34m[15:44:55] src/tree/updater_prune.cc:74: tree pruning end, 1 roots, 12 extra nodes, 4 pruned nodes, max_depth=5\u001b[0m\n",
      "\u001b[34m[143]#011train-error:0.084067#011validation-error:0.1476\u001b[0m\n",
      "\u001b[34m[15:44:56] src/tree/updater_prune.cc:74: tree pruning end, 1 roots, 16 extra nodes, 14 pruned nodes, max_depth=5\u001b[0m\n",
      "\u001b[34m[144]#011train-error:0.083733#011validation-error:0.1471\u001b[0m\n",
      "\u001b[34m[15:44:57] src/tree/updater_prune.cc:74: tree pruning end, 1 roots, 10 extra nodes, 12 pruned nodes, max_depth=5\u001b[0m\n",
      "\u001b[34m[145]#011train-error:0.083667#011validation-error:0.148\u001b[0m\n",
      "\u001b[34m[15:44:58] src/tree/updater_prune.cc:74: tree pruning end, 1 roots, 14 extra nodes, 14 pruned nodes, max_depth=5\u001b[0m\n",
      "\u001b[34m[146]#011train-error:0.083533#011validation-error:0.1477\u001b[0m\n",
      "\u001b[34m[15:45:00] src/tree/updater_prune.cc:74: tree pruning end, 1 roots, 12 extra nodes, 6 pruned nodes, max_depth=5\u001b[0m\n",
      "\u001b[34m[147]#011train-error:0.083867#011validation-error:0.1468\u001b[0m\n",
      "\u001b[34m[15:45:01] src/tree/updater_prune.cc:74: tree pruning end, 1 roots, 22 extra nodes, 10 pruned nodes, max_depth=5\u001b[0m\n",
      "\u001b[34m[148]#011train-error:0.0836#011validation-error:0.1478\u001b[0m\n",
      "\u001b[34m[15:45:02] src/tree/updater_prune.cc:74: tree pruning end, 1 roots, 14 extra nodes, 8 pruned nodes, max_depth=5\u001b[0m\n",
      "\u001b[34m[149]#011train-error:0.083067#011validation-error:0.1473\u001b[0m\n",
      "\u001b[34m[15:45:03] src/tree/updater_prune.cc:74: tree pruning end, 1 roots, 12 extra nodes, 6 pruned nodes, max_depth=5\u001b[0m\n",
      "\u001b[34m[150]#011train-error:0.083267#011validation-error:0.1476\u001b[0m\n",
      "\u001b[34m[15:45:05] src/tree/updater_prune.cc:74: tree pruning end, 1 roots, 16 extra nodes, 6 pruned nodes, max_depth=5\u001b[0m\n",
      "\u001b[34m[151]#011train-error:0.083267#011validation-error:0.1476\u001b[0m\n",
      "\u001b[34m[15:45:06] src/tree/updater_prune.cc:74: tree pruning end, 1 roots, 14 extra nodes, 8 pruned nodes, max_depth=5\u001b[0m\n",
      "\u001b[34m[152]#011train-error:0.082733#011validation-error:0.1478\u001b[0m\n",
      "\u001b[34m[15:45:07] src/tree/updater_prune.cc:74: tree pruning end, 1 roots, 22 extra nodes, 10 pruned nodes, max_depth=5\u001b[0m\n",
      "\u001b[34m[153]#011train-error:0.081933#011validation-error:0.1466\u001b[0m\n",
      "\u001b[34m[15:45:09] src/tree/updater_prune.cc:74: tree pruning end, 1 roots, 22 extra nodes, 6 pruned nodes, max_depth=5\u001b[0m\n",
      "\u001b[34m[154]#011train-error:0.082067#011validation-error:0.1456\u001b[0m\n",
      "\u001b[34m[15:45:10] src/tree/updater_prune.cc:74: tree pruning end, 1 roots, 22 extra nodes, 8 pruned nodes, max_depth=5\u001b[0m\n",
      "\u001b[34m[155]#011train-error:0.081933#011validation-error:0.145\u001b[0m\n",
      "\u001b[34m[15:45:11] src/tree/updater_prune.cc:74: tree pruning end, 1 roots, 14 extra nodes, 0 pruned nodes, max_depth=5\u001b[0m\n",
      "\u001b[34m[156]#011train-error:0.081733#011validation-error:0.1459\u001b[0m\n",
      "\u001b[34m[15:45:12] src/tree/updater_prune.cc:74: tree pruning end, 1 roots, 16 extra nodes, 6 pruned nodes, max_depth=5\u001b[0m\n",
      "\u001b[34m[157]#011train-error:0.081533#011validation-error:0.1456\u001b[0m\n",
      "\u001b[34m[15:45:14] src/tree/updater_prune.cc:74: tree pruning end, 1 roots, 12 extra nodes, 8 pruned nodes, max_depth=5\u001b[0m\n",
      "\u001b[34m[158]#011train-error:0.0812#011validation-error:0.1456\u001b[0m\n",
      "\u001b[34m[15:45:15] src/tree/updater_prune.cc:74: tree pruning end, 1 roots, 14 extra nodes, 8 pruned nodes, max_depth=5\u001b[0m\n",
      "\u001b[34m[159]#011train-error:0.0812#011validation-error:0.1447\u001b[0m\n",
      "\u001b[34m[15:45:16] src/tree/updater_prune.cc:74: tree pruning end, 1 roots, 14 extra nodes, 6 pruned nodes, max_depth=5\u001b[0m\n",
      "\u001b[34m[160]#011train-error:0.081133#011validation-error:0.1443\u001b[0m\n",
      "\u001b[34m[15:45:17] src/tree/updater_prune.cc:74: tree pruning end, 1 roots, 10 extra nodes, 6 pruned nodes, max_depth=5\u001b[0m\n",
      "\u001b[34m[161]#011train-error:0.080733#011validation-error:0.144\u001b[0m\n",
      "\u001b[34m[15:45:19] src/tree/updater_prune.cc:74: tree pruning end, 1 roots, 10 extra nodes, 4 pruned nodes, max_depth=5\u001b[0m\n",
      "\u001b[34m[162]#011train-error:0.080467#011validation-error:0.1443\u001b[0m\n",
      "\u001b[34m[15:45:20] src/tree/updater_prune.cc:74: tree pruning end, 1 roots, 18 extra nodes, 8 pruned nodes, max_depth=5\u001b[0m\n",
      "\u001b[34m[163]#011train-error:0.080467#011validation-error:0.145\u001b[0m\n",
      "\u001b[34m[15:45:21] src/tree/updater_prune.cc:74: tree pruning end, 1 roots, 16 extra nodes, 12 pruned nodes, max_depth=5\u001b[0m\n",
      "\u001b[34m[164]#011train-error:0.080133#011validation-error:0.1452\u001b[0m\n",
      "\u001b[34m[15:45:22] src/tree/updater_prune.cc:74: tree pruning end, 1 roots, 18 extra nodes, 12 pruned nodes, max_depth=5\u001b[0m\n",
      "\u001b[34m[165]#011train-error:0.078933#011validation-error:0.1444\u001b[0m\n",
      "\u001b[34m[15:45:24] src/tree/updater_prune.cc:74: tree pruning end, 1 roots, 14 extra nodes, 6 pruned nodes, max_depth=5\u001b[0m\n",
      "\u001b[34m[166]#011train-error:0.078533#011validation-error:0.1438\u001b[0m\n",
      "\u001b[34m[15:45:25] src/tree/updater_prune.cc:74: tree pruning end, 1 roots, 20 extra nodes, 8 pruned nodes, max_depth=5\u001b[0m\n",
      "\u001b[34m[167]#011train-error:0.078267#011validation-error:0.144\u001b[0m\n",
      "\u001b[34m[15:45:26] src/tree/updater_prune.cc:74: tree pruning end, 1 roots, 20 extra nodes, 12 pruned nodes, max_depth=5\u001b[0m\n",
      "\u001b[34m[168]#011train-error:0.0774#011validation-error:0.1435\u001b[0m\n",
      "\u001b[34m[15:45:28] src/tree/updater_prune.cc:74: tree pruning end, 1 roots, 10 extra nodes, 4 pruned nodes, max_depth=5\u001b[0m\n",
      "\u001b[34m[169]#011train-error:0.077467#011validation-error:0.1431\u001b[0m\n",
      "\u001b[34m[15:45:29] src/tree/updater_prune.cc:74: tree pruning end, 1 roots, 18 extra nodes, 10 pruned nodes, max_depth=5\u001b[0m\n",
      "\u001b[34m[170]#011train-error:0.0774#011validation-error:0.1432\u001b[0m\n",
      "\u001b[34m[15:45:30] src/tree/updater_prune.cc:74: tree pruning end, 1 roots, 12 extra nodes, 10 pruned nodes, max_depth=5\u001b[0m\n",
      "\u001b[34m[171]#011train-error:0.077267#011validation-error:0.144\u001b[0m\n",
      "\u001b[34m[15:45:31] src/tree/updater_prune.cc:74: tree pruning end, 1 roots, 30 extra nodes, 8 pruned nodes, max_depth=5\u001b[0m\n",
      "\u001b[34m[172]#011train-error:0.076#011validation-error:0.1426\u001b[0m\n",
      "\u001b[34m[15:45:33] src/tree/updater_prune.cc:74: tree pruning end, 1 roots, 10 extra nodes, 4 pruned nodes, max_depth=5\u001b[0m\n",
      "\u001b[34m[173]#011train-error:0.075467#011validation-error:0.1423\u001b[0m\n",
      "\u001b[34m[15:45:34] src/tree/updater_prune.cc:74: tree pruning end, 1 roots, 10 extra nodes, 4 pruned nodes, max_depth=5\u001b[0m\n",
      "\u001b[34m[174]#011train-error:0.076067#011validation-error:0.1424\u001b[0m\n",
      "\u001b[34m[15:45:35] src/tree/updater_prune.cc:74: tree pruning end, 1 roots, 10 extra nodes, 4 pruned nodes, max_depth=5\u001b[0m\n",
      "\u001b[34m[175]#011train-error:0.076133#011validation-error:0.1422\u001b[0m\n",
      "\u001b[34m[15:45:36] src/tree/updater_prune.cc:74: tree pruning end, 1 roots, 22 extra nodes, 8 pruned nodes, max_depth=5\u001b[0m\n",
      "\u001b[34m[176]#011train-error:0.0758#011validation-error:0.142\u001b[0m\n",
      "\u001b[34m[15:45:38] src/tree/updater_prune.cc:74: tree pruning end, 1 roots, 12 extra nodes, 8 pruned nodes, max_depth=5\u001b[0m\n",
      "\u001b[34m[177]#011train-error:0.075933#011validation-error:0.1416\u001b[0m\n",
      "\u001b[34m[15:45:39] src/tree/updater_prune.cc:74: tree pruning end, 1 roots, 30 extra nodes, 12 pruned nodes, max_depth=5\u001b[0m\n",
      "\u001b[34m[178]#011train-error:0.075133#011validation-error:0.1414\u001b[0m\n",
      "\u001b[34m[15:45:40] src/tree/updater_prune.cc:74: tree pruning end, 1 roots, 14 extra nodes, 2 pruned nodes, max_depth=5\u001b[0m\n",
      "\u001b[34m[179]#011train-error:0.0748#011validation-error:0.1413\u001b[0m\n",
      "\u001b[34m[15:45:41] src/tree/updater_prune.cc:74: tree pruning end, 1 roots, 16 extra nodes, 4 pruned nodes, max_depth=5\u001b[0m\n",
      "\u001b[34m[180]#011train-error:0.0746#011validation-error:0.1408\u001b[0m\n",
      "\u001b[34m[15:45:43] src/tree/updater_prune.cc:74: tree pruning end, 1 roots, 12 extra nodes, 8 pruned nodes, max_depth=5\u001b[0m\n",
      "\u001b[34m[181]#011train-error:0.0744#011validation-error:0.141\u001b[0m\n",
      "\u001b[34m[15:45:44] src/tree/updater_prune.cc:74: tree pruning end, 1 roots, 12 extra nodes, 18 pruned nodes, max_depth=5\u001b[0m\n",
      "\u001b[34m[182]#011train-error:0.074867#011validation-error:0.1414\u001b[0m\n",
      "\u001b[34m[15:45:45] src/tree/updater_prune.cc:74: tree pruning end, 1 roots, 12 extra nodes, 6 pruned nodes, max_depth=5\u001b[0m\n",
      "\u001b[34m[183]#011train-error:0.074133#011validation-error:0.141\u001b[0m\n",
      "\u001b[34m[15:45:46] src/tree/updater_prune.cc:74: tree pruning end, 1 roots, 12 extra nodes, 10 pruned nodes, max_depth=5\u001b[0m\n",
      "\u001b[34m[184]#011train-error:0.0744#011validation-error:0.1402\u001b[0m\n",
      "\u001b[34m[15:45:48] src/tree/updater_prune.cc:74: tree pruning end, 1 roots, 12 extra nodes, 0 pruned nodes, max_depth=5\u001b[0m\n",
      "\u001b[34m[185]#011train-error:0.074#011validation-error:0.1399\u001b[0m\n",
      "\u001b[34m[15:45:49] src/tree/updater_prune.cc:74: tree pruning end, 1 roots, 18 extra nodes, 2 pruned nodes, max_depth=5\u001b[0m\n",
      "\u001b[34m[186]#011train-error:0.074#011validation-error:0.1395\u001b[0m\n",
      "\u001b[34m[15:45:50] src/tree/updater_prune.cc:74: tree pruning end, 1 roots, 14 extra nodes, 12 pruned nodes, max_depth=5\u001b[0m\n",
      "\u001b[34m[187]#011train-error:0.0742#011validation-error:0.1397\u001b[0m\n",
      "\u001b[34m[15:45:51] src/tree/updater_prune.cc:74: tree pruning end, 1 roots, 14 extra nodes, 10 pruned nodes, max_depth=5\u001b[0m\n",
      "\u001b[34m[188]#011train-error:0.074067#011validation-error:0.1395\u001b[0m\n",
      "\u001b[34m[15:45:53] src/tree/updater_prune.cc:74: tree pruning end, 1 roots, 32 extra nodes, 6 pruned nodes, max_depth=5\u001b[0m\n",
      "\u001b[34m[189]#011train-error:0.073267#011validation-error:0.1409\u001b[0m\n",
      "\u001b[34m[15:45:54] src/tree/updater_prune.cc:74: tree pruning end, 1 roots, 12 extra nodes, 12 pruned nodes, max_depth=5\u001b[0m\n",
      "\u001b[34m[190]#011train-error:0.072333#011validation-error:0.1407\u001b[0m\n",
      "\u001b[34m[15:45:55] src/tree/updater_prune.cc:74: tree pruning end, 1 roots, 18 extra nodes, 8 pruned nodes, max_depth=5\u001b[0m\n",
      "\u001b[34m[191]#011train-error:0.072333#011validation-error:0.1403\u001b[0m\n",
      "\u001b[34m[15:45:56] src/tree/updater_prune.cc:74: tree pruning end, 1 roots, 18 extra nodes, 6 pruned nodes, max_depth=5\u001b[0m\n",
      "\u001b[34m[192]#011train-error:0.0714#011validation-error:0.1407\u001b[0m\n",
      "\u001b[34m[15:45:58] src/tree/updater_prune.cc:74: tree pruning end, 1 roots, 18 extra nodes, 22 pruned nodes, max_depth=5\u001b[0m\n",
      "\u001b[34m[193]#011train-error:0.071467#011validation-error:0.1408\u001b[0m\n",
      "\u001b[34m[15:45:59] src/tree/updater_prune.cc:74: tree pruning end, 1 roots, 10 extra nodes, 8 pruned nodes, max_depth=5\u001b[0m\n",
      "\u001b[34m[194]#011train-error:0.071333#011validation-error:0.1402\u001b[0m\n",
      "\u001b[34m[15:46:00] src/tree/updater_prune.cc:74: tree pruning end, 1 roots, 10 extra nodes, 4 pruned nodes, max_depth=5\u001b[0m\n",
      "\u001b[34m[195]#011train-error:0.071533#011validation-error:0.1403\u001b[0m\n",
      "\u001b[34m[15:46:01] src/tree/updater_prune.cc:74: tree pruning end, 1 roots, 12 extra nodes, 8 pruned nodes, max_depth=5\u001b[0m\n",
      "\u001b[34m[196]#011train-error:0.0714#011validation-error:0.1406\u001b[0m\n",
      "\u001b[34mStopping. Best iteration:\u001b[0m\n",
      "\u001b[34m[186]#011train-error:0.074#011validation-error:0.1395\n",
      "\u001b[0m\n",
      "\n",
      "2020-03-01 15:46:50 Uploading - Uploading generated training model\n",
      "2020-03-01 15:46:57 Completed - Training job completed\n",
      "Training seconds: 345\n",
      "Billable seconds: 345\n"
     ]
    }
   ],
   "source": [
    "xgb.fit({'train': s3_input_train, 'validation': s3_input_validation})"
   ]
  },
  {
   "cell_type": "markdown",
   "metadata": {},
   "source": [
    "## Step 5: Testing the model\n",
    "\n",
    "Now that we've fit our XGBoost model, it's time to see how well it performs. To do this we will use SageMakers Batch Transform functionality. Batch Transform is a convenient way to perform inference on a large dataset in a way that is not realtime. That is, we don't necessarily need to use our model's results immediately and instead we can perform inference on a large number of samples. An example of this in industry might be performing an end of month report. This method of inference can also be useful to us as it means that we can perform inference on our entire test set. \n",
    "\n",
    "To perform a Batch Transformation we need to first create a transformer objects from our trained estimator object."
   ]
  },
  {
   "cell_type": "code",
   "execution_count": 24,
   "metadata": {},
   "outputs": [],
   "source": [
    "xgb_transformer = xgb.transformer(instance_count = 1, instance_type = 'ml.m4.xlarge')"
   ]
  },
  {
   "cell_type": "markdown",
   "metadata": {},
   "source": [
    "Next we actually perform the transform job. When doing so we need to make sure to specify the type of data we are sending so that it is serialized correctly in the background. In our case we are providing our model with csv data so we specify `text/csv`. Also, if the test data that we have provided is too large to process all at once then we need to specify how the data file should be split up. Since each line is a single entry in our data set we tell SageMaker that it can split the input on each line."
   ]
  },
  {
   "cell_type": "code",
   "execution_count": 25,
   "metadata": {},
   "outputs": [],
   "source": [
    "xgb_transformer.transform(test_location, content_type='text/csv', split_type='Line')"
   ]
  },
  {
   "cell_type": "markdown",
   "metadata": {},
   "source": [
    "Currently the transform job is running but it is doing so in the background. Since we wish to wait until the transform job is done and we would like a bit of feedback we can run the `wait()` method."
   ]
  },
  {
   "cell_type": "code",
   "execution_count": 26,
   "metadata": {},
   "outputs": [
    {
     "name": "stdout",
     "output_type": "stream",
     "text": [
      "....................\u001b[34mArguments: serve\u001b[0m\n",
      "\u001b[34m[2020-03-01 15:50:49 +0000] [1] [INFO] Starting gunicorn 19.7.1\u001b[0m\n",
      "\u001b[34m[2020-03-01 15:50:49 +0000] [1] [INFO] Listening at: http://0.0.0.0:8080 (1)\u001b[0m\n",
      "\u001b[34m[2020-03-01 15:50:49 +0000] [1] [INFO] Using worker: gevent\u001b[0m\n",
      "\u001b[34m[2020-03-01 15:50:49 +0000] [37] [INFO] Booting worker with pid: 37\u001b[0m\n",
      "\u001b[34m[2020-03-01 15:50:49 +0000] [38] [INFO] Booting worker with pid: 38\u001b[0m\n",
      "\u001b[34m[2020-03-01 15:50:49 +0000] [39] [INFO] Booting worker with pid: 39\u001b[0m\n",
      "\u001b[34m[2020-03-01:15:50:49:INFO] Model loaded successfully for worker : 37\u001b[0m\n",
      "\u001b[34m[2020-03-01 15:50:49 +0000] [40] [INFO] Booting worker with pid: 40\u001b[0m\n",
      "\u001b[34m[2020-03-01:15:50:49:INFO] Model loaded successfully for worker : 38\u001b[0m\n",
      "\u001b[34m[2020-03-01:15:50:49:INFO] Model loaded successfully for worker : 39\u001b[0m\n",
      "\u001b[34m[2020-03-01:15:50:49:INFO] Model loaded successfully for worker : 40\u001b[0m\n",
      "\u001b[34m[2020-03-01:15:51:24:INFO] Sniff delimiter as ','\u001b[0m\n",
      "\u001b[34m[2020-03-01:15:51:24:INFO] Determined delimiter of CSV input is ','\u001b[0m\n",
      "\u001b[34m[2020-03-01:15:51:24:INFO] Sniff delimiter as ','\u001b[0m\n",
      "\u001b[34m[2020-03-01:15:51:24:INFO] Determined delimiter of CSV input is ','\u001b[0m\n",
      "\u001b[34m[2020-03-01:15:51:24:INFO] Sniff delimiter as ','\u001b[0m\n",
      "\u001b[34m[2020-03-01:15:51:24:INFO] Determined delimiter of CSV input is ','\u001b[0m\n",
      "\u001b[35m[2020-03-01:15:51:24:INFO] Sniff delimiter as ','\u001b[0m\n",
      "\u001b[35m[2020-03-01:15:51:24:INFO] Determined delimiter of CSV input is ','\u001b[0m\n",
      "\u001b[35m[2020-03-01:15:51:24:INFO] Sniff delimiter as ','\u001b[0m\n",
      "\u001b[35m[2020-03-01:15:51:24:INFO] Determined delimiter of CSV input is ','\u001b[0m\n",
      "\u001b[35m[2020-03-01:15:51:24:INFO] Sniff delimiter as ','\u001b[0m\n",
      "\u001b[35m[2020-03-01:15:51:24:INFO] Determined delimiter of CSV input is ','\u001b[0m\n",
      "\u001b[32m2020-03-01T15:51:21.295:[sagemaker logs]: MaxConcurrentTransforms=4, MaxPayloadInMB=6, BatchStrategy=MULTI_RECORD\u001b[0m\n",
      "\u001b[34m[2020-03-01:15:51:26:INFO] Sniff delimiter as ','\u001b[0m\n",
      "\u001b[34m[2020-03-01:15:51:26:INFO] Determined delimiter of CSV input is ','\u001b[0m\n",
      "\u001b[34m[2020-03-01:15:51:26:INFO] Sniff delimiter as ','\u001b[0m\n",
      "\u001b[34m[2020-03-01:15:51:26:INFO] Determined delimiter of CSV input is ','\u001b[0m\n",
      "\u001b[35m[2020-03-01:15:51:26:INFO] Sniff delimiter as ','\u001b[0m\n",
      "\u001b[35m[2020-03-01:15:51:26:INFO] Determined delimiter of CSV input is ','\u001b[0m\n",
      "\u001b[35m[2020-03-01:15:51:26:INFO] Sniff delimiter as ','\u001b[0m\n",
      "\u001b[35m[2020-03-01:15:51:26:INFO] Determined delimiter of CSV input is ','\u001b[0m\n",
      "\u001b[34m[2020-03-01:15:51:27:INFO] Sniff delimiter as ','\u001b[0m\n",
      "\u001b[34m[2020-03-01:15:51:27:INFO] Determined delimiter of CSV input is ','\u001b[0m\n",
      "\u001b[34m[2020-03-01:15:51:27:INFO] Sniff delimiter as ','\u001b[0m\n",
      "\u001b[34m[2020-03-01:15:51:27:INFO] Determined delimiter of CSV input is ','\u001b[0m\n",
      "\u001b[35m[2020-03-01:15:51:27:INFO] Sniff delimiter as ','\u001b[0m\n",
      "\u001b[35m[2020-03-01:15:51:27:INFO] Determined delimiter of CSV input is ','\u001b[0m\n",
      "\u001b[35m[2020-03-01:15:51:27:INFO] Sniff delimiter as ','\u001b[0m\n",
      "\u001b[35m[2020-03-01:15:51:27:INFO] Determined delimiter of CSV input is ','\u001b[0m\n",
      "\u001b[34m[2020-03-01:15:51:28:INFO] Sniff delimiter as ','\u001b[0m\n",
      "\u001b[34m[2020-03-01:15:51:28:INFO] Determined delimiter of CSV input is ','\u001b[0m\n",
      "\u001b[34m[2020-03-01:15:51:28:INFO] Sniff delimiter as ','\u001b[0m\n",
      "\u001b[34m[2020-03-01:15:51:28:INFO] Determined delimiter of CSV input is ','\u001b[0m\n",
      "\u001b[35m[2020-03-01:15:51:28:INFO] Sniff delimiter as ','\u001b[0m\n",
      "\u001b[35m[2020-03-01:15:51:28:INFO] Determined delimiter of CSV input is ','\u001b[0m\n",
      "\u001b[35m[2020-03-01:15:51:28:INFO] Sniff delimiter as ','\u001b[0m\n",
      "\u001b[35m[2020-03-01:15:51:28:INFO] Determined delimiter of CSV input is ','\u001b[0m\n",
      "\u001b[34m[2020-03-01:15:51:29:INFO] Sniff delimiter as ','\u001b[0m\n",
      "\u001b[34m[2020-03-01:15:51:29:INFO] Determined delimiter of CSV input is ','\u001b[0m\n",
      "\u001b[34m[2020-03-01:15:51:30:INFO] Sniff delimiter as ','\u001b[0m\n",
      "\u001b[34m[2020-03-01:15:51:30:INFO] Determined delimiter of CSV input is ','\u001b[0m\n",
      "\u001b[35m[2020-03-01:15:51:29:INFO] Sniff delimiter as ','\u001b[0m\n",
      "\u001b[35m[2020-03-01:15:51:29:INFO] Determined delimiter of CSV input is ','\u001b[0m\n",
      "\u001b[35m[2020-03-01:15:51:30:INFO] Sniff delimiter as ','\u001b[0m\n",
      "\u001b[35m[2020-03-01:15:51:30:INFO] Determined delimiter of CSV input is ','\u001b[0m\n",
      "\u001b[34m[2020-03-01:15:51:31:INFO] Sniff delimiter as ','\u001b[0m\n",
      "\u001b[34m[2020-03-01:15:51:31:INFO] Determined delimiter of CSV input is ','\u001b[0m\n",
      "\u001b[35m[2020-03-01:15:51:31:INFO] Sniff delimiter as ','\u001b[0m\n",
      "\u001b[35m[2020-03-01:15:51:31:INFO] Determined delimiter of CSV input is ','\u001b[0m\n",
      "\u001b[34m[2020-03-01:15:51:31:INFO] Sniff delimiter as ','\u001b[0m\n",
      "\u001b[34m[2020-03-01:15:51:31:INFO] Determined delimiter of CSV input is ','\u001b[0m\n",
      "\u001b[35m[2020-03-01:15:51:31:INFO] Sniff delimiter as ','\u001b[0m\n",
      "\u001b[35m[2020-03-01:15:51:31:INFO] Determined delimiter of CSV input is ','\u001b[0m\n",
      "\u001b[34m[2020-03-01:15:51:32:INFO] Sniff delimiter as ','\u001b[0m\n",
      "\u001b[34m[2020-03-01:15:51:32:INFO] Determined delimiter of CSV input is ','\u001b[0m\n",
      "\u001b[34m[2020-03-01:15:51:32:INFO] Sniff delimiter as ','\u001b[0m\n",
      "\u001b[34m[2020-03-01:15:51:32:INFO] Determined delimiter of CSV input is ','\u001b[0m\n",
      "\u001b[35m[2020-03-01:15:51:32:INFO] Sniff delimiter as ','\u001b[0m\n",
      "\u001b[35m[2020-03-01:15:51:32:INFO] Determined delimiter of CSV input is ','\u001b[0m\n",
      "\u001b[35m[2020-03-01:15:51:32:INFO] Sniff delimiter as ','\u001b[0m\n",
      "\u001b[35m[2020-03-01:15:51:32:INFO] Determined delimiter of CSV input is ','\u001b[0m\n",
      "\u001b[34m[2020-03-01:15:51:33:INFO] Sniff delimiter as ','\u001b[0m\n",
      "\u001b[34m[2020-03-01:15:51:33:INFO] Determined delimiter of CSV input is ','\u001b[0m\n",
      "\u001b[34m[2020-03-01:15:51:33:INFO] Sniff delimiter as ','\u001b[0m\n",
      "\u001b[34m[2020-03-01:15:51:33:INFO] Determined delimiter of CSV input is ','\u001b[0m\n",
      "\u001b[35m[2020-03-01:15:51:33:INFO] Sniff delimiter as ','\u001b[0m\n",
      "\u001b[35m[2020-03-01:15:51:33:INFO] Determined delimiter of CSV input is ','\u001b[0m\n",
      "\u001b[35m[2020-03-01:15:51:33:INFO] Sniff delimiter as ','\u001b[0m\n",
      "\u001b[35m[2020-03-01:15:51:33:INFO] Determined delimiter of CSV input is ','\u001b[0m\n",
      "\u001b[34m[2020-03-01:15:51:34:INFO] Sniff delimiter as ','\u001b[0m\n",
      "\u001b[34m[2020-03-01:15:51:34:INFO] Determined delimiter of CSV input is ','\u001b[0m\n",
      "\u001b[34m[2020-03-01:15:51:34:INFO] Sniff delimiter as ','\u001b[0m\n",
      "\u001b[35m[2020-03-01:15:51:34:INFO] Sniff delimiter as ','\u001b[0m\n",
      "\u001b[35m[2020-03-01:15:51:34:INFO] Determined delimiter of CSV input is ','\u001b[0m\n",
      "\u001b[35m[2020-03-01:15:51:34:INFO] Sniff delimiter as ','\u001b[0m\n",
      "\u001b[34m[2020-03-01:15:51:34:INFO] Determined delimiter of CSV input is ','\u001b[0m\n",
      "\u001b[35m[2020-03-01:15:51:34:INFO] Determined delimiter of CSV input is ','\u001b[0m\n",
      "\u001b[34m[2020-03-01:15:51:35:INFO] Determined delimiter of CSV input is ','\u001b[0m\n",
      "\u001b[34m[2020-03-01:15:51:35:INFO] Sniff delimiter as ','\u001b[0m\n",
      "\u001b[34m[2020-03-01:15:51:35:INFO] Determined delimiter of CSV input is ','\u001b[0m\n",
      "\u001b[35m[2020-03-01:15:51:35:INFO] Determined delimiter of CSV input is ','\u001b[0m\n",
      "\u001b[35m[2020-03-01:15:51:35:INFO] Sniff delimiter as ','\u001b[0m\n",
      "\u001b[35m[2020-03-01:15:51:35:INFO] Determined delimiter of CSV input is ','\u001b[0m\n",
      "\u001b[34m[2020-03-01:15:51:37:INFO] Sniff delimiter as ','\u001b[0m\n",
      "\u001b[34m[2020-03-01:15:51:37:INFO] Determined delimiter of CSV input is ','\u001b[0m\n",
      "\u001b[34m[2020-03-01:15:51:37:INFO] Sniff delimiter as ','\u001b[0m\n",
      "\u001b[34m[2020-03-01:15:51:37:INFO] Determined delimiter of CSV input is ','\u001b[0m\n",
      "\u001b[35m[2020-03-01:15:51:37:INFO] Sniff delimiter as ','\u001b[0m\n",
      "\u001b[35m[2020-03-01:15:51:37:INFO] Determined delimiter of CSV input is ','\u001b[0m\n",
      "\u001b[35m[2020-03-01:15:51:37:INFO] Sniff delimiter as ','\u001b[0m\n",
      "\u001b[35m[2020-03-01:15:51:37:INFO] Determined delimiter of CSV input is ','\u001b[0m\n",
      "\u001b[34m[2020-03-01:15:51:38:INFO] Sniff delimiter as ','\u001b[0m\n",
      "\u001b[34m[2020-03-01:15:51:38:INFO] Determined delimiter of CSV input is ','\u001b[0m\n",
      "\u001b[34m[2020-03-01:15:51:38:INFO] Sniff delimiter as ','\u001b[0m\n",
      "\u001b[34m[2020-03-01:15:51:38:INFO] Determined delimiter of CSV input is ','\u001b[0m\n",
      "\u001b[35m[2020-03-01:15:51:38:INFO] Sniff delimiter as ','\u001b[0m\n",
      "\u001b[35m[2020-03-01:15:51:38:INFO] Determined delimiter of CSV input is ','\u001b[0m\n",
      "\u001b[35m[2020-03-01:15:51:38:INFO] Sniff delimiter as ','\u001b[0m\n",
      "\u001b[35m[2020-03-01:15:51:38:INFO] Determined delimiter of CSV input is ','\u001b[0m\n",
      "\u001b[34m[2020-03-01:15:51:39:INFO] Sniff delimiter as ','\u001b[0m\n",
      "\u001b[34m[2020-03-01:15:51:39:INFO] Determined delimiter of CSV input is ','\u001b[0m\n",
      "\u001b[34m[2020-03-01:15:51:39:INFO] Sniff delimiter as ','\u001b[0m\n",
      "\u001b[34m[2020-03-01:15:51:39:INFO] Determined delimiter of CSV input is ','\u001b[0m\n",
      "\u001b[34m[2020-03-01:15:51:39:INFO] Sniff delimiter as ','\u001b[0m\n",
      "\u001b[34m[2020-03-01:15:51:39:INFO] Determined delimiter of CSV input is ','\u001b[0m\n",
      "\u001b[35m[2020-03-01:15:51:39:INFO] Sniff delimiter as ','\u001b[0m\n",
      "\u001b[35m[2020-03-01:15:51:39:INFO] Determined delimiter of CSV input is ','\u001b[0m\n",
      "\u001b[35m[2020-03-01:15:51:39:INFO] Sniff delimiter as ','\u001b[0m\n",
      "\u001b[35m[2020-03-01:15:51:39:INFO] Determined delimiter of CSV input is ','\u001b[0m\n",
      "\u001b[35m[2020-03-01:15:51:39:INFO] Sniff delimiter as ','\u001b[0m\n",
      "\u001b[35m[2020-03-01:15:51:39:INFO] Determined delimiter of CSV input is ','\u001b[0m\n",
      "\u001b[34m[2020-03-01:15:51:41:INFO] Sniff delimiter as ','\u001b[0m\n",
      "\u001b[34m[2020-03-01:15:51:41:INFO] Determined delimiter of CSV input is ','\u001b[0m\n",
      "\u001b[34m[2020-03-01:15:51:41:INFO] Sniff delimiter as ','\u001b[0m\n",
      "\u001b[35m[2020-03-01:15:51:41:INFO] Sniff delimiter as ','\u001b[0m\n",
      "\u001b[35m[2020-03-01:15:51:41:INFO] Determined delimiter of CSV input is ','\u001b[0m\n",
      "\u001b[35m[2020-03-01:15:51:41:INFO] Sniff delimiter as ','\u001b[0m\n",
      "\u001b[34m[2020-03-01:15:51:41:INFO] Determined delimiter of CSV input is ','\u001b[0m\n",
      "\u001b[35m[2020-03-01:15:51:41:INFO] Determined delimiter of CSV input is ','\u001b[0m\n",
      "\u001b[34m[2020-03-01:15:51:42:INFO] Sniff delimiter as ','\u001b[0m\n",
      "\u001b[34m[2020-03-01:15:51:42:INFO] Determined delimiter of CSV input is ','\u001b[0m\n",
      "\u001b[34m[2020-03-01:15:51:42:INFO] Sniff delimiter as ','\u001b[0m\n",
      "\u001b[34m[2020-03-01:15:51:42:INFO] Determined delimiter of CSV input is ','\u001b[0m\n",
      "\u001b[35m[2020-03-01:15:51:42:INFO] Sniff delimiter as ','\u001b[0m\n",
      "\u001b[35m[2020-03-01:15:51:42:INFO] Determined delimiter of CSV input is ','\u001b[0m\n",
      "\u001b[35m[2020-03-01:15:51:42:INFO] Sniff delimiter as ','\u001b[0m\n",
      "\u001b[35m[2020-03-01:15:51:42:INFO] Determined delimiter of CSV input is ','\u001b[0m\n",
      "\u001b[34m[2020-03-01:15:51:43:INFO] Sniff delimiter as ','\u001b[0m\n",
      "\u001b[34m[2020-03-01:15:51:43:INFO] Determined delimiter of CSV input is ','\u001b[0m\n",
      "\u001b[34m[2020-03-01:15:51:43:INFO] Sniff delimiter as ','\u001b[0m\n",
      "\u001b[34m[2020-03-01:15:51:43:INFO] Determined delimiter of CSV input is ','\u001b[0m\n",
      "\u001b[35m[2020-03-01:15:51:43:INFO] Sniff delimiter as ','\u001b[0m\n",
      "\u001b[35m[2020-03-01:15:51:43:INFO] Determined delimiter of CSV input is ','\u001b[0m\n",
      "\u001b[35m[2020-03-01:15:51:43:INFO] Sniff delimiter as ','\u001b[0m\n",
      "\u001b[35m[2020-03-01:15:51:43:INFO] Determined delimiter of CSV input is ','\u001b[0m\n",
      "\u001b[34m[2020-03-01:15:51:44:INFO] Sniff delimiter as ','\u001b[0m\n",
      "\u001b[34m[2020-03-01:15:51:44:INFO] Determined delimiter of CSV input is ','\u001b[0m\n",
      "\u001b[34m[2020-03-01:15:51:44:INFO] Sniff delimiter as ','\u001b[0m\n",
      "\u001b[34m[2020-03-01:15:51:44:INFO] Determined delimiter of CSV input is ','\u001b[0m\n",
      "\u001b[35m[2020-03-01:15:51:44:INFO] Sniff delimiter as ','\u001b[0m\n",
      "\u001b[35m[2020-03-01:15:51:44:INFO] Determined delimiter of CSV input is ','\u001b[0m\n",
      "\u001b[35m[2020-03-01:15:51:44:INFO] Sniff delimiter as ','\u001b[0m\n",
      "\u001b[35m[2020-03-01:15:51:44:INFO] Determined delimiter of CSV input is ','\u001b[0m\n",
      "\u001b[34m[2020-03-01:15:51:45:INFO] Sniff delimiter as ','\u001b[0m\n",
      "\u001b[34m[2020-03-01:15:51:45:INFO] Determined delimiter of CSV input is ','\u001b[0m\n",
      "\u001b[35m[2020-03-01:15:51:45:INFO] Sniff delimiter as ','\u001b[0m\n",
      "\u001b[35m[2020-03-01:15:51:45:INFO] Determined delimiter of CSV input is ','\u001b[0m\n",
      "\u001b[34m[2020-03-01:15:51:47:INFO] Sniff delimiter as ','\u001b[0m\n",
      "\u001b[34m[2020-03-01:15:51:47:INFO] Determined delimiter of CSV input is ','\u001b[0m\n",
      "\u001b[35m[2020-03-01:15:51:47:INFO] Sniff delimiter as ','\u001b[0m\n",
      "\u001b[35m[2020-03-01:15:51:47:INFO] Determined delimiter of CSV input is ','\u001b[0m\n",
      "\u001b[34m[2020-03-01:15:51:48:INFO] Sniff delimiter as ','\u001b[0m\n",
      "\u001b[34m[2020-03-01:15:51:48:INFO] Determined delimiter of CSV input is ','\u001b[0m\n",
      "\u001b[35m[2020-03-01:15:51:48:INFO] Sniff delimiter as ','\u001b[0m\n",
      "\u001b[35m[2020-03-01:15:51:48:INFO] Determined delimiter of CSV input is ','\u001b[0m\n",
      "\n"
     ]
    }
   ],
   "source": [
    "xgb_transformer.wait()"
   ]
  },
  {
   "cell_type": "markdown",
   "metadata": {},
   "source": [
    "Now the transform job has executed and the result, the estimated sentiment of each review, has been saved on S3. Since we would rather work on this file locally we can perform a bit of notebook magic to copy the file to the `data_dir`."
   ]
  },
  {
   "cell_type": "code",
   "execution_count": 27,
   "metadata": {},
   "outputs": [
    {
     "name": "stdout",
     "output_type": "stream",
     "text": [
      "download: s3://sagemaker-us-east-1-788544388985/xgboost-2020-03-01-15-47-36-552/test.csv.out to ../data/sentiment_web_app/test.csv.out\n"
     ]
    }
   ],
   "source": [
    "!aws s3 cp --recursive $xgb_transformer.output_path $data_dir"
   ]
  },
  {
   "cell_type": "markdown",
   "metadata": {},
   "source": [
    "The last step is now to read in the output from our model, convert the output to something a little more usable, in this case we want the sentiment to be either `1` (positive) or `0` (negative), and then compare to the ground truth labels."
   ]
  },
  {
   "cell_type": "code",
   "execution_count": 28,
   "metadata": {},
   "outputs": [],
   "source": [
    "predictions = pd.read_csv(os.path.join(data_dir, 'test.csv.out'), header=None)\n",
    "predictions = [round(num) for num in predictions.squeeze().values]"
   ]
  },
  {
   "cell_type": "code",
   "execution_count": 29,
   "metadata": {},
   "outputs": [
    {
     "data": {
      "text/plain": [
       "0.86168"
      ]
     },
     "execution_count": 29,
     "metadata": {},
     "output_type": "execute_result"
    }
   ],
   "source": [
    "from sklearn.metrics import accuracy_score\n",
    "accuracy_score(test_y, predictions)"
   ]
  },
  {
   "cell_type": "markdown",
   "metadata": {},
   "source": [
    "## Step 6: Deploying the model\n",
    "\n",
    "Once we construct and fit our model, SageMaker stores the resulting model artifacts and we can use those to deploy an endpoint (inference code). To see this, look in the SageMaker console and you should see that a model has been created along with a link to the S3 location where the model artifacts have been stored.\n",
    "\n",
    "Deploying an endpoint is a lot like training the model with a few important differences. The first is that a deployed model doesn't change the model artifacts, so as you send it various testing instances the model won't change. Another difference is that since we aren't performing a fixed computation, as we were in the training step or while performing a batch transform, the compute instance that gets started stays running until we tell it to stop. This is important to note as if we forget and leave it running we will be charged the entire time.\n",
    "\n",
    "In other words **If you are no longer using a deployed endpoint, shut it down!**"
   ]
  },
  {
   "cell_type": "code",
   "execution_count": 30,
   "metadata": {},
   "outputs": [
    {
     "name": "stderr",
     "output_type": "stream",
     "text": [
      "WARNING:sagemaker:Using already existing model: xgboost-2020-03-01-15-38-50-208\n"
     ]
    },
    {
     "name": "stdout",
     "output_type": "stream",
     "text": [
      "-----------!"
     ]
    }
   ],
   "source": [
    "xgb_predictor = xgb.deploy(initial_instance_count = 1, instance_type = 'ml.m4.xlarge')"
   ]
  },
  {
   "cell_type": "markdown",
   "metadata": {},
   "source": [
    "### Testing the model (again)\n",
    "\n",
    "Now that we have deployed our endpoint, we can send the testing data to it and get back the inference results. We already did this earlier using the batch transform functionality of SageMaker, however, we will test our model again using the newly deployed endpoint so that we can make sure that it works properly and to get a bit of a feel for how the endpoint works.\n",
    "\n",
    "When using the created endpoint it is important to know that we are limited in the amount of information we can send in each call so we need to break the testing data up into chunks and then send each chunk. Also, we need to serialize our data before we send it to the endpoint to ensure that our data is transmitted properly. Fortunately, SageMaker can do the serialization part for us provided we tell it the format of our data."
   ]
  },
  {
   "cell_type": "code",
   "execution_count": 31,
   "metadata": {},
   "outputs": [],
   "source": [
    "from sagemaker.predictor import csv_serializer\n",
    "\n",
    "# We need to tell the endpoint what format the data we are sending is in so that SageMaker can perform the serialization.\n",
    "xgb_predictor.content_type = 'text/csv'\n",
    "xgb_predictor.serializer = csv_serializer"
   ]
  },
  {
   "cell_type": "code",
   "execution_count": 32,
   "metadata": {},
   "outputs": [],
   "source": [
    "# We split the data into chunks and send each chunk seperately, accumulating the results.\n",
    "\n",
    "def predict(data, rows=512):\n",
    "    split_array = np.array_split(data, int(data.shape[0] / float(rows) + 1))\n",
    "    predictions = ''\n",
    "    for array in split_array:\n",
    "        predictions = ','.join([predictions, xgb_predictor.predict(array).decode('utf-8')])\n",
    "    \n",
    "    return np.fromstring(predictions[1:], sep=',')"
   ]
  },
  {
   "cell_type": "code",
   "execution_count": 33,
   "metadata": {},
   "outputs": [],
   "source": [
    "test_X = pd.read_csv(os.path.join(data_dir, 'test.csv'), header=None).values\n",
    "\n",
    "predictions = predict(test_X)\n",
    "predictions = [round(num) for num in predictions]"
   ]
  },
  {
   "cell_type": "markdown",
   "metadata": {},
   "source": [
    "Lastly, we check to see what the accuracy of our model is."
   ]
  },
  {
   "cell_type": "code",
   "execution_count": 34,
   "metadata": {},
   "outputs": [
    {
     "data": {
      "text/plain": [
       "0.86168"
      ]
     },
     "execution_count": 34,
     "metadata": {},
     "output_type": "execute_result"
    }
   ],
   "source": [
    "from sklearn.metrics import accuracy_score\n",
    "accuracy_score(test_y, predictions)"
   ]
  },
  {
   "cell_type": "markdown",
   "metadata": {},
   "source": [
    "And the results here should agree with the model testing that we did earlier using the batch transform job.\n",
    "\n",
    "### Cleaning up\n",
    "\n",
    "Now that we've determined that deploying our model works as expected, we are going to shut it down. Remember that the longer the endpoint is left running, the greater the cost and since we have a bit more work to do before we are able to use our endpoint with our simple web app, we should shut everything down."
   ]
  },
  {
   "cell_type": "code",
   "execution_count": 35,
   "metadata": {},
   "outputs": [],
   "source": [
    "xgb_predictor.delete_endpoint()"
   ]
  },
  {
   "cell_type": "markdown",
   "metadata": {},
   "source": [
    "## Step 7: Putting our model to work\n",
    "\n",
    "As we've mentioned a few times now, our goal is to have our model deployed and then access it using a very simple web app. The intent is for this web app to take some user submitted data (a review), send it off to our endpoint (the model) and then display the result.\n",
    "\n",
    "However, there is a small catch. Currently the only way we can access the endpoint to send it data is using the SageMaker API. We can, if we wish, expose the actual URL that our model's endpoint is receiving data from, however, if we just send it data ourselves we will not get anything in return. This is because the endpoint created by SageMaker requires the entity accessing it have the correct permissions. So, we would need to somehow authenticate our web app with AWS.\n",
    "\n",
    "Having a website that authenticates to AWS seems a bit beyond the scope of this lesson so we will opt for an alternative approach. Namely, we will create a new endpoint which does not require authentication and which acts as a proxy for the SageMaker endpoint.\n",
    "\n",
    "As an additional constraint, we will try to avoid doing any data processing in the web app itself. Remember that when we constructed and tested our model we started with a movie review, then we simplified it by removing any html formatting and punctuation, then we constructed a bag of words embedding and the resulting vector is what we sent to our model. All of this needs to be done to our user input as well.\n",
    "\n",
    "Fortunately we can do all of this data processing in the backend, using Amazon's Lambda service.\n",
    "\n",
    "<img src=\"Web App Diagram.svg\">\n",
    "\n",
    "The diagram above gives an overview of how the various services will work together. On the far right is the model which we trained above and which will be deployed using SageMaker. On the far left is our web app that collects a user's movie review, sends it off and expects a positive or negative sentiment in return.\n",
    "\n",
    "In the middle is where some of the magic happens. We will construct a Lambda function, which you can think of as a straightforward Python function that can be executed whenever a specified event occurs. This Python function will do the data processing we need to perform on a user submitted review. In addition, we will give this function permission to send and recieve data from a SageMaker endpoint.\n",
    "\n",
    "Lastly, the method we will use to execute the Lambda function is a new endpoint that we will create using API Gateway. This endpoint will be a url that listens for data to be sent to it. Once it gets some data it will pass that data on to the Lambda function and then return whatever the Lambda function returns. Essentially it will act as an interface that lets our web app communicate with the Lambda function.\n",
    "\n",
    "### Processing a single review\n",
    "\n",
    "For now, suppose we are given a movie review by our user in the form of a string, like so:"
   ]
  },
  {
   "cell_type": "code",
   "execution_count": 36,
   "metadata": {},
   "outputs": [],
   "source": [
    "test_review = \"Nothing but a disgusting materialistic pageant of glistening abed remote control greed zombies, totally devoid of any heart or heat. A romantic comedy that has zero romantic chemestry and zero laughs!\""
   ]
  },
  {
   "cell_type": "markdown",
   "metadata": {},
   "source": [
    "How do we go from this string to the bag of words feature vector that is expected by our model?\n",
    "\n",
    "If we recall at the beginning of this notebook, the first step is to remove any unnecessary characters using the `review_to_words` method. Remember that we intentionally did this in a very simplistic way. This is because we are going to have to copy this method to our (eventual) Lambda function (we will go into more detail later) and this means it needs to be rather simplistic."
   ]
  },
  {
   "cell_type": "code",
   "execution_count": 37,
   "metadata": {},
   "outputs": [
    {
     "name": "stdout",
     "output_type": "stream",
     "text": [
      "nothing but a disgusting materialistic pageant of glistening abed remote control greed zombies totally devoid of any heart or heat a romantic comedy that has zero romantic chemestry and zero laughs\n"
     ]
    }
   ],
   "source": [
    "test_words = review_to_words(test_review)\n",
    "print(test_words)"
   ]
  },
  {
   "cell_type": "markdown",
   "metadata": {},
   "source": [
    "Next, we need to construct a bag of words embedding of the `test_words` string. To do this, remember that a bag of words embedding uses a `vocabulary` consisting of the most frequently appearing words in a set of documents. Then, for each word in the vocabulary we record the number of times that word appears in `test_words`. We constructed the `vocabulary` earlier using the training set for our problem so encoding `test_words` is relatively straightforward."
   ]
  },
  {
   "cell_type": "code",
   "execution_count": 38,
   "metadata": {},
   "outputs": [],
   "source": [
    "def bow_encoding(words, vocabulary):\n",
    "    bow = [0] * len(vocabulary) # Start by setting the count for each word in the vocabulary to zero.\n",
    "    for word in words.split():  # For each word in the string\n",
    "        if word in vocabulary:  # If the word is one that occurs in the vocabulary, increase its count.\n",
    "            bow[vocabulary[word]] += 1\n",
    "    return bow"
   ]
  },
  {
   "cell_type": "code",
   "execution_count": 39,
   "metadata": {},
   "outputs": [
    {
     "name": "stdout",
     "output_type": "stream",
     "text": [
      "[0, 0, 0, 0, 0, 0, 0, 0, 0, 0, 0, 0, 0, 0, 0, 0, 0, 0, 0, 0, 0, 0, 0, 0, 0, 0, 0, 0, 0, 0, 0, 0, 0, 0, 0, 0, 0, 0, 0, 0, 0, 0, 0, 0, 0, 0, 0, 0, 0, 0, 0, 0, 0, 0, 0, 0, 0, 0, 0, 0, 0, 0, 0, 0, 0, 0, 0, 0, 0, 0, 0, 0, 0, 0, 0, 0, 0, 0, 0, 0, 0, 0, 0, 0, 0, 0, 0, 0, 0, 0, 0, 0, 0, 0, 0, 0, 0, 0, 0, 0, 0, 0, 0, 0, 0, 0, 0, 0, 0, 0, 0, 0, 0, 0, 0, 0, 0, 0, 0, 0, 0, 0, 0, 0, 0, 0, 0, 0, 0, 0, 0, 0, 0, 0, 0, 0, 0, 0, 0, 0, 0, 0, 0, 0, 0, 0, 0, 0, 0, 0, 0, 0, 0, 0, 0, 0, 0, 0, 0, 0, 0, 0, 0, 0, 0, 0, 0, 0, 0, 0, 0, 0, 0, 0, 0, 0, 0, 0, 0, 0, 0, 0, 0, 0, 0, 0, 0, 0, 0, 0, 0, 0, 0, 0, 0, 0, 0, 0, 0, 0, 0, 0, 0, 0, 0, 0, 0, 0, 0, 0, 0, 0, 0, 0, 0, 0, 0, 0, 0, 0, 0, 0, 0, 0, 0, 0, 1, 0, 0, 0, 0, 0, 0, 0, 0, 0, 0, 0, 0, 0, 0, 0, 0, 0, 0, 0, 0, 0, 0, 0, 0, 0, 0, 0, 0, 0, 1, 0, 0, 0, 0, 0, 0, 0, 0, 0, 0, 0, 0, 0, 0, 0, 0, 0, 0, 0, 0, 0, 0, 0, 0, 0, 0, 0, 0, 0, 0, 0, 0, 0, 0, 0, 0, 0, 0, 0, 0, 0, 0, 0, 0, 0, 0, 0, 0, 0, 0, 0, 0, 0, 0, 0, 0, 0, 0, 0, 0, 0, 0, 0, 0, 0, 0, 0, 0, 0, 0, 0, 0, 0, 0, 0, 0, 0, 0, 0, 0, 0, 0, 0, 0, 0, 0, 0, 0, 0, 0, 0, 0, 0, 0, 0, 0, 0, 0, 0, 0, 0, 0, 0, 0, 0, 0, 0, 0, 0, 0, 0, 0, 0, 0, 0, 0, 0, 0, 0, 0, 0, 0, 0, 0, 0, 0, 0, 0, 0, 0, 0, 0, 0, 0, 0, 0, 0, 0, 0, 0, 0, 0, 0, 0, 0, 0, 0, 0, 0, 0, 0, 0, 0, 0, 0, 0, 0, 0, 0, 0, 0, 0, 0, 0, 0, 0, 0, 0, 0, 0, 0, 0, 0, 0, 0, 0, 0, 0, 0, 0, 0, 0, 0, 0, 0, 0, 0, 0, 0, 0, 0, 0, 0, 0, 0, 0, 0, 0, 0, 0, 0, 0, 0, 0, 0, 0, 0, 0, 0, 0, 0, 0, 0, 0, 0, 0, 0, 0, 0, 0, 0, 0, 0, 0, 0, 0, 0, 0, 0, 0, 0, 0, 0, 0, 0, 0, 0, 0, 0, 0, 0, 0, 0, 0, 0, 0, 0, 0, 0, 0, 0, 0, 0, 0, 0, 0, 0, 0, 0, 0, 0, 0, 0, 0, 0, 0, 0, 0, 0, 0, 0, 0, 0, 0, 0, 0, 0, 0, 0, 0, 0, 0, 0, 0, 0, 0, 0, 0, 0, 0, 0, 0, 0, 0, 0, 0, 0, 0, 0, 0, 0, 0, 0, 0, 0, 0, 0, 0, 0, 0, 0, 0, 0, 0, 0, 0, 0, 0, 0, 0, 0, 0, 0, 0, 0, 0, 0, 0, 0, 0, 0, 0, 0, 0, 0, 0, 0, 0, 0, 0, 0, 0, 0, 0, 0, 0, 0, 0, 0, 0, 0, 0, 0, 0, 0, 0, 0, 0, 0, 0, 0, 0, 0, 0, 0, 0, 0, 0, 0, 0, 0, 0, 0, 0, 0, 0, 0, 0, 0, 1, 0, 0, 0, 0, 0, 0, 0, 0, 0, 0, 0, 0, 0, 0, 0, 0, 0, 0, 0, 0, 0, 0, 0, 0, 0, 0, 0, 0, 0, 0, 0, 0, 0, 0, 0, 0, 0, 0, 0, 0, 0, 0, 0, 0, 0, 0, 0, 0, 0, 0, 0, 0, 0, 0, 0, 0, 0, 0, 0, 0, 0, 0, 0, 0, 0, 0, 0, 0, 0, 0, 0, 0, 0, 0, 0, 0, 0, 0, 0, 0, 0, 0, 0, 0, 0, 0, 0, 0, 0, 0, 0, 0, 0, 0, 0, 0, 0, 0, 0, 0, 0, 0, 0, 0, 0, 0, 0, 0, 0, 0, 0, 0, 0, 0, 0, 0, 0, 0, 0, 0, 0, 0, 0, 0, 0, 0, 0, 0, 0, 0, 0, 0, 0, 0, 0, 0, 0, 0, 0, 0, 0, 0, 0, 0, 0, 0, 0, 0, 0, 0, 0, 0, 0, 0, 0, 0, 0, 0, 0, 0, 0, 0, 0, 0, 0, 0, 0, 0, 0, 0, 0, 0, 0, 0, 0, 0, 0, 0, 0, 0, 0, 0, 0, 0, 0, 0, 0, 0, 0, 0, 0, 0, 0, 0, 0, 0, 0, 0, 0, 0, 0, 0, 0, 0, 0, 0, 0, 0, 0, 0, 0, 0, 0, 0, 0, 0, 0, 0, 0, 0, 0, 0, 0, 0, 0, 0, 0, 0, 0, 0, 0, 0, 0, 0, 0, 0, 0, 0, 0, 0, 0, 0, 0, 0, 0, 0, 0, 0, 0, 0, 0, 0, 0, 1, 0, 0, 0, 0, 0, 0, 0, 0, 0, 0, 0, 0, 0, 0, 0, 0, 0, 0, 0, 0, 0, 0, 0, 0, 0, 0, 0, 0, 0, 0, 0, 0, 0, 0, 0, 0, 0, 0, 0, 0, 0, 0, 0, 0, 0, 0, 0, 0, 0, 0, 0, 0, 0, 0, 0, 0, 0, 0, 0, 0, 0, 0, 0, 0, 0, 0, 0, 0, 0, 0, 0, 0, 0, 0, 0, 0, 0, 0, 0, 0, 0, 0, 0, 0, 0, 0, 1, 0, 0, 0, 0, 0, 0, 0, 0, 0, 0, 0, 0, 0, 0, 0, 0, 0, 0, 0, 0, 0, 0, 0, 0, 0, 0, 0, 0, 0, 0, 0, 0, 0, 0, 0, 0, 0, 0, 0, 0, 0, 0, 0, 0, 0, 0, 0, 0, 0, 0, 0, 0, 0, 0, 0, 0, 0, 0, 0, 0, 0, 0, 0, 0, 0, 0, 0, 0, 0, 0, 0, 0, 0, 0, 0, 0, 0, 0, 0, 0, 0, 0, 0, 0, 0, 0, 0, 0, 0, 0, 0, 0, 0, 0, 0, 0, 0, 0, 0, 0, 0, 0, 0, 0, 0, 0, 0, 0, 0, 0, 0, 0, 0, 0, 0, 0, 0, 0, 0, 0, 0, 0, 0, 0, 0, 0, 0, 0, 0, 0, 0, 0, 0, 0, 0, 0, 0, 0, 0, 0, 0, 0, 0, 0, 0, 0, 0, 0, 0, 0, 0, 0, 0, 0, 0, 0, 0, 0, 0, 0, 0, 0, 0, 0, 0, 0, 0, 0, 0, 0, 0, 0, 0, 0, 0, 0, 0, 0, 0, 0, 0, 0, 0, 0, 0, 0, 0, 0, 0, 0, 0, 0, 0, 0, 0, 0, 0, 0, 0, 0, 0, 0, 0, 0, 0, 0, 0, 0, 0, 0, 0, 0, 0, 0, 0, 0, 0, 0, 0, 0, 0, 0, 0, 0, 0, 0, 0, 0, 0, 0, 0, 0, 0, 0, 0, 0, 0, 0, 0, 0, 0, 0, 0, 0, 0, 0, 0, 0, 0, 0, 0, 0, 1, 0, 0, 0, 0, 0, 0, 0, 0, 0, 0, 0, 0, 0, 0, 0, 0, 0, 0, 0, 0, 0, 0, 0, 0, 0, 0, 0, 0, 0, 0, 0, 0, 0, 0, 0, 0, 0, 0, 0, 0, 0, 0, 0, 0, 0, 0, 0, 0, 0, 0, 0, 0, 0, 0, 0, 1, 0, 0, 0, 0, 0, 0, 0, 0, 0, 0, 0, 0, 0, 0, 0, 0, 0, 0, 0, 0, 0, 0, 0, 0, 0, 0, 0, 0, 0, 0, 0, 0, 0, 0, 0, 0, 0, 0, 0, 0, 0, 0, 0, 0, 0, 0, 0, 0, 0, 0, 0, 0, 0, 0, 0, 0, 0, 0, 0, 0, 0, 0, 0, 0, 0, 0, 0, 0, 0, 0, 0, 0, 0, 0, 0, 0, 0, 0, 0, 0, 0, 0, 0, 0, 0, 0, 0, 0, 0, 0, 0, 0, 0, 0, 0, 0, 0, 0, 0, 0, 0, 0, 0, 0, 0, 0, 0, 0, 0, 0, 0, 0, 0, 0, 0, 0, 0, 0, 0, 0, 0, 0, 0, 0, 0, 0, 0, 0, 0, 0, 0, 0, 0, 0, 0, 0, 0, 0, 0, 0, 0, 0, 0, 0, 0, 0, 0, 0, 0, 0, 0, 0, 0, 0, 0, 0, 0, 0, 0, 0, 0, 0, 0, 0, 0, 0, 0, 0, 0, 0, 0, 0, 0, 0, 0, 0, 0, 0, 0, 0, 0, 0, 0, 0, 0, 0, 0, 0, 0, 0, 0, 0, 0, 0, 0, 0, 0, 0, 0, 0, 0, 0, 0, 0, 0, 0, 0, 0, 0, 0, 0, 0, 0, 0, 0, 0, 0, 0, 0, 0, 0, 0, 0, 0, 0, 0, 0, 0, 0, 0, 0, 0, 0, 0, 0, 0, 0, 0, 0, 0, 0, 0, 0, 0, 0, 0, 0, 0, 0, 0, 0, 0, 0, 0, 0, 0, 0, 0, 0, 0, 0, 0, 0, 0, 0, 0, 0, 0, 0, 0, 0, 0, 0, 0, 0, 0, 0, 0, 0, 0, 0, 0, 0, 0, 0, 0, 0, 0, 0, 0, 0, 0, 0, 0, 0, 0, 0, 0, 0, 0, 0, 0, 0, 0, 0, 0, 0, 0, 0, 0, 0, 0, 0, 0, 0, 0, 0, 0, 0, 0, 0, 0, 0, 0, 0, 0, 0, 0, 0, 0, 0, 0, 0, 0, 0, 0, 0, 0, 0, 0, 0, 0, 0, 0, 0, 0, 0, 0, 0, 0, 0, 0, 0, 0, 0, 0, 0, 0, 0, 0, 0, 0, 0, 0, 0, 0, 0, 0, 0, 0, 0, 0, 0, 0, 0, 0, 0, 0, 0, 0, 0, 0, 0, 0, 0, 0, 0, 0, 0, 0, 0, 0, 0, 0, 0, 0, 0, 0, 0, 0, 0, 0, 0, 0, 0, 0, 0, 0, 0, 0, 0, 0, 0, 0, 0, 0, 0, 0, 0, 0, 0, 0, 0, 0, 0, 0, 0, 0, 0, 0, 0, 0, 0, 0, 0, 0, 0, 0, 0, 0, 0, 0, 0, 0, 0, 0, 0, 0, 0, 0, 0, 0, 0, 0, 0, 0, 0, 0, 0, 0, 0, 0, 0, 0, 0, 0, 0, 0, 0, 0, 0, 0, 0, 0, 0, 0, 0, 0, 0, 0, 0, 0, 0, 0, 0, 0, 0, 0, 0, 0, 0, 0, 0, 0, 0, 0, 0, 0, 0, 0, 0, 0, 0, 0, 0, 0, 0, 0, 0, 0, 0, 0, 0, 0, 0, 0, 0, 0, 0, 0, 0, 0, 0, 0, 0, 0, 0, 0, 0, 0, 0, 0, 0, 0, 0, 0, 0, 0, 0, 0, 0, 0, 0, 0, 0, 0, 0, 0, 0, 0, 0, 0, 0, 0, 0, 0, 0, 0, 0, 0, 0, 0, 0, 0, 0, 0, 0, 0, 0, 0, 0, 0, 0, 0, 0, 0, 0, 0, 0, 0, 0, 0, 0, 0, 0, 0, 0, 0, 0, 0, 0, 0, 0, 0, 0, 0, 0, 0, 0, 0, 0, 0, 0, 0, 0, 0, 0, 0, 0, 0, 0, 0, 0, 0, 0, 0, 0, 0, 0, 0, 0, 0, 0, 0, 0, 0, 0, 0, 0, 0, 0, 0, 0, 0, 0, 0, 0, 0, 0, 0, 0, 0, 0, 0, 0, 0, 0, 0, 0, 0, 0, 0, 0, 0, 0, 0, 0, 0, 0, 0, 0, 0, 0, 0, 0, 0, 0, 0, 0, 0, 0, 0, 0, 0, 0, 0, 0, 0, 0, 0, 0, 1, 0, 0, 0, 0, 0, 0, 0, 0, 0, 0, 0, 0, 0, 0, 0, 0, 0, 0, 0, 0, 0, 0, 0, 0, 0, 0, 0, 0, 0, 0, 0, 0, 0, 0, 0, 0, 0, 0, 0, 0, 0, 0, 0, 0, 0, 0, 0, 0, 0, 0, 0, 0, 0, 0, 0, 0, 0, 0, 0, 0, 0, 0, 0, 0, 0, 0, 0, 0, 0, 0, 0, 0, 0, 0, 1, 0, 0, 0, 0, 0, 0, 0, 0, 0, 0, 0, 0, 0, 0, 0, 0, 0, 0, 0, 0, 1, 0, 0, 1, 0, 0, 0, 0, 0, 0, 0, 0, 0, 0, 0, 0, 0, 0, 0, 0, 0, 0, 0, 0, 0, 0, 0, 0, 0, 0, 0, 0, 0, 0, 0, 0, 0, 0, 0, 0, 0, 0, 0, 0, 0, 0, 0, 0, 0, 0, 0, 0, 0, 0, 0, 0, 0, 0, 0, 0, 0, 0, 0, 0, 0, 0, 0, 0, 0, 0, 0, 0, 0, 0, 0, 0, 0, 0, 0, 0, 0, 0, 0, 0, 0, 0, 0, 0, 0, 0, 0, 0, 0, 0, 0, 0, 0, 0, 0, 0, 0, 0, 0, 0, 0, 0, 0, 0, 0, 0, 0, 0, 0, 0, 0, 0, 0, 0, 0, 0, 0, 0, 0, 0, 0, 0, 0, 0, 0, 0, 0, 0, 0, 0, 0, 0, 0, 0, 0, 0, 0, 0, 0, 0, 0, 0, 0, 0, 0, 0, 0, 0, 0, 0, 0, 0, 0, 0, 0, 0, 0, 0, 0, 0, 0, 0, 0, 0, 0, 0, 0, 0, 0, 0, 0, 0, 0, 0, 0, 0, 0, 0, 0, 0, 0, 0, 0, 0, 0, 0, 0, 0, 0, 0, 0, 0, 0, 0, 0, 0, 0, 0, 0, 0, 0, 0, 0, 0, 0, 0, 0, 0, 0, 0, 0, 0, 0, 0, 0, 0, 0, 0, 0, 0, 0, 0, 0, 0, 0, 0, 0, 0, 0, 0, 0, 0, 0, 0, 0, 0, 0, 0, 0, 0, 0, 0, 0, 0, 0, 0, 0, 0, 0, 0, 0, 0, 0, 0, 0, 0, 0, 0, 0, 0, 0, 0, 0, 0, 0, 0, 0, 0, 0, 0, 0, 0, 0, 0, 0, 0, 0, 0, 0, 0, 0, 0, 0, 0, 0, 0, 0, 0, 0, 0, 0, 0, 0, 0, 0, 0, 0, 0, 0, 0, 0, 0, 0, 0, 0, 0, 0, 0, 0, 0, 0, 0, 0, 0, 0, 0, 0, 0, 0, 0, 0, 0, 0, 0, 0, 0, 0, 0, 0, 0, 0, 0, 0, 0, 0, 0, 0, 0, 0, 0, 0, 0, 0, 0, 0, 0, 0, 0, 0, 0, 0, 0, 0, 0, 0, 0, 0, 0, 0, 0, 0, 0, 0, 0, 0, 0, 0, 0, 0, 0, 0, 0, 0, 0, 0, 0, 0, 0, 0, 0, 0, 0, 0, 0, 0, 0, 0, 0, 0, 0, 0, 0, 0, 0, 0, 0, 0, 0, 0, 0, 0, 0, 0, 0, 0, 0, 0, 0, 0, 0, 0, 0, 0, 0, 0, 0, 0, 0, 0, 0, 0, 0, 0, 0, 0, 0, 0, 0, 0, 0, 0, 0, 0, 0, 0, 0, 0, 0, 0, 0, 0, 0, 0, 0, 0, 0, 0, 0, 0, 0, 0, 0, 0, 0, 0, 0, 0, 0, 0, 0, 0, 0, 0, 0, 0, 0, 1, 0, 0, 0, 0, 0, 0, 0, 0, 0, 0, 0, 0, 0, 0, 0, 0, 0, 0, 0, 0, 0, 0, 0, 0, 0, 0, 0, 0, 0, 0, 0, 0, 0, 0, 0, 0, 0, 0, 0, 0, 0, 0, 0, 0, 0, 0, 0, 0, 0, 0, 0, 0, 0, 0, 0, 0, 0, 0, 0, 0, 0, 0, 0, 0, 0, 0, 0, 0, 0, 0, 0, 0, 0, 0, 0, 0, 0, 0, 0, 0, 0, 0, 0, 0, 0, 0, 0, 0, 0, 0, 0, 0, 0, 0, 0, 0, 0, 0, 0, 0, 0, 0, 0, 0, 0, 0, 0, 0, 0, 0, 0, 0, 0, 0, 0, 0, 0, 0, 0, 0, 0, 0, 0, 0, 0, 0, 0, 0, 0, 0, 0, 0, 0, 0, 0, 0, 0, 0, 0, 0, 0, 0, 0, 0, 0, 0, 0, 0, 0, 0, 0, 0, 0, 0, 0, 0, 0, 0, 0, 0, 0, 0, 0, 0, 0, 0, 0, 0, 0, 0, 0, 0, 0, 0, 0, 0, 0, 0, 0, 0, 0, 0, 0, 0, 0, 0, 0, 0, 0, 0, 0, 0, 0, 0, 0, 0, 0, 0, 0, 0, 0, 0, 0, 0, 0, 0, 0, 0, 0, 0, 0, 0, 0, 0, 0, 0, 0, 0, 0, 0, 0, 0, 0, 0, 0, 0, 0, 0, 0, 0, 0, 0, 0, 0, 0, 0, 0, 0, 0, 0, 0, 0, 0, 0, 0, 0, 0, 0, 0, 0, 0, 0, 0, 0, 0, 0, 0, 0, 0, 0, 0, 0, 0, 0, 0, 0, 0, 0, 0, 0, 0, 0, 0, 0, 0, 0, 0, 0, 0, 0, 0, 0, 0, 0, 0, 0, 0, 0, 0, 0, 0, 0, 0, 0, 0, 0, 0, 0, 0, 0, 0, 0, 0, 0, 0, 0, 0, 0, 0, 0, 0, 0, 0, 0, 0, 0, 0, 0, 0, 0, 0, 0, 0, 0, 0, 0, 0, 0, 0, 0, 0, 0, 0, 0, 0, 0, 0, 0, 0, 0, 0, 0, 0, 0, 0, 0, 0, 0, 0, 0, 0, 0, 0, 0, 0, 0, 0, 0, 0, 0, 0, 0, 0, 0, 0, 0, 0, 0, 0, 0, 0, 0, 0, 0, 0, 0, 0, 0, 0, 0, 0, 0, 0, 0, 0, 0, 0, 0, 0, 0, 0, 0, 0, 0, 0, 0, 0, 0, 0, 0, 0, 0, 0, 0, 0, 0, 0, 0, 0, 0, 0, 0, 0, 0, 0, 0, 0, 0, 0, 0, 0, 0, 0, 0, 0, 0, 0, 0, 0, 0, 0, 0, 0, 0, 0, 0, 0, 0, 0, 0, 0, 0, 0, 0, 0, 0, 0, 0, 0, 0, 0, 0, 0, 0, 0, 0, 0, 0, 0, 0, 0, 0, 0, 0, 0, 0, 0, 0, 0, 0, 0, 0, 0, 0, 0, 0, 0, 0, 0, 0, 0, 0, 0, 0, 0, 0, 0, 0, 0, 0, 0, 0, 0, 0, 0, 0, 0, 0, 0, 0, 0, 0, 0, 0, 0, 0, 0, 0, 0, 0, 0, 0, 1, 0, 0, 0, 0, 0, 0, 0, 0, 0, 0, 0, 0, 0, 0, 0, 0, 0, 0, 0, 0, 0, 0, 0, 0, 0, 0, 0, 0, 0, 0, 0, 0, 0, 0, 0, 2, 0, 0, 0, 0, 0, 0, 0, 0, 0, 0, 0, 0, 0, 0, 0, 0, 0, 0, 0, 0, 0, 0, 0, 0, 0, 0, 0, 0, 0, 0, 0, 0, 0, 0, 0, 0, 0, 0, 0, 0, 1, 0, 0, 0, 0, 0, 0, 0, 0, 0, 0, 0, 0, 0, 0, 0, 0, 0, 0, 0, 0, 0, 0, 0, 0, 0, 0, 0, 0, 0, 0, 0, 0, 0, 0, 0, 0, 0, 0, 0, 0, 0, 0, 0, 0, 0, 0, 0, 0, 0, 0, 0, 0, 0, 0, 0, 0, 0, 0, 0, 0, 0, 0, 0, 0, 0, 0, 0, 0, 0, 0, 0, 0, 0, 0, 0, 0, 0, 0, 0, 0, 0, 0, 0, 0, 0, 0, 0, 0, 0, 0, 0, 0, 0, 0, 0, 0, 0, 0, 0, 0, 0, 0, 0, 0, 0, 0, 0, 0, 0, 0, 0, 0, 0, 0, 0, 0, 0, 0, 0, 0, 0, 0, 0, 0, 0, 0, 0, 0, 0, 0, 0, 0, 0, 0, 0, 0, 0, 0, 0, 0, 0, 0, 0, 0, 0, 0, 0, 0, 0, 0, 0, 0, 0, 0, 0, 0, 0, 0, 0, 0, 0, 0, 0, 0, 0, 0, 0, 0, 0, 0, 0, 0, 0, 0, 0, 0, 0, 0, 0, 0, 0, 0, 0, 0, 0, 0, 0, 0, 0, 0, 0, 0, 0, 0, 0, 0, 0, 0, 0, 0, 0, 0, 0, 0, 0, 0, 0, 0, 0, 0, 0, 0, 0, 0, 0, 0, 0, 0, 0, 0, 0, 0, 0, 0, 0, 0, 0, 0, 0, 0, 0, 0, 0, 0, 0, 0, 0, 0, 0, 0, 0, 0, 0, 0, 0, 0, 0, 0, 0, 0, 0, 0, 0, 0, 0, 0, 0, 0, 0, 0, 0, 0, 0, 0, 0, 0, 0, 0, 0, 0, 0, 0, 0, 0, 0, 0, 0, 0, 0, 0, 0, 0, 0, 0, 0, 0, 0, 0, 0, 0, 0, 0, 0, 0, 0, 0, 0, 0, 0, 0, 0, 0, 0, 0, 0, 0, 0, 0, 0, 0, 0, 0, 0, 0, 0, 0, 0, 0, 0, 0, 0, 0, 0, 0, 0, 0, 0, 0, 0, 0, 0, 0, 0, 0, 0, 0, 0, 0, 0, 0, 0, 0, 0, 0, 0, 0, 0, 0, 0, 0, 0, 0, 0, 0, 0, 0, 0, 0, 0, 0, 0, 0, 0, 0, 0, 0, 0, 0, 0, 0, 0, 0, 0, 0, 0, 0, 0, 0, 0, 0, 0, 0, 0, 0, 0, 0, 0, 0, 0, 0, 0, 0, 0, 0, 0, 0, 0, 0, 0, 0, 0, 0, 0, 0, 0, 0, 0, 0, 0, 0, 0, 0, 0, 0, 0, 0, 0, 0, 0, 0, 0, 0, 0, 0, 0, 0, 0, 0, 0, 0, 0, 0, 0, 0, 0, 0, 0, 0, 0, 0, 0, 0, 0, 0, 0, 0, 0, 0, 0, 0, 0, 0, 0, 0, 0, 0, 0, 0, 0, 0, 0, 0, 0, 0, 0, 0, 0, 0, 0, 0, 0, 0, 0, 0, 0, 0, 0, 0, 0, 0, 0, 0, 0, 0, 0, 0, 0, 0, 0, 0, 0, 0, 0, 0, 0, 0, 0, 1, 0, 0, 0, 0, 0, 0, 0, 0, 0, 0, 0, 0, 0, 0, 0, 0, 0, 0, 0, 0, 0, 0, 0, 0, 0, 0, 0, 0, 0, 0, 0, 0, 0, 0, 0, 0, 0, 0, 0, 0, 0, 0, 0, 0, 0, 0, 0, 0, 0, 0, 0, 0, 0, 0, 0, 0, 0, 0, 0, 0, 0, 0, 0, 0, 0, 0, 0, 0, 0, 0, 0, 0, 0, 0, 0, 0, 0, 0, 0, 0, 0, 0, 0, 0, 0, 0, 0, 0, 0, 0, 0, 0, 0, 0, 0, 0, 0, 0, 0, 0, 0, 0, 0, 0, 0, 0, 0, 0, 0, 0, 2, 0, 0, 0, 0, 0, 0, 0, 0, 0, 0, 0, 0, 0, 0, 0, 0, 0, 0, 0, 0, 0, 0, 0, 0, 0, 0, 0, 0, 0, 0, 0, 0, 0, 0, 0, 0, 0, 0, 0, 0, 0, 0, 0, 0, 0, 0, 0, 0, 0, 0, 0, 0, 0, 0, 0, 0, 0, 0, 0, 0, 0, 0, 0, 0, 0, 0, 0, 0, 0, 0, 0, 0, 0, 0, 0, 0, 0, 0, 0, 0, 0, 0, 0, 0, 0, 0, 0, 0, 0, 0, 0, 0, 0, 0, 0, 0, 0, 0, 0, 0, 0, 0, 0, 0, 0, 0, 0, 0, 0, 0, 0, 0, 0, 0, 0, 0, 0, 0, 0, 0, 0, 0, 0, 0, 0, 0, 0, 0, 0, 0, 0, 0, 0, 0, 0, 0, 0, 0, 0, 0, 0, 0, 0, 0, 0, 0, 0, 0, 0, 0, 0, 0, 0, 0, 0, 0, 0, 0, 0, 0, 0, 0, 0, 0, 0, 0, 0, 0, 0, 0, 0, 0, 0, 0, 0, 0, 0, 0, 0, 0, 0, 0, 0, 0, 0, 0, 0, 0, 0, 0, 0, 0, 0, 0, 0, 0, 0, 0, 0, 0, 0, 0, 0, 0, 0, 0, 0, 0, 0, 0, 0, 0, 0, 0, 0, 0, 0, 0, 0, 0, 0, 0, 0, 0, 0, 0, 0, 0, 0, 0, 0, 0, 0, 0, 0, 0, 0, 0, 0, 0, 0, 0, 0, 0, 0, 0, 0, 0, 0, 0, 0, 0, 0, 0, 0, 0, 0, 0, 0, 0, 0, 0, 0, 0, 0, 0, 0, 0, 0, 0, 0, 0, 0, 0, 0, 0, 0, 0, 0, 0, 0, 0, 0, 0, 0, 0, 0, 0, 0, 0, 0, 0, 0, 0, 0, 0, 0, 0, 0, 0, 0, 0, 0, 0, 0, 0, 0, 0, 0, 0, 0, 0, 0, 0, 0, 0, 0, 0, 0, 0, 0, 0, 0, 0, 0, 0, 0, 0, 0, 0, 0, 0, 0, 0, 0, 0, 0, 0, 0, 0, 0, 0, 0, 0, 0, 0, 0, 0, 0, 0, 0, 0, 0, 0, 0, 0, 0, 0, 0, 0, 0, 0, 0, 0, 0, 0, 0, 0, 0, 0, 0, 0, 0, 0, 0, 0, 0, 0, 0, 0, 0, 0, 0, 0, 0, 0, 0, 0, 0, 0, 0, 0, 0, 0, 0, 0, 0, 0, 0, 0, 0, 0, 0, 0, 0, 0, 0, 0, 0, 0, 0, 0, 0, 0, 0, 0, 0, 0, 0, 0, 0, 0, 0, 0, 0, 0, 0, 0, 0, 0, 0, 0, 0, 0, 0, 0, 0, 0, 0, 0, 0, 0, 0, 0, 0, 0, 0, 0, 0, 0, 0, 0, 0, 0, 0, 0, 0, 0, 0, 0, 0, 0, 0, 0, 0, 0, 0, 0, 0, 0, 0, 0, 0, 0, 0, 0, 0, 0, 0, 0, 0, 0, 0, 0, 0, 0, 0, 0, 0, 0, 0, 0, 0, 0, 0, 0, 0, 0, 0, 0, 0, 0, 0, 0, 0, 0, 0, 0, 0, 0, 0, 0, 0, 0, 0, 0, 0, 0, 0, 0, 0, 0, 0, 0, 0, 0, 0, 0, 0, 0, 0, 0, 0, 0, 0, 0, 0, 0, 0, 0, 0, 0, 0, 0, 0, 0, 0, 0, 0, 0, 0, 0, 0, 0, 0, 0, 0, 0, 0, 0, 0, 0, 0, 0, 0, 0, 0, 0, 0, 0, 0, 0, 0, 0, 0, 0, 0, 0, 0, 0, 0, 0, 0, 0, 0, 0, 0, 0, 0, 0, 0, 0, 0, 0, 0, 0, 0, 0, 0, 0, 0, 0, 0, 0, 0, 0, 0, 0, 0, 0, 0, 0, 0, 0, 0, 0, 0, 0, 0, 0, 0, 0, 0, 0, 0, 0, 0, 0, 0, 0, 0, 0, 0, 0, 0, 0, 0, 0, 0, 0, 0, 0, 0, 0, 0, 0, 0, 0, 0, 0, 0, 0, 0, 0, 0, 0, 0, 0, 0, 0, 0, 0, 0, 0, 0, 0, 0, 0, 0, 0, 0, 0, 0, 0, 0, 0, 0, 0, 0, 0, 0, 0, 0, 0, 0, 0, 0, 0, 0, 0, 1, 0, 0, 0, 0, 0, 0, 0, 0, 0, 0, 0, 0, 0, 0, 0, 0, 0, 0, 0, 0, 0, 0, 0, 0, 0, 0, 0, 0, 0, 0, 0, 0, 0, 0, 0, 0, 0, 0, 0, 0, 0, 0, 0, 0, 0, 0, 0, 0, 0, 0, 0, 0, 0, 0, 0, 0, 0, 0, 0, 0, 0, 0, 0, 0, 0, 0, 0, 0, 0, 0, 0, 0, 0, 0, 0, 0, 0, 0, 0, 0, 0, 0, 0, 0, 0, 0, 0, 0, 0, 0, 0, 0, 0, 0, 0, 0, 0, 0, 0, 0, 0, 0, 0, 0, 0, 0, 0, 1, 0, 0, 0, 0, 0, 0, 0, 0, 0, 0, 0, 0, 0, 0, 0, 0, 0, 0, 0, 0, 0, 0, 0, 0, 0, 0, 0, 0, 0, 0, 0, 0, 0, 0, 0, 0, 0, 0, 0, 0, 0, 0, 0, 0, 0, 0, 0, 0, 0, 0, 0, 0, 0, 0, 0, 0, 0, 0, 0, 0, 0, 0, 0, 0, 0, 0, 0, 0, 0, 0, 0, 0, 0, 0, 0, 0, 0, 0, 0, 0, 0, 0, 0, 0, 0, 0, 0, 0, 0, 0, 0, 0, 0, 0, 0, 0, 0, 0, 0, 0, 0, 0, 0, 0, 0, 0, 0, 0, 0, 0, 0, 0, 0, 0, 0, 0, 0, 0, 0, 0, 0, 0, 0, 0, 0, 0, 0, 0, 0, 0, 0, 0, 0, 0, 0, 0, 0, 0, 0, 0, 0, 0, 0, 0, 0, 0, 0, 0, 0, 0, 0, 0, 0, 0, 0, 0, 0, 0, 0, 0, 0, 0, 0, 0, 0, 0, 0, 0, 0, 0, 0, 0, 0, 0, 0, 0, 0, 0, 0, 0, 0, 0, 0, 0, 0, 0, 0, 0, 0, 0, 0, 0, 0, 0, 0, 0, 0, 0, 0, 0, 0, 0, 0, 0, 0, 0, 0, 0, 0, 0, 0, 0, 0, 0, 0, 0, 0, 0, 0, 0, 0, 0, 0, 0, 0, 0, 0, 0, 0, 0, 0, 0, 0, 0, 0, 0, 0, 0, 0, 0, 0, 0, 0, 0, 0, 0, 0, 0, 0, 0, 0, 0, 0, 0, 0, 0, 0, 0, 0, 0, 0, 0, 0, 0, 0, 0, 0, 0, 0, 0, 0, 0, 0, 0, 0, 0, 0, 0, 0, 0, 0, 0, 0, 0, 0, 0, 0, 0, 0, 0, 0, 0, 0, 0, 0, 0, 0, 0, 0, 0, 0, 0, 0, 0, 0, 0, 0, 0, 0, 0, 0, 0, 0, 0, 0, 0, 0, 0, 0, 0, 0, 0, 0, 0, 0, 0, 0, 0, 0, 0, 0, 0, 0, 0, 0, 0, 0, 0, 0, 0, 0, 0, 0, 0, 0, 0, 0, 0, 0, 0, 0, 0, 0, 0, 0, 0, 0, 0, 0, 0, 0, 0, 0, 0, 0, 0, 0, 0, 0, 0, 0, 0, 0, 0, 0, 0, 0, 0, 0, 0, 0, 0, 0, 0, 0, 0, 0, 0, 0, 0, 0, 0, 0, 0, 0, 0, 0, 0, 0, 0, 0, 0, 0, 0, 0, 0, 0, 0, 0, 0, 0, 0, 0, 0, 0, 0, 0, 0, 0, 0, 0, 0, 0, 0, 0, 0, 0, 0, 0, 0, 0, 0, 0, 0, 0, 0, 0, 0, 0, 0, 0, 0, 0, 0, 0, 0, 0, 0, 0, 0, 0, 0, 0, 0, 0, 0, 0, 0, 0, 0, 0, 0, 0, 2, 0, 1, 0]\n"
     ]
    }
   ],
   "source": [
    "test_bow = bow_encoding(test_words, vocabulary)\n",
    "print(test_bow)"
   ]
  },
  {
   "cell_type": "code",
   "execution_count": 40,
   "metadata": {},
   "outputs": [
    {
     "data": {
      "text/plain": [
       "5000"
      ]
     },
     "execution_count": 40,
     "metadata": {},
     "output_type": "execute_result"
    }
   ],
   "source": [
    "len(test_bow)"
   ]
  },
  {
   "cell_type": "markdown",
   "metadata": {},
   "source": [
    "So now we know how to construct a bag of words encoding of a user provided review, how to we send it to our endpoint? First, we need to start the endpoint back up."
   ]
  },
  {
   "cell_type": "code",
   "execution_count": 41,
   "metadata": {},
   "outputs": [
    {
     "name": "stderr",
     "output_type": "stream",
     "text": [
      "WARNING:sagemaker:Using already existing model: xgboost-2020-03-01-15-38-50-208\n"
     ]
    },
    {
     "name": "stdout",
     "output_type": "stream",
     "text": [
      "-------------!"
     ]
    }
   ],
   "source": [
    "xgb_predictor = xgb.deploy(initial_instance_count = 1, instance_type = 'ml.m4.xlarge')"
   ]
  },
  {
   "cell_type": "markdown",
   "metadata": {},
   "source": [
    "At this point we could just do the same thing that we did earlier when we tested our deployed model and send `test_bow` to our endpoint using the `xgb_predictor` object. However, when we eventually construct our Lambda function we won't have access to this object, so how do we call a SageMaker endpoint?\n",
    "\n",
    "It turns out that Python functions that are used in Lambda have access to another Amazon library called `boto3`. This library provides an API for working with Amazon services, including SageMaker. To start with, we need to get a handle to the SageMaker runtime."
   ]
  },
  {
   "cell_type": "code",
   "execution_count": 42,
   "metadata": {},
   "outputs": [],
   "source": [
    "import boto3\n",
    "\n",
    "runtime = boto3.Session().client('sagemaker-runtime')"
   ]
  },
  {
   "cell_type": "markdown",
   "metadata": {},
   "source": [
    "And now that we have access to the SageMaker runtime, we can ask it to make use of (invoke) an endpoint that has already been created. However, we need to provide SageMaker with the name of the deployed endpoint. To find this out we can print it out using the `xgb_predictor` object."
   ]
  },
  {
   "cell_type": "code",
   "execution_count": 43,
   "metadata": {},
   "outputs": [
    {
     "data": {
      "text/plain": [
       "'xgboost-2020-03-01-15-38-50-208'"
      ]
     },
     "execution_count": 43,
     "metadata": {},
     "output_type": "execute_result"
    }
   ],
   "source": [
    "xgb_predictor.endpoint"
   ]
  },
  {
   "cell_type": "markdown",
   "metadata": {},
   "source": [
    "Using the SageMaker runtime and the name of our endpoint, we can invoke the endpoint and send it the `test_bow` data."
   ]
  },
  {
   "cell_type": "code",
   "execution_count": 44,
   "metadata": {},
   "outputs": [
    {
     "ename": "ParamValidationError",
     "evalue": "Parameter validation failed:\nInvalid type for parameter Body, value: [0, 0, 0, 0, 0, 0, 0, 0, 0, 0, 0, 0, 0, 0, 0, 0, 0, 0, 0, 0, 0, 0, 0, 0, 0, 0, 0, 0, 0, 0, 0, 0, 0, 0, 0, 0, 0, 0, 0, 0, 0, 0, 0, 0, 0, 0, 0, 0, 0, 0, 0, 0, 0, 0, 0, 0, 0, 0, 0, 0, 0, 0, 0, 0, 0, 0, 0, 0, 0, 0, 0, 0, 0, 0, 0, 0, 0, 0, 0, 0, 0, 0, 0, 0, 0, 0, 0, 0, 0, 0, 0, 0, 0, 0, 0, 0, 0, 0, 0, 0, 0, 0, 0, 0, 0, 0, 0, 0, 0, 0, 0, 0, 0, 0, 0, 0, 0, 0, 0, 0, 0, 0, 0, 0, 0, 0, 0, 0, 0, 0, 0, 0, 0, 0, 0, 0, 0, 0, 0, 0, 0, 0, 0, 0, 0, 0, 0, 0, 0, 0, 0, 0, 0, 0, 0, 0, 0, 0, 0, 0, 0, 0, 0, 0, 0, 0, 0, 0, 0, 0, 0, 0, 0, 0, 0, 0, 0, 0, 0, 0, 0, 0, 0, 0, 0, 0, 0, 0, 0, 0, 0, 0, 0, 0, 0, 0, 0, 0, 0, 0, 0, 0, 0, 0, 0, 0, 0, 0, 0, 0, 0, 0, 0, 0, 0, 0, 0, 0, 0, 0, 0, 0, 0, 0, 0, 0, 1, 0, 0, 0, 0, 0, 0, 0, 0, 0, 0, 0, 0, 0, 0, 0, 0, 0, 0, 0, 0, 0, 0, 0, 0, 0, 0, 0, 0, 0, 1, 0, 0, 0, 0, 0, 0, 0, 0, 0, 0, 0, 0, 0, 0, 0, 0, 0, 0, 0, 0, 0, 0, 0, 0, 0, 0, 0, 0, 0, 0, 0, 0, 0, 0, 0, 0, 0, 0, 0, 0, 0, 0, 0, 0, 0, 0, 0, 0, 0, 0, 0, 0, 0, 0, 0, 0, 0, 0, 0, 0, 0, 0, 0, 0, 0, 0, 0, 0, 0, 0, 0, 0, 0, 0, 0, 0, 0, 0, 0, 0, 0, 0, 0, 0, 0, 0, 0, 0, 0, 0, 0, 0, 0, 0, 0, 0, 0, 0, 0, 0, 0, 0, 0, 0, 0, 0, 0, 0, 0, 0, 0, 0, 0, 0, 0, 0, 0, 0, 0, 0, 0, 0, 0, 0, 0, 0, 0, 0, 0, 0, 0, 0, 0, 0, 0, 0, 0, 0, 0, 0, 0, 0, 0, 0, 0, 0, 0, 0, 0, 0, 0, 0, 0, 0, 0, 0, 0, 0, 0, 0, 0, 0, 0, 0, 0, 0, 0, 0, 0, 0, 0, 0, 0, 0, 0, 0, 0, 0, 0, 0, 0, 0, 0, 0, 0, 0, 0, 0, 0, 0, 0, 0, 0, 0, 0, 0, 0, 0, 0, 0, 0, 0, 0, 0, 0, 0, 0, 0, 0, 0, 0, 0, 0, 0, 0, 0, 0, 0, 0, 0, 0, 0, 0, 0, 0, 0, 0, 0, 0, 0, 0, 0, 0, 0, 0, 0, 0, 0, 0, 0, 0, 0, 0, 0, 0, 0, 0, 0, 0, 0, 0, 0, 0, 0, 0, 0, 0, 0, 0, 0, 0, 0, 0, 0, 0, 0, 0, 0, 0, 0, 0, 0, 0, 0, 0, 0, 0, 0, 0, 0, 0, 0, 0, 0, 0, 0, 0, 0, 0, 0, 0, 0, 0, 0, 0, 0, 0, 0, 0, 0, 0, 0, 0, 0, 0, 0, 0, 0, 0, 0, 0, 0, 0, 0, 0, 0, 0, 0, 0, 0, 0, 0, 0, 0, 0, 0, 0, 0, 0, 0, 0, 0, 0, 0, 0, 0, 0, 0, 0, 0, 0, 0, 0, 0, 0, 0, 0, 0, 0, 0, 0, 0, 0, 0, 0, 0, 0, 0, 0, 0, 0, 0, 0, 0, 0, 0, 0, 0, 0, 0, 0, 0, 0, 0, 0, 0, 0, 0, 0, 1, 0, 0, 0, 0, 0, 0, 0, 0, 0, 0, 0, 0, 0, 0, 0, 0, 0, 0, 0, 0, 0, 0, 0, 0, 0, 0, 0, 0, 0, 0, 0, 0, 0, 0, 0, 0, 0, 0, 0, 0, 0, 0, 0, 0, 0, 0, 0, 0, 0, 0, 0, 0, 0, 0, 0, 0, 0, 0, 0, 0, 0, 0, 0, 0, 0, 0, 0, 0, 0, 0, 0, 0, 0, 0, 0, 0, 0, 0, 0, 0, 0, 0, 0, 0, 0, 0, 0, 0, 0, 0, 0, 0, 0, 0, 0, 0, 0, 0, 0, 0, 0, 0, 0, 0, 0, 0, 0, 0, 0, 0, 0, 0, 0, 0, 0, 0, 0, 0, 0, 0, 0, 0, 0, 0, 0, 0, 0, 0, 0, 0, 0, 0, 0, 0, 0, 0, 0, 0, 0, 0, 0, 0, 0, 0, 0, 0, 0, 0, 0, 0, 0, 0, 0, 0, 0, 0, 0, 0, 0, 0, 0, 0, 0, 0, 0, 0, 0, 0, 0, 0, 0, 0, 0, 0, 0, 0, 0, 0, 0, 0, 0, 0, 0, 0, 0, 0, 0, 0, 0, 0, 0, 0, 0, 0, 0, 0, 0, 0, 0, 0, 0, 0, 0, 0, 0, 0, 0, 0, 0, 0, 0, 0, 0, 0, 0, 0, 0, 0, 0, 0, 0, 0, 0, 0, 0, 0, 0, 0, 0, 0, 0, 0, 0, 0, 0, 0, 0, 0, 0, 0, 0, 0, 0, 0, 0, 0, 0, 0, 0, 0, 0, 0, 0, 1, 0, 0, 0, 0, 0, 0, 0, 0, 0, 0, 0, 0, 0, 0, 0, 0, 0, 0, 0, 0, 0, 0, 0, 0, 0, 0, 0, 0, 0, 0, 0, 0, 0, 0, 0, 0, 0, 0, 0, 0, 0, 0, 0, 0, 0, 0, 0, 0, 0, 0, 0, 0, 0, 0, 0, 0, 0, 0, 0, 0, 0, 0, 0, 0, 0, 0, 0, 0, 0, 0, 0, 0, 0, 0, 0, 0, 0, 0, 0, 0, 0, 0, 0, 0, 0, 0, 1, 0, 0, 0, 0, 0, 0, 0, 0, 0, 0, 0, 0, 0, 0, 0, 0, 0, 0, 0, 0, 0, 0, 0, 0, 0, 0, 0, 0, 0, 0, 0, 0, 0, 0, 0, 0, 0, 0, 0, 0, 0, 0, 0, 0, 0, 0, 0, 0, 0, 0, 0, 0, 0, 0, 0, 0, 0, 0, 0, 0, 0, 0, 0, 0, 0, 0, 0, 0, 0, 0, 0, 0, 0, 0, 0, 0, 0, 0, 0, 0, 0, 0, 0, 0, 0, 0, 0, 0, 0, 0, 0, 0, 0, 0, 0, 0, 0, 0, 0, 0, 0, 0, 0, 0, 0, 0, 0, 0, 0, 0, 0, 0, 0, 0, 0, 0, 0, 0, 0, 0, 0, 0, 0, 0, 0, 0, 0, 0, 0, 0, 0, 0, 0, 0, 0, 0, 0, 0, 0, 0, 0, 0, 0, 0, 0, 0, 0, 0, 0, 0, 0, 0, 0, 0, 0, 0, 0, 0, 0, 0, 0, 0, 0, 0, 0, 0, 0, 0, 0, 0, 0, 0, 0, 0, 0, 0, 0, 0, 0, 0, 0, 0, 0, 0, 0, 0, 0, 0, 0, 0, 0, 0, 0, 0, 0, 0, 0, 0, 0, 0, 0, 0, 0, 0, 0, 0, 0, 0, 0, 0, 0, 0, 0, 0, 0, 0, 0, 0, 0, 0, 0, 0, 0, 0, 0, 0, 0, 0, 0, 0, 0, 0, 0, 0, 0, 0, 0, 0, 0, 0, 0, 0, 0, 0, 0, 0, 0, 0, 0, 0, 0, 0, 1, 0, 0, 0, 0, 0, 0, 0, 0, 0, 0, 0, 0, 0, 0, 0, 0, 0, 0, 0, 0, 0, 0, 0, 0, 0, 0, 0, 0, 0, 0, 0, 0, 0, 0, 0, 0, 0, 0, 0, 0, 0, 0, 0, 0, 0, 0, 0, 0, 0, 0, 0, 0, 0, 0, 0, 1, 0, 0, 0, 0, 0, 0, 0, 0, 0, 0, 0, 0, 0, 0, 0, 0, 0, 0, 0, 0, 0, 0, 0, 0, 0, 0, 0, 0, 0, 0, 0, 0, 0, 0, 0, 0, 0, 0, 0, 0, 0, 0, 0, 0, 0, 0, 0, 0, 0, 0, 0, 0, 0, 0, 0, 0, 0, 0, 0, 0, 0, 0, 0, 0, 0, 0, 0, 0, 0, 0, 0, 0, 0, 0, 0, 0, 0, 0, 0, 0, 0, 0, 0, 0, 0, 0, 0, 0, 0, 0, 0, 0, 0, 0, 0, 0, 0, 0, 0, 0, 0, 0, 0, 0, 0, 0, 0, 0, 0, 0, 0, 0, 0, 0, 0, 0, 0, 0, 0, 0, 0, 0, 0, 0, 0, 0, 0, 0, 0, 0, 0, 0, 0, 0, 0, 0, 0, 0, 0, 0, 0, 0, 0, 0, 0, 0, 0, 0, 0, 0, 0, 0, 0, 0, 0, 0, 0, 0, 0, 0, 0, 0, 0, 0, 0, 0, 0, 0, 0, 0, 0, 0, 0, 0, 0, 0, 0, 0, 0, 0, 0, 0, 0, 0, 0, 0, 0, 0, 0, 0, 0, 0, 0, 0, 0, 0, 0, 0, 0, 0, 0, 0, 0, 0, 0, 0, 0, 0, 0, 0, 0, 0, 0, 0, 0, 0, 0, 0, 0, 0, 0, 0, 0, 0, 0, 0, 0, 0, 0, 0, 0, 0, 0, 0, 0, 0, 0, 0, 0, 0, 0, 0, 0, 0, 0, 0, 0, 0, 0, 0, 0, 0, 0, 0, 0, 0, 0, 0, 0, 0, 0, 0, 0, 0, 0, 0, 0, 0, 0, 0, 0, 0, 0, 0, 0, 0, 0, 0, 0, 0, 0, 0, 0, 0, 0, 0, 0, 0, 0, 0, 0, 0, 0, 0, 0, 0, 0, 0, 0, 0, 0, 0, 0, 0, 0, 0, 0, 0, 0, 0, 0, 0, 0, 0, 0, 0, 0, 0, 0, 0, 0, 0, 0, 0, 0, 0, 0, 0, 0, 0, 0, 0, 0, 0, 0, 0, 0, 0, 0, 0, 0, 0, 0, 0, 0, 0, 0, 0, 0, 0, 0, 0, 0, 0, 0, 0, 0, 0, 0, 0, 0, 0, 0, 0, 0, 0, 0, 0, 0, 0, 0, 0, 0, 0, 0, 0, 0, 0, 0, 0, 0, 0, 0, 0, 0, 0, 0, 0, 0, 0, 0, 0, 0, 0, 0, 0, 0, 0, 0, 0, 0, 0, 0, 0, 0, 0, 0, 0, 0, 0, 0, 0, 0, 0, 0, 0, 0, 0, 0, 0, 0, 0, 0, 0, 0, 0, 0, 0, 0, 0, 0, 0, 0, 0, 0, 0, 0, 0, 0, 0, 0, 0, 0, 0, 0, 0, 0, 0, 0, 0, 0, 0, 0, 0, 0, 0, 0, 0, 0, 0, 0, 0, 0, 0, 0, 0, 0, 0, 0, 0, 0, 0, 0, 0, 0, 0, 0, 0, 0, 0, 0, 0, 0, 0, 0, 0, 0, 0, 0, 0, 0, 0, 0, 0, 0, 0, 0, 0, 0, 0, 0, 0, 0, 0, 0, 0, 0, 0, 0, 0, 0, 0, 0, 0, 0, 0, 0, 0, 0, 0, 0, 0, 0, 0, 0, 0, 0, 0, 0, 0, 0, 0, 0, 0, 0, 0, 0, 0, 0, 0, 0, 0, 0, 0, 0, 0, 0, 0, 0, 0, 0, 0, 0, 0, 0, 0, 0, 0, 0, 0, 0, 0, 0, 0, 0, 0, 0, 0, 0, 0, 0, 0, 0, 0, 0, 0, 0, 0, 0, 0, 0, 0, 0, 0, 0, 0, 0, 0, 0, 0, 0, 0, 0, 0, 0, 0, 0, 0, 0, 0, 0, 0, 0, 0, 0, 0, 0, 0, 0, 0, 0, 0, 0, 0, 0, 0, 0, 0, 0, 0, 0, 0, 0, 0, 0, 0, 0, 0, 0, 0, 0, 0, 0, 0, 0, 0, 0, 0, 0, 0, 0, 0, 0, 0, 0, 0, 0, 0, 0, 0, 0, 0, 0, 0, 0, 0, 0, 0, 0, 0, 0, 0, 0, 0, 0, 0, 0, 0, 0, 0, 0, 0, 0, 0, 0, 0, 0, 0, 0, 0, 0, 1, 0, 0, 0, 0, 0, 0, 0, 0, 0, 0, 0, 0, 0, 0, 0, 0, 0, 0, 0, 0, 0, 0, 0, 0, 0, 0, 0, 0, 0, 0, 0, 0, 0, 0, 0, 0, 0, 0, 0, 0, 0, 0, 0, 0, 0, 0, 0, 0, 0, 0, 0, 0, 0, 0, 0, 0, 0, 0, 0, 0, 0, 0, 0, 0, 0, 0, 0, 0, 0, 0, 0, 0, 0, 0, 1, 0, 0, 0, 0, 0, 0, 0, 0, 0, 0, 0, 0, 0, 0, 0, 0, 0, 0, 0, 0, 1, 0, 0, 1, 0, 0, 0, 0, 0, 0, 0, 0, 0, 0, 0, 0, 0, 0, 0, 0, 0, 0, 0, 0, 0, 0, 0, 0, 0, 0, 0, 0, 0, 0, 0, 0, 0, 0, 0, 0, 0, 0, 0, 0, 0, 0, 0, 0, 0, 0, 0, 0, 0, 0, 0, 0, 0, 0, 0, 0, 0, 0, 0, 0, 0, 0, 0, 0, 0, 0, 0, 0, 0, 0, 0, 0, 0, 0, 0, 0, 0, 0, 0, 0, 0, 0, 0, 0, 0, 0, 0, 0, 0, 0, 0, 0, 0, 0, 0, 0, 0, 0, 0, 0, 0, 0, 0, 0, 0, 0, 0, 0, 0, 0, 0, 0, 0, 0, 0, 0, 0, 0, 0, 0, 0, 0, 0, 0, 0, 0, 0, 0, 0, 0, 0, 0, 0, 0, 0, 0, 0, 0, 0, 0, 0, 0, 0, 0, 0, 0, 0, 0, 0, 0, 0, 0, 0, 0, 0, 0, 0, 0, 0, 0, 0, 0, 0, 0, 0, 0, 0, 0, 0, 0, 0, 0, 0, 0, 0, 0, 0, 0, 0, 0, 0, 0, 0, 0, 0, 0, 0, 0, 0, 0, 0, 0, 0, 0, 0, 0, 0, 0, 0, 0, 0, 0, 0, 0, 0, 0, 0, 0, 0, 0, 0, 0, 0, 0, 0, 0, 0, 0, 0, 0, 0, 0, 0, 0, 0, 0, 0, 0, 0, 0, 0, 0, 0, 0, 0, 0, 0, 0, 0, 0, 0, 0, 0, 0, 0, 0, 0, 0, 0, 0, 0, 0, 0, 0, 0, 0, 0, 0, 0, 0, 0, 0, 0, 0, 0, 0, 0, 0, 0, 0, 0, 0, 0, 0, 0, 0, 0, 0, 0, 0, 0, 0, 0, 0, 0, 0, 0, 0, 0, 0, 0, 0, 0, 0, 0, 0, 0, 0, 0, 0, 0, 0, 0, 0, 0, 0, 0, 0, 0, 0, 0, 0, 0, 0, 0, 0, 0, 0, 0, 0, 0, 0, 0, 0, 0, 0, 0, 0, 0, 0, 0, 0, 0, 0, 0, 0, 0, 0, 0, 0, 0, 0, 0, 0, 0, 0, 0, 0, 0, 0, 0, 0, 0, 0, 0, 0, 0, 0, 0, 0, 0, 0, 0, 0, 0, 0, 0, 0, 0, 0, 0, 0, 0, 0, 0, 0, 0, 0, 0, 0, 0, 0, 0, 0, 0, 0, 0, 0, 0, 0, 0, 0, 0, 0, 0, 0, 0, 0, 0, 0, 0, 0, 0, 0, 0, 0, 0, 0, 0, 0, 0, 0, 0, 0, 0, 0, 0, 0, 0, 0, 0, 0, 0, 0, 0, 0, 0, 0, 0, 0, 0, 0, 0, 0, 0, 0, 0, 0, 0, 0, 0, 0, 0, 0, 0, 0, 0, 0, 0, 0, 0, 0, 0, 0, 0, 0, 0, 0, 0, 0, 0, 0, 0, 0, 0, 0, 1, 0, 0, 0, 0, 0, 0, 0, 0, 0, 0, 0, 0, 0, 0, 0, 0, 0, 0, 0, 0, 0, 0, 0, 0, 0, 0, 0, 0, 0, 0, 0, 0, 0, 0, 0, 0, 0, 0, 0, 0, 0, 0, 0, 0, 0, 0, 0, 0, 0, 0, 0, 0, 0, 0, 0, 0, 0, 0, 0, 0, 0, 0, 0, 0, 0, 0, 0, 0, 0, 0, 0, 0, 0, 0, 0, 0, 0, 0, 0, 0, 0, 0, 0, 0, 0, 0, 0, 0, 0, 0, 0, 0, 0, 0, 0, 0, 0, 0, 0, 0, 0, 0, 0, 0, 0, 0, 0, 0, 0, 0, 0, 0, 0, 0, 0, 0, 0, 0, 0, 0, 0, 0, 0, 0, 0, 0, 0, 0, 0, 0, 0, 0, 0, 0, 0, 0, 0, 0, 0, 0, 0, 0, 0, 0, 0, 0, 0, 0, 0, 0, 0, 0, 0, 0, 0, 0, 0, 0, 0, 0, 0, 0, 0, 0, 0, 0, 0, 0, 0, 0, 0, 0, 0, 0, 0, 0, 0, 0, 0, 0, 0, 0, 0, 0, 0, 0, 0, 0, 0, 0, 0, 0, 0, 0, 0, 0, 0, 0, 0, 0, 0, 0, 0, 0, 0, 0, 0, 0, 0, 0, 0, 0, 0, 0, 0, 0, 0, 0, 0, 0, 0, 0, 0, 0, 0, 0, 0, 0, 0, 0, 0, 0, 0, 0, 0, 0, 0, 0, 0, 0, 0, 0, 0, 0, 0, 0, 0, 0, 0, 0, 0, 0, 0, 0, 0, 0, 0, 0, 0, 0, 0, 0, 0, 0, 0, 0, 0, 0, 0, 0, 0, 0, 0, 0, 0, 0, 0, 0, 0, 0, 0, 0, 0, 0, 0, 0, 0, 0, 0, 0, 0, 0, 0, 0, 0, 0, 0, 0, 0, 0, 0, 0, 0, 0, 0, 0, 0, 0, 0, 0, 0, 0, 0, 0, 0, 0, 0, 0, 0, 0, 0, 0, 0, 0, 0, 0, 0, 0, 0, 0, 0, 0, 0, 0, 0, 0, 0, 0, 0, 0, 0, 0, 0, 0, 0, 0, 0, 0, 0, 0, 0, 0, 0, 0, 0, 0, 0, 0, 0, 0, 0, 0, 0, 0, 0, 0, 0, 0, 0, 0, 0, 0, 0, 0, 0, 0, 0, 0, 0, 0, 0, 0, 0, 0, 0, 0, 0, 0, 0, 0, 0, 0, 0, 0, 0, 0, 0, 0, 0, 0, 0, 0, 0, 0, 0, 0, 0, 0, 0, 0, 0, 0, 0, 0, 0, 0, 0, 0, 0, 0, 0, 0, 0, 0, 0, 0, 0, 0, 0, 0, 0, 0, 0, 0, 0, 0, 0, 0, 0, 0, 0, 0, 0, 0, 0, 0, 0, 0, 0, 0, 0, 0, 0, 0, 0, 0, 0, 0, 0, 0, 0, 0, 0, 0, 0, 0, 0, 0, 0, 0, 0, 0, 0, 0, 0, 0, 0, 0, 0, 0, 0, 0, 0, 0, 0, 0, 0, 0, 0, 0, 0, 0, 0, 0, 0, 0, 0, 0, 0, 0, 0, 0, 0, 0, 0, 0, 0, 0, 0, 0, 0, 0, 1, 0, 0, 0, 0, 0, 0, 0, 0, 0, 0, 0, 0, 0, 0, 0, 0, 0, 0, 0, 0, 0, 0, 0, 0, 0, 0, 0, 0, 0, 0, 0, 0, 0, 0, 0, 2, 0, 0, 0, 0, 0, 0, 0, 0, 0, 0, 0, 0, 0, 0, 0, 0, 0, 0, 0, 0, 0, 0, 0, 0, 0, 0, 0, 0, 0, 0, 0, 0, 0, 0, 0, 0, 0, 0, 0, 0, 1, 0, 0, 0, 0, 0, 0, 0, 0, 0, 0, 0, 0, 0, 0, 0, 0, 0, 0, 0, 0, 0, 0, 0, 0, 0, 0, 0, 0, 0, 0, 0, 0, 0, 0, 0, 0, 0, 0, 0, 0, 0, 0, 0, 0, 0, 0, 0, 0, 0, 0, 0, 0, 0, 0, 0, 0, 0, 0, 0, 0, 0, 0, 0, 0, 0, 0, 0, 0, 0, 0, 0, 0, 0, 0, 0, 0, 0, 0, 0, 0, 0, 0, 0, 0, 0, 0, 0, 0, 0, 0, 0, 0, 0, 0, 0, 0, 0, 0, 0, 0, 0, 0, 0, 0, 0, 0, 0, 0, 0, 0, 0, 0, 0, 0, 0, 0, 0, 0, 0, 0, 0, 0, 0, 0, 0, 0, 0, 0, 0, 0, 0, 0, 0, 0, 0, 0, 0, 0, 0, 0, 0, 0, 0, 0, 0, 0, 0, 0, 0, 0, 0, 0, 0, 0, 0, 0, 0, 0, 0, 0, 0, 0, 0, 0, 0, 0, 0, 0, 0, 0, 0, 0, 0, 0, 0, 0, 0, 0, 0, 0, 0, 0, 0, 0, 0, 0, 0, 0, 0, 0, 0, 0, 0, 0, 0, 0, 0, 0, 0, 0, 0, 0, 0, 0, 0, 0, 0, 0, 0, 0, 0, 0, 0, 0, 0, 0, 0, 0, 0, 0, 0, 0, 0, 0, 0, 0, 0, 0, 0, 0, 0, 0, 0, 0, 0, 0, 0, 0, 0, 0, 0, 0, 0, 0, 0, 0, 0, 0, 0, 0, 0, 0, 0, 0, 0, 0, 0, 0, 0, 0, 0, 0, 0, 0, 0, 0, 0, 0, 0, 0, 0, 0, 0, 0, 0, 0, 0, 0, 0, 0, 0, 0, 0, 0, 0, 0, 0, 0, 0, 0, 0, 0, 0, 0, 0, 0, 0, 0, 0, 0, 0, 0, 0, 0, 0, 0, 0, 0, 0, 0, 0, 0, 0, 0, 0, 0, 0, 0, 0, 0, 0, 0, 0, 0, 0, 0, 0, 0, 0, 0, 0, 0, 0, 0, 0, 0, 0, 0, 0, 0, 0, 0, 0, 0, 0, 0, 0, 0, 0, 0, 0, 0, 0, 0, 0, 0, 0, 0, 0, 0, 0, 0, 0, 0, 0, 0, 0, 0, 0, 0, 0, 0, 0, 0, 0, 0, 0, 0, 0, 0, 0, 0, 0, 0, 0, 0, 0, 0, 0, 0, 0, 0, 0, 0, 0, 0, 0, 0, 0, 0, 0, 0, 0, 0, 0, 0, 0, 0, 0, 0, 0, 0, 0, 0, 0, 0, 0, 0, 0, 0, 0, 0, 0, 0, 0, 0, 0, 0, 0, 0, 0, 0, 0, 0, 0, 0, 0, 0, 0, 0, 0, 0, 0, 0, 0, 0, 0, 0, 0, 0, 0, 0, 0, 0, 0, 0, 0, 0, 0, 0, 0, 0, 0, 0, 0, 0, 0, 0, 0, 0, 0, 0, 0, 0, 0, 0, 0, 0, 0, 0, 0, 0, 0, 0, 0, 0, 0, 0, 0, 0, 0, 0, 0, 0, 0, 0, 0, 1, 0, 0, 0, 0, 0, 0, 0, 0, 0, 0, 0, 0, 0, 0, 0, 0, 0, 0, 0, 0, 0, 0, 0, 0, 0, 0, 0, 0, 0, 0, 0, 0, 0, 0, 0, 0, 0, 0, 0, 0, 0, 0, 0, 0, 0, 0, 0, 0, 0, 0, 0, 0, 0, 0, 0, 0, 0, 0, 0, 0, 0, 0, 0, 0, 0, 0, 0, 0, 0, 0, 0, 0, 0, 0, 0, 0, 0, 0, 0, 0, 0, 0, 0, 0, 0, 0, 0, 0, 0, 0, 0, 0, 0, 0, 0, 0, 0, 0, 0, 0, 0, 0, 0, 0, 0, 0, 0, 0, 0, 0, 2, 0, 0, 0, 0, 0, 0, 0, 0, 0, 0, 0, 0, 0, 0, 0, 0, 0, 0, 0, 0, 0, 0, 0, 0, 0, 0, 0, 0, 0, 0, 0, 0, 0, 0, 0, 0, 0, 0, 0, 0, 0, 0, 0, 0, 0, 0, 0, 0, 0, 0, 0, 0, 0, 0, 0, 0, 0, 0, 0, 0, 0, 0, 0, 0, 0, 0, 0, 0, 0, 0, 0, 0, 0, 0, 0, 0, 0, 0, 0, 0, 0, 0, 0, 0, 0, 0, 0, 0, 0, 0, 0, 0, 0, 0, 0, 0, 0, 0, 0, 0, 0, 0, 0, 0, 0, 0, 0, 0, 0, 0, 0, 0, 0, 0, 0, 0, 0, 0, 0, 0, 0, 0, 0, 0, 0, 0, 0, 0, 0, 0, 0, 0, 0, 0, 0, 0, 0, 0, 0, 0, 0, 0, 0, 0, 0, 0, 0, 0, 0, 0, 0, 0, 0, 0, 0, 0, 0, 0, 0, 0, 0, 0, 0, 0, 0, 0, 0, 0, 0, 0, 0, 0, 0, 0, 0, 0, 0, 0, 0, 0, 0, 0, 0, 0, 0, 0, 0, 0, 0, 0, 0, 0, 0, 0, 0, 0, 0, 0, 0, 0, 0, 0, 0, 0, 0, 0, 0, 0, 0, 0, 0, 0, 0, 0, 0, 0, 0, 0, 0, 0, 0, 0, 0, 0, 0, 0, 0, 0, 0, 0, 0, 0, 0, 0, 0, 0, 0, 0, 0, 0, 0, 0, 0, 0, 0, 0, 0, 0, 0, 0, 0, 0, 0, 0, 0, 0, 0, 0, 0, 0, 0, 0, 0, 0, 0, 0, 0, 0, 0, 0, 0, 0, 0, 0, 0, 0, 0, 0, 0, 0, 0, 0, 0, 0, 0, 0, 0, 0, 0, 0, 0, 0, 0, 0, 0, 0, 0, 0, 0, 0, 0, 0, 0, 0, 0, 0, 0, 0, 0, 0, 0, 0, 0, 0, 0, 0, 0, 0, 0, 0, 0, 0, 0, 0, 0, 0, 0, 0, 0, 0, 0, 0, 0, 0, 0, 0, 0, 0, 0, 0, 0, 0, 0, 0, 0, 0, 0, 0, 0, 0, 0, 0, 0, 0, 0, 0, 0, 0, 0, 0, 0, 0, 0, 0, 0, 0, 0, 0, 0, 0, 0, 0, 0, 0, 0, 0, 0, 0, 0, 0, 0, 0, 0, 0, 0, 0, 0, 0, 0, 0, 0, 0, 0, 0, 0, 0, 0, 0, 0, 0, 0, 0, 0, 0, 0, 0, 0, 0, 0, 0, 0, 0, 0, 0, 0, 0, 0, 0, 0, 0, 0, 0, 0, 0, 0, 0, 0, 0, 0, 0, 0, 0, 0, 0, 0, 0, 0, 0, 0, 0, 0, 0, 0, 0, 0, 0, 0, 0, 0, 0, 0, 0, 0, 0, 0, 0, 0, 0, 0, 0, 0, 0, 0, 0, 0, 0, 0, 0, 0, 0, 0, 0, 0, 0, 0, 0, 0, 0, 0, 0, 0, 0, 0, 0, 0, 0, 0, 0, 0, 0, 0, 0, 0, 0, 0, 0, 0, 0, 0, 0, 0, 0, 0, 0, 0, 0, 0, 0, 0, 0, 0, 0, 0, 0, 0, 0, 0, 0, 0, 0, 0, 0, 0, 0, 0, 0, 0, 0, 0, 0, 0, 0, 0, 0, 0, 0, 0, 0, 0, 0, 0, 0, 0, 0, 0, 0, 0, 0, 0, 0, 0, 0, 0, 0, 0, 0, 0, 0, 0, 0, 0, 0, 0, 0, 0, 0, 0, 0, 0, 0, 0, 0, 0, 0, 0, 0, 0, 0, 0, 0, 0, 0, 0, 0, 0, 0, 0, 0, 0, 0, 0, 0, 0, 0, 0, 0, 0, 0, 0, 0, 0, 0, 0, 0, 0, 0, 0, 0, 0, 0, 0, 0, 0, 0, 0, 0, 0, 0, 0, 0, 0, 0, 0, 0, 0, 0, 0, 0, 0, 0, 0, 0, 0, 0, 0, 0, 0, 0, 0, 0, 0, 0, 0, 0, 0, 0, 0, 0, 0, 0, 0, 0, 0, 0, 0, 0, 0, 0, 0, 0, 0, 0, 0, 0, 0, 0, 0, 0, 0, 0, 0, 0, 0, 0, 0, 0, 0, 0, 0, 0, 0, 0, 0, 0, 0, 0, 0, 0, 0, 0, 1, 0, 0, 0, 0, 0, 0, 0, 0, 0, 0, 0, 0, 0, 0, 0, 0, 0, 0, 0, 0, 0, 0, 0, 0, 0, 0, 0, 0, 0, 0, 0, 0, 0, 0, 0, 0, 0, 0, 0, 0, 0, 0, 0, 0, 0, 0, 0, 0, 0, 0, 0, 0, 0, 0, 0, 0, 0, 0, 0, 0, 0, 0, 0, 0, 0, 0, 0, 0, 0, 0, 0, 0, 0, 0, 0, 0, 0, 0, 0, 0, 0, 0, 0, 0, 0, 0, 0, 0, 0, 0, 0, 0, 0, 0, 0, 0, 0, 0, 0, 0, 0, 0, 0, 0, 0, 0, 0, 1, 0, 0, 0, 0, 0, 0, 0, 0, 0, 0, 0, 0, 0, 0, 0, 0, 0, 0, 0, 0, 0, 0, 0, 0, 0, 0, 0, 0, 0, 0, 0, 0, 0, 0, 0, 0, 0, 0, 0, 0, 0, 0, 0, 0, 0, 0, 0, 0, 0, 0, 0, 0, 0, 0, 0, 0, 0, 0, 0, 0, 0, 0, 0, 0, 0, 0, 0, 0, 0, 0, 0, 0, 0, 0, 0, 0, 0, 0, 0, 0, 0, 0, 0, 0, 0, 0, 0, 0, 0, 0, 0, 0, 0, 0, 0, 0, 0, 0, 0, 0, 0, 0, 0, 0, 0, 0, 0, 0, 0, 0, 0, 0, 0, 0, 0, 0, 0, 0, 0, 0, 0, 0, 0, 0, 0, 0, 0, 0, 0, 0, 0, 0, 0, 0, 0, 0, 0, 0, 0, 0, 0, 0, 0, 0, 0, 0, 0, 0, 0, 0, 0, 0, 0, 0, 0, 0, 0, 0, 0, 0, 0, 0, 0, 0, 0, 0, 0, 0, 0, 0, 0, 0, 0, 0, 0, 0, 0, 0, 0, 0, 0, 0, 0, 0, 0, 0, 0, 0, 0, 0, 0, 0, 0, 0, 0, 0, 0, 0, 0, 0, 0, 0, 0, 0, 0, 0, 0, 0, 0, 0, 0, 0, 0, 0, 0, 0, 0, 0, 0, 0, 0, 0, 0, 0, 0, 0, 0, 0, 0, 0, 0, 0, 0, 0, 0, 0, 0, 0, 0, 0, 0, 0, 0, 0, 0, 0, 0, 0, 0, 0, 0, 0, 0, 0, 0, 0, 0, 0, 0, 0, 0, 0, 0, 0, 0, 0, 0, 0, 0, 0, 0, 0, 0, 0, 0, 0, 0, 0, 0, 0, 0, 0, 0, 0, 0, 0, 0, 0, 0, 0, 0, 0, 0, 0, 0, 0, 0, 0, 0, 0, 0, 0, 0, 0, 0, 0, 0, 0, 0, 0, 0, 0, 0, 0, 0, 0, 0, 0, 0, 0, 0, 0, 0, 0, 0, 0, 0, 0, 0, 0, 0, 0, 0, 0, 0, 0, 0, 0, 0, 0, 0, 0, 0, 0, 0, 0, 0, 0, 0, 0, 0, 0, 0, 0, 0, 0, 0, 0, 0, 0, 0, 0, 0, 0, 0, 0, 0, 0, 0, 0, 0, 0, 0, 0, 0, 0, 0, 0, 0, 0, 0, 0, 0, 0, 0, 0, 0, 0, 0, 0, 0, 0, 0, 0, 0, 0, 0, 0, 0, 0, 0, 0, 0, 0, 0, 0, 0, 0, 0, 0, 0, 0, 0, 0, 0, 0, 0, 0, 0, 0, 0, 0, 0, 0, 0, 0, 0, 0, 0, 0, 0, 0, 0, 0, 0, 0, 0, 0, 0, 0, 0, 0, 0, 0, 0, 0, 0, 0, 0, 0, 0, 0, 0, 0, 0, 0, 0, 0, 0, 0, 0, 0, 0, 2, 0, 1, 0], type: <class 'list'>, valid types: <class 'bytes'>, <class 'bytearray'>, file-like object",
     "output_type": "error",
     "traceback": [
      "\u001b[0;31m---------------------------------------------------------------------------\u001b[0m",
      "\u001b[0;31mParamValidationError\u001b[0m                      Traceback (most recent call last)",
      "\u001b[0;32m<ipython-input-44-c9ab54ae3a48>\u001b[0m in \u001b[0;36m<module>\u001b[0;34m()\u001b[0m\n\u001b[1;32m      1\u001b[0m response = runtime.invoke_endpoint(EndpointName = xgb_predictor.endpoint, # The name of the endpoint we created\n\u001b[1;32m      2\u001b[0m                                        \u001b[0mContentType\u001b[0m \u001b[0;34m=\u001b[0m \u001b[0;34m'text/csv'\u001b[0m\u001b[0;34m,\u001b[0m                     \u001b[0;31m# The data format that is expected\u001b[0m\u001b[0;34m\u001b[0m\u001b[0m\n\u001b[0;32m----> 3\u001b[0;31m                                        Body = test_bow)\n\u001b[0m",
      "\u001b[0;32m~/anaconda3/envs/python3/lib/python3.6/site-packages/botocore/client.py\u001b[0m in \u001b[0;36m_api_call\u001b[0;34m(self, *args, **kwargs)\u001b[0m\n\u001b[1;32m    274\u001b[0m                     \"%s() only accepts keyword arguments.\" % py_operation_name)\n\u001b[1;32m    275\u001b[0m             \u001b[0;31m# The \"self\" in this scope is referring to the BaseClient.\u001b[0m\u001b[0;34m\u001b[0m\u001b[0;34m\u001b[0m\u001b[0m\n\u001b[0;32m--> 276\u001b[0;31m             \u001b[0;32mreturn\u001b[0m \u001b[0mself\u001b[0m\u001b[0;34m.\u001b[0m\u001b[0m_make_api_call\u001b[0m\u001b[0;34m(\u001b[0m\u001b[0moperation_name\u001b[0m\u001b[0;34m,\u001b[0m \u001b[0mkwargs\u001b[0m\u001b[0;34m)\u001b[0m\u001b[0;34m\u001b[0m\u001b[0m\n\u001b[0m\u001b[1;32m    277\u001b[0m \u001b[0;34m\u001b[0m\u001b[0m\n\u001b[1;32m    278\u001b[0m         \u001b[0m_api_call\u001b[0m\u001b[0;34m.\u001b[0m\u001b[0m__name__\u001b[0m \u001b[0;34m=\u001b[0m \u001b[0mstr\u001b[0m\u001b[0;34m(\u001b[0m\u001b[0mpy_operation_name\u001b[0m\u001b[0;34m)\u001b[0m\u001b[0;34m\u001b[0m\u001b[0m\n",
      "\u001b[0;32m~/anaconda3/envs/python3/lib/python3.6/site-packages/botocore/client.py\u001b[0m in \u001b[0;36m_make_api_call\u001b[0;34m(self, operation_name, api_params)\u001b[0m\n\u001b[1;32m    557\u001b[0m         }\n\u001b[1;32m    558\u001b[0m         request_dict = self._convert_to_request_dict(\n\u001b[0;32m--> 559\u001b[0;31m             api_params, operation_model, context=request_context)\n\u001b[0m\u001b[1;32m    560\u001b[0m \u001b[0;34m\u001b[0m\u001b[0m\n\u001b[1;32m    561\u001b[0m         \u001b[0mservice_id\u001b[0m \u001b[0;34m=\u001b[0m \u001b[0mself\u001b[0m\u001b[0;34m.\u001b[0m\u001b[0m_service_model\u001b[0m\u001b[0;34m.\u001b[0m\u001b[0mservice_id\u001b[0m\u001b[0;34m.\u001b[0m\u001b[0mhyphenize\u001b[0m\u001b[0;34m(\u001b[0m\u001b[0;34m)\u001b[0m\u001b[0;34m\u001b[0m\u001b[0m\n",
      "\u001b[0;32m~/anaconda3/envs/python3/lib/python3.6/site-packages/botocore/client.py\u001b[0m in \u001b[0;36m_convert_to_request_dict\u001b[0;34m(self, api_params, operation_model, context)\u001b[0m\n\u001b[1;32m    605\u001b[0m             api_params, operation_model, context)\n\u001b[1;32m    606\u001b[0m         request_dict = self._serializer.serialize_to_request(\n\u001b[0;32m--> 607\u001b[0;31m             api_params, operation_model)\n\u001b[0m\u001b[1;32m    608\u001b[0m         \u001b[0;32mif\u001b[0m \u001b[0;32mnot\u001b[0m \u001b[0mself\u001b[0m\u001b[0;34m.\u001b[0m\u001b[0m_client_config\u001b[0m\u001b[0;34m.\u001b[0m\u001b[0minject_host_prefix\u001b[0m\u001b[0;34m:\u001b[0m\u001b[0;34m\u001b[0m\u001b[0m\n\u001b[1;32m    609\u001b[0m             \u001b[0mrequest_dict\u001b[0m\u001b[0;34m.\u001b[0m\u001b[0mpop\u001b[0m\u001b[0;34m(\u001b[0m\u001b[0;34m'host_prefix'\u001b[0m\u001b[0;34m,\u001b[0m \u001b[0;32mNone\u001b[0m\u001b[0;34m)\u001b[0m\u001b[0;34m\u001b[0m\u001b[0m\n",
      "\u001b[0;32m~/anaconda3/envs/python3/lib/python3.6/site-packages/botocore/validate.py\u001b[0m in \u001b[0;36mserialize_to_request\u001b[0;34m(self, parameters, operation_model)\u001b[0m\n\u001b[1;32m    295\u001b[0m                                                     operation_model.input_shape)\n\u001b[1;32m    296\u001b[0m             \u001b[0;32mif\u001b[0m \u001b[0mreport\u001b[0m\u001b[0;34m.\u001b[0m\u001b[0mhas_errors\u001b[0m\u001b[0;34m(\u001b[0m\u001b[0;34m)\u001b[0m\u001b[0;34m:\u001b[0m\u001b[0;34m\u001b[0m\u001b[0m\n\u001b[0;32m--> 297\u001b[0;31m                 \u001b[0;32mraise\u001b[0m \u001b[0mParamValidationError\u001b[0m\u001b[0;34m(\u001b[0m\u001b[0mreport\u001b[0m\u001b[0;34m=\u001b[0m\u001b[0mreport\u001b[0m\u001b[0;34m.\u001b[0m\u001b[0mgenerate_report\u001b[0m\u001b[0;34m(\u001b[0m\u001b[0;34m)\u001b[0m\u001b[0;34m)\u001b[0m\u001b[0;34m\u001b[0m\u001b[0m\n\u001b[0m\u001b[1;32m    298\u001b[0m         return self._serializer.serialize_to_request(parameters,\n\u001b[1;32m    299\u001b[0m                                                      operation_model)\n",
      "\u001b[0;31mParamValidationError\u001b[0m: Parameter validation failed:\nInvalid type for parameter Body, value: [0, 0, 0, 0, 0, 0, 0, 0, 0, 0, 0, 0, 0, 0, 0, 0, 0, 0, 0, 0, 0, 0, 0, 0, 0, 0, 0, 0, 0, 0, 0, 0, 0, 0, 0, 0, 0, 0, 0, 0, 0, 0, 0, 0, 0, 0, 0, 0, 0, 0, 0, 0, 0, 0, 0, 0, 0, 0, 0, 0, 0, 0, 0, 0, 0, 0, 0, 0, 0, 0, 0, 0, 0, 0, 0, 0, 0, 0, 0, 0, 0, 0, 0, 0, 0, 0, 0, 0, 0, 0, 0, 0, 0, 0, 0, 0, 0, 0, 0, 0, 0, 0, 0, 0, 0, 0, 0, 0, 0, 0, 0, 0, 0, 0, 0, 0, 0, 0, 0, 0, 0, 0, 0, 0, 0, 0, 0, 0, 0, 0, 0, 0, 0, 0, 0, 0, 0, 0, 0, 0, 0, 0, 0, 0, 0, 0, 0, 0, 0, 0, 0, 0, 0, 0, 0, 0, 0, 0, 0, 0, 0, 0, 0, 0, 0, 0, 0, 0, 0, 0, 0, 0, 0, 0, 0, 0, 0, 0, 0, 0, 0, 0, 0, 0, 0, 0, 0, 0, 0, 0, 0, 0, 0, 0, 0, 0, 0, 0, 0, 0, 0, 0, 0, 0, 0, 0, 0, 0, 0, 0, 0, 0, 0, 0, 0, 0, 0, 0, 0, 0, 0, 0, 0, 0, 0, 0, 1, 0, 0, 0, 0, 0, 0, 0, 0, 0, 0, 0, 0, 0, 0, 0, 0, 0, 0, 0, 0, 0, 0, 0, 0, 0, 0, 0, 0, 0, 1, 0, 0, 0, 0, 0, 0, 0, 0, 0, 0, 0, 0, 0, 0, 0, 0, 0, 0, 0, 0, 0, 0, 0, 0, 0, 0, 0, 0, 0, 0, 0, 0, 0, 0, 0, 0, 0, 0, 0, 0, 0, 0, 0, 0, 0, 0, 0, 0, 0, 0, 0, 0, 0, 0, 0, 0, 0, 0, 0, 0, 0, 0, 0, 0, 0, 0, 0, 0, 0, 0, 0, 0, 0, 0, 0, 0, 0, 0, 0, 0, 0, 0, 0, 0, 0, 0, 0, 0, 0, 0, 0, 0, 0, 0, 0, 0, 0, 0, 0, 0, 0, 0, 0, 0, 0, 0, 0, 0, 0, 0, 0, 0, 0, 0, 0, 0, 0, 0, 0, 0, 0, 0, 0, 0, 0, 0, 0, 0, 0, 0, 0, 0, 0, 0, 0, 0, 0, 0, 0, 0, 0, 0, 0, 0, 0, 0, 0, 0, 0, 0, 0, 0, 0, 0, 0, 0, 0, 0, 0, 0, 0, 0, 0, 0, 0, 0, 0, 0, 0, 0, 0, 0, 0, 0, 0, 0, 0, 0, 0, 0, 0, 0, 0, 0, 0, 0, 0, 0, 0, 0, 0, 0, 0, 0, 0, 0, 0, 0, 0, 0, 0, 0, 0, 0, 0, 0, 0, 0, 0, 0, 0, 0, 0, 0, 0, 0, 0, 0, 0, 0, 0, 0, 0, 0, 0, 0, 0, 0, 0, 0, 0, 0, 0, 0, 0, 0, 0, 0, 0, 0, 0, 0, 0, 0, 0, 0, 0, 0, 0, 0, 0, 0, 0, 0, 0, 0, 0, 0, 0, 0, 0, 0, 0, 0, 0, 0, 0, 0, 0, 0, 0, 0, 0, 0, 0, 0, 0, 0, 0, 0, 0, 0, 0, 0, 0, 0, 0, 0, 0, 0, 0, 0, 0, 0, 0, 0, 0, 0, 0, 0, 0, 0, 0, 0, 0, 0, 0, 0, 0, 0, 0, 0, 0, 0, 0, 0, 0, 0, 0, 0, 0, 0, 0, 0, 0, 0, 0, 0, 0, 0, 0, 0, 0, 0, 0, 0, 0, 0, 0, 0, 0, 0, 0, 0, 0, 0, 0, 0, 0, 0, 0, 0, 0, 0, 0, 0, 0, 0, 0, 0, 0, 0, 0, 0, 0, 0, 0, 0, 0, 0, 0, 0, 0, 0, 0, 0, 0, 0, 0, 1, 0, 0, 0, 0, 0, 0, 0, 0, 0, 0, 0, 0, 0, 0, 0, 0, 0, 0, 0, 0, 0, 0, 0, 0, 0, 0, 0, 0, 0, 0, 0, 0, 0, 0, 0, 0, 0, 0, 0, 0, 0, 0, 0, 0, 0, 0, 0, 0, 0, 0, 0, 0, 0, 0, 0, 0, 0, 0, 0, 0, 0, 0, 0, 0, 0, 0, 0, 0, 0, 0, 0, 0, 0, 0, 0, 0, 0, 0, 0, 0, 0, 0, 0, 0, 0, 0, 0, 0, 0, 0, 0, 0, 0, 0, 0, 0, 0, 0, 0, 0, 0, 0, 0, 0, 0, 0, 0, 0, 0, 0, 0, 0, 0, 0, 0, 0, 0, 0, 0, 0, 0, 0, 0, 0, 0, 0, 0, 0, 0, 0, 0, 0, 0, 0, 0, 0, 0, 0, 0, 0, 0, 0, 0, 0, 0, 0, 0, 0, 0, 0, 0, 0, 0, 0, 0, 0, 0, 0, 0, 0, 0, 0, 0, 0, 0, 0, 0, 0, 0, 0, 0, 0, 0, 0, 0, 0, 0, 0, 0, 0, 0, 0, 0, 0, 0, 0, 0, 0, 0, 0, 0, 0, 0, 0, 0, 0, 0, 0, 0, 0, 0, 0, 0, 0, 0, 0, 0, 0, 0, 0, 0, 0, 0, 0, 0, 0, 0, 0, 0, 0, 0, 0, 0, 0, 0, 0, 0, 0, 0, 0, 0, 0, 0, 0, 0, 0, 0, 0, 0, 0, 0, 0, 0, 0, 0, 0, 0, 0, 0, 0, 0, 0, 0, 1, 0, 0, 0, 0, 0, 0, 0, 0, 0, 0, 0, 0, 0, 0, 0, 0, 0, 0, 0, 0, 0, 0, 0, 0, 0, 0, 0, 0, 0, 0, 0, 0, 0, 0, 0, 0, 0, 0, 0, 0, 0, 0, 0, 0, 0, 0, 0, 0, 0, 0, 0, 0, 0, 0, 0, 0, 0, 0, 0, 0, 0, 0, 0, 0, 0, 0, 0, 0, 0, 0, 0, 0, 0, 0, 0, 0, 0, 0, 0, 0, 0, 0, 0, 0, 0, 0, 1, 0, 0, 0, 0, 0, 0, 0, 0, 0, 0, 0, 0, 0, 0, 0, 0, 0, 0, 0, 0, 0, 0, 0, 0, 0, 0, 0, 0, 0, 0, 0, 0, 0, 0, 0, 0, 0, 0, 0, 0, 0, 0, 0, 0, 0, 0, 0, 0, 0, 0, 0, 0, 0, 0, 0, 0, 0, 0, 0, 0, 0, 0, 0, 0, 0, 0, 0, 0, 0, 0, 0, 0, 0, 0, 0, 0, 0, 0, 0, 0, 0, 0, 0, 0, 0, 0, 0, 0, 0, 0, 0, 0, 0, 0, 0, 0, 0, 0, 0, 0, 0, 0, 0, 0, 0, 0, 0, 0, 0, 0, 0, 0, 0, 0, 0, 0, 0, 0, 0, 0, 0, 0, 0, 0, 0, 0, 0, 0, 0, 0, 0, 0, 0, 0, 0, 0, 0, 0, 0, 0, 0, 0, 0, 0, 0, 0, 0, 0, 0, 0, 0, 0, 0, 0, 0, 0, 0, 0, 0, 0, 0, 0, 0, 0, 0, 0, 0, 0, 0, 0, 0, 0, 0, 0, 0, 0, 0, 0, 0, 0, 0, 0, 0, 0, 0, 0, 0, 0, 0, 0, 0, 0, 0, 0, 0, 0, 0, 0, 0, 0, 0, 0, 0, 0, 0, 0, 0, 0, 0, 0, 0, 0, 0, 0, 0, 0, 0, 0, 0, 0, 0, 0, 0, 0, 0, 0, 0, 0, 0, 0, 0, 0, 0, 0, 0, 0, 0, 0, 0, 0, 0, 0, 0, 0, 0, 0, 0, 0, 0, 0, 0, 0, 1, 0, 0, 0, 0, 0, 0, 0, 0, 0, 0, 0, 0, 0, 0, 0, 0, 0, 0, 0, 0, 0, 0, 0, 0, 0, 0, 0, 0, 0, 0, 0, 0, 0, 0, 0, 0, 0, 0, 0, 0, 0, 0, 0, 0, 0, 0, 0, 0, 0, 0, 0, 0, 0, 0, 0, 1, 0, 0, 0, 0, 0, 0, 0, 0, 0, 0, 0, 0, 0, 0, 0, 0, 0, 0, 0, 0, 0, 0, 0, 0, 0, 0, 0, 0, 0, 0, 0, 0, 0, 0, 0, 0, 0, 0, 0, 0, 0, 0, 0, 0, 0, 0, 0, 0, 0, 0, 0, 0, 0, 0, 0, 0, 0, 0, 0, 0, 0, 0, 0, 0, 0, 0, 0, 0, 0, 0, 0, 0, 0, 0, 0, 0, 0, 0, 0, 0, 0, 0, 0, 0, 0, 0, 0, 0, 0, 0, 0, 0, 0, 0, 0, 0, 0, 0, 0, 0, 0, 0, 0, 0, 0, 0, 0, 0, 0, 0, 0, 0, 0, 0, 0, 0, 0, 0, 0, 0, 0, 0, 0, 0, 0, 0, 0, 0, 0, 0, 0, 0, 0, 0, 0, 0, 0, 0, 0, 0, 0, 0, 0, 0, 0, 0, 0, 0, 0, 0, 0, 0, 0, 0, 0, 0, 0, 0, 0, 0, 0, 0, 0, 0, 0, 0, 0, 0, 0, 0, 0, 0, 0, 0, 0, 0, 0, 0, 0, 0, 0, 0, 0, 0, 0, 0, 0, 0, 0, 0, 0, 0, 0, 0, 0, 0, 0, 0, 0, 0, 0, 0, 0, 0, 0, 0, 0, 0, 0, 0, 0, 0, 0, 0, 0, 0, 0, 0, 0, 0, 0, 0, 0, 0, 0, 0, 0, 0, 0, 0, 0, 0, 0, 0, 0, 0, 0, 0, 0, 0, 0, 0, 0, 0, 0, 0, 0, 0, 0, 0, 0, 0, 0, 0, 0, 0, 0, 0, 0, 0, 0, 0, 0, 0, 0, 0, 0, 0, 0, 0, 0, 0, 0, 0, 0, 0, 0, 0, 0, 0, 0, 0, 0, 0, 0, 0, 0, 0, 0, 0, 0, 0, 0, 0, 0, 0, 0, 0, 0, 0, 0, 0, 0, 0, 0, 0, 0, 0, 0, 0, 0, 0, 0, 0, 0, 0, 0, 0, 0, 0, 0, 0, 0, 0, 0, 0, 0, 0, 0, 0, 0, 0, 0, 0, 0, 0, 0, 0, 0, 0, 0, 0, 0, 0, 0, 0, 0, 0, 0, 0, 0, 0, 0, 0, 0, 0, 0, 0, 0, 0, 0, 0, 0, 0, 0, 0, 0, 0, 0, 0, 0, 0, 0, 0, 0, 0, 0, 0, 0, 0, 0, 0, 0, 0, 0, 0, 0, 0, 0, 0, 0, 0, 0, 0, 0, 0, 0, 0, 0, 0, 0, 0, 0, 0, 0, 0, 0, 0, 0, 0, 0, 0, 0, 0, 0, 0, 0, 0, 0, 0, 0, 0, 0, 0, 0, 0, 0, 0, 0, 0, 0, 0, 0, 0, 0, 0, 0, 0, 0, 0, 0, 0, 0, 0, 0, 0, 0, 0, 0, 0, 0, 0, 0, 0, 0, 0, 0, 0, 0, 0, 0, 0, 0, 0, 0, 0, 0, 0, 0, 0, 0, 0, 0, 0, 0, 0, 0, 0, 0, 0, 0, 0, 0, 0, 0, 0, 0, 0, 0, 0, 0, 0, 0, 0, 0, 0, 0, 0, 0, 0, 0, 0, 0, 0, 0, 0, 0, 0, 0, 0, 0, 0, 0, 0, 0, 0, 0, 0, 0, 0, 0, 0, 0, 0, 0, 0, 0, 0, 0, 0, 0, 0, 0, 0, 0, 0, 0, 0, 0, 0, 0, 0, 0, 0, 0, 0, 0, 0, 0, 0, 0, 0, 0, 0, 0, 0, 0, 0, 0, 0, 0, 0, 0, 0, 0, 0, 0, 0, 0, 0, 0, 0, 0, 0, 0, 0, 0, 0, 0, 0, 0, 0, 0, 0, 0, 0, 0, 0, 0, 0, 0, 0, 0, 0, 0, 0, 0, 0, 0, 0, 0, 0, 0, 0, 0, 0, 0, 0, 0, 0, 0, 0, 0, 0, 0, 0, 0, 0, 0, 0, 0, 0, 0, 0, 0, 0, 0, 0, 0, 0, 0, 0, 0, 0, 0, 0, 0, 0, 0, 0, 0, 0, 0, 0, 0, 0, 0, 0, 0, 0, 0, 0, 0, 0, 0, 0, 0, 0, 0, 0, 0, 0, 0, 0, 0, 0, 0, 0, 0, 0, 0, 0, 0, 0, 0, 0, 0, 0, 0, 0, 0, 1, 0, 0, 0, 0, 0, 0, 0, 0, 0, 0, 0, 0, 0, 0, 0, 0, 0, 0, 0, 0, 0, 0, 0, 0, 0, 0, 0, 0, 0, 0, 0, 0, 0, 0, 0, 0, 0, 0, 0, 0, 0, 0, 0, 0, 0, 0, 0, 0, 0, 0, 0, 0, 0, 0, 0, 0, 0, 0, 0, 0, 0, 0, 0, 0, 0, 0, 0, 0, 0, 0, 0, 0, 0, 0, 1, 0, 0, 0, 0, 0, 0, 0, 0, 0, 0, 0, 0, 0, 0, 0, 0, 0, 0, 0, 0, 1, 0, 0, 1, 0, 0, 0, 0, 0, 0, 0, 0, 0, 0, 0, 0, 0, 0, 0, 0, 0, 0, 0, 0, 0, 0, 0, 0, 0, 0, 0, 0, 0, 0, 0, 0, 0, 0, 0, 0, 0, 0, 0, 0, 0, 0, 0, 0, 0, 0, 0, 0, 0, 0, 0, 0, 0, 0, 0, 0, 0, 0, 0, 0, 0, 0, 0, 0, 0, 0, 0, 0, 0, 0, 0, 0, 0, 0, 0, 0, 0, 0, 0, 0, 0, 0, 0, 0, 0, 0, 0, 0, 0, 0, 0, 0, 0, 0, 0, 0, 0, 0, 0, 0, 0, 0, 0, 0, 0, 0, 0, 0, 0, 0, 0, 0, 0, 0, 0, 0, 0, 0, 0, 0, 0, 0, 0, 0, 0, 0, 0, 0, 0, 0, 0, 0, 0, 0, 0, 0, 0, 0, 0, 0, 0, 0, 0, 0, 0, 0, 0, 0, 0, 0, 0, 0, 0, 0, 0, 0, 0, 0, 0, 0, 0, 0, 0, 0, 0, 0, 0, 0, 0, 0, 0, 0, 0, 0, 0, 0, 0, 0, 0, 0, 0, 0, 0, 0, 0, 0, 0, 0, 0, 0, 0, 0, 0, 0, 0, 0, 0, 0, 0, 0, 0, 0, 0, 0, 0, 0, 0, 0, 0, 0, 0, 0, 0, 0, 0, 0, 0, 0, 0, 0, 0, 0, 0, 0, 0, 0, 0, 0, 0, 0, 0, 0, 0, 0, 0, 0, 0, 0, 0, 0, 0, 0, 0, 0, 0, 0, 0, 0, 0, 0, 0, 0, 0, 0, 0, 0, 0, 0, 0, 0, 0, 0, 0, 0, 0, 0, 0, 0, 0, 0, 0, 0, 0, 0, 0, 0, 0, 0, 0, 0, 0, 0, 0, 0, 0, 0, 0, 0, 0, 0, 0, 0, 0, 0, 0, 0, 0, 0, 0, 0, 0, 0, 0, 0, 0, 0, 0, 0, 0, 0, 0, 0, 0, 0, 0, 0, 0, 0, 0, 0, 0, 0, 0, 0, 0, 0, 0, 0, 0, 0, 0, 0, 0, 0, 0, 0, 0, 0, 0, 0, 0, 0, 0, 0, 0, 0, 0, 0, 0, 0, 0, 0, 0, 0, 0, 0, 0, 0, 0, 0, 0, 0, 0, 0, 0, 0, 0, 0, 0, 0, 0, 0, 0, 0, 0, 0, 0, 0, 0, 0, 0, 0, 0, 0, 0, 0, 0, 0, 0, 0, 0, 0, 0, 0, 0, 0, 0, 0, 0, 0, 0, 0, 0, 0, 0, 0, 0, 0, 0, 0, 0, 0, 0, 0, 0, 0, 0, 0, 0, 0, 0, 0, 0, 0, 0, 0, 0, 0, 0, 0, 0, 0, 0, 0, 0, 0, 0, 0, 0, 0, 0, 0, 0, 0, 0, 0, 0, 0, 0, 0, 0, 0, 0, 0, 0, 0, 0, 0, 0, 0, 0, 0, 0, 0, 0, 0, 1, 0, 0, 0, 0, 0, 0, 0, 0, 0, 0, 0, 0, 0, 0, 0, 0, 0, 0, 0, 0, 0, 0, 0, 0, 0, 0, 0, 0, 0, 0, 0, 0, 0, 0, 0, 0, 0, 0, 0, 0, 0, 0, 0, 0, 0, 0, 0, 0, 0, 0, 0, 0, 0, 0, 0, 0, 0, 0, 0, 0, 0, 0, 0, 0, 0, 0, 0, 0, 0, 0, 0, 0, 0, 0, 0, 0, 0, 0, 0, 0, 0, 0, 0, 0, 0, 0, 0, 0, 0, 0, 0, 0, 0, 0, 0, 0, 0, 0, 0, 0, 0, 0, 0, 0, 0, 0, 0, 0, 0, 0, 0, 0, 0, 0, 0, 0, 0, 0, 0, 0, 0, 0, 0, 0, 0, 0, 0, 0, 0, 0, 0, 0, 0, 0, 0, 0, 0, 0, 0, 0, 0, 0, 0, 0, 0, 0, 0, 0, 0, 0, 0, 0, 0, 0, 0, 0, 0, 0, 0, 0, 0, 0, 0, 0, 0, 0, 0, 0, 0, 0, 0, 0, 0, 0, 0, 0, 0, 0, 0, 0, 0, 0, 0, 0, 0, 0, 0, 0, 0, 0, 0, 0, 0, 0, 0, 0, 0, 0, 0, 0, 0, 0, 0, 0, 0, 0, 0, 0, 0, 0, 0, 0, 0, 0, 0, 0, 0, 0, 0, 0, 0, 0, 0, 0, 0, 0, 0, 0, 0, 0, 0, 0, 0, 0, 0, 0, 0, 0, 0, 0, 0, 0, 0, 0, 0, 0, 0, 0, 0, 0, 0, 0, 0, 0, 0, 0, 0, 0, 0, 0, 0, 0, 0, 0, 0, 0, 0, 0, 0, 0, 0, 0, 0, 0, 0, 0, 0, 0, 0, 0, 0, 0, 0, 0, 0, 0, 0, 0, 0, 0, 0, 0, 0, 0, 0, 0, 0, 0, 0, 0, 0, 0, 0, 0, 0, 0, 0, 0, 0, 0, 0, 0, 0, 0, 0, 0, 0, 0, 0, 0, 0, 0, 0, 0, 0, 0, 0, 0, 0, 0, 0, 0, 0, 0, 0, 0, 0, 0, 0, 0, 0, 0, 0, 0, 0, 0, 0, 0, 0, 0, 0, 0, 0, 0, 0, 0, 0, 0, 0, 0, 0, 0, 0, 0, 0, 0, 0, 0, 0, 0, 0, 0, 0, 0, 0, 0, 0, 0, 0, 0, 0, 0, 0, 0, 0, 0, 0, 0, 0, 0, 0, 0, 0, 0, 0, 0, 0, 0, 0, 0, 0, 0, 0, 0, 0, 0, 0, 0, 0, 0, 0, 0, 0, 0, 0, 0, 0, 0, 0, 0, 0, 0, 0, 0, 0, 0, 0, 0, 0, 0, 0, 0, 0, 0, 0, 0, 0, 0, 0, 0, 0, 0, 0, 0, 0, 0, 0, 0, 0, 0, 0, 0, 0, 0, 0, 0, 0, 0, 0, 0, 0, 0, 0, 0, 0, 0, 0, 0, 0, 0, 0, 0, 0, 0, 0, 0, 0, 0, 0, 0, 0, 0, 0, 0, 0, 0, 0, 0, 0, 0, 0, 0, 0, 0, 0, 0, 0, 0, 0, 0, 0, 0, 0, 0, 0, 0, 0, 0, 0, 0, 0, 0, 1, 0, 0, 0, 0, 0, 0, 0, 0, 0, 0, 0, 0, 0, 0, 0, 0, 0, 0, 0, 0, 0, 0, 0, 0, 0, 0, 0, 0, 0, 0, 0, 0, 0, 0, 0, 2, 0, 0, 0, 0, 0, 0, 0, 0, 0, 0, 0, 0, 0, 0, 0, 0, 0, 0, 0, 0, 0, 0, 0, 0, 0, 0, 0, 0, 0, 0, 0, 0, 0, 0, 0, 0, 0, 0, 0, 0, 1, 0, 0, 0, 0, 0, 0, 0, 0, 0, 0, 0, 0, 0, 0, 0, 0, 0, 0, 0, 0, 0, 0, 0, 0, 0, 0, 0, 0, 0, 0, 0, 0, 0, 0, 0, 0, 0, 0, 0, 0, 0, 0, 0, 0, 0, 0, 0, 0, 0, 0, 0, 0, 0, 0, 0, 0, 0, 0, 0, 0, 0, 0, 0, 0, 0, 0, 0, 0, 0, 0, 0, 0, 0, 0, 0, 0, 0, 0, 0, 0, 0, 0, 0, 0, 0, 0, 0, 0, 0, 0, 0, 0, 0, 0, 0, 0, 0, 0, 0, 0, 0, 0, 0, 0, 0, 0, 0, 0, 0, 0, 0, 0, 0, 0, 0, 0, 0, 0, 0, 0, 0, 0, 0, 0, 0, 0, 0, 0, 0, 0, 0, 0, 0, 0, 0, 0, 0, 0, 0, 0, 0, 0, 0, 0, 0, 0, 0, 0, 0, 0, 0, 0, 0, 0, 0, 0, 0, 0, 0, 0, 0, 0, 0, 0, 0, 0, 0, 0, 0, 0, 0, 0, 0, 0, 0, 0, 0, 0, 0, 0, 0, 0, 0, 0, 0, 0, 0, 0, 0, 0, 0, 0, 0, 0, 0, 0, 0, 0, 0, 0, 0, 0, 0, 0, 0, 0, 0, 0, 0, 0, 0, 0, 0, 0, 0, 0, 0, 0, 0, 0, 0, 0, 0, 0, 0, 0, 0, 0, 0, 0, 0, 0, 0, 0, 0, 0, 0, 0, 0, 0, 0, 0, 0, 0, 0, 0, 0, 0, 0, 0, 0, 0, 0, 0, 0, 0, 0, 0, 0, 0, 0, 0, 0, 0, 0, 0, 0, 0, 0, 0, 0, 0, 0, 0, 0, 0, 0, 0, 0, 0, 0, 0, 0, 0, 0, 0, 0, 0, 0, 0, 0, 0, 0, 0, 0, 0, 0, 0, 0, 0, 0, 0, 0, 0, 0, 0, 0, 0, 0, 0, 0, 0, 0, 0, 0, 0, 0, 0, 0, 0, 0, 0, 0, 0, 0, 0, 0, 0, 0, 0, 0, 0, 0, 0, 0, 0, 0, 0, 0, 0, 0, 0, 0, 0, 0, 0, 0, 0, 0, 0, 0, 0, 0, 0, 0, 0, 0, 0, 0, 0, 0, 0, 0, 0, 0, 0, 0, 0, 0, 0, 0, 0, 0, 0, 0, 0, 0, 0, 0, 0, 0, 0, 0, 0, 0, 0, 0, 0, 0, 0, 0, 0, 0, 0, 0, 0, 0, 0, 0, 0, 0, 0, 0, 0, 0, 0, 0, 0, 0, 0, 0, 0, 0, 0, 0, 0, 0, 0, 0, 0, 0, 0, 0, 0, 0, 0, 0, 0, 0, 0, 0, 0, 0, 0, 0, 0, 0, 0, 0, 0, 0, 0, 0, 0, 0, 0, 0, 0, 0, 0, 0, 0, 0, 0, 0, 0, 0, 0, 0, 0, 0, 0, 0, 0, 0, 0, 0, 0, 0, 0, 0, 0, 0, 0, 0, 0, 0, 0, 0, 0, 0, 0, 0, 0, 0, 0, 0, 0, 0, 0, 0, 0, 0, 0, 0, 0, 0, 1, 0, 0, 0, 0, 0, 0, 0, 0, 0, 0, 0, 0, 0, 0, 0, 0, 0, 0, 0, 0, 0, 0, 0, 0, 0, 0, 0, 0, 0, 0, 0, 0, 0, 0, 0, 0, 0, 0, 0, 0, 0, 0, 0, 0, 0, 0, 0, 0, 0, 0, 0, 0, 0, 0, 0, 0, 0, 0, 0, 0, 0, 0, 0, 0, 0, 0, 0, 0, 0, 0, 0, 0, 0, 0, 0, 0, 0, 0, 0, 0, 0, 0, 0, 0, 0, 0, 0, 0, 0, 0, 0, 0, 0, 0, 0, 0, 0, 0, 0, 0, 0, 0, 0, 0, 0, 0, 0, 0, 0, 0, 2, 0, 0, 0, 0, 0, 0, 0, 0, 0, 0, 0, 0, 0, 0, 0, 0, 0, 0, 0, 0, 0, 0, 0, 0, 0, 0, 0, 0, 0, 0, 0, 0, 0, 0, 0, 0, 0, 0, 0, 0, 0, 0, 0, 0, 0, 0, 0, 0, 0, 0, 0, 0, 0, 0, 0, 0, 0, 0, 0, 0, 0, 0, 0, 0, 0, 0, 0, 0, 0, 0, 0, 0, 0, 0, 0, 0, 0, 0, 0, 0, 0, 0, 0, 0, 0, 0, 0, 0, 0, 0, 0, 0, 0, 0, 0, 0, 0, 0, 0, 0, 0, 0, 0, 0, 0, 0, 0, 0, 0, 0, 0, 0, 0, 0, 0, 0, 0, 0, 0, 0, 0, 0, 0, 0, 0, 0, 0, 0, 0, 0, 0, 0, 0, 0, 0, 0, 0, 0, 0, 0, 0, 0, 0, 0, 0, 0, 0, 0, 0, 0, 0, 0, 0, 0, 0, 0, 0, 0, 0, 0, 0, 0, 0, 0, 0, 0, 0, 0, 0, 0, 0, 0, 0, 0, 0, 0, 0, 0, 0, 0, 0, 0, 0, 0, 0, 0, 0, 0, 0, 0, 0, 0, 0, 0, 0, 0, 0, 0, 0, 0, 0, 0, 0, 0, 0, 0, 0, 0, 0, 0, 0, 0, 0, 0, 0, 0, 0, 0, 0, 0, 0, 0, 0, 0, 0, 0, 0, 0, 0, 0, 0, 0, 0, 0, 0, 0, 0, 0, 0, 0, 0, 0, 0, 0, 0, 0, 0, 0, 0, 0, 0, 0, 0, 0, 0, 0, 0, 0, 0, 0, 0, 0, 0, 0, 0, 0, 0, 0, 0, 0, 0, 0, 0, 0, 0, 0, 0, 0, 0, 0, 0, 0, 0, 0, 0, 0, 0, 0, 0, 0, 0, 0, 0, 0, 0, 0, 0, 0, 0, 0, 0, 0, 0, 0, 0, 0, 0, 0, 0, 0, 0, 0, 0, 0, 0, 0, 0, 0, 0, 0, 0, 0, 0, 0, 0, 0, 0, 0, 0, 0, 0, 0, 0, 0, 0, 0, 0, 0, 0, 0, 0, 0, 0, 0, 0, 0, 0, 0, 0, 0, 0, 0, 0, 0, 0, 0, 0, 0, 0, 0, 0, 0, 0, 0, 0, 0, 0, 0, 0, 0, 0, 0, 0, 0, 0, 0, 0, 0, 0, 0, 0, 0, 0, 0, 0, 0, 0, 0, 0, 0, 0, 0, 0, 0, 0, 0, 0, 0, 0, 0, 0, 0, 0, 0, 0, 0, 0, 0, 0, 0, 0, 0, 0, 0, 0, 0, 0, 0, 0, 0, 0, 0, 0, 0, 0, 0, 0, 0, 0, 0, 0, 0, 0, 0, 0, 0, 0, 0, 0, 0, 0, 0, 0, 0, 0, 0, 0, 0, 0, 0, 0, 0, 0, 0, 0, 0, 0, 0, 0, 0, 0, 0, 0, 0, 0, 0, 0, 0, 0, 0, 0, 0, 0, 0, 0, 0, 0, 0, 0, 0, 0, 0, 0, 0, 0, 0, 0, 0, 0, 0, 0, 0, 0, 0, 0, 0, 0, 0, 0, 0, 0, 0, 0, 0, 0, 0, 0, 0, 0, 0, 0, 0, 0, 0, 0, 0, 0, 0, 0, 0, 0, 0, 0, 0, 0, 0, 0, 0, 0, 0, 0, 0, 0, 0, 0, 0, 0, 0, 0, 0, 0, 0, 0, 0, 0, 0, 0, 0, 0, 0, 0, 0, 0, 0, 0, 0, 0, 0, 0, 0, 0, 0, 0, 0, 0, 0, 0, 0, 0, 0, 0, 0, 0, 0, 0, 0, 0, 0, 0, 0, 0, 0, 0, 0, 0, 0, 0, 0, 0, 0, 0, 0, 0, 0, 0, 0, 0, 0, 0, 0, 0, 0, 0, 0, 0, 0, 0, 0, 0, 0, 0, 0, 0, 0, 0, 0, 0, 0, 0, 0, 0, 0, 0, 0, 0, 0, 0, 0, 0, 0, 0, 0, 0, 0, 0, 0, 0, 0, 0, 0, 0, 0, 0, 0, 0, 0, 0, 0, 0, 0, 0, 0, 0, 0, 0, 0, 0, 0, 0, 0, 0, 0, 0, 0, 0, 0, 0, 0, 0, 0, 0, 0, 0, 0, 0, 0, 0, 0, 0, 0, 0, 0, 0, 0, 0, 0, 0, 0, 0, 0, 1, 0, 0, 0, 0, 0, 0, 0, 0, 0, 0, 0, 0, 0, 0, 0, 0, 0, 0, 0, 0, 0, 0, 0, 0, 0, 0, 0, 0, 0, 0, 0, 0, 0, 0, 0, 0, 0, 0, 0, 0, 0, 0, 0, 0, 0, 0, 0, 0, 0, 0, 0, 0, 0, 0, 0, 0, 0, 0, 0, 0, 0, 0, 0, 0, 0, 0, 0, 0, 0, 0, 0, 0, 0, 0, 0, 0, 0, 0, 0, 0, 0, 0, 0, 0, 0, 0, 0, 0, 0, 0, 0, 0, 0, 0, 0, 0, 0, 0, 0, 0, 0, 0, 0, 0, 0, 0, 0, 1, 0, 0, 0, 0, 0, 0, 0, 0, 0, 0, 0, 0, 0, 0, 0, 0, 0, 0, 0, 0, 0, 0, 0, 0, 0, 0, 0, 0, 0, 0, 0, 0, 0, 0, 0, 0, 0, 0, 0, 0, 0, 0, 0, 0, 0, 0, 0, 0, 0, 0, 0, 0, 0, 0, 0, 0, 0, 0, 0, 0, 0, 0, 0, 0, 0, 0, 0, 0, 0, 0, 0, 0, 0, 0, 0, 0, 0, 0, 0, 0, 0, 0, 0, 0, 0, 0, 0, 0, 0, 0, 0, 0, 0, 0, 0, 0, 0, 0, 0, 0, 0, 0, 0, 0, 0, 0, 0, 0, 0, 0, 0, 0, 0, 0, 0, 0, 0, 0, 0, 0, 0, 0, 0, 0, 0, 0, 0, 0, 0, 0, 0, 0, 0, 0, 0, 0, 0, 0, 0, 0, 0, 0, 0, 0, 0, 0, 0, 0, 0, 0, 0, 0, 0, 0, 0, 0, 0, 0, 0, 0, 0, 0, 0, 0, 0, 0, 0, 0, 0, 0, 0, 0, 0, 0, 0, 0, 0, 0, 0, 0, 0, 0, 0, 0, 0, 0, 0, 0, 0, 0, 0, 0, 0, 0, 0, 0, 0, 0, 0, 0, 0, 0, 0, 0, 0, 0, 0, 0, 0, 0, 0, 0, 0, 0, 0, 0, 0, 0, 0, 0, 0, 0, 0, 0, 0, 0, 0, 0, 0, 0, 0, 0, 0, 0, 0, 0, 0, 0, 0, 0, 0, 0, 0, 0, 0, 0, 0, 0, 0, 0, 0, 0, 0, 0, 0, 0, 0, 0, 0, 0, 0, 0, 0, 0, 0, 0, 0, 0, 0, 0, 0, 0, 0, 0, 0, 0, 0, 0, 0, 0, 0, 0, 0, 0, 0, 0, 0, 0, 0, 0, 0, 0, 0, 0, 0, 0, 0, 0, 0, 0, 0, 0, 0, 0, 0, 0, 0, 0, 0, 0, 0, 0, 0, 0, 0, 0, 0, 0, 0, 0, 0, 0, 0, 0, 0, 0, 0, 0, 0, 0, 0, 0, 0, 0, 0, 0, 0, 0, 0, 0, 0, 0, 0, 0, 0, 0, 0, 0, 0, 0, 0, 0, 0, 0, 0, 0, 0, 0, 0, 0, 0, 0, 0, 0, 0, 0, 0, 0, 0, 0, 0, 0, 0, 0, 0, 0, 0, 0, 0, 0, 0, 0, 0, 0, 0, 0, 0, 0, 0, 0, 0, 0, 0, 0, 0, 0, 0, 0, 0, 0, 0, 0, 0, 0, 0, 0, 0, 0, 0, 0, 0, 0, 0, 0, 0, 0, 0, 0, 0, 0, 0, 0, 0, 0, 0, 0, 0, 0, 0, 0, 0, 0, 0, 0, 0, 0, 0, 0, 0, 0, 0, 0, 0, 0, 0, 0, 0, 0, 0, 0, 0, 0, 0, 0, 0, 0, 0, 0, 0, 0, 0, 0, 0, 2, 0, 1, 0], type: <class 'list'>, valid types: <class 'bytes'>, <class 'bytearray'>, file-like object"
     ]
    }
   ],
   "source": [
    "response = runtime.invoke_endpoint(EndpointName = xgb_predictor.endpoint, # The name of the endpoint we created\n",
    "                                       ContentType = 'text/csv',                     # The data format that is expected\n",
    "                                       Body = test_bow)"
   ]
  },
  {
   "cell_type": "markdown",
   "metadata": {},
   "source": [
    "So why did we get an error?\n",
    "\n",
    "Because we tried to send the endpoint a list of integers but it expected us to send data of type `text/csv`. So, we need to convert it."
   ]
  },
  {
   "cell_type": "code",
   "execution_count": 45,
   "metadata": {},
   "outputs": [],
   "source": [
    "response = runtime.invoke_endpoint(EndpointName = xgb_predictor.endpoint, # The name of the endpoint we created\n",
    "                                       ContentType = 'text/csv',                     # The data format that is expected\n",
    "                                       Body = ','.join([str(val) for val in test_bow]).encode('utf-8'))"
   ]
  },
  {
   "cell_type": "code",
   "execution_count": 46,
   "metadata": {},
   "outputs": [
    {
     "name": "stdout",
     "output_type": "stream",
     "text": [
      "{'ResponseMetadata': {'RequestId': '6f9e4d82-e2c7-40a2-b906-40aa22a3780c', 'HTTPStatusCode': 200, 'HTTPHeaders': {'x-amzn-requestid': '6f9e4d82-e2c7-40a2-b906-40aa22a3780c', 'x-amzn-invoked-production-variant': 'AllTraffic', 'date': 'Sun, 1 Mar 2020 16:07:19 GMT', 'content-type': 'text/csv; charset=utf-8', 'content-length': '14'}, 'RetryAttempts': 0}, 'ContentType': 'text/csv; charset=utf-8', 'InvokedProductionVariant': 'AllTraffic', 'Body': <botocore.response.StreamingBody object at 0x7f8c319b0400>}\n"
     ]
    }
   ],
   "source": [
    "print(response)"
   ]
  },
  {
   "cell_type": "markdown",
   "metadata": {},
   "source": [
    "As we can see, the response from our model is a somewhat complicated looking dict that contains a bunch of information. The bit that we are most interested in is `'Body'` object which is a streaming object that we need to `read` in order to make use of."
   ]
  },
  {
   "cell_type": "code",
   "execution_count": 47,
   "metadata": {},
   "outputs": [
    {
     "name": "stdout",
     "output_type": "stream",
     "text": [
      "0.274253100157\n"
     ]
    }
   ],
   "source": [
    "response = response['Body'].read().decode('utf-8')\n",
    "print(response)"
   ]
  },
  {
   "cell_type": "markdown",
   "metadata": {},
   "source": [
    "Now that we know how to process the incoming user data we can start setting up the infrastructure to make our simple web app work. To do this we will make use of two different services. Amazon's Lambda and API Gateway services.\n",
    "\n",
    "Lambda is a service which allows someone to write some relatively simple code and have it executed whenever a chosen trigger occurs. For example, you may want to update a database whenever new data is uploaded to a folder stored on S3.\n",
    "\n",
    "API Gateway is a service that allows you to create HTTP endpoints (url addresses) which are connected to other AWS services. One of the benefits to this is that you get to decide what credentials, if any, are required to access these endpoints.\n",
    "\n",
    "In our case we are going to set up an HTTP endpoint through API Gateway which is open to the public. Then, whenever anyone sends data to our public endpoint we will trigger a Lambda function which will send the input (in our case a review) to our model's endpoint and then return the result."
   ]
  },
  {
   "cell_type": "markdown",
   "metadata": {},
   "source": [
    "### Setting up a Lambda function\n",
    "\n",
    "The first thing we are going to do is set up a Lambda function. This Lambda function will be executed whenever our public API has data sent to it. When it is executed it will receive the data, perform any sort of processing that is required, send the data (the review) to the SageMaker endpoint we've created and then return the result.\n",
    "\n",
    "#### Part A: Create an IAM Role for the Lambda function\n",
    "\n",
    "Since we want the Lambda function to call a SageMaker endpoint, we need to make sure that it has permission to do so. To do this, we will construct a role that we can later give the Lambda function.\n",
    "\n",
    "Using the AWS Console, navigate to the **IAM** page and click on **Roles**. Then, click on **Create role**. Make sure that the **AWS service** is the type of trusted entity selected and choose **Lambda** as the service that will use this role, then click **Next: Permissions**.\n",
    "\n",
    "In the search box type `sagemaker` and select the check box next to the **AmazonSageMakerFullAccess** policy. Then, click on **Next: Review**.\n",
    "\n",
    "Lastly, give this role a name. Make sure you use a name that you will remember later on, for example `LambdaSageMakerRole`. Then, click on **Create role**."
   ]
  },
  {
   "cell_type": "markdown",
   "metadata": {},
   "source": [
    "#### Part B: Create a Lambda function\n",
    "\n",
    "Now it is time to actually create the Lambda function. Remember from earlier that in order to process the user provided input and send it to our endpoint we need to gather two pieces of information:\n",
    "\n",
    " - The name of the endpoint, and\n",
    " - the vocabulary object.\n",
    "\n",
    "We will copy these pieces of information to our Lambda function after we create it.\n",
    "\n",
    "To start, using the AWS Console, navigate to the AWS Lambda page and click on **Create a function**. When you get to the next page, make sure that **Author from scratch** is selected. Now, name your Lambda function, using a name that you will remember later on, for example `sentiment_analysis_xgboost_func`. Make sure that the **Python 3.6** runtime is selected and then choose the role that you created in the previous part. Then, click on **Create Function**.\n",
    "\n",
    "On the next page you will see some information about the Lambda function you've just created. If you scroll down you should see an editor in which you can write the code that will be executed when your Lambda function is triggered. Collecting the code we wrote above to process a single review and adding it to the provided example `lambda_handler` we arrive at the following.\n",
    "\n",
    "```python\n",
    "# We need to use the low-level library to interact with SageMaker since the SageMaker API\n",
    "# is not available natively through Lambda.\n",
    "import boto3\n",
    "\n",
    "# And we need the regular expression library to do some of the data processing\n",
    "import re\n",
    "\n",
    "REPLACE_NO_SPACE = re.compile(\"(\\.)|(\\;)|(\\:)|(\\!)|(\\')|(\\?)|(\\,)|(\\\")|(\\()|(\\))|(\\[)|(\\])\")\n",
    "REPLACE_WITH_SPACE = re.compile(\"(<br\\s*/><br\\s*/>)|(\\-)|(\\/)\")\n",
    "\n",
    "def review_to_words(review):\n",
    "    words = REPLACE_NO_SPACE.sub(\"\", review.lower())\n",
    "    words = REPLACE_WITH_SPACE.sub(\" \", words)\n",
    "    return words\n",
    "    \n",
    "def bow_encoding(words, vocabulary):\n",
    "    bow = [0] * len(vocabulary) # Start by setting the count for each word in the vocabulary to zero.\n",
    "    for word in words.split():  # For each word in the string\n",
    "        if word in vocabulary:  # If the word is one that occurs in the vocabulary, increase its count.\n",
    "            bow[vocabulary[word]] += 1\n",
    "    return bow\n",
    "\n",
    "\n",
    "def lambda_handler(event, context):\n",
    "    \n",
    "    vocab = \"*** ACTUAL VOCABULARY GOES HERE ***\"\n",
    "    \n",
    "    words = review_to_words(event['body'])\n",
    "    bow = bow_encoding(words, vocab)\n",
    "\n",
    "    # The SageMaker runtime is what allows us to invoke the endpoint that we've created.\n",
    "    runtime = boto3.Session().client('sagemaker-runtime')\n",
    "\n",
    "    # Now we use the SageMaker runtime to invoke our endpoint, sending the review we were given\n",
    "    response = runtime.invoke_endpoint(EndpointName = '***ENDPOINT NAME HERE***',# The name of the endpoint we created\n",
    "                                       ContentType = 'text/csv',                 # The data format that is expected\n",
    "                                       Body = ','.join([str(val) for val in bow]).encode('utf-8')) # The actual review\n",
    "\n",
    "    # The response is an HTTP response whose body contains the result of our inference\n",
    "    result = response['Body'].read().decode('utf-8')\n",
    "    \n",
    "    # Round the result so that our web app only gets '1' or '0' as a response.\n",
    "    result = round(float(result))\n",
    "\n",
    "    return {\n",
    "        'statusCode' : 200,\n",
    "        'headers' : { 'Content-Type' : 'text/plain', 'Access-Control-Allow-Origin' : '*' },\n",
    "        'body' : str(result)\n",
    "    }\n",
    "```"
   ]
  },
  {
   "cell_type": "markdown",
   "metadata": {},
   "source": [
    "Once you have copy and pasted the code above into the Lambda code editor, replace the `**ENDPOINT NAME HERE**` portion with the name of the endpoint that we deployed earlier. You can determine the name of the endpoint using the code cell below."
   ]
  },
  {
   "cell_type": "code",
   "execution_count": 48,
   "metadata": {},
   "outputs": [
    {
     "data": {
      "text/plain": [
       "'xgboost-2020-03-01-15-38-50-208'"
      ]
     },
     "execution_count": 48,
     "metadata": {},
     "output_type": "execute_result"
    }
   ],
   "source": [
    "xgb_predictor.endpoint"
   ]
  },
  {
   "cell_type": "markdown",
   "metadata": {},
   "source": [
    "In addition, you will need to copy the vocabulary dict to the appropriate place in the code at the beginning of the `lambda_handler` method. The cell below prints out the vocabulary dict in a way that is easy to copy and paste."
   ]
  },
  {
   "cell_type": "code",
   "execution_count": 49,
   "metadata": {},
   "outputs": [
    {
     "name": "stdout",
     "output_type": "stream",
     "text": [
      "{'this': 4457, 'movie': 2926, 'was': 4805, 'beautiful': 428, 'it': 2366, 'full': 1846, 'of': 3083, 'memorable': 2802, 'imagery': 2234, 'good': 1937, 'acting': 99, 'and': 226, 'touching': 4536, 'subject': 4253, 'matter': 2769, 'would': 4957, 'be': 418, 'very': 4723, 'easy': 1410, 'to': 4507, 'write': 4967, 'off': 3084, 'as': 311, 'being': 448, 'too': 4522, 'sentimental': 3882, 'but': 636, 'that': 4424, 'is': 2360, 'the': 4426, 'type': 4621, 'trying': 4601, 'achieve': 92, 'totally': 4532, 'involved': 2346, 'in': 2257, 'presentation': 3375, 'there': 4438, 'were': 4848, 'few': 1700, 'cheesy': 781, 'shots': 3950, 'such': 4268, 'expected': 1577, 'religious': 3608, 'propaganda': 3435, 'film': 1716, 'only': 3110, 'complaint': 920, 'can': 665, 'wasnt': 4807, 'details': 1219, 'however': 2183, 'created': 1037, 'explain': 1586, 'every': 1539, 'element': 1442, 'joseph': 2419, 'life': 2592, 'etc': 1527, 'designed': 1203, 'for': 1784, 'quick': 3490, 'glimpse': 1919, 'at': 331, 'highlights': 2104, 'one': 3107, 'most': 2909, 'amazing': 209, 'american': 213, 'historical': 2119, 'figures': 1713, 'all': 187, 'time': 4495, 'wonderful': 4928, 'its': 2370, 'based': 404, 'on': 3105, 'novel': 3052, 'same': 3778, 'title': 4504, 'which': 4867, 'equally': 1510, 'though': 4461, 'different': 1248, 'from': 1840, 'really': 3556, 'made': 2697, 'you': 4986, 'think': 4452, 'about': 67, 'how': 2181, 'youd': 4987, 'if': 2222, 'shoes': 3941, 'characters': 760, 'recommended': 3572, 'anyone': 259, 'who': 4871, 'has': 2043, 'ever': 1538, 'loved': 2670, 'parent': 3187, 'or': 3124, 'family': 1645, 'member': 2800, 'other': 3135, 'words': 4938, 'everyone': 1542, 'production': 3419, 'isnt': 2362, 'quite': 3495, 'hollywood': 2137, 'quality': 3484, 'no': 3020, 'big': 478, 'special': 4097, 'effects': 1431, 'still': 4188, 'values': 4710, 'portrayed': 3342, 'more': 2904, 'than': 4420, 'make': 2713, 'up': 4683, 'cast': 710, 'did': 1241, 'job': 2405, 'capturing': 679, 'emotional': 1459, 'between': 475, 'members': 2801, 'occurs': 3078, 'when': 4862, 'them': 4432, 'becomes': 434, 'ill': 2228, 'dont': 1324, 'want': 4788, 'miss': 2866, 'complicated': 925, 'western': 4853, 'career': 686, 'james': 2378, 'stewart': 4184, 'after': 143, 'his': 2118, 'return': 3665, 'war': 4792, 'service': 3896, 'wanting': 4790, 'change': 749, 'image': 2233, 'by': 642, 'doing': 1312, 'largely': 2518, 'reason': 3557, 'westerns': 4854, '50s': 52, 'since': 3990, 'impressive': 2253, 'bad': 382, 'photographed': 3258, 'wins': 4899, 'first': 1736, 'prize': 3405, 'gun': 1996, 'won': 4925, 'west': 4852, 'then': 4436, 'spend': 4105, 'rest': 3657, 'stolen': 4195, 'shelley': 3928, 'winters': 4901, 'with': 4911, 'an': 223, 'reputation': 3640, 'stephen': 4176, 'local': 2634, 'boy': 557, 'city': 825, 'will': 4886, 'dan': 1102, 'boyfriend': 558, 'wouldnt': 4958, 'know': 2489, 'universal': 4665, 'international': 2326, 'tony': 4521, 'curtis': 1087, 'rock': 3720, 'hudson': 2184, 'both': 547, 'unknown': 4668, 'have': 2052, 'bit': 488, 'roles': 3727, 'interesting': 2325, 'sequence': 3887, 'features': 1680, 'indian': 2274, 'attack': 337, 'charles': 764, 'reveals': 3673, 'himself': 2111, 'leaving': 2557, 'alone': 194, 'horse': 2170, 'drawn': 1351, 'he': 2056, 'later': 2525, 'just': 2437, 'twists': 4619, 'turns': 4609, 'passing': 3204, 'hand': 2015, 'another': 250, 'finally': 1724, 'ending': 1471, 'owner': 3159, 'final': 1722, 'almost': 193, 'melodramatic': 2798, 'not': 3040, 'guns': 1998, 'finale': 1723, 'makes': 2716, 'perfect': 3224, 'villain': 4744, 'kind': 2476, 'role': 3726, 'played': 3297, 'throughout': 4478, '40s': 49, 'low': 2676, 'constructed': 959, 'story': 4207, 'extremely': 1610, 'well': 4843, 'directed': 1259, 'anthony': 253, 'mann': 2728, 'fun': 1848, 'see': 3855, 'young': 4989, 'bull': 619, 'wearing': 4831, 'paint': 3173, 'soldier': 4053, 'attractive': 351, 'worth': 4953, 'viewing': 4740, 'definitely': 1162, 'above': 68, 'average': 362, 'karen': 2444, 'sarah': 3785, 'michelle': 2830, 'student': 4238, 'japan': 2381, 'beginning': 443, 'do': 1302, 'some': 4061, 'social': 4049, 'work': 4940, 'sent': 3880, 'aid': 160, 'elderly': 1440, 'semi': 3874, 'woman': 4921, 'emma': 1457, 'grace': 1950, 'her': 2085, 'previous': 3387, 'soon': 4074, 'learns': 2553, 'something': 4066, 'right': 3696, 'home': 2142, 'she': 3923, 'attempts': 343, 'deep': 1154, 'rabbit': 3498, 'hole': 2132, 'goes': 1930, 'maybe': 2776, 'influence': 2286, 'success': 4265, 'night': 3013, 'films': 1721, 'paced': 3162, 'understated': 4646, 'horror': 2168, 'are': 285, 'recent': 3566, 'cases': 708, 'hide': 2097, 'seek': 3858, '2005': 35, 'approach': 282, 'works': 4945, 'remarkably': 3614, 'others': 3136, 'white': 4870, 'noise': 3024, 'pacing': 3163, 'tends': 4402, 'kill': 2468, 'didnt': 1242, 'like': 2599, 'much': 2934, 'out': 3141, '10': 0, 'me': 2778, 'couple': 1016, 'significant': 3972, 'differences': 1247, 'examples': 1554, 'known': 2492, 'remake': 3612, 'japanese': 2382, 'series': 3890, 'began': 441, '2000': 30, 'particular': 3194, 'close': 853, 'half': 2007, 'aka': 168, '2003': 33, 'two': 4620, 'many': 2732, 'here': 2086, 'so': 4046, 'drama': 1346, 'also': 199, 'case': 707, 'large': 2517, 'european': 1530, 'should': 3951, 'looked': 2647, 'filmed': 1717, 'nightmare': 3014, 'director': 1264, 'five': 1743, 'date': 1118, 'currently': 1085, 'writer': 4968, 'overly': 3155, 'concerned': 932, 'logic': 2638, 'plot': 3309, 'holes': 2133, 'comes': 891, 'behind': 447, 'idea': 2213, 'instead': 2307, 'present': 3374, 'scenes': 3811, 'dream': 1354, 'where': 4864, 'focus': 1766, 'atmosphere': 333, 'viewers': 4739, 'scares': 3806, 'yourself': 4993, 'used': 4693, 'making': 2718, 'although': 201, 'admittedly': 123, 'filled': 1715, 'audiences': 353, 'consider': 949, 'flaws': 1752, 'hanging': 2023, 'rules': 3754, 'monster': 2892, 'poetic': 3313, 'surreal': 4317, 'yet': 4984, 'accepted': 82, 'mainstream': 2709, 'us': 4690, 'even': 1533, 'youre': 4992, 'suspend': 4329, 'your': 4991, 'normal': 3033, 'give': 1912, 'shot': 3949, 'written': 4972, 'acted': 98, 'unusual': 4681, 'number': 3060, 'main': 2707, 'done': 1322, 'better': 472, 'cinematography': 820, 'subtle': 4260, 'design': 1202, 'touches': 4535, 'check': 777, 'clothes': 860, 'match': 2762, 'color': 877, 'house': 2178, 'beautifully': 429, 'effective': 1429, 'material': 2766, 'slowly': 4032, 'past': 3207, 'usually': 4700, 'bizarre': 492, 'events': 1536, 'keep': 2449, 'fans': 1650, 'entertained': 1498, 'supernatural': 4302, 'premise': 3370, 'interviews': 2330, 'dvd': 1391, 'pay': 3216, 'attention': 345, 'beliefs': 452, 'probably': 3407, 'intimate': 2331, 'knowledge': 2491, 'culture': 1079, 'why': 4878, 'feature': 1678, 'scary': 3807, 'children': 792, 'adults': 126, 'look': 2646, 'point': 3316, 'slightly': 4029, 'into': 2332, 'clichéd': 845, 'mystery': 2956, 'thriller': 4472, 'territory': 4411, 'heres': 2087, 'what': 4858, 'happened': 2027, 'flashback': 1746, 'fairly': 1631, 'otherwise': 3137, 'been': 438, 'now': 3054, 'ive': 2372, 'said': 3774, 'let': 2579, 'finish': 1732, 'mini': 2854, 'im': 2232, 'anti': 254, 'ridiculous': 3693, 'studios': 4241, 'feel': 1684, 'we': 4823, 'need': 2987, 'foreign': 1790, 'appropriate': 283, 'original': 3129, 'versions': 4721, 'these': 4441, 'playing': 3300, 'theaters': 4428, 'wide': 4880, 'release': 3602, 'actors': 104, 'non': 3027, 'yes': 4982, 'fine': 1729, 'ultimately': 4628, 'id': 2212, 'rather': 3528, 'using': 4698, 'talent': 4354, 'treated': 4573, 'latest': 2526, 'spanish': 4092, 'chinese': 796, 'my': 2951, 'hope': 2155, 'someone': 4064, 'pull': 3461, 'reads': 3545, 'cost': 1003, 'completely': 922, 'avoid': 363, 'costs': 1004, 'simply': 3986, 'domestic': 1318, 'distribution': 1298, 'deals': 1137, 'receive': 3563, 'money': 2888, 'myself': 2953, 'pick': 3265, 'dvds': 1392, 'accurate': 90, 'review': 3676, 'must': 2950, 'door': 1328, 'history': 2121, 'opened': 3113, 'tom': 4514, 'cruise': 1071, 'long': 2644, 'last': 2521, 'tells': 4397, 'world': 4946, 'german': 1896, 'during': 1387, 'military': 2844, 'soldiers': 4054, 'tried': 4584, 'over': 3148, 'throw': 4479, 'nazi': 2977, 'political': 3324, 'new': 3003, 'peace': 3219, 'absolute': 71, 'heroes': 2089, 'received': 3564, 'help': 2079, 'helped': 2080, 'french': 1830, 'next': 3007, 'writers': 4969, 'evil': 1548, 'millions': 2848, 'lives': 2628, 'believe': 454, 'people': 3221, 'nazis': 2978, 'deserved': 1200, '24': 39, 'hour': 2176, 'germans': 1897, 'broken': 594, 'english': 1483, 'scientists': 3819, 'developed': 1223, 'jet': 2400, 'including': 2264, 'succeeded': 4263, 'allow': 189, 'any': 256, 'high': 2100, 'speed': 4103, 'radio': 3504, 'without': 4913, 'usa': 4691, 'having': 2054, 'relevant': 3604, 'got': 1944, 'they': 4442, 'always': 203, 'had': 2003, 'crucial': 1068, 'intelligence': 2313, 'hitler': 2124, '20': 29, 'proof': 3434, 'efforts': 1433, 'wanted': 4789, 'steal': 4170, 'worlds': 4947, 'greatest': 1966, 'technology': 4385, 'contain': 962, 'complete': 921, 'through': 4477, 'power': 3359, 'justify': 2439, 'took': 4523, 'year': 4978, 'day': 1129, 'before': 440, 'advanced': 128, 'germany': 1898, 'died': 1244, 'abandoned': 62, 'their': 4431, 'own': 3158, 'greed': 1968, 'control': 977, 'property': 3438, 'government': 1948, 'everything': 1544, 'else': 1448, 'second': 3846, 'place': 3282, 'killed': 2469, 'stayed': 4167, 'open': 3112, 'led': 2558, 'cold': 872, 'weapons': 4829, 'taken': 4350, 'crimes': 1056, 'public': 3460, 'relations': 3596, 'mass': 2753, 'murder': 2939, 'justice': 2438, 'smoke': 4039, 'screen': 3829, 'greedy': 1969, 'because': 432, 'against': 147, 'staff': 4138, 'anyway': 261, 'whom': 4875, 'paid': 3169, 'whether': 4866, 'rent': 3626, 'afraid': 140, 'renting': 3629, 'never': 3001, 'heard': 2062, 'remember': 3616, 'great': 1964, '30': 42, 'minutes': 2859, 'stopped': 4202, 'watching': 4815, 'watch': 4811, 'unbelievable': 4634, 'gets': 1900, 'worse': 4951, 'could': 1007, 'little': 2624, 'research': 3644, 'future': 1856, 'projects': 3428, 'movies': 2927, 'try': 4600, 'writing': 4971, 'believable': 453, 'able': 66, 'get': 1899, 'agree': 155, 'despite': 1211, 'read': 3543, 'script': 3834, 'oh': 3096, 'god': 1926, 'sucks': 4271, 'dead': 1132, 'introduced': 2337, 'london': 2641, 'mighty': 2836, 'alike': 185, 'forced': 1787, 'battle': 414, 'flesh': 1753, 'eating': 1413, 'corpse': 999, 'friends': 1837, 'end': 1468, 'suggested': 4281, 'zombies': 4998, 'cheap': 774, 'presents': 3377, 'set': 3898, '1950s': 14, 'america': 212, 'hilariously': 2107, 'witty': 4917, 'post': 3352, 'zombie': 4997, 'wars': 4804, 'ended': 1470, 'creation': 1040, 'company': 910, 'town': 4541, 'wild': 4885, 'zone': 4999, 'once': 3106, 'landscape': 2513, 'torn': 4528, 'surviving': 4323, 'left': 2561, 'typical': 4623, 'small': 4033, 'difference': 1246, 'status': 4165, 'familys': 1646, 'amount': 219, 'unfortunately': 4654, 'robinson': 3716, 'whatsoever': 4861, 'due': 1382, 'fear': 1676, 'mother': 2911, 'helen': 2075, 'suffer': 4275, 'until': 4680, 'desperate': 1208, 'attempt': 340, 'impress': 2250, 'love': 2669, 'him': 2110, 'pair': 3176, 'violent': 4748, 'form': 1798, 'bond': 532, 'rival': 3706, 'classic': 835, 'dog': 1310, 'cliché': 844, 'names': 2963, 'pet': 3246, 'escape': 1517, 'prison': 3401, 'routine': 3743, 'bill': 481, 'put': 3480, 'mrs': 2930, 'connection': 946, 'sudden': 4272, 'manage': 2722, 'beloved': 461, 'whose': 4877, 'sharp': 3922, 'wit': 4908, 'gore': 1941, 'carry': 700, 'star': 4150, 'carrie': 697, 'anne': 246, 'billy': 482, 'ages': 152, 'twisted': 4618, 'subplots': 4256, 'example': 1553, 'sweet': 4336, 'unsettling': 4679, 'feelings': 1686, 'begin': 442, 'each': 1395, 'poignant': 3315, 'commentary': 899, 'genre': 1888, 'manages': 2725, 'bring': 585, 'worst': 4952, 'best': 469, 'while': 4868, 'care': 684, 'far': 1653, 'dark': 1115, 'comedies': 889, 'seen': 3865, 'incredible': 2269, 'pseudo': 3454, 'cry': 1073, 'de': 1131, 'ones': 3108, 'suffering': 4277, 'serious': 3891, 'lack': 2502, 'innocence': 2293, 'find': 1726, 'problem': 3408, 'masterpiece': 2759, 'spoke': 4125, 'direct': 1258, 'way': 4820, 'doesnt': 1309, 'convoluted': 987, 'self': 3869, 'modern': 2882, 'italian': 2367, 'filmmakers': 1720, 'bitter': 491, 'parody': 3192, 'mario': 2738, 'told': 4513, 'stories': 4205, 'father': 1666, 'sitting': 4007, 'edge': 1418, 'childrens': 793, 'bed': 436, 'went': 4847, 'sleep': 4024, 'lesser': 2576, 'degree': 1164, 'realistic': 3550, 'fairy': 1632, 'tales': 4357, 'today': 4508, 'call': 651, 'magic': 2703, 'realism': 3549, 'gem': 1877, 'sort': 4077, 'character': 758, 'accept': 80, 'heart': 2064, 'naturally': 2974, 'requires': 3642, 'cinema': 816, 'magnificent': 2705, 'real': 3547, 'trial': 4580, 'hanks': 2025, 'anybody': 257, 'buy': 640, 'looks': 2649, 'forty': 1807, 'box': 555, 'buddies': 608, 'course': 1019, 'concerns': 934, 'game': 1864, 'three': 4469, 'play': 3296, 'ends': 1474, 'thinking': 4453, 'whole': 4873, 'thing': 4450, 'chris': 806, 'genius': 1887, 'named': 2961, 'jay': 2386, 'wears': 4832, 'funny': 1852, 'yellow': 4981, 'hes': 2093, 'dressed': 1358, 'pilot': 3276, 'truly': 4597, 'awful': 372, 'bunch': 623, 'pop': 3330, 'mostly': 2910, 'parents': 3188, 'kids': 2467, 'theres': 4440, 'francis': 1818, 'louise': 2666, 'actually': 109, 'hot': 2174, 'hamilton': 2012, 'mayor': 2777, 'jaws': 2385, 'roll': 3728, 'cop': 991, 'wendy': 4846, 'interest': 2323, 'blonde': 511, 'guy': 2000, 'music': 2946, 'absolutely': 72, 'tension': 4404, 'sense': 3877, 'danger': 1109, 'excitement': 1562, 'nuts': 3064, 'late': 2523, 'kevin': 2457, 'peter': 3247, 'hall': 2009, 'fame': 1642, 'friend': 1835, 'mine': 2853, 'bin': 483, 'chuck': 812, 'trash': 4565, 'looking': 2648, 'watched': 4813, '13': 4, 'shock': 3938, 'favor': 1670, 'leave': 2555, 'yeah': 4977, 'jumps': 2432, 'trade': 4547, 'center': 732, 'drunken': 1376, 'miles': 2843, 'says': 3801, 'coming': 896, 'along': 195, 'nicely': 3009, 'walk': 4775, 'down': 1335, 'lake': 2509, 'visit': 4755, 'outfit': 3144, 'shown': 3959, 'week': 4837, 'brilliant': 583, 'serial': 3889, 'broadcast': 591, 'trailers': 4555, 'heavy': 2070, 'emphasis': 1463, 'arm': 292, 'hoping': 2160, 'victor': 4731, 'experiment': 1583, 'streets': 4217, 'luck': 2681, 'hero': 2088, 'physical': 3262, 'bottom': 551, 'corrupt': 1001, 'suppose': 4305, 're': 3535, 'fan': 1648, 'dick': 1239, 'might': 2835, 'enjoy': 1484, 'setting': 3900, 'context': 968, '70s': 56, 'finished': 1733, 'produced': 3414, 'lacking': 2504, 'trailer': 4554, 'featured': 1679, 'car': 680, 'taking': 4352, 'jack': 2373, 'beating': 425, 'blown': 516, 'away': 369, 'terrorists': 4414, 'inside': 2297, 'wrong': 4973, 'channel': 753, 'thats': 4425, 'exactly': 1551, 'feels': 1687, 'budget': 610, 'action': 100, 'quickly': 3491, 'contains': 964, 'laughable': 2530, 'lame': 2510, 'dialog': 1232, 'vaguely': 4706, 'name': 2960, 'brand': 565, 'recognition': 3568, 'tv': 4610, 'ian': 2209, 'plays': 3301, 'entire': 1502, 'native': 2972, 'parts': 3199, 'north': 3036, 'sympathetic': 4342, 'werent': 4849, 'loosely': 2651, 'figure': 1711, 'brief': 579, 'mission': 2870, 'value': 4709, 'prove': 3445, 'deserves': 1201, 'further': 1853, 'explore': 1594, 'men': 2805, 'dinosaurs': 1256, 'actual': 108, 'proves': 3447, 'wise': 4903, 'knows': 2493, 'situation': 4008, 'puts': 3481, 'ambitious': 211, 'girl': 1909, 'supposed': 4306, 'marry': 2745, 'falls': 1640, 'anger': 235, 'towards': 4540, 'pretty': 3384, 'relative': 3599, 'ease': 1404, 'area': 286, 'seems': 3864, 'takes': 4351, 'either': 1438, 'woods': 4935, 'village': 4743, 'visually': 4758, 'exciting': 1563, 'recognize': 3569, 'gave': 1875, 'unconvincing': 4638, 'accent': 78, 'somehow': 4063, 'disappeared': 1271, 'sound': 4081, 'casting': 711, 'choice': 797, 'released': 3603, 'question': 3487, 'overall': 3150, 'forgettable': 1794, 'times': 4497, 'kept': 2456, 'around': 297, 'confusing': 942, 'resolution': 3649, 'perhaps': 3235, 'intended': 2315, 'hang': 2022, 'together': 4511, 'rough': 3741, 'spots': 4132, 'recall': 3562, 'distant': 1295, 'take': 4349, 'ann': 244, 'grant': 1956, 'claire': 831, 'danes': 1108, 'college': 875, 'rich': 3685, 'afford': 138, 'expensive': 1579, 'education': 1424, 'ties': 4490, 'relatives': 3601, 'turn': 4605, 'consequences': 947, 'decisions': 1152, 'effect': 1428, 'evening': 1534, 'passion': 3205, 'harris': 2038, 'patrick': 3213, 'wilson': 4891, 'tragic': 4552, 'death': 1141, 'brother': 598, 'buddy': 609, 'suddenly': 4273, 'finds': 1728, 'behavior': 446, 'missed': 2867, 'relationship': 3597, 'eventually': 1537, 'wedding': 4836, 'continues': 971, 'hold': 2129, 'obvious': 3071, 'deeply': 1156, 'married': 2744, 'scene': 3809, 'showing': 3958, 'chance': 747, 'meeting': 2794, 'years': 4979, 'showed': 3956, 'romantic': 3733, 'relationships': 3598, 'falling': 1639, 'held': 2074, 'husbands': 2205, 'contrast': 975, 'man': 2721, 'husband': 2204, 'build': 614, 'marriage': 2743, 'fail': 1625, 'came': 656, 'apparently': 270, 'nurse': 3063, 'enough': 1491, 'information': 2288, 'moments': 2887, 'identify': 2216, 'contact': 961, 'none': 3028, 'appeared': 276, 'wondering': 4930, 'living': 2629, 'days': 1130, 'singing': 3995, 'seemed': 3862, 'step': 4175, 'ahead': 159, 'financial': 1725, 'disaster': 1276, 'raising': 3509, 'daughters': 1122, 'level': 2584, 'enjoyed': 1486, 'immensely': 2243, 'mansion': 2731, 'talented': 4355, 'singer': 3993, 'prefer': 3368, 'natural': 2973, 'bottle': 550, 'extras': 1608, 'those': 4460, 'cgi': 740, 'go': 1924, 'raise': 3507, 'vote': 4766, 'according': 88, 'popular': 3333, 'somewhat': 4068, 'difficult': 1249, 'seriously': 3892, 'tight': 4492, 'fascinating': 1658, 'called': 652, 'ninja': 3018, 'among': 217, 'enjoyable': 1485, 'realize': 3552, 'single': 3996, 'wrote': 4974, 'perfection': 3225, 'scream': 3826, 'bits': 490, 'boring': 543, 'stupid': 4247, 'going': 1931, 'prom': 3429, 'junk': 2436, 'ears': 1402, 'honestly': 2147, 'hills': 2109, 'leading': 2547, 'lady': 2507, 'uninteresting': 4660, 'obsessed': 3069, 'act': 97, 'ways': 4822, 'police': 3322, 'cover': 1022, 'front': 1841, 'back': 378, 'window': 4894, 'rolled': 3729, 'waiting': 4772, 'throat': 4476, 'killer': 2470, 'wants': 4791, 'least': 2554, 'victims': 4730, 'doors': 1329, 'nobody': 3022, 'fighting': 1709, 'security': 3854, 'hotel': 2175, 'room': 3735, 'mentally': 2809, 'youll': 4988, 'disappointed': 1273, 'killing': 2472, 'killings': 2473, 'theyve': 4446, 'already': 197, 'missing': 2869, 'cat': 713, 'pops': 3332, 'scared': 3805, 'thought': 4462, 'die': 1243, 'lets': 2580, 'say': 3799, 'audience': 352, 'talking': 4360, 'dumb': 1385, 'lazy': 2543, 'king': 2479, 'queen': 3485, 'blood': 512, 'save': 3794, 'friday': 1834, '13th': 5, 'halloween': 2010, 'scare': 3803, 'anything': 260, 'havent': 2053, 'rented': 3628, 'richards': 3687, 'talk': 4358, 'retarded': 3663, 'shes': 3930, 'unbelievably': 4635, 'imdb': 2240, 'list': 2617, 'note': 3044, 'video': 4733, 'store': 4204, 'returned': 3666, 'please': 3304, 'view': 4736, '1990': 24, 'academy': 77, 'award': 366, 'animated': 241, 'short': 3946, 'weeks': 4839, 'dozens': 1339, 'assume': 328, 'horrible': 2163, 'shows': 3960, 'group': 1980, 'super': 4295, 'uncle': 4636, 'appear': 273, 'simple': 3983, 'moved': 2922, 'stop': 4201, 'motion': 2913, 'animation': 242, 'faces': 1618, 'bodies': 526, 'standing': 4146, 'space': 4090, 'begins': 444, 'response': 3654, 'move': 2921, 'effort': 1432, 'balance': 387, 'relief': 3605, 'acts': 107, 'nasty': 2968, 'aside': 315, 'offers': 3090, 'nothing': 3047, 'clever': 841, 'criminal': 1057, 'ignored': 2225, 'unlikely': 4671, 'essentially': 1523, 'cultural': 1078, 'inspiring': 2302, 'land': 2511, 'godfather': 1927, 'recently': 3567, 'multi': 2935, 'lines': 2612, 'described': 1195, 'dimensional': 1253, 'shakespeare': 3915, 'episode': 1507, 'show': 3953, 'covered': 1023, 'occasionally': 3075, 'caused': 724, 'major': 2711, 'global': 1920, '1984': 23, 'moment': 2886, 'aired': 165, 'eve': 1532, 'detective': 1220, 'jim': 2402, 'drugs': 1374, 'craig': 1030, 'flat': 1748, 'allen': 188, 'estate': 1525, 'early': 1400, 'widely': 4881, 'viewed': 4737, 'failure': 1629, 'destruction': 1216, 'following': 1774, 'invasion': 2340, 'iraq': 2351, 'several': 3905, 'months': 2897, 'highlight': 2103, 'problems': 3409, 'experienced': 1581, 'officers': 3093, 'praise': 3364, 'sensitive': 3879, 'areas': 287, 'under': 4639, 'cross': 1066, 'dressing': 1359, 'van': 4713, 'lost': 2660, 'chasing': 772, 'suspects': 4328, 'issues': 2365, 'trouble': 4592, 'word': 4937, 'famous': 1647, 'nelson': 2997, 'island': 2361, 'warming': 4795, 'haunted': 2050, 'reaching': 3539, 'depicted': 1183, 'poorly': 3329, 'lay': 2542, 'book': 535, 'illogical': 2231, 'gives': 1914, 'appearance': 274, 'mom': 2885, 'nearly': 2981, 'potential': 3355, 'performers': 3232, 'seem': 3861, 'centers': 734, 'african': 142, 'decided': 1149, 'driving': 1368, 'daughter': 1121, 'communist': 907, 'dinner': 1254, 'leads': 2548, 'drunk': 1375, 'working': 4944, 'blacks': 494, 'thinks': 4454, 'blind': 506, 'bigger': 479, 'tries': 4585, 'silence': 3974, 'does': 1308, 'logical': 2639, 'carrying': 701, 'person': 3238, 'idiot': 2218, 'rid': 3690, 'arrested': 298, 'obnoxious': 3067, 'segments': 3868, 'learn': 2550, 'lot': 2661, 'four': 1812, 'bo': 521, 'derek': 1192, 'john': 2409, 'terrible': 4407, 'certainly': 738, 'featuring': 1681, 'usual': 4699, 'mention': 2810, 'gratuitous': 1961, 'nudity': 3059, 'losing': 2658, 'older': 3101, 'suicide': 4283, 'saying': 3800, 'fact': 1621, 'come': 886, 'younger': 4990, 'body': 527, 'lovely': 2671, 'especially': 1520, 'mid': 2832, 'section': 3853, 'hired': 2117, 'typically': 4624, 'larger': 2519, 'easily': 1406, 'besides': 468, 'piece': 3272, 'plastic': 3294, 'presumably': 3380, 'obviously': 3072, 'handsome': 2021, 'hasnt': 2044, 'personality': 3242, 'don': 1320, 'business': 633, 'julie': 2428, 'angel': 231, 'plus': 3311, 'surprising': 4315, 'cameo': 657, 'donald': 1321, 'needed': 2988, 'cinematographer': 819, 'credits': 1050, 'useless': 4695, 'corny': 997, 'expressions': 1603, 'helping': 2081, 'ghosts': 1903, 'cant': 671, 'board': 522, 'awards': 367, 'sequels': 3886, 'rick': 3689, 'stars': 4155, 'third': 4455, 'sequel': 3885, 'entertaining': 1499, 'concept': 930, 'basically': 407, 'inner': 2292, 'garden': 1872, 'universe': 4666, 'sounds': 4084, 'again': 146, 'embarrassment': 1455, 'continuity': 972, 'toilet': 4512, 'remaining': 3610, 'actor': 103, 'actress': 105, 'wife': 4884, 'changed': 750, 'neighbors': 2994, 'results': 3662, 'originality': 3130, 'jokes': 2415, 'barely': 399, 'dangerous': 1110, 'situations': 4009, 'presented': 3376, 'straight': 4210, 'sure': 4308, 'smaller': 4034, 'pathetic': 3210, 'appearing': 277, 'admire': 121, 'awe': 370, 'tiny': 4500, 'huge': 2185, 'fourth': 1813, 'things': 4451, 'happen': 2026, 'thrilling': 4474, 'amusing': 221, 'dealing': 1136, 'nature': 2975, 'bugs': 613, 'live': 2625, 'compared': 912, 'deal': 1135, 'dust': 1388, 'trap': 4563, 'disgusting': 1286, 'trite': 4589, 'disneys': 1290, 'except': 1556, 'cash': 709, 'spending': 4106, 'warning': 4800, 'garbage': 1870, 'stay': 4166, 'getting': 1901, 'ask': 316, 'questions': 3489, 'doubts': 1333, 'birthday': 487, 'dare': 1113, 'hours': 2177, 'passionate': 3206, 'fall': 1637, 'count': 1010, 'intelligent': 2314, 'lonely': 2643, 'internet': 2327, 'cousin': 1021, 'discover': 1279, 'certain': 737, 'regular': 3592, 'thrills': 4475, 'opposite': 3123, 'surprises': 4314, 'performances': 3229, 'imaginative': 2237, 'imagined': 2239, 'touch': 4533, 'excellent': 1555, 'beauty': 430, 'deeper': 1155, 'sometimes': 4067, 'sad': 3767, 'sorry': 4076, 'seeing': 3857, 'wonder': 4926, 'less': 2575, 'loose': 2650, 'general': 1880, 'stilted': 4190, 'eastwood': 1409, 'embarrassing': 1454, 'herself': 2092, 'means': 2783, 'painfully': 3172, 'old': 3100, 'simplistic': 3985, 'plain': 3286, 'captures': 678, 'considered': 951, 'higher': 2101, 'aged': 149, '15': 7, '16': 8, 'broad': 590, 'stuck': 4237, 'knife': 2487, 'cinemas': 817, 'saw': 3798, 'packed': 3166, 'everybody': 1540, 'grew': 1972, 'forest': 1791, 'dean': 1139, 'hate': 2046, 'theyre': 4445, 'running': 3756, 'mate': 2765, 'forever': 1792, 'part': 3193, 'collection': 874, 'brilliantly': 584, 'mix': 2876, 'lead': 2545, 'integrity': 2311, 'soundtrack': 4085, 'shame': 3918, 'originally': 3131, 'stage': 4139, 'worked': 4941, 'liked': 2600, 'references': 3583, 'thomas': 4458, 'giving': 1915, 'start': 4156, 'journey': 2421, 'genuinely': 1892, 'sat': 3786, 'che': 773, 'bathroom': 412, 'break': 569, 'passed': 3202, 'advance': 127, 'directors': 1266, 'producers': 3416, 'putting': 3482, '25': 40, 'limits': 2607, 'enterprise': 1495, 'glad': 1916, 'steven': 4182, 'vision': 4754, 'bullets': 621, 'planet': 3289, 'doctor': 1304, 'via': 4726, 'revolution': 3680, 'kid': 2464, '1960s': 15, 'everywhere': 1545, 'bedroom': 437, 'wall': 4781, 'magazine': 2701, 'covers': 1024, 'images': 2235, 'revolutionary': 3681, 'butt': 638, 'ugly': 4625, 'imagination': 2236, 'dying': 1393, 'helps': 2082, 'notably': 3042, '2004': 34, 'starred': 4153, 'cute': 1090, 'south': 4087, 'poverty': 3357, 'politics': 3326, 'project': 3427, 'pays': 3218, 'imagine': 2238, 'instant': 2305, 'commercial': 902, 'may': 2775, 'mind': 2849, 'mexico': 2827, 'follows': 1775, 'cuba': 1075, 'york': 4985, 'un': 4630, 'cleverly': 842, 'black': 493, 'contemporary': 965, 'arent': 288, 'picks': 3268, 'arrives': 302, 'movement': 2923, 'entirely': 1503, 'spain': 4091, 'del': 1165, 'born': 544, 'personally': 3243, 'felt': 1692, 'ie': 2221, 'easier': 1405, 'strictly': 4223, 'winning': 4898, 'succeed': 4262, 'band': 391, 'workers': 4943, 'cause': 723, 'harder': 2035, 'defeat': 1157, 'exercise': 1568, 'heroic': 2090, 'dies': 1245, 'fails': 1628, 'doomed': 1327, 'connect': 944, 'peoples': 3222, 'successful': 4266, 'kills': 2474, 'struggles': 4235, 'given': 1913, 'leaves': 2556, 'trained': 4557, 'warriors': 4803, 'reminded': 3619, 'turned': 4606, 'thoughts': 4464, 'theatre': 4429, 'sellers': 3872, 'laurel': 2537, 'prisoner': 3402, 'surely': 4309, 'depressing': 1188, 'makeup': 2717, 'smith': 4038, 'fu': 1844, 'hardly': 2036, 'spends': 4107, 'exception': 1557, 'strangely': 4212, 'disturbing': 1300, 'weight': 4840, 'supporting': 4304, 'players': 3299, 'tired': 4501, 'run': 3755, 'sid': 3964, 'presence': 3373, 'offensive': 3086, 'constant': 957, 'bright': 581, 'spot': 4131, 'picture': 3269, 'portray': 3340, 'asian': 314, 'surprisingly': 4316, 'photography': 3260, 'sets': 3899, 'bang': 393, 'elvis': 1451, 'cut': 1089, 'rate': 3526, 'stunning': 4244, 'tall': 4362, 'thin': 4449, 'nervous': 2999, 'pants': 3182, 'wet': 4855, 'add': 115, 'affair': 135, 'provides': 3450, 'eerie': 1427, 'comics': 895, 'independent': 2272, 'productions': 3420, 'sink': 3999, 'definite': 1161, 'adequate': 120, 'background': 380, 'overdone': 3152, 'worthwhile': 4955, 'theater': 4427, 'order': 3126, 'comparing': 913, 'allowed': 190, 'dreadful': 1353, 'musical': 2947, 'score': 3822, 'mess': 2818, 'rated': 3527, 'scale': 3802, 'lower': 2677, 'opportunity': 3121, 'nonsense': 3030, 'expectations': 1576, 'scores': 3823, 'terms': 4406, 'riding': 3695, 'lived': 2626, 'surfing': 4311, 'jobs': 2406, 'girls': 1911, 'waves': 4819, 'hard': 2033, 'understand': 4643, 'awesome': 371, 'started': 4157, 'documentary': 1307, 'wwii': 4975, 'suffered': 4276, 'severe': 3906, 'spirits': 4115, 'am': 204, 'watchable': 4812, 'often': 3095, 'air': 164, 'force': 1786, '17': 9, 'pride': 3391, 'welcome': 4842, 'marks': 2742, 'portraying': 3343, 'true': 4596, 'reasonably': 3559, 'manner': 2729, 'found': 1811, 'honor': 2150, 'doubt': 1332, 'appearances': 275, 'apart': 264, 'frustrated': 1842, 'majority': 2712, 'science': 3816, 'fiction': 1702, 'dramas': 1347, 'central': 735, 'futuristic': 1857, 'gang': 1867, 'couldnt': 1008, 'shoot': 3942, 'upon': 4684, 'conventional': 979, 'wish': 4904, 'forbidden': 1785, 'civilization': 827, 'machines': 2694, 'hadnt': 2004, 'brain': 562, 'intellectual': 2312, 'aspect': 321, 'existence': 1571, 'walter': 4784, 'dr': 1340, 'built': 618, 'horrors': 2169, 'creating': 1039, 'defend': 1158, 'superior': 4300, 'species': 4098, 'destroyed': 1214, 'landing': 2512, 'party': 3200, 'naive': 2958, 'reaction': 3541, 'male': 2719, 'fathers': 1667, 'construction': 960, 'cook': 988, 'obsession': 3070, 'robot': 3717, 'crew': 1053, 'wonders': 4931, 'mr': 2929, 'artificial': 306, 'creature': 1045, 'satisfying': 3791, 'destroy': 1213, 'century': 736, 'grey': 1973, 'crazy': 1035, 'strange': 4211, 'sick': 3963, 'describe': 1194, 'beyond': 476, 'reading': 3544, 'rental': 3627, 'top': 4525, 'eccentric': 1414, 'favorite': 1671, 'edie': 1419, 'include': 2261, 'nose': 3037, 'society': 4050, 'uninspired': 4657, 'disney': 1289, 'interpretation': 2328, 'comic': 893, 'matthew': 2772, 'weakest': 4825, 'trilogy': 4586, 'variety': 4714, 'reasons': 3560, 'winner': 4897, 'consistent': 953, 'producer': 3415, 'gary': 1873, 'dirty': 1268, 'forth': 1804, 'shower': 3957, 'dry': 1377, 'creatures': 1046, 'makers': 2715, 'itself': 2371, 'experience': 1580, 'empire': 1464, 'brought': 600, 'alien': 183, 'ice': 2210, 'locations': 2636, 'desert': 1198, 'face': 1616, 'lucas': 2680, 'bears': 421, 'version': 4720, 'fight': 1707, 'unfortunate': 4653, 'weak': 4824, 'solo': 4058, 'whereas': 4865, 'struggling': 4236, 'liners': 2611, 'convinced': 984, 'loves': 2674, 'luke': 2687, 'conclusion': 936, 'contrived': 976, 'rescue': 3643, 'ford': 1789, 'bored': 541, 'lacks': 2505, 'style': 4249, 'earlier': 1399, '1990s': 25, 'performance': 3228, 'fisher': 1739, 'giant': 1905, 'development': 1225, 'cared': 685, 'fair': 1630, 'clean': 838, 'fault': 1668, 'elaborate': 1439, 'battles': 415, 'entertainment': 1500, 'twenty': 4612, 'ten': 4399, 'mean': 2779, 'lion': 2614, 'reference': 3582, 'subplot': 4255, 'closely': 855, 'seed': 3856, 'crude': 1069, 'humor': 2192, 'aware': 368, 'gags': 1862, 'narrator': 2967, 'near': 2979, 'tell': 4395, 'elephant': 1444, 'stands': 4147, 'merely': 2815, 'relatively': 3600, 'christopher': 811, 'george': 1893, 'decent': 1147, 'charm': 767, 'specific': 4099, 'comparison': 914, 'managed': 2723, 'personal': 3240, 'depth': 1190, 'foul': 1810, 'ward': 4793, 'inspired': 2301, 'surprised': 4313, 'leslie': 2574, 'standard': 4144, 'neat': 2982, 'unrealistic': 4677, 'learned': 2551, 'weekend': 4838, 'cabin': 643, 'hill': 2108, 'wreck': 4965, 'lots': 2662, 'dragged': 1343, 'nightmares': 3015, 'poor': 3328, 'assistant': 326, 'admit': 122, 'intrigued': 2334, 'mysterious': 2955, 'laughed': 2532, 'ha': 2002, 'angry': 238, 'execution': 1566, 'oil': 3097, 'mouth': 2920, 'bite': 489, 'suck': 4269, 'gonna': 1936, 'ok': 3098, 'tommy': 4516, 'agent': 150, 'calls': 654, 'fire': 1734, 'price': 3389, 'snake': 4042, 'expert': 1585, 'handle': 2018, 'occasional': 3074, 'alert': 178, 'directing': 1260, 'per': 3223, 'develop': 1222, 'skills': 4014, 'filmmaker': 1719, '11': 2, 'minute': 2858, 'gothic': 1945, 'melodrama': 2797, 'narrative': 2966, 'edgar': 1417, 'powerful': 3360, 'sadistic': 3768, 'revenge': 3675, 'arthur': 305, 'johnson': 2411, 'leonard': 2572, 'private': 3404, 'achievement': 94, 'fallen': 1638, 'royal': 3746, 'henry': 2084, 'discovered': 1280, 'ignorant': 2223, 'orders': 3127, 'stone': 4197, 'placed': 3283, 'eye': 1611, 'detail': 1217, 'costumes': 1006, 'reality': 3551, 'castle': 712, 'authentic': 358, 'methods': 2825, 'suspense': 4330, 'became': 431, 'finding': 1727, 'lovers': 2673, 'lengthy': 2570, 'camera': 659, 'parallel': 3185, 'darker': 1116, 'editing': 1421, 'technique': 4383, 'use': 4692, 'cutting': 1092, 'create': 1036, 'kings': 2481, 'actions': 101, 'suffers': 4278, 'era': 1513, 'rooms': 3736, 'footage': 1782, 'captured': 677, 'total': 4531, 'become': 433, 'dull': 1384, 'greatly': 1967, 'exaggerated': 1552, 'extra': 1606, 'madness': 2698, 'particularly': 3195, 'attempted': 341, 'replaced': 3634, 'solid': 4057, 'reactions': 3542, 'accompanied': 86, 'silent': 3975, 'serve': 3893, 'pleasantly': 3303, 'thoroughly': 4459, 'chick': 786, 'flick': 1754, 'sappy': 3784, 'tears': 4380, 'twist': 4617, 'unexpected': 4650, 'debut': 1143, 'important': 2247, 'moon': 2900, 'teenager': 4390, 'women': 4923, 'relate': 3593, 'emotions': 1461, 'teenage': 4389, 'confused': 941, 'across': 96, 'silly': 3976, 'appreciated': 280, 'considering': 952, 'driven': 1365, 'extreme': 1609, 'protect': 3443, 'attacked': 338, 'stranger': 4213, 'realizes': 3554, 'breaks': 571, 'attacks': 339, 'eyes': 1613, 'wake': 4774, 'laws': 2540, 'criminals': 1058, 'harsh': 2040, 'adult': 125, 'answers': 252, 'superb': 4296, 'agents': 151, 'dollars': 1315, 'normally': 3034, 'sci': 3815, 'fi': 1701, 'light': 2595, 'aliens': 184, 'traveling': 4568, 'twelve': 4611, 'monkeys': 2891, 'biggest': 480, 'somewhere': 4069, 'underground': 4640, 'virus': 4752, '1996': 26, 'population': 3335, 'alive': 186, 'cole': 873, 'cage': 645, 'chosen': 805, 'spread': 4133, 'study': 4242, 'machine': 2693, 'perfectly': 3226, 'accidentally': 85, 'meets': 2795, 'psychiatrist': 3455, 'jeffrey': 2391, 'insane': 2296, 'son': 4070, 'scientist': 3818, 'clear': 839, 'travel': 4567, 'army': 295, 'keeps': 2451, 'interested': 2324, 'bruce': 602, 'willis': 4890, 'brad': 560, 'pitt': 3280, 'incredibly': 2270, 'viewings': 4741, 'terry': 4415, 'vegas': 4717, 'convince': 983, 'forward': 1808, 'writes': 4970, 'advice': 133, 'valuable': 4708, 'lessons': 2578, 'predictable': 3367, 'ruin': 3750, 'chemistry': 782, 'steve': 4181, 'wrapped': 4964, 'happily': 2030, 'rocks': 3722, 'nick': 3012, 'generally': 1881, 'cool': 989, 'figured': 1712, 'respect': 3652, 'cringe': 1059, 'dialogue': 1234, 'perform': 3227, '75': 57, 'odd': 3080, 'sign': 3970, '40': 48, 'mentioned': 2811, 'appalling': 268, 'wooden': 4934, 'jones': 2418, 'our': 3139, 'flaw': 1749, 'literally': 2622, 'surprise': 4312, 'awkward': 374, 'distracting': 1297, 'recommend': 3571, 'circumstances': 822, 'abc': 63, 'involves': 2348, 'innocent': 2294, 'female': 1693, 'students': 4239, 'camp': 662, 'southern': 4088, 'phone': 3255, 'rape': 3521, 'torture': 4529, 'grim': 1974, 'tame': 4363, 'feeling': 1685, 'wore': 4939, 'violence': 4747, 'crying': 1074, 'strip': 4228, 'lesbian': 2573, 'guard': 1988, 'uses': 4697, 'exploitation': 1592, 'tortured': 4530, 'sleazy': 4023, 'crush': 1072, 'pleasant': 3302, 'sex': 3907, 'neither': 2996, 'douglas': 1334, 'surrounding': 4319, 'ex': 1549, 'pat': 3208, 'anna': 245, 'realized': 3553, 'gay': 1876, 'relation': 3595, 'school': 3813, 'principal': 3398, 'club': 863, 'hearts': 2066, '2002': 32, 'slow': 4031, 'fell': 1690, 'longer': 2645, 'brutal': 603, 'appreciation': 281, 'grown': 1984, 'age': 148, 'nice': 3008, 'lovable': 2668, 'shines': 3932, 'digital': 1251, 'traditional': 4550, 'designs': 1204, 'colour': 880, 'shine': 3931, 'water': 4816, 'nonetheless': 3029, 'fantasy': 1652, 'loads': 2633, 'vast': 4716, 'landscapes': 2514, 'technical': 4381, 'brilliance': 582, 'friendly': 1836, 'funnier': 1850, 'screenplay': 3831, 'humour': 2194, 'pleasure': 3306, 'measure': 2786, 'honesty': 2148, 'comedy': 890, 'ourselves': 3140, 'catherine': 719, 'terrific': 4409, 'flawed': 1750, 'hilarious': 2106, 'virgin': 4749, 'truth': 4599, 'charming': 768, 'highly': 2105, 'waitress': 4773, 'engaging': 1481, 'numerous': 3062, 'bette': 471, 'davis': 1126, 'cruel': 1070, 'account': 89, 'rose': 3739, 'tough': 4537, 'repeated': 3631, 'howard': 2182, 'plane': 3288, 'crash': 1033, 'studio': 4240, 'convincing': 985, 'parker': 3191, 'paul': 3214, 'ken': 2453, 'kim': 2475, 'harvey': 2042, 'buffs': 612, 'rating': 3529, 'dated': 1119, 'television': 4394, 'professional': 3421, 'christmas': 810, 'carol': 693, 'highest': 2102, 'minor': 2857, 'scrooge': 3837, 'mistakes': 2873, 'scott': 3824, 'stellar': 4174, 'shouldnt': 3952, 'location': 2635, 'shooting': 3943, 'winter': 4900, 'backdrop': 379, 'endearing': 1469, 'flawless': 1751, 'faithful': 1634, 'holiday': 2134, 'mark': 2739, 'tradition': 4549, 'meaning': 2780, 'selfish': 3870, 'lose': 2654, 'starring': 4154, 'frank': 1821, 'sinatra': 3989, 'gene': 1879, 'kelly': 2452, 'rain': 3506, 'team': 4378, 'alright': 198, 'arms': 294, 'hands': 2020, 'moving': 2928, 'table': 4346, 'lisa': 2616, 'stand': 4143, 'clint': 850, 'delightful': 1168, 'storytelling': 4209, 'visual': 4757, 'media': 2789, 'train': 4556, 'ride': 3692, 'unique': 4662, 'needs': 2990, 'duke': 1383, 'episodes': 1508, 'draw': 1349, 'crack': 1027, 'shadow': 3912, 'whats': 4860, 'happening': 2028, 'miscast': 2862, 'phony': 3256, 'thick': 4447, 'scenario': 3808, 'appears': 278, 'sincere': 3991, 'minded': 2850, 'ultimate': 4627, 'mental': 2808, 'freedom': 1828, 'dramatic': 1348, 'opportunities': 3120, 'process': 3412, 'hip': 2114, 'hop': 2154, 'industry': 2280, 'copy': 994, 'laugh': 2529, 'familiar': 1643, 'places': 3284, 'copies': 992, 'unlike': 4670, 'trek': 4578, 'plots': 3310, 'theme': 4433, 'connected': 945, 'understanding': 4645, 'season': 3843, 'greater': 1965, 'extent': 1605, 'line': 2610, 'speaking': 4095, 'mood': 2898, 'homer': 2144, 'simpson': 3987, 'seasons': 3844, 'appreciate': 279, 'exceptional': 1558, 'staying': 4168, 'fox': 1814, 'wing': 4896, 'likely': 2601, 'station': 4164, 'sitcom': 4004, 'fired': 1735, 'chief': 788, 'crime': 1055, 'suggests': 4282, 'bland': 500, 'suit': 4284, 'listening': 2620, 'boss': 546, 'adds': 119, 'junior': 2435, 'instantly': 2306, 'screams': 3828, 'unit': 4663, 'clearly': 840, 'laughs': 2534, 'vulnerable': 4768, 'wear': 4830, 'scripts': 3836, 'points': 3319, 'cops': 993, 'instinct': 2308, 'basic': 406, 'slap': 4018, 'slasher': 4020, 'swear': 4334, 'picked': 3266, 'random': 3514, 'street': 4216, 'secondly': 3847, 'rip': 3700, 'killers': 2471, 'freddy': 1826, 'scarecrow': 3804, 'horrid': 2165, 'animals': 240, 'raised': 3508, 'head': 2057, 'gods': 1928, 'sake': 3775, 'class': 833, 'understood': 4647, 'standards': 4145, 'murderer': 2941, 'delight': 1167, 'climactic': 848, 'tune': 4602, 'grab': 1949, 'co': 867, 'ed': 1415, 'snow': 4045, 'naked': 2959, 'fake': 1635, 'roberts': 3714, 'secretly': 3851, 'swimming': 4338, 'hello': 2078, 'drops': 1372, 'ring': 3698, 'explanation': 1590, 'paying': 3217, 'mothers': 2912, 'tiresome': 4502, 'runs': 3757, 'kitchen': 2485, 'nor': 3032, 'rush': 3759, 'pulled': 3462, 'middle': 2833, 'crowd': 1067, 'ago': 154, 'sum': 4289, 'youve': 4995, 'randomly': 3515, 'michael': 2829, 'caine': 647, 'sidney': 3968, 'fast': 1661, 'opens': 3115, 'broadway': 592, 'reviewers': 3678, 'east': 1407, 'patient': 3211, 'ms': 2931, 'discuss': 1283, 'cliff': 847, 'anderson': 227, 'former': 1800, 'hit': 2122, 'lumet': 2688, 'smiling': 4037, 'similar': 3978, 'gifted': 1907, 'disappoint': 1272, 'fantastic': 1651, 'human': 2188, 'bus': 631, 'driver': 1366, 'country': 1014, 'capital': 673, 'happens': 2029, 'lifestyle': 2593, 'bought': 552, 'sexy': 3911, 'invisible': 2344, 'visible': 4753, 'wasted': 4809, 'insulting': 2310, 'insult': 2309, 'aimed': 162, 'racist': 3503, 'starts': 4159, 'santa': 3783, 'food': 1778, 'jaw': 2384, 'pitch': 3279, 'suggest': 4280, 'rubbish': 3748, 'incoherent': 2265, 'france': 1816, 'art': 304, 'louis': 2665, 'searching': 3842, 'coherent': 871, 'storyline': 4208, 'loses': 2657, 'willing': 4889, 'somebody': 4062, 'message': 2819, 'closing': 859, 'fbi': 1675, 'flashbacks': 1747, 'pieces': 3273, 'dozen': 1338, 'whos': 4876, 'gangsters': 1869, 'nevertheless': 3002, 'pearl': 3220, 'author': 359, 'literature': 2623, 'romance': 3732, 'wind': 4893, 'novels': 3053, 'earth': 1403, 'lane': 2515, 'reach': 3536, 'fortune': 1806, 'prepared': 3371, 'san': 3780, 'francisco': 1819, 'evidence': 1546, 'rise': 3702, 'sixties': 4011, 'seventies': 3904, 'miller': 2846, 'supposedly': 4307, 'ran': 3513, 'hey': 2095, 'primary': 3394, 'met': 2822, 'walking': 4779, 'beach': 419, 'pre': 3365, 'creates': 1038, 'earl': 1398, 'seven': 3903, 'square': 4136, 'round': 3742, 'telling': 4396, 'bucks': 606, 'gangster': 1868, 'throwing': 4480, 'prequel': 3372, 'determined': 1221, 'necessarily': 2983, 'ridden': 3691, 'length': 2569, 'matt': 2768, 'toy': 4542, 'simplicity': 3984, 'guys': 2001, 'sport': 4129, 'blend': 504, 'basketball': 409, 'baseball': 403, 'national': 2970, 'encounter': 1466, 'send': 3875, 'stretched': 4222, 'park': 3190, 'airplane': 166, 'sight': 3969, 'robert': 3713, 'corporate': 998, 'noticed': 3049, 'comfortable': 892, 'track': 4544, 'ultra': 4629, 'vehicle': 4718, 'stan': 4142, 'stones': 4198, 'summary': 4290, 'formula': 1802, 'charge': 761, 'massive': 2756, 'weird': 4841, 'frankly': 1823, 'tied': 4489, 'annoying': 249, 'child': 789, 'dubbed': 1379, 'uncomfortable': 4637, 'farce': 1654, 'purchase': 3469, 'happy': 2032, 'sons': 4073, 'changes': 751, 'china': 795, 'sole': 4055, 'moves': 2925, 'added': 116, 'individual': 2277, 'conflicts': 940, 'walks': 4780, 'touched': 4534, 'warmth': 4796, 'humanity': 2189, 'fool': 1779, 'screenwriter': 3833, 'lee': 2559, 'britain': 588, 'foot': 1781, 'previously': 3388, 'british': 589, 'office': 3091, 'jimmy': 2403, 'keeping': 2450, 'ballet': 389, 'dancer': 1104, 'household': 2179, 'dancers': 1105, 'meet': 2793, 'houses': 2180, 'ridiculously': 3694, 'false': 1641, 'criticism': 1063, 'clue': 864, 'appeal': 271, 'inappropriate': 2259, 'forgot': 1796, 'dancing': 1107, 'suitable': 4285, 'protagonist': 3441, 'angels': 234, 'blame': 499, 'themes': 4434, 'exact': 1550, 'asked': 317, 'apparent': 269, 'joke': 2414, 'spooky': 4128, 'stuff': 4243, 'sees': 3866, 'ghost': 1902, 'free': 1827, 'souls': 4080, 'blah': 496, 'heaven': 2068, 'whilst': 4869, 'hell': 2077, 'survive': 4321, 'saving': 3797, 'crap': 1031, 'laughing': 2533, 'badly': 383, 'sister': 4001, 'intriguing': 2335, 'wished': 4905, 'sequences': 3888, 'prevent': 3385, 'distinct': 1296, 'regard': 3588, 'mysteries': 2954, 'busy': 635, 'suspicious': 4332, 'wealthy': 4827, 'types': 4622, 'william': 4887, 'powell': 3358, 'mary': 2751, 'gone': 1935, 'depression': 1189, 'changing': 752, 'mature': 2773, 'endure': 1475, 'stiff': 4187, 'toward': 4539, 'theatrical': 4430, 'trip': 4588, 'jason': 2383, 'flight': 1757, 'fights': 1710, 'bear': 420, 'twice': 4613, 'chest': 784, 'holy': 2140, 'decides': 1150, 'kick': 2460, 'gag': 1861, 'sea': 3838, 'cooper': 990, 'describes': 1196, 'oliver': 3102, 'hardy': 2037, 'ocean': 3079, 'escaped': 1518, 'chilling': 794, 'boys': 559, 'comedic': 888, 'tribute': 4581, 'charisma': 762, 'protagonists': 3442, 'instance': 2304, 'noted': 3045, 'punch': 3466, 'apartment': 265, 'hal': 2006, 'environment': 1505, 'colorful': 878, 'charlie': 765, 'pity': 3281, 'entry': 1504, 'artistic': 308, 'plan': 3287, 'bomb': 531, '1968': 16, 'crafted': 1029, '1983': 22, '1973': 19, 'wait': 4770, 'glory': 1922, 'spoil': 4121, 'demented': 1176, 'families': 1644, 'community': 908, 'importantly': 2248, 'church': 813, 'planning': 3291, 'catchy': 717, 'tunes': 4603, 'wont': 4932, '1970s': 17, 'sing': 3992, 'songs': 4072, 'block': 508, 'joe': 2407, 'sucked': 4270, 'ideas': 2215, 'gory': 1943, 'hoped': 2156, 'deaths': 1142, 'porn': 3336, 'ratings': 3530, '100': 1, '12': 3, 'okay': 3099, 'selling': 3873, 'lying': 2690, 'vampires': 4712, 'dracula': 1341, 'capture': 676, 'jump': 2429, 'expect': 1575, 'jumping': 2431, 'slightest': 4028, 'capable': 672, 'absurd': 73, 'credibility': 1047, 'stick': 4185, 'paltrow': 3178, 'kate': 2446, 'speaks': 4096, 'lies': 2591, 'undoubtedly': 4648, 'cannot': 670, 'portrait': 3339, 'redemption': 3578, 'prostitute': 3440, 'beings': 449, 'result': 3660, 'hung': 2197, 'green': 1971, 'pace': 3161, 'boredom': 542, 'outcome': 3142, 'da': 1094, 'speak': 4094, 'clip': 851, 'displayed': 1292, 'disease': 1285, 'condition': 937, 'poetry': 3314, 'strongly': 4231, 'stanley': 4148, 'dig': 1250, 'feet': 1688, 'zero': 4996, 'ray': 3533, 'treasure': 4571, 'books': 536, 'follow': 1772, 'australian': 357, 'knew': 2486, 'guilt': 1994, 'perspective': 3245, 'news': 3005, 'australia': 356, 'dogs': 1311, 'ruined': 3751, 'empathy': 1462, 'outside': 3146, 'unaware': 4632, 'influenced': 2287, 'masses': 2755, 'baby': 376, 'holding': 2130, 'press': 3379, 'couldve': 1009, 'liking': 2604, 'streep': 4215, 'department': 1182, 'emotion': 1458, 'immediately': 2242, 'devil': 1228, 'triumph': 4590, 'practice': 3363, 'religion': 3607, 'thus': 4486, 'initially': 2291, 'react': 3540, 'loss': 2659, 'themselves': 4435, 'starting': 4158, 'mill': 2845, 'notion': 3050, 'whatever': 4859, 'pack': 3165, 'sam': 3777, 'constantly': 958, 'fred': 1825, 'cuts': 1091, 'restaurant': 3658, 'court': 1020, 'carried': 698, 'settings': 3901, 'red': 3576, 'rachel': 3500, 'delivers': 1172, 'manager': 2724, 'murphy': 2944, 'synopsis': 4344, 'plans': 3292, 'returning': 3667, 'funeral': 1849, 'brian': 576, 'cox': 1026, 'ready': 3546, 'jackson': 2375, 'boat': 523, 'catches': 715, 'mirror': 2861, 'steals': 4172, 'cell': 730, 'mad': 2696, 'fitting': 1742, '18': 10, 'knowing': 2490, 'opening': 3114, 'reasonable': 3558, 'airport': 167, 'pursuit': 3476, 'voice': 4761, 'bother': 548, 'ps': 3453, 'inane': 2258, 'device': 1227, 'reached': 3537, 'floor': 1759, 'notice': 3048, 'surrounded': 4318, 'sides': 3967, 'lousy': 2667, 'hits': 2125, 'drives': 1367, 'neighborhood': 2993, 'explains': 1589, 'dad': 1095, 'saturday': 3792, 'morning': 2906, 'cartoons': 705, 'chases': 771, 'seconds': 3848, 'chase': 769, 'steps': 4177, 'guessed': 1990, 'wes': 4851, 'craven': 1034, 'bay': 416, 'hippie': 2115, 'plenty': 3307, 'birth': 486, 'agrees': 157, 'eighties': 1437, 'increasingly': 2268, 'spin': 4112, 'segment': 3867, 'growing': 1983, 'whoever': 4872, 'brutally': 604, 'raped': 3522, 'gold': 1932, 'handed': 2016, 'dire': 1257, 'purpose': 3474, 'thirty': 4456, 'teens': 4392, 'trapped': 4564, 'rubber': 3747, 'precious': 3366, 'rarely': 3524, 'mask': 2752, 'hence': 2083, 'skip': 4016, 'indeed': 2271, 'proud': 3444, 'kenneth': 2455, 'causing': 726, 'grasp': 1960, 'hearing': 2063, 'everyones': 1543, 'alex': 179, 'jane': 2380, 'bands': 392, 'teen': 4388, 'actresses': 106, 'jamie': 2379, 'trick': 4582, 'lucky': 2683, 'laid': 2508, 'exist': 1569, 'jesse': 2397, 'ya': 4976, 'brothers': 599, 'staged': 4140, 'purely': 3472, 'spoof': 4127, 'target': 4366, 'voices': 4763, 'quiet': 3492, 'heavily': 2069, 'curious': 1083, 'remembered': 3617, 'stood': 4199, 'namely': 2962, 'motivation': 2914, 'psychotic': 3459, 'credible': 1048, 'necessary': 2984, 'teaching': 4377, 'position': 3345, 'sheer': 3925, 'treatment': 4574, 'tale': 4353, 'ellen': 1446, 'murdered': 2940, 'struggle': 4234, 'larry': 2520, 'program': 3424, 'reviewer': 3677, 'watches': 4814, 'notable': 3041, 'hatred': 2049, 'psychological': 3458, 'eric': 1514, 'strong': 4229, 'side': 3965, 'separate': 3883, 'psycho': 3457, 'campbell': 663, 'meant': 2784, 'stale': 4141, 'engage': 1479, 'warned': 4798, 'text': 4419, 'worker': 4942, 'russian': 3762, 'mafia': 2700, 'accents': 79, 'stock': 4193, 'destroying': 1215, 'handful': 2017, 'event': 1535, 'hospital': 2172, 'fresh': 1833, 'innovative': 2295, 'thanks': 4423, 'dreams': 1355, 'memories': 2803, 'viewer': 4738, 'master': 2757, 'tim': 4494, 'burton': 630, 'scenery': 3810, 'darkness': 1117, 'oscar': 3133, 'nomination': 3026, 'cardboard': 682, 'holds': 2131, 'energy': 1478, 'strength': 4219, 'overwhelming': 3157, 'complex': 923, 'compelling': 916, 'bleak': 503, 'smart': 4035, 'commit': 904, 'secrets': 3852, 'safe': 3771, 'impressed': 2251, 'share': 3920, 'blue': 518, 'buying': 641, 'england': 1482, 'victoria': 4732, 'vacation': 4704, 'arrived': 301, 'subjects': 4254, 'critics': 1064, 'prince': 3396, 'albert': 174, 'excited': 1561, 'hear': 2061, 'civil': 826, 'ashley': 313, 'unintentionally': 4659, 'arrival': 299, 'conflict': 939, 'offered': 3088, 'thousands': 4466, 'nation': 2969, 'hunting': 2201, 'hunt': 2198, 'theory': 4437, 'taylor': 4372, 'characterization': 759, 'hunter': 2199, 'joined': 2413, 'fellow': 1691, 'evident': 1547, 'limited': 2606, 'indians': 2275, 'horses': 2171, 'generous': 1886, 'hunters': 2200, 'lloyd': 2630, 'outstanding': 3147, 'dance': 1103, 'richard': 3686, 'brooks': 596, 'slaughter': 4021, 'noble': 3021, 'climax': 849, 'cable': 644, 'classics': 837, 'ron': 3734, 'fx': 1858, '50': 51, 'factor': 1622, 'dude': 1381, 'disc': 1278, 'shining': 3933, 'road': 3709, 'falk': 1636, 'indie': 2276, 'laughter': 2535, 'enjoying': 1487, 'craft': 1028, 'folks': 1771, 'dragon': 1344, 'hint': 2112, 'likes': 2602, 'humans': 2190, 'implausible': 2245, 'spoilers': 4124, 'ad': 110, 'cave': 727, 'hair': 2005, 'pretend': 3381, 'huh': 2187, 'chicago': 785, 'helicopter': 2076, 'flies': 1756, 'combat': 882, 'boot': 538, 'signs': 3973, 'base': 402, 'flicks': 1755, '60s': 54, 'fighter': 1708, 'possibility': 3349, 'theyll': 4444, 'hire': 2116, 'spite': 4117, 'eaten': 1412, 'disappointment': 1275, 'notch': 3043, 'unreal': 4676, 'holmes': 2139, 'string': 4227, 'edited': 1420, 'channels': 754, '14': 6, 'flash': 1745, 'graphic': 1958, 'double': 1331, 'kiss': 2483, 'pg': 3250, 'six': 4010, 'decade': 1144, 'tone': 4517, 'taxi': 4371, 'dentist': 1180, 'followed': 1773, 'gas': 1874, 'pretending': 3382, 'cure': 1081, 'neck': 2985, 'assumed': 329, 'wanna': 4786, 'petty': 3249, 'reminds': 3620, 'attitude': 346, 'mentioning': 2812, 'angles': 237, 'remind': 3618, 'blair': 497, 'witch': 4909, 'locked': 2637, 'andrew': 228, 'ear': 1397, 'hiding': 2099, 'directly': 1263, 'damn': 1100, 'hated': 2047, 'pain': 3170, 'molly': 2884, 'wandering': 4785, 'proper': 3436, 'field': 1704, 'jesus': 2399, 'christ': 807, 'dawn': 1127, 'afterwards': 145, 'chose': 804, 'opinion': 3118, 'decide': 1148, 'expecting': 1578, 'slapstick': 4019, 'moral': 2902, 'likable': 2598, 'involving': 2349, 'refreshing': 3586, 'stylish': 4251, 'empty': 1465, 'con': 928, 'sub': 4252, 'attempting': 342, 'maintain': 2710, 'chess': 783, 'bold': 528, 'dynamic': 1394, 'waste': 4808, 'equal': 1509, 'possibly': 3351, 'uk': 4626, 'terrifying': 4410, 'secret': 3849, 'margaret': 2735, 'content': 966, 'letters': 2582, 'unable': 4631, 'competition': 918, 'morgan': 2905, 'felix': 1689, 'arrogant': 303, 'tracy': 4546, 'shop': 3945, 'mail': 2706, 'ryan': 3765, 'suspect': 4327, 'disagree': 1269, 'glass': 1917, 'la': 2500, 'maker': 2714, 'controversial': 978, 'breath': 573, 'common': 906, 'sexual': 3908, 'introduces': 2338, 'related': 3594, 'misery': 2865, 'faced': 1617, 'topic': 4526, 'directions': 1262, 'moronic': 2907, 'navy': 2976, 'brave': 567, 'direction': 1261, 'existent': 1572, 'attitudes': 347, 'brown': 601, 'football': 1783, 'annie': 247, 'davies': 1125, 'tragedy': 4551, 'facial': 1619, 'expression': 1602, 'joy': 2422, 'joan': 2404, 'ralph': 3510, 'edward': 1426, 'david': 1124, 'williams': 4888, 'player': 3298, 'forgotten': 1797, 'appealing': 272, 'mild': 2839, 'wounded': 4961, 'murderous': 2942, 'assault': 324, 'responsible': 3656, 'identity': 2217, 'ironically': 2356, 'sisters': 4002, 'cult': 1077, 'humble': 2191, 'miserably': 2864, 'threw': 4470, 'philip': 3252, 'mundane': 2938, 'preview': 3386, 'sounding': 4083, 'composed': 926, 'afternoon': 144, 'forget': 1793, 'legend': 2564, 'favourite': 1673, 'storm': 4206, 'ability': 65, 'hong': 2149, 'kong': 2494, 'computer': 927, 'generated': 1882, 'deserve': 1199, 'credit': 1049, 'thrown': 4481, 'guess': 1989, 'pulls': 3464, 'martial': 2747, 'arts': 310, 'magical': 2704, 'abilities': 64, 'sky': 4017, 'games': 1865, 'carries': 699, 'elements': 1443, 'entertain': 1497, 'granted': 1957, 'costume': 1005, 'pokemon': 3320, 'childish': 791, 'anymore': 258, 'regret': 3591, 'artist': 307, 'ted': 4386, 'turner': 4607, 'library': 2589, 'california': 650, 'los': 2653, 'angeles': 233, 'promised': 3431, 'ball': 388, 'bat': 410, 'al': 170, 'rangers': 3517, 'rule': 3753, 'championship': 745, 'miracle': 2860, 'asking': 318, 'troubles': 4594, 'adventures': 131, '1980s': 21, 'fill': 1714, 'solely': 4056, 'thrill': 4471, 'market': 2740, 'challenging': 744, 'redeeming': 3577, 'idiotic': 2219, 'sidekick': 3966, 'physically': 3263, 'scientific': 3817, '20th': 38, 'closest': 857, 'proved': 3446, 'correct': 1000, 'answer': 251, 'intent': 2318, 'stealing': 4171, 'russell': 3761, 'matthau': 2771, 'lemmon': 2567, 'careers': 687, 'shed': 3924, 'professor': 3422, 'robbins': 3712, 'attracted': 349, 'equipment': 1511, 'lou': 2663, 'provided': 3449, 'hopes': 2159, 'lie': 2590, 'rocket': 3721, 'ship': 3934, 'brings': 587, 'president': 3378, 'stretch': 4221, 'valley': 4707, 'pulp': 3465, 'mistake': 2871, 'allowing': 191, 'unnecessary': 4672, 'europe': 1529, 'eg': 1434, 'reed': 3580, 'various': 4715, 'tarzan': 4367, 'villains': 4745, 'sword': 4340, 'wells': 4845, '80': 58, 'shape': 3919, 'closer': 856, 'raymond': 3534, 'richardson': 3688, 'devoted': 1231, 'philosophy': 3254, 'solve': 4060, 'generations': 1884, 'weapon': 4828, 'lifetime': 2594, 'fashioned': 1660, 'headed': 2058, 'established': 1524, 'ii': 2226, 'cameron': 661, 'offer': 3087, 'respected': 3653, 'tomatoes': 4515, 'conversations': 981, 'spy': 4135, 'superman': 4301, 'description': 1197, 'therefore': 4439, 'reporter': 3636, 'print': 3399, 'tape': 4365, 'search': 3841, 'drug': 1373, 'lord': 2652, 'building': 615, 'plight': 3308, 'travesty': 4570, 'veteran': 4724, 'disappointing': 1274, 'upper': 4685, 'filming': 1718, 'lacked': 2503, 'kissing': 2484, 'epic': 1506, 'impact': 2244, 'twins': 4616, 'interaction': 2322, 'format': 1799, 'language': 2516, 'purchased': 3470, 'stated': 4161, 'ironic': 2355, 'grow': 1982, 'fate': 1665, 'bar': 396, 'happiness': 2031, 'pretentious': 3383, 'humorous': 2193, 'eddie': 1416, 'funniest': 1851, 'concert': 935, '90': 60, 'impression': 2252, 'sadly': 3769, 'nights': 3016, 'lewis': 2586, 'tour': 4538, 'cars': 702, 'model': 2880, 'lincoln': 2608, 'taste': 4369, 'curse': 1086, 'artists': 309, 'rural': 3758, 'narration': 2965, 'favorites': 1672, 'teach': 4374, 'comments': 901, 'claimed': 829, 'christian': 808, 'burned': 626, 'muslim': 2949, 'temple': 4398, 'facts': 1624, 'captain': 674, 'conspiracy': 956, 'focused': 1767, 'paranoia': 3186, 'farm': 1656, 'chain': 741, 'authority': 360, 'burns': 628, 'secretary': 3850, 'state': 4160, 'below': 462, 'catch': 714, 'accomplished': 87, 'motivations': 2915, 'audio': 354, 'performed': 3230, 'tad': 4347, 'impossible': 2249, 'clown': 862, 'seat': 3845, 'choose': 799, 'stronger': 4230, 'knock': 2488, 'enemies': 1476, 'corner': 996, 'talks': 4361, 'florida': 1761, 'compare': 911, 'adapted': 114, 'unbearable': 4633, 'rap': 3520, 'serving': 3897, 'steel': 4173, 'spent': 4108, 'powers': 3361, 'kinda': 2477, 'unless': 4669, 'haunting': 2051, 'lawyer': 2541, 'accused': 91, 'discovers': 1281, 'race': 3499, 'extraordinary': 1607, 'wave': 4818, 'spectacular': 4101, 'thrillers': 4473, 'promising': 3433, 'pure': 3471, 'spiritual': 4116, 'masterful': 2758, 'carefully': 689, 'thumbs': 4485, 'bettie': 473, 'page': 3167, 'icon': 2211, 'represented': 3638, 'teenagers': 4391, 'nowhere': 3056, 'hbo': 2055, 'emotionally': 1460, 'shallow': 3917, 'associated': 327, 'rat': 3525, 'support': 4303, 'sheriff': 3929, 'popularity': 3334, 'fit': 1740, 'includes': 2263, 'dennis': 1179, 'shortly': 3947, 'card': 681, 'rolling': 3730, 'hank': 2024, 'ben': 463, 'stiller': 4189, 'macy': 2695, 'delivering': 1171, 'mitchell': 2875, 'tend': 4400, 'drag': 1342, 'switch': 4339, 'speech': 4102, 'comedian': 887, 'million': 2847, 'dollar': 1314, 'angela': 232, 'allows': 192, 'regarding': 3589, 'loud': 2664, 'states': 4163, 'atrocious': 335, 'teacher': 4375, 'schools': 3814, 'utter': 4701, 'fully': 1847, 'explained': 1587, 'models': 2881, 'singers': 3994, 'fat': 1663, 'seemingly': 3863, 'asks': 319, 'sinister': 3998, 'fears': 1677, 'ripped': 3701, 'jessica': 2398, 'inspector': 2299, 'treat': 4572, 'mouse': 2919, 'activities': 102, 'tremendous': 4579, 'giallo': 1904, 'comment': 898, 'abuse': 74, 'catholic': 720, 'committed': 905, 'bound': 553, 'repeat': 3630, 'united': 4664, 'ass': 323, 'patients': 3212, 'safety': 3772, 'ordinary': 3128, 'travels': 4569, 'mike': 2838, 'sit': 4003, 'ensues': 1493, 'trust': 4598, 'essential': 1522, 'guessing': 1991, 'proceedings': 3410, 'mainly': 2708, 'draws': 1352, 'reminiscent': 3621, 'amounts': 220, 'honest': 2146, 'citizen': 824, 'kane': 2442, 'roger': 3724, 'superficial': 4298, 'argue': 290, 'questionable': 3488, 'training': 4558, 'frequently': 1832, 'colonel': 876, 'command': 897, 'structure': 4233, 'judge': 2424, 'amateur': 206, 'wallace': 4782, 'ned': 2986, 'gotten': 1947, 'frequent': 1831, 'believes': 456, 'widow': 4883, 'doctors': 1305, 'leg': 2562, 'join': 2412, 'officer': 3092, 'flying': 1764, 'facing': 1620, 'albeit': 173, 'march': 2734, 'rare': 3523, 'andy': 230, 'eight': 1436, 'prime': 3395, 'song': 4071, 'merits': 2817, 'host': 2173, 'judging': 2425, 'stunt': 4245, 'buried': 624, 'dignity': 1252, 'grave': 1962, 'drive': 1363, 'stops': 4203, 'escapes': 1519, 'heads': 2059, 'wow': 4962, 'delivered': 1170, 'intense': 2316, 'vs': 4767, 'fits': 1741, 'latter': 2528, 'topless': 4527, 'prisoners': 3403, 'painful': 3171, 'flop': 1760, 'claims': 830, 'sold': 4052, 'animal': 239, 'becoming': 435, 'resort': 3650, 'trees': 4577, 'historically': 2120, 'record': 3573, 'grows': 1985, 'pro': 3406, 'clothing': 861, 'chooses': 800, 'christians': 809, 'daring': 1114, 'code': 869, '1930s': 11, 'morality': 2903, '30s': 44, 'barbara': 397, 'stanwyck': 4149, 'addition': 118, 'official': 3094, 'illegal': 2229, 'daddy': 1096, 'breaking': 570, 'beer': 439, 'hurt': 2202, 'blew': 505, 'bank': 394, 'sleeping': 4025, 'law': 2538, 'gritty': 1977, 'desire': 1205, 'wicked': 4879, 'transformation': 4560, 'period': 3236, 'wayne': 4821, 'system': 4345, 'resembles': 3646, 'drew': 1360, 'mildly': 2840, 'pleased': 3305, 'nancy': 2964, 'mars': 2746, 'titled': 4505, 'nicholson': 3011, 'couples': 1017, 'danny': 1112, 'handled': 2019, 'overlook': 3153, 'blow': 514, 'messed': 2821, 'horribly': 2164, 'contract': 973, 'rights': 3697, 'lasted': 2522, 'lees': 2560, 'dislike': 1288, 'jake': 2377, 'sentence': 3881, 'vice': 4727, 'lust': 2689, 'bothered': 549, 'properly': 3437, 'whenever': 4863, 'listen': 2619, 'talked': 4359, 'faster': 1662, 'musicals': 2948, 'coffee': 870, 'dropping': 1371, 'terribly': 4408, 'samurai': 3779, 'menacing': 2807, 'hopper': 2161, 'utterly': 4702, 'frame': 1815, 'johnny': 2410, 'wood': 4933, 'earned': 1401, 'girlfriend': 1910, 'warm': 4794, 'cd': 728, 'available': 361, 'range': 3516, 'raw': 3532, 'sticks': 4186, 'exists': 1573, 'endings': 1472, 'spoiler': 4123, 'worthy': 4956, 'levels': 2585, 'medium': 2792, 'qualities': 3483, 'furthermore': 1854, 'onto': 3111, 'paper': 3183, 'convey': 982, 'unwatchable': 4682, 'wannabe': 4787, 'pool': 3327, 'barry': 401, 'generation': 1883, 'bbc': 417, 'cares': 690, 'irritating': 2359, 'swedish': 4335, 'jon': 2416, 'duo': 1386, 'masterpieces': 2760, 'recorded': 3574, '80s': 59, 'subtitles': 4259, 'errors': 1516, 'grand': 1953, 'legendary': 2565, 'ensemble': 1492, 'nostalgic': 3039, 'adaptation': 113, 'remains': 3611, 'loving': 2675, 'chaplin': 756, 'teeth': 4393, 'shake': 3914, 'sympathy': 4343, 'cats': 721, 'required': 3641, 'maggie': 2702, 'finest': 1730, 'portrayal': 3341, 'aunt': 355, 'marvelous': 2750, 'risk': 3704, 'washington': 4806, 'tedious': 4387, 'offering': 3089, 'streisand': 4218, 'directs': 1267, 'jewish': 2401, 'believing': 457, 'unintentional': 4658, 'ground': 1979, 'sits': 4006, 'mediocre': 2791, 'witnesses': 4916, 'pushed': 3478, 'greek': 1970, 'pictures': 3270, 'lawrence': 2539, 'closet': 858, 'desperately': 1209, 'alas': 172, 'possible': 3350, 'throws': 4482, 'focuses': 1768, 'fields': 1705, 'buck': 605, 'wrestling': 4966, 'alan': 171, 'kidding': 2465, 'decision': 1151, 'campy': 664, 'hysterical': 2208, 'grade': 1951, 'represents': 3639, 'discussion': 1284, 'gordon': 1940, 'possibilities': 3348, 'hitchcock': 2123, 'homage': 2141, 'cup': 1080, 'goal': 1925, 'express': 1600, 'senseless': 3878, 'amanda': 205, 'candy': 668, 'texas': 4418, 'baker': 385, 'italy': 2368, 'generic': 1885, 'mst3k': 2932, 'resemblance': 3645, 'cameras': 660, 'personalities': 3241, 'corruption': 1002, 'surface': 4310, 'reunion': 3669, 'intensity': 2317, 'cried': 1054, 'aging': 153, 'challenge': 743, 'insight': 2298, 'kudos': 2497, 'persons': 3244, 'neighbor': 2992, 'promise': 3430, 'styles': 4250, 'transfer': 4559, 'defense': 1159, 'exotic': 1574, 'positive': 3346, 'graphics': 1959, 'countries': 1013, 'eastern': 1408, 'survival': 4320, 'fabulous': 1615, 'gruesome': 1986, 'settle': 3902, 'itll': 2369, 'spare': 4093, 'misses': 2868, 'guts': 1999, 'shall': 3916, 'creep': 1051, 'massacre': 2754, 'satisfy': 3790, 'calm': 655, 'spielberg': 4110, 'tear': 4379, 'yesterday': 4983, 'seeks': 3860, 'horrific': 2166, 'strike': 4224, 'restored': 3659, 'shelf': 3926, 'produce': 3413, 'test': 4416, 'reel': 3581, 'stooges': 4200, 'shorts': 3948, 'judy': 2426, 'aids': 161, '90s': 61, 'term': 4405, 'health': 2060, 'experiences': 1582, 'daily': 1097, 'basis': 408, 'eat': 1411, 'mixed': 2877, 'quirky': 3493, 'april': 284, 'freak': 1824, 'root': 3737, 'suffice': 4279, 'diana': 1237, 'briefly': 580, 'within': 4912, 'youth': 4994, 'reflect': 3584, 'golden': 1934, 'combined': 885, 'talents': 4356, 'hardcore': 2034, 'beats': 426, 'mere': 2814, 'showcase': 3954, 'hollywoods': 2138, 'continue': 969, 'smile': 4036, 'push': 3477, 'realise': 3548, 'sexually': 3910, 'timing': 4498, 'neil': 2995, 'simon': 3982, 'displays': 1293, 'genuine': 1891, 'nominated': 3025, 'mile': 2842, 'morris': 2908, 'caught': 722, 'site': 4005, 'screening': 3830, 'walked': 4776, 'homosexual': 2145, 'lynch': 2691, 'visuals': 4759, 'pass': 3201, 'display': 1291, 'weve': 4856, 'skin': 4015, 'cinematic': 818, 'purposes': 3475, 'hammer': 2014, 'excuse': 1564, 'alexander': 180, 'win': 4892, 'von': 4765, 'providing': 3451, 'irony': 2357, 'movements': 2924, 'celluloid': 731, 'shocked': 3939, 'werewolf': 4850, 'womans': 4922, 'bare': 398, 'messages': 2820, 'metal': 2823, 'wives': 4918, 'disappear': 1270, 'till': 4493, 'receives': 3565, 'album': 175, 'simmons': 3981, 'spirit': 4113, '2006': 36, 'seeking': 3859, 'detailed': 1218, 'investigation': 2343, 'inevitably': 2283, 'meaningless': 2782, 'dialogs': 1233, 'max': 2774, 'affected': 137, 'martin': 2748, 'hamlet': 2013, 'murders': 2943, 'ruth': 3763, 'overlooked': 3154, 'trashy': 4566, 'clichés': 846, 'survivor': 4324, 'split': 4120, 'remarkable': 3613, 'hitting': 2126, 'screaming': 3827, 'incompetent': 2266, 'doc': 1303, 'savage': 3793, 'warn': 4797, 'meaningful': 2781, 'striking': 4226, 'depicts': 1186, 'testament': 4417, 'silver': 3977, 'soul': 4079, 'kingdom': 2480, 'journalist': 2420, 'troubled': 4593, 'attorney': 348, 'swim': 4337, 'pointless': 3318, 'doll': 1313, 'boom': 537, 'letter': 2581, 'improved': 2255, 'tree': 4576, 'plant': 3293, 'princess': 3397, 'awake': 365, 'anime': 243, 'yelling': 4980, 'lips': 2615, 'twin': 4615, 'truck': 4595, 'jenny': 2393, 'size': 4012, 'dear': 1140, 'broke': 593, 'kicks': 2463, 'cartoon': 704, 'rings': 3699, 'dropped': 1370, 'careful': 688, 'choices': 798, 'legs': 2566, 'matches': 2764, 'sunshine': 4294, 'user': 4696, 'lately': 2524, 'embarrassed': 1453, 'struck': 4232, 'conversation': 980, 'initial': 2290, 'reviews': 3679, 'pushing': 3479, 'inept': 2281, '3rd': 47, 'blowing': 515, 'aforementioned': 139, 'mans': 2730, 'aspects': 322, 'dealt': 1138, '1933': 12, 'porno': 3337, 'daniel': 1111, 'persona': 3239, 'calling': 653, 'lena': 2568, 'involve': 2345, 'kay': 2447, 'inventive': 2341, 'colors': 879, 'sports': 4130, 'stevens': 4183, 'strikes': 4225, 'key': 2458, 'wouldve': 4959, 'wishes': 4906, 'fancy': 1649, 'mall': 2720, 'cheating': 776, 'wrap': 4963, 'summer': 4291, 'suspenseful': 4331, 'friendship': 1838, 'robots': 3718, 'photographer': 3259, 'americas': 215, 'enormous': 1490, 'gradually': 1952, 'vhs': 4725, 'dubbing': 1380, 'included': 2262, 'marketing': 2741, 'theyd': 4443, 'rotten': 3740, 'turning': 4608, 'cliche': 843, 'provoking': 3452, 'dress': 1357, 'companion': 909, 'nostalgia': 3038, 'screens': 3832, 'nicholas': 3010, 'disturbed': 1299, 'failed': 1626, 'mountain': 2917, 'nowadays': 3055, 'waited': 4771, 'fish': 1738, 'ups': 4686, 'belief': 451, 'bone': 533, 'americans': 214, 'elegant': 1441, 'celebrity': 729, 'pregnant': 3369, 'drop': 1369, 'mistaken': 2872, 'elm': 1447, 'videos': 4734, 'shirt': 3937, 'jean': 2389, 'installment': 2303, 'kinds': 2478, 'bloody': 513, 'infamous': 2284, 'cynical': 1093, 'belong': 459, 'childhood': 790, 'mechanical': 2788, 'inducing': 2279, 'wizard': 4919, 'altogether': 202, 'creative': 1041, 'astaire': 330, 'ginger': 1908, 'rogers': 3725, 'choreography': 802, 'partly': 3197, 'remote': 3622, 'incomprehensible': 2267, 'pamela': 3179, 'fest': 1696, 'bargain': 400, 'basement': 405, 'shark': 3921, 'goofy': 1939, 'guarantee': 1987, 'cheek': 779, 'thank': 4421, 'fly': 1763, 'enjoyment': 1488, 'grandmother': 1955, 'depiction': 1185, 'represent': 3637, 'firstly': 1737, 'cusack': 1088, 'staring': 4152, 'rochester': 3719, 'matched': 2763, 'continued': 970, 'listed': 2618, 'blank': 501, 'burn': 625, 'minimum': 2856, 'pulling': 3463, 'midnight': 2834, 'divorce': 1301, 'heroine': 2091, 'shoots': 3944, 'lucy': 2684, 'unfunny': 4655, 'ah': 158, 'kung': 2498, 'thru': 4483, 'frightening': 1839, 'importance': 2246, 'quotes': 3497, 'chaos': 755, 'blond': 510, 'explaining': 1588, 'canada': 666, 'incident': 2260, 'panic': 3181, 'heston': 2094, 'inevitable': 2282, 'faith': 1633, 'destiny': 1212, 'vivid': 4760, 'forces': 1788, 'noir': 3023, 'focusing': 1769, 'victim': 4729, 'progress': 3425, 'quest': 3486, 'ethan': 1528, 'witness': 4914, 'witnessed': 4915, 'reduced': 3579, 'dutch': 1389, 'strangers': 4214, 'mentions': 2813, 'revealed': 3671, 'revealing': 3672, 'enemy': 1477, 'anywhere': 263, 'irrelevant': 2358, 'closed': 854, 'refuses': 3587, 'distance': 1294, 'border': 539, 'nine': 3017, 'lover': 2672, 'voiced': 4762, 'sally': 3776, 'virtually': 4751, 'tense': 4403, 'directorial': 1265, 'bollywood': 530, 'load': 2631, 'develops': 1226, 'vampire': 4711, 'legal': 2563, 'philosophical': 3253, 'sorts': 4078, 'object': 3066, 'achieved': 93, 'cinderella': 815, 'inspiration': 2300, 'borrowed': 545, 'thoughtful': 4463, 'dickens': 1240, 'successfully': 4267, 'agreed': 156, 'reaches': 3538, 'pig': 3274, 'scheme': 3812, 'served': 3894, 'butler': 637, 'opera': 3116, 'jerry': 2396, 'antics': 255, 'pot': 3354, 'hyde': 2206, 'amateurish': 207, 'acceptable': 81, 'grandfather': 1954, 'chances': 748, 'intention': 2319, 'breasts': 572, 'gorgeous': 1942, 'brazil': 568, 'em': 1452, 'lesson': 2577, 'sends': 3876, 'clumsy': 866, 'soft': 4051, 'shadows': 3913, 'korean': 2495, 'portrays': 3344, 'accident': 84, '2007': 37, 'captivating': 675, 'tonight': 4519, 'gerard': 1895, 'forms': 1801, 'spoken': 4126, 'formulaic': 1803, 'paris': 3189, 'statement': 4162, 'current': 1084, 'warren': 4801, 'groups': 1981, 'leader': 2546, 'views': 4742, 'opinions': 3119, 'devils': 1229, 'slave': 4022, 'unoriginal': 4673, 'carradine': 695, 'bag': 384, 'cheated': 775, 'nuclear': 3057, 'cia': 814, 'suits': 4287, 'choreographed': 801, 'alcohol': 176, 'elsewhere': 1449, 'numbers': 3061, 'tracks': 4545, 'pile': 3275, 'upset': 4687, 'lowest': 2678, 'satisfied': 3789, 'revelation': 3674, 'concern': 931, 'enter': 1494, 'courage': 1018, 'tea': 4373, 'partner': 3198, 'overcome': 3151, 'festival': 1697, 'introduction': 2339, 'riveting': 3708, 'shocking': 3940, 'amazingly': 210, 'factory': 1623, 'revolves': 3682, 'meanwhile': 2785, 'shut': 3961, 'unhappy': 4656, 'notorious': 3051, 'banned': 395, 'substance': 4258, 'bore': 540, 'beast': 422, 'symbolism': 4341, 'resist': 3648, 'affect': 136, 'remarks': 3615, 'stupidity': 4248, 'tie': 4488, 'props': 3439, 'juvenile': 2441, 'minimal': 2855, 'forgive': 1795, 'par': 3184, 'annoyed': 248, 'dating': 1120, 'contest': 967, 'exposure': 1599, 'soccer': 4048, 'source': 4086, 'blob': 507, 'spike': 4111, 'picking': 3267, 'stomach': 4196, 'drivel': 1364, 'signed': 3971, 'alice': 182, 'harry': 2039, 'trail': 4553, 'winds': 4895, 'minds': 2852, 'flow': 1762, 'understandable': 4644, 'alcoholic': 177, 'belongs': 460, 'wonderfully': 4929, 'spell': 4104, 'wishing': 4907, 'sadness': 3770, 'unforgettable': 4652, 'monk': 2889, 'teachers': 4376, 'comical': 894, 'lol': 2640, 'warner': 4799, 'performs': 3234, 'buff': 611, 'product': 3418, 'offended': 3085, 'terror': 4412, 'june': 2433, 'executive': 1567, 'guilty': 1995, '1st': 28, 'causes': 725, 'females': 1694, 'passes': 3203, 'motives': 2916, 'enthusiasm': 1501, 'crappy': 1032, 'franchise': 1817, 'kidnapped': 2466, 'beaten': 424, 'meat': 2787, 'attached': 336, 'newspaper': 3006, 'soap': 4047, 'damage': 1099, 'et': 1526, 'hearted': 2065, 'advantage': 129, 'robin': 3715, 'stays': 4169, 'fix': 1744, 'negative': 2991, 'countless': 1012, 'overrated': 3156, 'atlantis': 332, 'trademark': 4548, 'planned': 3290, 'garbo': 1871, 'alfred': 181, 'gift': 1906, 'deliberately': 1166, '1972': 18, 'thugs': 4484, 'amongst': 218, 'abusive': 75, 'outer': 3143, 'nude': 3058, 'trio': 4587, 'eager': 1396, 'duty': 1390, 'widmark': 4882, 'matters': 2770, 'susan': 4326, 'needless': 2989, 'intrigue': 2333, 'hooked': 2153, 'everyday': 1541, 'occurred': 3077, 'miserable': 2863, 'hints': 2113, 'sir': 4000, 'conservative': 948, 'crisis': 1060, 'ladies': 2506, 'ignore': 2224, 'iii': 2227, 'fortunately': 1805, 'emily': 1456, 'blunt': 520, 'canadian': 667, 'multiple': 2936, 'jealous': 2388, 'monsters': 2893, 'considerable': 950, 'cake': 648, 'horrifying': 2167, 'analysis': 224, 'dave': 1123, 'losers': 2656, 'task': 4368, 'lit': 2621, 'hollow': 2135, 'cube': 1076, 'tons': 4520, 'gotta': 1946, 'oddly': 3081, 'conceived': 929, 'brains': 563, 'troops': 4591, 'sin': 3988, 'caring': 691, 'fascinated': 1657, 'dreary': 1356, 'interview': 2329, 'merit': 2816, 'website': 4834, 'intentionally': 2320, 'andrews': 229, 'mel': 2796, 'burning': 627, 'sacrifice': 3766, 'scottish': 3825, 'priest': 3392, 'explosions': 1597, 'arnold': 296, 'producing': 3417, 'pit': 3278, 'dawson': 1128, 'network': 3000, 'lights': 2597, 'executed': 1565, 'curiosity': 1082, 'toys': 4543, 'hopefully': 2157, 'core': 995, 'dolls': 1316, 'chapter': 757, 'mildred': 2841, 'treats': 4575, 'vicious': 4728, 'promises': 3432, 'confidence': 938, 'returns': 3668, 'gender': 1878, 'intentions': 2321, 'superbly': 4297, 'isolated': 2363, 'ludicrous': 2685, 'sloppy': 4030, 'opposed': 3122, 'fed': 1682, 'introduce': 2336, 'adams': 112, 'asleep': 320, 'mistress': 2874, 'worry': 4950, 'endless': 1473, 'newly': 3004, 'atmospheric': 334, 'moody': 2899, 'rendition': 3625, 'convincingly': 986, 'ingredients': 2289, 'unseen': 4678, 'hype': 2207, 'hidden': 2096, 'exposed': 1598, 'thousand': 4465, 'marie': 2737, 'manipulative': 2727, 'roy': 3745, 'rambo': 3511, 'reveal': 3670, 'performing': 3233, 'experiments': 1584, 'amazed': 208, 'fooled': 1780, 'jungle': 2434, 'laura': 2536, 'unpleasant': 4674, 'titles': 4506, 'matrix': 2767, 'provide': 3448, 'sell': 3871, 'jeremy': 2394, 'disjointed': 1287, 'moore': 2901, 'saved': 3795, 'mindless': 2851, 'grinch': 1975, 'stole': 4194, 'carrey': 696, 'wasting': 4810, 'serves': 3895, 'ticket': 4487, 'ought': 3138, 'columbo': 881, 'skill': 4013, 'unpredictable': 4675, 'sutherland': 4333, 'documentaries': 1306, 'techniques': 4384, '3d': 46, 'claim': 828, 'regardless': 3590, 'similarities': 3979, 'walken': 4777, 'demand': 1174, 'scripted': 3835, 'cg': 739, 'kirk': 2482, 'someones': 4065, 'blade': 495, 'neo': 2998, 'hed': 2072, 'taught': 4370, 'blows': 517, 'worn': 4948, 'rushed': 3760, 'contained': 963, 'tiger': 4491, 'waters': 4817, 'babe': 375, 'dialogues': 1235, 'individuals': 2278, 'apes': 267, 'ape': 266, 'disbelief': 1277, 'wound': 4960, 'politically': 3325, 'lab': 2501, 'carter': 703, 'adorable': 124, 'tongue': 4518, 'bet': 470, 'depressed': 1187, 'category': 718, 'memory': 2804, 'brando': 566, 'sings': 3997, 'jr': 2423, 'gross': 1978, 'mountains': 2918, 'soviet': 4089, 'explicit': 1591, 'useful': 4694, 'catching': 716, 'report': 3635, 'nearby': 2980, 'behave': 445, 'medical': 2790, 'relies': 3606, 'web': 4833, 'eyre': 1614, 'timothy': 4499, 'dalton': 1098, 'pages': 3168, 'spirited': 4114, 'attraction': 350, 'polished': 3323, 'blockbuster': 509, 'feed': 1683, 'combination': 883, 'failing': 1627, 'union': 4661, 'tap': 4364, 'smoking': 4040, 'edition': 1422, 'freeman': 1829, 'latin': 2527, 'classes': 834, '2001': 31, 'hideous': 2098, 'decades': 1145, 'hat': 2045, 'anyways': 262, 'advise': 134, 'sun': 4292, 'glenn': 1918, 'beat': 423, 'saves': 3796, 'monkey': 2890, 'creators': 1044, 'nail': 2957, 'adding': 117, 'rage': 3505, 'encounters': 1467, 'deliver': 1169, 'bergman': 466, 'improve': 2254, 'downhill': 1336, 'walker': 4778, 'illness': 2230, 'aint': 163, 'rob': 3710, 'loser': 2655, 'slight': 4027, 'halfway': 2008, 'erotic': 1515, 'norman': 3035, 'repeatedly': 3632, 'stereotypical': 4180, 'eyed': 1612, 'photo': 3257, 'worthless': 4954, 'feminist': 1695, 'africa': 141, 'bringing': 586, 'retired': 3664, 'splendid': 4119, 'learning': 2552, 'demons': 1178, 'abraham': 69, 'brady': 561, 'fonda': 1777, 'developing': 1224, 'concerning': 933, 'todd': 4510, 'hundreds': 2196, 'gandhi': 1866, 'coach': 868, 'bacall': 377, 'fashion': 1659, 'extended': 1604, 'absence': 70, 'pointed': 3317, 'poster': 3353, 'ham': 2011, 'downright': 1337, 'delivery': 1173, 'liberal': 2588, 'wisdom': 4902, 'perry': 3237, 'blake': 498, 'diane': 1238, 'todays': 4509, 'spring': 4134, 'elizabeth': 1445, 'attend': 344, 'fond': 1776, 'abysmal': 76, 'eva': 1531, 'quote': 3496, 'odds': 3082, 'adventure': 130, 'drinking': 1362, 'occur': 3076, 'charismatic': 763, 'river': 3707, 'operation': 3117, 'sunday': 4293, 'jumped': 2430, 'row': 3744, 'gentle': 1890, 'brenda': 575, 'womens': 4924, 'luckily': 2682, 'descent': 1193, 'omen': 3104, 'guide': 1993, 'survived': 4322, 'walls': 4783, 'bible': 477, 'drawing': 1350, 'complain': 919, 'kurt': 2499, 'underrated': 4642, 'mob': 2879, 'orson': 3132, 'welles': 4844, 'ireland': 2352, 'tricks': 4583, '1999': 27, 'irish': 2353, 'uneven': 4649, 'effectively': 1430, 'heights': 2073, 'creepy': 1052, 'jerk': 2395, 'underlying': 4641, 'jennifer': 2392, 'bell': 458, 'jeff': 2390, 'sounded': 4082, 'folk': 1770, 'drink': 1361, 'succeeds': 4264, 'likewise': 2603, 'gundam': 1997, 'complexity': 924, 'oz': 3160, 'exploration': 1593, 'balls': 390, 'orange': 3125, '1980': 20, 'sophisticated': 4075, 'museum': 2945, 'peters': 3248, 'masters': 2761, 'lighting': 2596, 'roots': 3738, 'paulie': 3215, 'nyc': 3065, 'bob': 524, 'bonus': 534, 'painting': 3175, 'hundred': 2195, 'iron': 2354, 'racial': 3501, 'shell': 3927, '3000': 43, 'wacky': 4769, 'circle': 821, 'chan': 746, 'centered': 733, 'realizing': 3555, 'dedicated': 1153, 'wholly': 4874, 'performer': 3231, '45': 50, 'checking': 778, 'hook': 2152, 'similarly': 3980, 'priceless': 3390, 'dances': 1106, 'denzel': 1181, 'involvement': 2347, 'thief': 4448, 'assigned': 325, 'foster': 1809, 'competent': 917, 'caliber': 649, 'ruthless': 3764, 'frustration': 1843, 'translation': 4562, 'fare': 1655, 'versus': 4722, 'critic': 1061, 'vague': 4705, 'maria': 2736, '1940s': 13, 'recording': 3575, 'miike': 2837, 'suited': 4286, 'counter': 1011, 'turkey': 4604, 'pie': 3271, 'bird': 484, 'technically': 4382, 'overacting': 3149, 'satire': 3788, 'keaton': 2448, 'stunts': 4246, 'explosion': 1596, 'wed': 4835, 'unfolds': 4651, 'access': 83, 'prior': 3400, 'portion': 3338, 'birds': 485, 'letting': 2583, 'visits': 4756, 'poem': 3312, 'consists': 955, 'tender': 4401, 'ships': 3935, 'cowboy': 1025, 'subtlety': 4261, 'subsequent': 4257, 'thankfully': 4422, 'saga': 3773, '35': 45, 'deceased': 1146, 'niro': 3019, 'alongside': 196, 'blatant': 502, 'stereotypes': 4179, 'bullet': 620, 'equivalent': 1512, 'demands': 1175, 'repetitive': 3633, 'deadly': 1133, 'finger': 1731, 'potentially': 3356, 'horrendous': 2162, 'contrary': 974, 'combine': 884, 'chicks': 787, 'stress': 4220, 'urban': 4688, 'recognized': 3570, 'cities': 823, 'existed': 1570, 'photos': 3261, 'ideal': 2214, 'month': 2896, 'remain': 3609, 'definition': 1163, 'oscars': 3134, 'outrageous': 3145, 'scope': 3821, 'montana': 2895, 'showdown': 3955, 'justin': 2440, 'issue': 2364, 'mickey': 2831, 'remotely': 3623, 'gripping': 1976, 'purple': 3473, 'rising': 3703, 'league': 2549, 'idiots': 2220, 'robbery': 3711, 'ego': 1435, 'terrorist': 4413, 'ancient': 225, 'chair': 742, 'pacino': 3164, 'loyal': 2679, 'punishment': 3467, 'wondered': 4927, 'responsibility': 3655, 'plague': 3285, 'desperation': 1210, 'beneath': 464, 'smooth': 4041, 'rats': 3531, 'roman': 3731, 'polanski': 3321, 'fatal': 1664, 'resident': 3647, 'sexuality': 3909, 'notes': 3046, 'confusion': 943, 'discovery': 1282, 'creativity': 1042, '2nd': 41, 'snl': 4044, 'benefit': 465, 'gain': 1863, 'mgm': 2828, 'cameos': 658, 'reflection': 3585, 'lyrics': 2692, 'brooklyn': 595, 'kennedy': 2454, 'domino': 1319, 'bath': 411, 'fetched': 1698, 'businessman': 634, 'georges': 1894, 'profound': 3423, 'creator': 1043, 'hates': 2048, 'vincent': 4746, '70': 55, 'online': 3109, 'sue': 4274, 'tag': 4348, 'proceeds': 3411, 'alternate': 200, 'modesty': 2883, 'ashamed': 312, 'desired': 1206, 'wealth': 4826, 'ho': 2127, 'heat': 2067, 'worried': 4949, '60': 53, 'clips': 852, 'builds': 617, 'rocky': 3723, 'warrior': 4802, 'fifteen': 1706, 'lone': 2642, 'backgrounds': 381, 'st': 4137, 'vietnam': 4735, 'jail': 2376, 'flynn': 1765, 'awfully': 373, 'li': 2587, 'genres': 1889, 'timeless': 4496, 'clark': 832, 'transition': 4561, 'vengeance': 4719, 'ritter': 3705, 'fictional': 1703, 'argument': 291, 'dub': 1378, 'floating': 1758, 'bush': 632, 'satan': 3787, 'amitabh': 216, 'akshay': 169, 'spoiled': 4122, 'racism': 3502, 'investigate': 2342, 'heck': 2071, 'armed': 293, 'montage': 2894, 'expressed': 1601, 'twilight': 4614, 'educational': 1425, 'boxing': 556, 'parties': 3196, 'inferior': 2285, 'diamond': 1236, 'sean': 3840, 'reynolds': 3684, 'voight': 4764, 'pal': 3177, 'demon': 1177, 'enjoys': 1489, 'goodness': 1938, 'commercials': 903, 'excessive': 1560, 'university': 4667, 'drags': 1345, 'breathtaking': 574, 'believed': 455, 'cagney': 646, 'ruby': 3749, 'dorothy': 1330, 'charlotte': 766, 'classical': 836, 'holly': 2136, 'practically': 3362, 'olivier': 3103, 'mexican': 2826, 'cheese': 780, 'nations': 2971, 'menace': 2806, 'threatening': 4468, 'ranks': 3519, 'compelled': 915, 'chased': 770, 'hurts': 2203, 'elvira': 1450, 'enters': 1496, 'possessed': 3347, 'dolph': 1317, 'deaf': 1134, 'amy': 222, 'carl': 692, 'bridge': 578, 'titanic': 4503, 'blues': 519, 'explored': 1595, 'shirley': 3936, 'tooth': 4524, 'superhero': 4299, 'piano': 3264, 'pink': 3277, 'occasion': 3073, 'kubrick': 2496, 'iran': 2350, 'buildings': 616, 'india': 2273, 'september': 3884, 'specifically': 4100, 'spider': 4109, 'lily': 2605, 'adam': 111, 'sandler': 3781, 'path': 3209, 'threat': 4467, 'stinks': 4192, 'ramones': 3512, 'fever': 1699, 'jazz': 2387, 'hopeless': 2158, 'khan': 2459, 'stereotype': 4178, 'clues': 865, 'shy': 3962, 'stargate': 4151, 'wolf': 4920, 'engaged': 1480, 'faults': 1669, 'painted': 3174, 'karloff': 2445, 'bela': 450, 'lugosi': 2686, 'rebel': 3561, 'lively': 2627, 'betty': 474, 'branagh': 564, 'arrive': 300, 'joey': 2408, 'imitation': 2241, 'hood': 2151, 'woody': 4936, 'manhattan': 2726, 'gadget': 1860, 'punk': 3468, 'angle': 236, 'resulting': 3661, 'julia': 2427, 'linda': 2609, 'solution': 4059, 'franco': 1820, 'psychic': 3456, 'arguably': 289, 'fay': 1674, 'slick': 4026, 'kicking': 2462, 'primarily': 3393, 'dinosaur': 1255, 'phantom': 3251, 'glover': 1923, 'critical': 1062, 'scooby': 3820, 'doo': 1325, 'guest': 1992, 'beatty': 427, 'laughably': 2531, 'essence': 1521, 'chorus': 803, 'berlin': 467, 'popcorn': 3331, 'consistently': 954, 'jonathan': 2417, 'homeless': 2143, 'survivors': 4325, 'cards': 683, 'link': 2613, 'method': 2824, 'button': 639, 'ruins': 3752, 'batman': 413, 'exceptionally': 1559, 'devoid': 1230, 'urge': 4689, 'bud': 607, 'improvement': 2256, 'avoided': 364, 'resources': 3651, 'bumbling': 622, 'countryside': 1015, 'le': 2544, 'donna': 1323, 'nonsensical': 3031, 'myers': 2952, 'pan': 3180, 'virginia': 4750, 'hoffman': 2128, 'melting': 2799, 'fulci': 1845, 'quit': 3494, 'bobby': 525, 'crocodile': 1065, 'glorious': 1921, 'rank': 3518, 'sneak': 4043, 'stinker': 4191, 'hart': 2041, 'uwe': 4703, 'burt': 629, 'acid': 95, 'bride': 577, 'sandra': 3782, 'cannibal': 669, 'splatter': 4118, 'doom': 1326, 'frankenstein': 1822, 'kicked': 2461, 'madonna': 2699, 'rex': 3683, 'jackie': 2374, 'seagal': 3839, 'fury': 1855, 'defined': 1160, 'kapoor': 2443, 'mixture': 2878, 'editor': 1423, 'removed': 3624, 'depicting': 1184, 'despair': 1207, 'goldberg': 1933, 'der': 1191, 'whale': 4857, 'carpenter': 694, 'progresses': 3426, 'damon': 1101, 'sullivan': 4288, 'bourne': 554, 'mtv': 2933, 'plausible': 3295, 'loaded': 2632, 'map': 2733, 'cary': 706, 'witches': 4910, 'obscure': 3068, 'advertising': 132, 'gabriel': 1859, 'boll': 529, 'bakshi': 386, 'gray': 1963, 'brosnan': 597, 'leo': 2571, 'commented': 900, 'hugh': 2186, 'godzilla': 1929, 'mummy': 2937, 'marty': 2749}\n"
     ]
    }
   ],
   "source": [
    "print(str(vocabulary))"
   ]
  },
  {
   "cell_type": "markdown",
   "metadata": {},
   "source": [
    "Once you have added the endpoint name to the Lambda function, click on **Save**. Your Lambda function is now up and running. Next we need to create a way for our web app to execute the Lambda function."
   ]
  },
  {
   "cell_type": "markdown",
   "metadata": {},
   "source": [
    "### Setting up API Gateway\n",
    "\n",
    "Now that our Lambda function is set up, it is time to create a new API using API Gateway that will trigger the Lambda function we have just created.\n",
    "\n",
    "Using AWS Console, navigate to **Amazon API Gateway** and then click on **Get started**.\n",
    "\n",
    "On the next page, make sure that **New API** is selected and give the new api a name, for example, `sentiment_analysis_web_app`. Then, click on **Create API**.\n",
    "\n",
    "Now we have created an API, however it doesn't currently do anything. What we want it to do is to trigger the Lambda function that we created earlier.\n",
    "\n",
    "Select the **Actions** dropdown menu and click **Create Method**. A new blank method will be created, select its dropdown menu and select **POST**, then click on the check mark beside it.\n",
    "\n",
    "For the integration point, make sure that **Lambda Function** is selected and click on the **Use Lambda Proxy integration**. This option makes sure that the data that is sent to the API is then sent directly to the Lambda function with no processing. It also means that the return value must be a proper response object as it will also not be processed by API Gateway.\n",
    "\n",
    "Type the name of the Lambda function you created earlier into the **Lambda Function** text entry box and then click on **Save**. Click on **OK** in the pop-up box that then appears, giving permission to API Gateway to invoke the Lambda function you created.\n",
    "\n",
    "The last step in creating the API Gateway is to select the **Actions** dropdown and click on **Deploy API**. You will need to create a new Deployment stage and name it anything you like, for example `prod`.\n",
    "\n",
    "You have now successfully set up a public API to access your SageMaker model. Make sure to copy or write down the URL provided to invoke your newly created public API as this will be needed in the next step. This URL can be found at the top of the page, highlighted in blue next to the text **Invoke URL**."
   ]
  },
  {
   "cell_type": "markdown",
   "metadata": {},
   "source": [
    "## Step 7: Deploying our web app\n",
    "\n",
    "Now that we have a publicly available API, we can start using it in a web app. For our purposes, we have provided a simple static html file which can make use of the public api you created earlier.\n",
    "\n",
    "In the `website` folder there should be a file called `index.html`. Download the file to your computer and open that file up in a text editor of your choice. There should be a line which contains **\\*\\*REPLACE WITH PUBLIC API URL\\*\\***. Replace this string with the url that you wrote down in the last step and then save the file.\n",
    "\n",
    "Now, if you open `index.html` on your local computer, your browser will behave as a local web server and you can use the provided site to interact with your SageMaker model.\n",
    "\n",
    "If you'd like to go further, you can host this html file anywhere you'd like, for example using github or hosting a static site on Amazon's S3. Once you have done this you can share the link with anyone you'd like and have them play with it too!\n",
    "\n",
    "> **Important Note** In order for the web app to communicate with the SageMaker endpoint, the endpoint has to actually be deployed and running. This means that you are paying for it. Make sure that the endpoint is running when you want to use the web app but that you shut it down when you don't need it, otherwise you will end up with a surprisingly large AWS bill."
   ]
  },
  {
   "cell_type": "markdown",
   "metadata": {},
   "source": [
    "### Delete the endpoint\n",
    "\n",
    "Remember to always shut down your endpoint if you are no longer using it. You are charged for the length of time that the endpoint is running so if you forget and leave it on you could end up with an unexpectedly large bill."
   ]
  },
  {
   "cell_type": "code",
   "execution_count": 50,
   "metadata": {},
   "outputs": [],
   "source": [
    "xgb_predictor.delete_endpoint()"
   ]
  },
  {
   "cell_type": "markdown",
   "metadata": {},
   "source": [
    "## Optional: Clean up\n",
    "\n",
    "The default notebook instance on SageMaker doesn't have a lot of excess disk space available. As you continue to complete and execute notebooks you will eventually fill up this disk space, leading to errors which can be difficult to diagnose. Once you are completely finished using a notebook it is a good idea to remove the files that you created along the way. Of course, you can do this from the terminal or from the notebook hub if you would like. The cell below contains some commands to clean up the created files from within the notebook."
   ]
  },
  {
   "cell_type": "code",
   "execution_count": 52,
   "metadata": {},
   "outputs": [
    {
     "ename": "OSError",
     "evalue": "[Errno 12] Cannot allocate memory",
     "output_type": "error",
     "traceback": [
      "\u001b[0;31m---------------------------------------------------------------------------\u001b[0m",
      "\u001b[0;31mOSError\u001b[0m                                   Traceback (most recent call last)",
      "\u001b[0;32m<ipython-input-52-2c87d8eefdf2>\u001b[0m in \u001b[0;36m<module>\u001b[0;34m()\u001b[0m\n\u001b[1;32m      1\u001b[0m \u001b[0;31m# First we will remove all of the files contained in the data_dir directory\u001b[0m\u001b[0;34m\u001b[0m\u001b[0;34m\u001b[0m\u001b[0m\n\u001b[0;32m----> 2\u001b[0;31m \u001b[0mget_ipython\u001b[0m\u001b[0;34m(\u001b[0m\u001b[0;34m)\u001b[0m\u001b[0;34m.\u001b[0m\u001b[0msystem\u001b[0m\u001b[0;34m(\u001b[0m\u001b[0;34m'rm $data_dir/*'\u001b[0m\u001b[0;34m)\u001b[0m\u001b[0;34m\u001b[0m\u001b[0m\n\u001b[0m\u001b[1;32m      3\u001b[0m \u001b[0;34m\u001b[0m\u001b[0m\n\u001b[1;32m      4\u001b[0m \u001b[0;31m# And then we delete the directory itself\u001b[0m\u001b[0;34m\u001b[0m\u001b[0;34m\u001b[0m\u001b[0m\n\u001b[1;32m      5\u001b[0m \u001b[0mget_ipython\u001b[0m\u001b[0;34m(\u001b[0m\u001b[0;34m)\u001b[0m\u001b[0;34m.\u001b[0m\u001b[0msystem\u001b[0m\u001b[0;34m(\u001b[0m\u001b[0;34m'rmdir $data_dir'\u001b[0m\u001b[0;34m)\u001b[0m\u001b[0;34m\u001b[0m\u001b[0m\n",
      "\u001b[0;32m~/anaconda3/envs/python3/lib/python3.6/site-packages/IPython/core/interactiveshell.py\u001b[0m in \u001b[0;36msystem_piped\u001b[0;34m(self, cmd)\u001b[0m\n\u001b[1;32m   2259\u001b[0m         \u001b[0;31m# a non-None value would trigger :func:`sys.displayhook` calls.\u001b[0m\u001b[0;34m\u001b[0m\u001b[0;34m\u001b[0m\u001b[0m\n\u001b[1;32m   2260\u001b[0m         \u001b[0;31m# Instead, we store the exit_code in user_ns.\u001b[0m\u001b[0;34m\u001b[0m\u001b[0;34m\u001b[0m\u001b[0m\n\u001b[0;32m-> 2261\u001b[0;31m         \u001b[0mself\u001b[0m\u001b[0;34m.\u001b[0m\u001b[0muser_ns\u001b[0m\u001b[0;34m[\u001b[0m\u001b[0;34m'_exit_code'\u001b[0m\u001b[0;34m]\u001b[0m \u001b[0;34m=\u001b[0m \u001b[0msystem\u001b[0m\u001b[0;34m(\u001b[0m\u001b[0mself\u001b[0m\u001b[0;34m.\u001b[0m\u001b[0mvar_expand\u001b[0m\u001b[0;34m(\u001b[0m\u001b[0mcmd\u001b[0m\u001b[0;34m,\u001b[0m \u001b[0mdepth\u001b[0m\u001b[0;34m=\u001b[0m\u001b[0;36m1\u001b[0m\u001b[0;34m)\u001b[0m\u001b[0;34m)\u001b[0m\u001b[0;34m\u001b[0m\u001b[0m\n\u001b[0m\u001b[1;32m   2262\u001b[0m \u001b[0;34m\u001b[0m\u001b[0m\n\u001b[1;32m   2263\u001b[0m     \u001b[0;32mdef\u001b[0m \u001b[0msystem_raw\u001b[0m\u001b[0;34m(\u001b[0m\u001b[0mself\u001b[0m\u001b[0;34m,\u001b[0m \u001b[0mcmd\u001b[0m\u001b[0;34m)\u001b[0m\u001b[0;34m:\u001b[0m\u001b[0;34m\u001b[0m\u001b[0m\n",
      "\u001b[0;32m~/anaconda3/envs/python3/lib/python3.6/site-packages/IPython/utils/_process_posix.py\u001b[0m in \u001b[0;36msystem\u001b[0;34m(self, cmd)\u001b[0m\n\u001b[1;32m    154\u001b[0m                 \u001b[0mchild\u001b[0m \u001b[0;34m=\u001b[0m \u001b[0mpexpect\u001b[0m\u001b[0;34m.\u001b[0m\u001b[0mspawnb\u001b[0m\u001b[0;34m(\u001b[0m\u001b[0mself\u001b[0m\u001b[0;34m.\u001b[0m\u001b[0msh\u001b[0m\u001b[0;34m,\u001b[0m \u001b[0margs\u001b[0m\u001b[0;34m=\u001b[0m\u001b[0;34m[\u001b[0m\u001b[0;34m'-c'\u001b[0m\u001b[0;34m,\u001b[0m \u001b[0mcmd\u001b[0m\u001b[0;34m]\u001b[0m\u001b[0;34m)\u001b[0m \u001b[0;31m# Pexpect-U\u001b[0m\u001b[0;34m\u001b[0m\u001b[0m\n\u001b[1;32m    155\u001b[0m             \u001b[0;32melse\u001b[0m\u001b[0;34m:\u001b[0m\u001b[0;34m\u001b[0m\u001b[0m\n\u001b[0;32m--> 156\u001b[0;31m                 \u001b[0mchild\u001b[0m \u001b[0;34m=\u001b[0m \u001b[0mpexpect\u001b[0m\u001b[0;34m.\u001b[0m\u001b[0mspawn\u001b[0m\u001b[0;34m(\u001b[0m\u001b[0mself\u001b[0m\u001b[0;34m.\u001b[0m\u001b[0msh\u001b[0m\u001b[0;34m,\u001b[0m \u001b[0margs\u001b[0m\u001b[0;34m=\u001b[0m\u001b[0;34m[\u001b[0m\u001b[0;34m'-c'\u001b[0m\u001b[0;34m,\u001b[0m \u001b[0mcmd\u001b[0m\u001b[0;34m]\u001b[0m\u001b[0;34m)\u001b[0m  \u001b[0;31m# Vanilla Pexpect\u001b[0m\u001b[0;34m\u001b[0m\u001b[0m\n\u001b[0m\u001b[1;32m    157\u001b[0m             \u001b[0mflush\u001b[0m \u001b[0;34m=\u001b[0m \u001b[0msys\u001b[0m\u001b[0;34m.\u001b[0m\u001b[0mstdout\u001b[0m\u001b[0;34m.\u001b[0m\u001b[0mflush\u001b[0m\u001b[0;34m\u001b[0m\u001b[0m\n\u001b[1;32m    158\u001b[0m             \u001b[0;32mwhile\u001b[0m \u001b[0;32mTrue\u001b[0m\u001b[0;34m:\u001b[0m\u001b[0;34m\u001b[0m\u001b[0m\n",
      "\u001b[0;32m~/anaconda3/envs/python3/lib/python3.6/site-packages/pexpect/pty_spawn.py\u001b[0m in \u001b[0;36m__init__\u001b[0;34m(self, command, args, timeout, maxread, searchwindowsize, logfile, cwd, env, ignore_sighup, echo, preexec_fn, encoding, codec_errors, dimensions, use_poll)\u001b[0m\n\u001b[1;32m    202\u001b[0m             \u001b[0mself\u001b[0m\u001b[0;34m.\u001b[0m\u001b[0mname\u001b[0m \u001b[0;34m=\u001b[0m \u001b[0;34m'<pexpect factory incomplete>'\u001b[0m\u001b[0;34m\u001b[0m\u001b[0m\n\u001b[1;32m    203\u001b[0m         \u001b[0;32melse\u001b[0m\u001b[0;34m:\u001b[0m\u001b[0;34m\u001b[0m\u001b[0m\n\u001b[0;32m--> 204\u001b[0;31m             \u001b[0mself\u001b[0m\u001b[0;34m.\u001b[0m\u001b[0m_spawn\u001b[0m\u001b[0;34m(\u001b[0m\u001b[0mcommand\u001b[0m\u001b[0;34m,\u001b[0m \u001b[0margs\u001b[0m\u001b[0;34m,\u001b[0m \u001b[0mpreexec_fn\u001b[0m\u001b[0;34m,\u001b[0m \u001b[0mdimensions\u001b[0m\u001b[0;34m)\u001b[0m\u001b[0;34m\u001b[0m\u001b[0m\n\u001b[0m\u001b[1;32m    205\u001b[0m         \u001b[0mself\u001b[0m\u001b[0;34m.\u001b[0m\u001b[0muse_poll\u001b[0m \u001b[0;34m=\u001b[0m \u001b[0muse_poll\u001b[0m\u001b[0;34m\u001b[0m\u001b[0m\n\u001b[1;32m    206\u001b[0m \u001b[0;34m\u001b[0m\u001b[0m\n",
      "\u001b[0;32m~/anaconda3/envs/python3/lib/python3.6/site-packages/pexpect/pty_spawn.py\u001b[0m in \u001b[0;36m_spawn\u001b[0;34m(self, command, args, preexec_fn, dimensions)\u001b[0m\n\u001b[1;32m    301\u001b[0m \u001b[0;34m\u001b[0m\u001b[0m\n\u001b[1;32m    302\u001b[0m         self.ptyproc = self._spawnpty(self.args, env=self.env,\n\u001b[0;32m--> 303\u001b[0;31m                                      cwd=self.cwd, **kwargs)\n\u001b[0m\u001b[1;32m    304\u001b[0m \u001b[0;34m\u001b[0m\u001b[0m\n\u001b[1;32m    305\u001b[0m         \u001b[0mself\u001b[0m\u001b[0;34m.\u001b[0m\u001b[0mpid\u001b[0m \u001b[0;34m=\u001b[0m \u001b[0mself\u001b[0m\u001b[0;34m.\u001b[0m\u001b[0mptyproc\u001b[0m\u001b[0;34m.\u001b[0m\u001b[0mpid\u001b[0m\u001b[0;34m\u001b[0m\u001b[0m\n",
      "\u001b[0;32m~/anaconda3/envs/python3/lib/python3.6/site-packages/pexpect/pty_spawn.py\u001b[0m in \u001b[0;36m_spawnpty\u001b[0;34m(self, args, **kwargs)\u001b[0m\n\u001b[1;32m    312\u001b[0m     \u001b[0;32mdef\u001b[0m \u001b[0m_spawnpty\u001b[0m\u001b[0;34m(\u001b[0m\u001b[0mself\u001b[0m\u001b[0;34m,\u001b[0m \u001b[0margs\u001b[0m\u001b[0;34m,\u001b[0m \u001b[0;34m**\u001b[0m\u001b[0mkwargs\u001b[0m\u001b[0;34m)\u001b[0m\u001b[0;34m:\u001b[0m\u001b[0;34m\u001b[0m\u001b[0m\n\u001b[1;32m    313\u001b[0m         \u001b[0;34m'''Spawn a pty and return an instance of PtyProcess.'''\u001b[0m\u001b[0;34m\u001b[0m\u001b[0m\n\u001b[0;32m--> 314\u001b[0;31m         \u001b[0;32mreturn\u001b[0m \u001b[0mptyprocess\u001b[0m\u001b[0;34m.\u001b[0m\u001b[0mPtyProcess\u001b[0m\u001b[0;34m.\u001b[0m\u001b[0mspawn\u001b[0m\u001b[0;34m(\u001b[0m\u001b[0margs\u001b[0m\u001b[0;34m,\u001b[0m \u001b[0;34m**\u001b[0m\u001b[0mkwargs\u001b[0m\u001b[0;34m)\u001b[0m\u001b[0;34m\u001b[0m\u001b[0m\n\u001b[0m\u001b[1;32m    315\u001b[0m \u001b[0;34m\u001b[0m\u001b[0m\n\u001b[1;32m    316\u001b[0m     \u001b[0;32mdef\u001b[0m \u001b[0mclose\u001b[0m\u001b[0;34m(\u001b[0m\u001b[0mself\u001b[0m\u001b[0;34m,\u001b[0m \u001b[0mforce\u001b[0m\u001b[0;34m=\u001b[0m\u001b[0;32mTrue\u001b[0m\u001b[0;34m)\u001b[0m\u001b[0;34m:\u001b[0m\u001b[0;34m\u001b[0m\u001b[0m\n",
      "\u001b[0;32m~/anaconda3/envs/python3/lib/python3.6/site-packages/ptyprocess/ptyprocess.py\u001b[0m in \u001b[0;36mspawn\u001b[0;34m(cls, argv, cwd, env, echo, preexec_fn, dimensions)\u001b[0m\n\u001b[1;32m    220\u001b[0m \u001b[0;34m\u001b[0m\u001b[0m\n\u001b[1;32m    221\u001b[0m         \u001b[0;32mif\u001b[0m \u001b[0muse_native_pty_fork\u001b[0m\u001b[0;34m:\u001b[0m\u001b[0;34m\u001b[0m\u001b[0m\n\u001b[0;32m--> 222\u001b[0;31m             \u001b[0mpid\u001b[0m\u001b[0;34m,\u001b[0m \u001b[0mfd\u001b[0m \u001b[0;34m=\u001b[0m \u001b[0mpty\u001b[0m\u001b[0;34m.\u001b[0m\u001b[0mfork\u001b[0m\u001b[0;34m(\u001b[0m\u001b[0;34m)\u001b[0m\u001b[0;34m\u001b[0m\u001b[0m\n\u001b[0m\u001b[1;32m    223\u001b[0m         \u001b[0;32melse\u001b[0m\u001b[0;34m:\u001b[0m\u001b[0;34m\u001b[0m\u001b[0m\n\u001b[1;32m    224\u001b[0m             \u001b[0;31m# Use internal fork_pty, for Solaris\u001b[0m\u001b[0;34m\u001b[0m\u001b[0;34m\u001b[0m\u001b[0m\n",
      "\u001b[0;32m~/anaconda3/envs/python3/lib/python3.6/pty.py\u001b[0m in \u001b[0;36mfork\u001b[0;34m()\u001b[0m\n\u001b[1;32m     95\u001b[0m \u001b[0;34m\u001b[0m\u001b[0m\n\u001b[1;32m     96\u001b[0m     \u001b[0mmaster_fd\u001b[0m\u001b[0;34m,\u001b[0m \u001b[0mslave_fd\u001b[0m \u001b[0;34m=\u001b[0m \u001b[0mopenpty\u001b[0m\u001b[0;34m(\u001b[0m\u001b[0;34m)\u001b[0m\u001b[0;34m\u001b[0m\u001b[0m\n\u001b[0;32m---> 97\u001b[0;31m     \u001b[0mpid\u001b[0m \u001b[0;34m=\u001b[0m \u001b[0mos\u001b[0m\u001b[0;34m.\u001b[0m\u001b[0mfork\u001b[0m\u001b[0;34m(\u001b[0m\u001b[0;34m)\u001b[0m\u001b[0;34m\u001b[0m\u001b[0m\n\u001b[0m\u001b[1;32m     98\u001b[0m     \u001b[0;32mif\u001b[0m \u001b[0mpid\u001b[0m \u001b[0;34m==\u001b[0m \u001b[0mCHILD\u001b[0m\u001b[0;34m:\u001b[0m\u001b[0;34m\u001b[0m\u001b[0m\n\u001b[1;32m     99\u001b[0m         \u001b[0;31m# Establish a new session.\u001b[0m\u001b[0;34m\u001b[0m\u001b[0;34m\u001b[0m\u001b[0m\n",
      "\u001b[0;31mOSError\u001b[0m: [Errno 12] Cannot allocate memory"
     ]
    }
   ],
   "source": [
    "# First we will remove all of the files contained in the data_dir directory\n",
    "!rm $data_dir/*\n",
    "\n",
    "# And then we delete the directory itself\n",
    "!rmdir $data_dir\n",
    "\n",
    "# Similarly we remove the files in the cache_dir directory and the directory itself\n",
    "!rm $cache_dir/*\n",
    "!rmdir $cache_dir"
   ]
  },
  {
   "cell_type": "code",
   "execution_count": null,
   "metadata": {},
   "outputs": [],
   "source": []
  }
 ],
 "metadata": {
  "kernelspec": {
   "display_name": "conda_python3",
   "language": "python",
   "name": "conda_python3"
  },
  "language_info": {
   "codemirror_mode": {
    "name": "ipython",
    "version": 3
   },
   "file_extension": ".py",
   "mimetype": "text/x-python",
   "name": "python",
   "nbconvert_exporter": "python",
   "pygments_lexer": "ipython3",
   "version": "3.6.5"
  }
 },
 "nbformat": 4,
 "nbformat_minor": 4
}
