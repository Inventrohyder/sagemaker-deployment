{
 "cells": [
  {
   "cell_type": "markdown",
   "metadata": {},
   "source": [
    "# Sentiment Analysis\n",
    "\n",
    "## Using XGBoost in SageMaker\n",
    "\n",
    "_Deep Learning Nanodegree Program | Deployment_\n",
    "\n",
    "---\n",
    "\n",
    "In this example of using Amazon's SageMaker service we will construct a random tree model to predict the sentiment of a movie review. You may have seen a version of this example in a pervious lesson although it would have been done using the sklearn package. Instead, we will be using the XGBoost package as it is provided to us by Amazon.\n",
    "\n",
    "## Instructions\n",
    "\n",
    "Some template code has already been provided for you, and you will need to implement additional functionality to successfully complete this notebook. You will not need to modify the included code beyond what is requested. Sections that begin with '**TODO**' in the header indicate that you need to complete or implement some portion within them. Instructions will be provided for each section and the specifics of the implementation are marked in the code block with a `# TODO: ...` comment. Please be sure to read the instructions carefully!\n",
    "\n",
    "In addition to implementing code, there will be questions for you to answer which relate to the task and your implementation. Each section where you will answer a question is preceded by a '**Question:**' header. Carefully read each question and provide your answer below the '**Answer:**' header by editing the Markdown cell.\n",
    "\n",
    "> **Note**: Code and Markdown cells can be executed using the **Shift+Enter** keyboard shortcut. In addition, a cell can be edited by typically clicking it (double-click for Markdown cells) or by pressing **Enter** while it is highlighted."
   ]
  },
  {
   "cell_type": "markdown",
   "metadata": {},
   "source": [
    "## Step 1: Downloading the data\n",
    "\n",
    "The dataset we are going to use is very popular among researchers in Natural Language Processing, usually referred to as the [IMDb dataset](http://ai.stanford.edu/~amaas/data/sentiment/). It consists of movie reviews from the website [imdb.com](http://www.imdb.com/), each labeled as either '**pos**itive', if the reviewer enjoyed the film, or '**neg**ative' otherwise.\n",
    "\n",
    "> Maas, Andrew L., et al. [Learning Word Vectors for Sentiment Analysis](http://ai.stanford.edu/~amaas/data/sentiment/). In _Proceedings of the 49th Annual Meeting of the Association for Computational Linguistics: Human Language Technologies_. Association for Computational Linguistics, 2011.\n",
    "\n",
    "We begin by using some Jupyter Notebook magic to download and extract the dataset."
   ]
  },
  {
   "cell_type": "code",
   "execution_count": 1,
   "metadata": {},
   "outputs": [
    {
     "name": "stdout",
     "output_type": "stream",
     "text": [
      "mkdir: cannot create directory ‘../data’: File exists\n",
      "--2020-03-01 17:56:30--  http://ai.stanford.edu/~amaas/data/sentiment/aclImdb_v1.tar.gz\n",
      "Resolving ai.stanford.edu (ai.stanford.edu)... 171.64.68.10\n",
      "Connecting to ai.stanford.edu (ai.stanford.edu)|171.64.68.10|:80... connected.\n",
      "HTTP request sent, awaiting response... 200 OK\n",
      "Length: 84125825 (80M) [application/x-gzip]\n",
      "Saving to: ‘../data/aclImdb_v1.tar.gz’\n",
      "\n",
      "../data/aclImdb_v1. 100%[===================>]  80.23M  24.6MB/s    in 3.9s    \n",
      "\n",
      "2020-03-01 17:56:34 (20.6 MB/s) - ‘../data/aclImdb_v1.tar.gz’ saved [84125825/84125825]\n",
      "\n"
     ]
    }
   ],
   "source": [
    "%mkdir ../data\n",
    "!wget -O ../data/aclImdb_v1.tar.gz http://ai.stanford.edu/~amaas/data/sentiment/aclImdb_v1.tar.gz\n",
    "!tar -zxf ../data/aclImdb_v1.tar.gz -C ../data"
   ]
  },
  {
   "cell_type": "markdown",
   "metadata": {},
   "source": [
    "## Step 2: Preparing the data\n",
    "\n",
    "The data we have downloaded is split into various files, each of which contains a single review. It will be much easier going forward if we combine these individual files into two large files, one for training and one for testing."
   ]
  },
  {
   "cell_type": "code",
   "execution_count": 2,
   "metadata": {},
   "outputs": [],
   "source": [
    "import os\n",
    "import glob\n",
    "\n",
    "def read_imdb_data(data_dir='../data/aclImdb'):\n",
    "    data = {}\n",
    "    labels = {}\n",
    "    \n",
    "    for data_type in ['train', 'test']:\n",
    "        data[data_type] = {}\n",
    "        labels[data_type] = {}\n",
    "        \n",
    "        for sentiment in ['pos', 'neg']:\n",
    "            data[data_type][sentiment] = []\n",
    "            labels[data_type][sentiment] = []\n",
    "            \n",
    "            path = os.path.join(data_dir, data_type, sentiment, '*.txt')\n",
    "            files = glob.glob(path)\n",
    "            \n",
    "            for f in files:\n",
    "                with open(f) as review:\n",
    "                    data[data_type][sentiment].append(review.read())\n",
    "                    # Here we represent a positive review by '1' and a negative review by '0'\n",
    "                    labels[data_type][sentiment].append(1 if sentiment == 'pos' else 0)\n",
    "                    \n",
    "            assert len(data[data_type][sentiment]) == len(labels[data_type][sentiment]), \\\n",
    "                    \"{}/{} data size does not match labels size\".format(data_type, sentiment)\n",
    "                \n",
    "    return data, labels"
   ]
  },
  {
   "cell_type": "code",
   "execution_count": 3,
   "metadata": {},
   "outputs": [
    {
     "name": "stdout",
     "output_type": "stream",
     "text": [
      "IMDB reviews: train = 12500 pos / 12500 neg, test = 12500 pos / 12500 neg\n"
     ]
    }
   ],
   "source": [
    "data, labels = read_imdb_data()\n",
    "print(\"IMDB reviews: train = {} pos / {} neg, test = {} pos / {} neg\".format(\n",
    "            len(data['train']['pos']), len(data['train']['neg']),\n",
    "            len(data['test']['pos']), len(data['test']['neg'])))"
   ]
  },
  {
   "cell_type": "code",
   "execution_count": 4,
   "metadata": {},
   "outputs": [],
   "source": [
    "from sklearn.utils import shuffle\n",
    "\n",
    "def prepare_imdb_data(data, labels):\n",
    "    \"\"\"Prepare training and test sets from IMDb movie reviews.\"\"\"\n",
    "    \n",
    "    #Combine positive and negative reviews and labels\n",
    "    data_train = data['train']['pos'] + data['train']['neg']\n",
    "    data_test = data['test']['pos'] + data['test']['neg']\n",
    "    labels_train = labels['train']['pos'] + labels['train']['neg']\n",
    "    labels_test = labels['test']['pos'] + labels['test']['neg']\n",
    "    \n",
    "    #Shuffle reviews and corresponding labels within training and test sets\n",
    "    data_train, labels_train = shuffle(data_train, labels_train)\n",
    "    data_test, labels_test = shuffle(data_test, labels_test)\n",
    "    \n",
    "    # Return a unified training data, test data, training labels, test labets\n",
    "    return data_train, data_test, labels_train, labels_test"
   ]
  },
  {
   "cell_type": "code",
   "execution_count": 5,
   "metadata": {},
   "outputs": [
    {
     "name": "stdout",
     "output_type": "stream",
     "text": [
      "IMDb reviews (combined): train = 25000, test = 25000\n"
     ]
    }
   ],
   "source": [
    "train_X, test_X, train_y, test_y = prepare_imdb_data(data, labels)\n",
    "print(\"IMDb reviews (combined): train = {}, test = {}\".format(len(train_X), len(test_X)))"
   ]
  },
  {
   "cell_type": "code",
   "execution_count": 6,
   "metadata": {},
   "outputs": [
    {
     "data": {
      "text/plain": [
       "'So what constitutes a real independent film? In a day and age where the latest fad of mainstream hollywood is to appear rugged and cutting edge, I\\'m sorry to say that what the general public tends to perceive as independent film is usually nothing more than a clever marketing ploy.<br /><br />Which is why we should be glad that films like \"Hatred of a Minute\" exist. Across the board, this film makes a point out of contradicting its own template (indie horror film). Love it or hate it, \"Hatred\" isn\\'t afraid of being what it is, and in watching this film, you get the real sense that Kallio (the director) didn\\'t just make this film to spray fake blood all over the place, he\\'s in this to tell stories. Good ones. You may find this film in the horror film section of your video store, but don\\'t be fooled, this story is also about love, about good people pushed over the edge, and that oh-so-distant light at the end of the tunnel.<br /><br />If you expect smut, or an Evil Dead ripoff, stay away from this film. But if you dig the finer points of the horror/suspense genres, check this film out.<br /><br />Yes. Bruce Campbell did produce this movie, and I\\'m sure he\\'s proud to tell anyone that it\\'s not \"Evil Dead\". Bruce has never tried to bank on his \"ash\" image, and it\\'s obvious that he didn\\'t get involved with \"Hatred\" so that it could do so either.<br /><br />My advice, though, to all Dead-ites rabidly devouring anything issued by Mr. Campbell is to check this film out anyway and see what else Mr. Kallio and Mr. Campbell are trying to show you.<br /><br />The acting is well done, although nothing about this film is oscar caliber (perhaps intentionally), it\\'s good to see compassionate performances in a horror film. So often, actors in films such as these don\\'t even seem to try, with \"Hatred\", it seemed as though all the actors took thier charecters very seriously, never resorting to typical horror-film campiness.<br /><br />Technically, \"Hatred\" is about as competent as indie film gets. The editing is fast paced, the cinematography is good given the budget, and \"Hatred\" keeps a quick pace, without any bog-down points or bad anti-climaxes.<br /><br />All in all, Hatred may not have the glossed over look of all those multi-million dollar fake indies, but personally, I don\\'t see a problem with that. It\\'s a film by folks who actually care about the medium. People who reached into thier broke ass pockets, pulled out thier nickles and dimes, threw caution to the wind and made a damn good movie.<br /><br />Check this one out.'"
      ]
     },
     "execution_count": 6,
     "metadata": {},
     "output_type": "execute_result"
    }
   ],
   "source": [
    "train_X[100]"
   ]
  },
  {
   "cell_type": "markdown",
   "metadata": {},
   "source": [
    "## Step 3: Processing the data\n",
    "\n",
    "Now that we have our training and testing datasets merged and ready to use, we need to start processing the raw data into something that will be useable by our machine learning algorithm. To begin with, we remove any html formatting that may appear in the reviews and perform some standard natural language processing in order to homogenize the data."
   ]
  },
  {
   "cell_type": "code",
   "execution_count": 7,
   "metadata": {},
   "outputs": [
    {
     "name": "stdout",
     "output_type": "stream",
     "text": [
      "[nltk_data] Downloading package stopwords to\n",
      "[nltk_data]     /home/ec2-user/nltk_data...\n",
      "[nltk_data]   Unzipping corpora/stopwords.zip.\n"
     ]
    }
   ],
   "source": [
    "import nltk\n",
    "nltk.download(\"stopwords\")\n",
    "from nltk.corpus import stopwords\n",
    "from nltk.stem.porter import *\n",
    "stemmer = PorterStemmer()"
   ]
  },
  {
   "cell_type": "code",
   "execution_count": 8,
   "metadata": {},
   "outputs": [],
   "source": [
    "import re\n",
    "from bs4 import BeautifulSoup\n",
    "\n",
    "def review_to_words(review):\n",
    "    text = BeautifulSoup(review, \"html.parser\").get_text() # Remove HTML tags\n",
    "    text = re.sub(r\"[^a-zA-Z0-9]\", \" \", text.lower()) # Convert to lower case\n",
    "    words = text.split() # Split string into words\n",
    "    words = [w for w in words if w not in stopwords.words(\"english\")] # Remove stopwords\n",
    "    words = [PorterStemmer().stem(w) for w in words] # stem\n",
    "    \n",
    "    return words"
   ]
  },
  {
   "cell_type": "code",
   "execution_count": 9,
   "metadata": {},
   "outputs": [],
   "source": [
    "import pickle\n",
    "\n",
    "cache_dir = os.path.join(\"../cache\", \"sentiment_analysis\")  # where to store cache files\n",
    "os.makedirs(cache_dir, exist_ok=True)  # ensure cache directory exists\n",
    "\n",
    "def preprocess_data(data_train, data_test, labels_train, labels_test,\n",
    "                    cache_dir=cache_dir, cache_file=\"preprocessed_data.pkl\"):\n",
    "    \"\"\"Convert each review to words; read from cache if available.\"\"\"\n",
    "\n",
    "    # If cache_file is not None, try to read from it first\n",
    "    cache_data = None\n",
    "    if cache_file is not None:\n",
    "        try:\n",
    "            with open(os.path.join(cache_dir, cache_file), \"rb\") as f:\n",
    "                cache_data = pickle.load(f)\n",
    "            print(\"Read preprocessed data from cache file:\", cache_file)\n",
    "        except:\n",
    "            pass  # unable to read from cache, but that's okay\n",
    "    \n",
    "    # If cache is missing, then do the heavy lifting\n",
    "    if cache_data is None:\n",
    "        # Preprocess training and test data to obtain words for each review\n",
    "        #words_train = list(map(review_to_words, data_train))\n",
    "        #words_test = list(map(review_to_words, data_test))\n",
    "        words_train = [review_to_words(review) for review in data_train]\n",
    "        words_test = [review_to_words(review) for review in data_test]\n",
    "        \n",
    "        # Write to cache file for future runs\n",
    "        if cache_file is not None:\n",
    "            cache_data = dict(words_train=words_train, words_test=words_test,\n",
    "                              labels_train=labels_train, labels_test=labels_test)\n",
    "            with open(os.path.join(cache_dir, cache_file), \"wb\") as f:\n",
    "                pickle.dump(cache_data, f)\n",
    "            print(\"Wrote preprocessed data to cache file:\", cache_file)\n",
    "    else:\n",
    "        # Unpack data loaded from cache file\n",
    "        words_train, words_test, labels_train, labels_test = (cache_data['words_train'],\n",
    "                cache_data['words_test'], cache_data['labels_train'], cache_data['labels_test'])\n",
    "    \n",
    "    return words_train, words_test, labels_train, labels_test"
   ]
  },
  {
   "cell_type": "code",
   "execution_count": 10,
   "metadata": {},
   "outputs": [
    {
     "name": "stdout",
     "output_type": "stream",
     "text": [
      "Wrote preprocessed data to cache file: preprocessed_data.pkl\n"
     ]
    }
   ],
   "source": [
    "# Preprocess data\n",
    "train_X, test_X, train_y, test_y = preprocess_data(train_X, test_X, train_y, test_y)"
   ]
  },
  {
   "cell_type": "markdown",
   "metadata": {},
   "source": [
    "### Extract Bag-of-Words features\n",
    "\n",
    "For the model we will be implementing, rather than using the reviews directly, we are going to transform each review into a Bag-of-Words feature representation. Keep in mind that 'in the wild' we will only have access to the training set so our transformer can only use the training set to construct a representation."
   ]
  },
  {
   "cell_type": "code",
   "execution_count": 11,
   "metadata": {},
   "outputs": [],
   "source": [
    "import numpy as np\n",
    "from sklearn.feature_extraction.text import CountVectorizer\n",
    "from sklearn.externals import joblib\n",
    "# joblib is an enhanced version of pickle that is more efficient for storing NumPy arrays\n",
    "\n",
    "def extract_BoW_features(words_train, words_test, vocabulary_size=5000,\n",
    "                         cache_dir=cache_dir, cache_file=\"bow_features.pkl\"):\n",
    "    \"\"\"Extract Bag-of-Words for a given set of documents, already preprocessed into words.\"\"\"\n",
    "    \n",
    "    # If cache_file is not None, try to read from it first\n",
    "    cache_data = None\n",
    "    if cache_file is not None:\n",
    "        try:\n",
    "            with open(os.path.join(cache_dir, cache_file), \"rb\") as f:\n",
    "                cache_data = joblib.load(f)\n",
    "            print(\"Read features from cache file:\", cache_file)\n",
    "        except:\n",
    "            pass  # unable to read from cache, but that's okay\n",
    "    \n",
    "    # If cache is missing, then do the heavy lifting\n",
    "    if cache_data is None:\n",
    "        # Fit a vectorizer to training documents and use it to transform them\n",
    "        # NOTE: Training documents have already been preprocessed and tokenized into words;\n",
    "        #       pass in dummy functions to skip those steps, e.g. preprocessor=lambda x: x\n",
    "        vectorizer = CountVectorizer(max_features=vocabulary_size,\n",
    "                preprocessor=lambda x: x, tokenizer=lambda x: x)  # already preprocessed\n",
    "        features_train = vectorizer.fit_transform(words_train).toarray()\n",
    "\n",
    "        # Apply the same vectorizer to transform the test documents (ignore unknown words)\n",
    "        features_test = vectorizer.transform(words_test).toarray()\n",
    "        \n",
    "        # NOTE: Remember to convert the features using .toarray() for a compact representation\n",
    "        \n",
    "        # Write to cache file for future runs (store vocabulary as well)\n",
    "        if cache_file is not None:\n",
    "            vocabulary = vectorizer.vocabulary_\n",
    "            cache_data = dict(features_train=features_train, features_test=features_test,\n",
    "                             vocabulary=vocabulary)\n",
    "            with open(os.path.join(cache_dir, cache_file), \"wb\") as f:\n",
    "                joblib.dump(cache_data, f)\n",
    "            print(\"Wrote features to cache file:\", cache_file)\n",
    "    else:\n",
    "        # Unpack data loaded from cache file\n",
    "        features_train, features_test, vocabulary = (cache_data['features_train'],\n",
    "                cache_data['features_test'], cache_data['vocabulary'])\n",
    "    \n",
    "    # Return both the extracted features as well as the vocabulary\n",
    "    return features_train, features_test, vocabulary"
   ]
  },
  {
   "cell_type": "code",
   "execution_count": 12,
   "metadata": {},
   "outputs": [
    {
     "name": "stdout",
     "output_type": "stream",
     "text": [
      "Wrote features to cache file: bow_features.pkl\n"
     ]
    }
   ],
   "source": [
    "# Extract Bag of Words features for both training and test datasets\n",
    "train_X, test_X, vocabulary = extract_BoW_features(train_X, test_X)"
   ]
  },
  {
   "cell_type": "markdown",
   "metadata": {},
   "source": [
    "## Step 4: Classification using XGBoost\n",
    "\n",
    "Now that we have created the feature representation of our training (and testing) data, it is time to start setting up and using the XGBoost classifier provided by SageMaker.\n",
    "\n",
    "### Writing the dataset\n",
    "\n",
    "The XGBoost classifier that we will be using requires the dataset to be written to a file and stored using Amazon S3. To do this, we will start by splitting the training dataset into two parts, the data we will train the model with and a validation set. Then, we will write those datasets to a file and upload the files to S3. In addition, we will write the test set input to a file and upload the file to S3. This is so that we can use SageMakers Batch Transform functionality to test our model once we've fit it."
   ]
  },
  {
   "cell_type": "code",
   "execution_count": 13,
   "metadata": {},
   "outputs": [],
   "source": [
    "import pandas as pd\n",
    "\n",
    "val_X = pd.DataFrame(train_X[:10000])\n",
    "train_X = pd.DataFrame(train_X[10000:])\n",
    "\n",
    "val_y = pd.DataFrame(train_y[:10000])\n",
    "train_y = pd.DataFrame(train_y[10000:])\n",
    "\n",
    "test_y = pd.DataFrame(test_y)\n",
    "test_X = pd.DataFrame(test_X)"
   ]
  },
  {
   "cell_type": "markdown",
   "metadata": {},
   "source": [
    "The documentation for the XGBoost algorithm in SageMaker requires that the saved datasets should contain no headers or index and that for the training and validation data, the label should occur first for each sample.\n",
    "\n",
    "For more information about this and other algorithms, the SageMaker developer documentation can be found on __[Amazon's website.](https://docs.aws.amazon.com/sagemaker/latest/dg/)__"
   ]
  },
  {
   "cell_type": "code",
   "execution_count": 14,
   "metadata": {},
   "outputs": [],
   "source": [
    "# First we make sure that the local directory in which we'd like to store the training and validation csv files exists.\n",
    "data_dir = '../data/xgboost'\n",
    "if not os.path.exists(data_dir):\n",
    "    os.makedirs(data_dir)"
   ]
  },
  {
   "cell_type": "code",
   "execution_count": 31,
   "metadata": {},
   "outputs": [],
   "source": [
    "# First, save the test data to test.csv in the data_dir directory. Note that we do not save the associated ground truth\n",
    "# labels, instead we will use them later to compare with our model output.\n",
    "\n",
    "# pd.concat([test_y, test_X], axis=1).to_csv(os.path.join(data_dir, 'test.csv'), header=False, index=False)  # Causes an error in batch transform\n",
    "pd.DataFrame(test_X).to_csv(os.path.join(data_dir, 'test.csv'), header=False, index=False)\n",
    "pd.concat([val_y, val_X], axis=1).to_csv(os.path.join(data_dir, 'validation.csv'), header=False, index=False)\n",
    "pd.concat([train_y, train_X], axis=1).to_csv(os.path.join(data_dir, 'train.csv'), header=False, index=False)"
   ]
  },
  {
   "cell_type": "code",
   "execution_count": 32,
   "metadata": {},
   "outputs": [],
   "source": [
    "# To save a bit of memory we can set text_X, train_X, val_X, train_y and val_y to None.\n",
    "\n",
    "test_X = train_X = val_X = train_y = val_y = None"
   ]
  },
  {
   "cell_type": "markdown",
   "metadata": {},
   "source": [
    "### Uploading Training / Validation files to S3\n",
    "\n",
    "Amazon's S3 service allows us to store files that can be access by both the built-in training models such as the XGBoost model we will be using as well as custom models such as the one we will see a little later.\n",
    "\n",
    "For this, and most other tasks we will be doing using SageMaker, there are two methods we could use. The first is to use the low level functionality of SageMaker which requires knowing each of the objects involved in the SageMaker environment. The second is to use the high level functionality in which certain choices have been made on the user's behalf. The low level approach benefits from allowing the user a great deal of flexibility while the high level approach makes development much quicker. For our purposes we will opt to use the high level approach although using the low-level approach is certainly an option.\n",
    "\n",
    "Recall the method `upload_data()` which is a member of object representing our current SageMaker session. What this method does is upload the data to the default bucket (which is created if it does not exist) into the path described by the key_prefix variable. To see this for yourself, once you have uploaded the data files, go to the S3 console and look to see where the files have been uploaded.\n",
    "\n",
    "For additional resources, see the __[SageMaker API documentation](http://sagemaker.readthedocs.io/en/latest/)__ and in addition the __[SageMaker Developer Guide.](https://docs.aws.amazon.com/sagemaker/latest/dg/)__"
   ]
  },
  {
   "cell_type": "code",
   "execution_count": 33,
   "metadata": {},
   "outputs": [],
   "source": [
    "import sagemaker\n",
    "\n",
    "session = sagemaker.Session() # Store the current SageMaker session\n",
    "\n",
    "# S3 prefix (which folder will we use)\n",
    "prefix = 'sentiment-xgboost'\n",
    "\n",
    "test_location = session.upload_data(os.path.join(data_dir, 'test.csv'), key_prefix=prefix)\n",
    "val_location = session.upload_data(os.path.join(data_dir, 'validation.csv'), key_prefix=prefix)\n",
    "train_location = session.upload_data(os.path.join(data_dir, 'train.csv'), key_prefix=prefix)"
   ]
  },
  {
   "cell_type": "markdown",
   "metadata": {},
   "source": [
    "### (TODO) Creating a hypertuned XGBoost model\n",
    "\n",
    "Now that the data has been uploaded it is time to create the XGBoost model. As in the Boston Housing notebook, the first step is to create an estimator object which will be used as the *base* of your hyperparameter tuning job."
   ]
  },
  {
   "cell_type": "code",
   "execution_count": 18,
   "metadata": {},
   "outputs": [],
   "source": [
    "from sagemaker import get_execution_role\n",
    "\n",
    "# Our current execution role is require when creating the model as the training\n",
    "# and inference code will need to access the model artifacts.\n",
    "role = get_execution_role()"
   ]
  },
  {
   "cell_type": "code",
   "execution_count": 19,
   "metadata": {},
   "outputs": [],
   "source": [
    "# We need to retrieve the location of the container which is provided by Amazon for using XGBoost.\n",
    "# As a matter of convenience, the training and inference code both use the same container.\n",
    "from sagemaker.amazon.amazon_estimator import get_image_uri\n",
    "\n",
    "container = get_image_uri(session.boto_region_name, 'xgboost', '0.90-1')"
   ]
  },
  {
   "cell_type": "code",
   "execution_count": 20,
   "metadata": {},
   "outputs": [],
   "source": [
    "# TODO: Create a SageMaker estimator using the container location determined in the previous cell.\n",
    "#       It is recommended that you use a single training instance of type ml.m4.xlarge. It is also\n",
    "#       recommended that you use 's3://{}/{}/output'.format(session.default_bucket(), prefix) as the\n",
    "#       output path.\n",
    "\n",
    "xgb = sagemaker.estimator.Estimator(container,  # The name of the training container\n",
    "                                    role,       # The IAM role to use \n",
    "                                    train_instance_count = 1,  # The number of instances to use\n",
    "                                    train_instance_type = 'ml.m4.xlarge',  # The type of instance to use\n",
    "                                    output_path = 's3://{}/{}/output'.format(session.default_bucket(), prefix),\n",
    "                                    sagemaker_session = session\n",
    "                                   )\n",
    "\n",
    "# TODO: Set the XGBoost hyperparameters in the xgb object. Don't forget that in this case we have a binary\n",
    "#       label so we should be using the 'binary:logistic' objective.\n",
    "\n",
    "xgb.set_hyperparameters(max_depth=5,\n",
    "                       eta=0.2,\n",
    "                       gamma=4,\n",
    "                       min_child_weight=6,\n",
    "                       subsample=0.8,\n",
    "                       objective='binary:logistic',\n",
    "                       early_stopping_rounds=10,\n",
    "                       num_round=200)\n"
   ]
  },
  {
   "cell_type": "markdown",
   "metadata": {},
   "source": [
    "### (TODO) Create the hyperparameter tuner\n",
    "\n",
    "Now that the base estimator has been set up we need to construct a hyperparameter tuner object which we will use to request SageMaker construct a hyperparameter tuning job.\n",
    "\n",
    "**Note:** Training a single sentiment analysis XGBoost model takes longer than training a Boston Housing XGBoost model so if you don't want the hyperparameter tuning job to take too long, make sure to not set the total number of models (jobs) too high."
   ]
  },
  {
   "cell_type": "code",
   "execution_count": 22,
   "metadata": {},
   "outputs": [],
   "source": [
    "# First, make sure to import the relevant objects used to construct the tuner\n",
    "from sagemaker.tuner import IntegerParameter, ContinuousParameter, HyperparameterTuner\n",
    "\n",
    "# TODO: Create the hyperparameter tuner object\n",
    "\n",
    "xgb_hyperparameter_tuner = HyperparameterTuner(estimator = xgb,  # The estimator object to use\n",
    "                                              objective_metric_name = 'validation:rmse',  # The metric to compare models\n",
    "                                              objective_type = 'Minimize',  # The objective \n",
    "                                              max_jobs = 6,  # The total number of models to train\n",
    "                                              max_parallel_jobs = 3,  # The number of models to train in parallel\n",
    "                                              hyperparameter_ranges = {\n",
    "                                                  'max_depth' : IntegerParameter(3, 12),\n",
    "                                                  'eta' : ContinuousParameter(0.05, 0.5),\n",
    "                                                  'min_child_weight': IntegerParameter(2, 8),\n",
    "                                                  'subsample' : ContinuousParameter(0.5, 0.9),\n",
    "                                                  'gamma': ContinuousParameter(0, 10)\n",
    "                                              })\n",
    "\n"
   ]
  },
  {
   "cell_type": "markdown",
   "metadata": {},
   "source": [
    "### Fit the hyperparameter tuner\n",
    "\n",
    "Now that the hyperparameter tuner object has been constructed, it is time to fit the various models and find the best performing model."
   ]
  },
  {
   "cell_type": "code",
   "execution_count": 23,
   "metadata": {},
   "outputs": [],
   "source": [
    "s3_input_train = sagemaker.s3_input(s3_data=train_location, content_type='csv')\n",
    "s3_input_validation = sagemaker.s3_input(s3_data=val_location, content_type='csv')"
   ]
  },
  {
   "cell_type": "code",
   "execution_count": 24,
   "metadata": {},
   "outputs": [],
   "source": [
    "xgb_hyperparameter_tuner.fit({'train': s3_input_train, 'validation': s3_input_validation})"
   ]
  },
  {
   "cell_type": "markdown",
   "metadata": {},
   "source": [
    "Remember that the tuning job is constructed and run in the background so if we want to see the progress of our training job we need to call the `wait()` method."
   ]
  },
  {
   "cell_type": "code",
   "execution_count": 25,
   "metadata": {},
   "outputs": [
    {
     "name": "stdout",
     "output_type": "stream",
     "text": [
      "..............................................................................................................................................................................................................................................................................................................................................................................................................................................................................................................................................................................................................................................................................................................................................................................................................!\n"
     ]
    }
   ],
   "source": [
    "xgb_hyperparameter_tuner.wait()"
   ]
  },
  {
   "cell_type": "markdown",
   "metadata": {},
   "source": [
    "### (TODO) Testing the model\n",
    "\n",
    "Now that we've run our hyperparameter tuning job, it's time to see how well the best performing model actually performs. To do this we will use SageMaker's Batch Transform functionality. Batch Transform is a convenient way to perform inference on a large dataset in a way that is not realtime. That is, we don't necessarily need to use our model's results immediately and instead we can peform inference on a large number of samples. An example of this in industry might be peforming an end of month report. This method of inference can also be useful to us as it means to can perform inference on our entire test set. \n",
    "\n",
    "Remember that in order to create a transformer object to perform the batch transform job, we need a trained estimator object. We can do that using the `attach()` method, creating an estimator object which is attached to the best trained job."
   ]
  },
  {
   "cell_type": "code",
   "execution_count": 26,
   "metadata": {},
   "outputs": [
    {
     "name": "stdout",
     "output_type": "stream",
     "text": [
      "2020-03-01 19:37:23 Starting - Preparing the instances for training\n",
      "2020-03-01 19:37:23 Downloading - Downloading input data\n",
      "2020-03-01 19:37:23 Training - Training image download completed. Training in progress.\n",
      "2020-03-01 19:37:23 Uploading - Uploading generated training model\n",
      "2020-03-01 19:37:23 Completed - Training job completed\u001b[34mINFO:sagemaker-containers:Imported framework sagemaker_xgboost_container.training\u001b[0m\n",
      "\u001b[34mINFO:sagemaker-containers:Failed to parse hyperparameter _tuning_objective_metric value validation:rmse to Json.\u001b[0m\n",
      "\u001b[34mReturning the value itself\u001b[0m\n",
      "\u001b[34mINFO:sagemaker-containers:Failed to parse hyperparameter objective value binary:logistic to Json.\u001b[0m\n",
      "\u001b[34mReturning the value itself\u001b[0m\n",
      "\u001b[34mINFO:sagemaker-containers:No GPUs detected (normal if no gpus installed)\u001b[0m\n",
      "\u001b[34mINFO:sagemaker_xgboost_container.training:Running XGBoost Sagemaker in algorithm mode\u001b[0m\n",
      "\u001b[34mINFO:root:Determined delimiter of CSV input is ','\u001b[0m\n",
      "\u001b[34mINFO:root:Determined delimiter of CSV input is ','\u001b[0m\n",
      "\u001b[34mINFO:root:Determined delimiter of CSV input is ','\u001b[0m\n",
      "\u001b[34m[19:29:37] 15000x5000 matrix with 75000000 entries loaded from /opt/ml/input/data/train?format=csv&label_column=0&delimiter=,\u001b[0m\n",
      "\u001b[34mINFO:root:Determined delimiter of CSV input is ','\u001b[0m\n",
      "\u001b[34m[19:29:39] 10000x5000 matrix with 50000000 entries loaded from /opt/ml/input/data/validation?format=csv&label_column=0&delimiter=,\u001b[0m\n",
      "\u001b[34mINFO:root:Single node training.\u001b[0m\n",
      "\u001b[34mINFO:root:Setting up HPO optimized metric to be : rmse\u001b[0m\n",
      "\u001b[34mINFO:root:Train matrix has 15000 rows\u001b[0m\n",
      "\u001b[34mINFO:root:Validation matrix has 10000 rows\u001b[0m\n",
      "\u001b[34m[0]#011train-rmse:0.462177#011validation-rmse:0.467759\u001b[0m\n",
      "\u001b[34m[1]#011train-rmse:0.437071#011validation-rmse:0.447583\u001b[0m\n",
      "\u001b[34m[2]#011train-rmse:0.41875#011validation-rmse:0.433703\u001b[0m\n",
      "\u001b[34m[3]#011train-rmse:0.405217#011validation-rmse:0.423782\u001b[0m\n",
      "\u001b[34m[4]#011train-rmse:0.39386#011validation-rmse:0.41473\u001b[0m\n",
      "\u001b[34m[5]#011train-rmse:0.383706#011validation-rmse:0.407691\u001b[0m\n",
      "\u001b[34m[6]#011train-rmse:0.374782#011validation-rmse:0.401312\u001b[0m\n",
      "\u001b[34m[7]#011train-rmse:0.367116#011validation-rmse:0.395872\u001b[0m\n",
      "\u001b[34m[8]#011train-rmse:0.359803#011validation-rmse:0.391015\u001b[0m\n",
      "\u001b[34m[9]#011train-rmse:0.353681#011validation-rmse:0.386536\u001b[0m\n",
      "\u001b[34m[10]#011train-rmse:0.349043#011validation-rmse:0.38258\u001b[0m\n",
      "\u001b[34m[11]#011train-rmse:0.343989#011validation-rmse:0.378941\u001b[0m\n",
      "\u001b[34m[12]#011train-rmse:0.339659#011validation-rmse:0.375121\u001b[0m\n",
      "\u001b[34m[13]#011train-rmse:0.333826#011validation-rmse:0.372627\u001b[0m\n",
      "\u001b[34m[14]#011train-rmse:0.329608#011validation-rmse:0.370045\u001b[0m\n",
      "\u001b[34m[15]#011train-rmse:0.325835#011validation-rmse:0.367473\u001b[0m\n",
      "\u001b[34m[16]#011train-rmse:0.322208#011validation-rmse:0.365211\u001b[0m\n",
      "\u001b[34m[17]#011train-rmse:0.318196#011validation-rmse:0.363062\u001b[0m\n",
      "\u001b[34m[18]#011train-rmse:0.315359#011validation-rmse:0.361371\u001b[0m\n",
      "\u001b[34m[19]#011train-rmse:0.311641#011validation-rmse:0.359508\u001b[0m\n",
      "\u001b[34m[20]#011train-rmse:0.308894#011validation-rmse:0.358035\u001b[0m\n",
      "\u001b[34m[21]#011train-rmse:0.305241#011validation-rmse:0.35637\u001b[0m\n",
      "\u001b[34m[22]#011train-rmse:0.302454#011validation-rmse:0.355167\u001b[0m\n",
      "\u001b[34m[23]#011train-rmse:0.300296#011validation-rmse:0.353875\u001b[0m\n",
      "\u001b[34m[24]#011train-rmse:0.297518#011validation-rmse:0.352758\u001b[0m\n",
      "\u001b[34m[25]#011train-rmse:0.295705#011validation-rmse:0.351228\u001b[0m\n",
      "\u001b[34m[26]#011train-rmse:0.293988#011validation-rmse:0.350301\u001b[0m\n",
      "\u001b[34m[27]#011train-rmse:0.291487#011validation-rmse:0.348876\u001b[0m\n",
      "\u001b[34m[28]#011train-rmse:0.289614#011validation-rmse:0.348008\u001b[0m\n",
      "\u001b[34m[29]#011train-rmse:0.287443#011validation-rmse:0.346741\u001b[0m\n",
      "\u001b[34m[30]#011train-rmse:0.284395#011validation-rmse:0.345866\u001b[0m\n",
      "\u001b[34m[31]#011train-rmse:0.283068#011validation-rmse:0.345126\u001b[0m\n",
      "\u001b[34m[32]#011train-rmse:0.281873#011validation-rmse:0.344271\u001b[0m\n",
      "\u001b[34m[33]#011train-rmse:0.280268#011validation-rmse:0.343622\u001b[0m\n",
      "\u001b[34m[34]#011train-rmse:0.277934#011validation-rmse:0.342399\u001b[0m\n",
      "\u001b[34m[35]#011train-rmse:0.276607#011validation-rmse:0.34182\u001b[0m\n",
      "\u001b[34m[36]#011train-rmse:0.274148#011validation-rmse:0.3412\u001b[0m\n",
      "\u001b[34m[37]#011train-rmse:0.272651#011validation-rmse:0.340499\u001b[0m\n",
      "\u001b[34m[38]#011train-rmse:0.270768#011validation-rmse:0.339688\u001b[0m\n",
      "\u001b[34m[39]#011train-rmse:0.269526#011validation-rmse:0.33913\u001b[0m\n",
      "\u001b[34m[40]#011train-rmse:0.268348#011validation-rmse:0.338361\u001b[0m\n",
      "\u001b[34m[41]#011train-rmse:0.267436#011validation-rmse:0.337834\u001b[0m\n",
      "\u001b[34m[42]#011train-rmse:0.26555#011validation-rmse:0.337359\u001b[0m\n",
      "\u001b[34m[43]#011train-rmse:0.262991#011validation-rmse:0.336968\u001b[0m\n",
      "\u001b[34m[44]#011train-rmse:0.26208#011validation-rmse:0.336541\u001b[0m\n",
      "\u001b[34m[45]#011train-rmse:0.260887#011validation-rmse:0.336025\u001b[0m\n",
      "\u001b[34m[46]#011train-rmse:0.259635#011validation-rmse:0.335553\u001b[0m\n",
      "\u001b[34m[47]#011train-rmse:0.257942#011validation-rmse:0.334981\u001b[0m\n",
      "\u001b[34m[48]#011train-rmse:0.256484#011validation-rmse:0.334697\u001b[0m\n",
      "\u001b[34m[49]#011train-rmse:0.255554#011validation-rmse:0.334021\u001b[0m\n",
      "\u001b[34m[50]#011train-rmse:0.254599#011validation-rmse:0.333193\u001b[0m\n",
      "\u001b[34m[51]#011train-rmse:0.253612#011validation-rmse:0.332578\u001b[0m\n",
      "\u001b[34m[52]#011train-rmse:0.252613#011validation-rmse:0.331943\u001b[0m\n",
      "\u001b[34m[53]#011train-rmse:0.251758#011validation-rmse:0.331638\u001b[0m\n",
      "\u001b[34m[54]#011train-rmse:0.250847#011validation-rmse:0.331054\u001b[0m\n",
      "\u001b[34m[55]#011train-rmse:0.24994#011validation-rmse:0.330815\u001b[0m\n",
      "\u001b[34m[56]#011train-rmse:0.249035#011validation-rmse:0.33029\u001b[0m\n",
      "\u001b[34m[57]#011train-rmse:0.247732#011validation-rmse:0.329587\u001b[0m\n",
      "\u001b[34m[58]#011train-rmse:0.246798#011validation-rmse:0.329289\u001b[0m\n",
      "\u001b[34m[59]#011train-rmse:0.245752#011validation-rmse:0.329187\u001b[0m\n",
      "\u001b[34m[60]#011train-rmse:0.244744#011validation-rmse:0.328869\u001b[0m\n",
      "\u001b[34m[61]#011train-rmse:0.243963#011validation-rmse:0.328433\u001b[0m\n",
      "\u001b[34m[62]#011train-rmse:0.243319#011validation-rmse:0.327794\u001b[0m\n",
      "\u001b[34m[63]#011train-rmse:0.242#011validation-rmse:0.327422\u001b[0m\n",
      "\u001b[34m[64]#011train-rmse:0.24128#011validation-rmse:0.327272\u001b[0m\n",
      "\u001b[34m[65]#011train-rmse:0.240655#011validation-rmse:0.326877\u001b[0m\n",
      "\u001b[34m[66]#011train-rmse:0.239813#011validation-rmse:0.326527\u001b[0m\n",
      "\u001b[34m[67]#011train-rmse:0.239121#011validation-rmse:0.326501\u001b[0m\n",
      "\u001b[34m[68]#011train-rmse:0.238549#011validation-rmse:0.326114\u001b[0m\n",
      "\u001b[34m[69]#011train-rmse:0.236922#011validation-rmse:0.325656\u001b[0m\n",
      "\u001b[34m[70]#011train-rmse:0.236028#011validation-rmse:0.325364\u001b[0m\n",
      "\u001b[34m[71]#011train-rmse:0.234743#011validation-rmse:0.325011\u001b[0m\n",
      "\u001b[34m[72]#011train-rmse:0.234098#011validation-rmse:0.325155\u001b[0m\n",
      "\u001b[34m[73]#011train-rmse:0.233453#011validation-rmse:0.32493\u001b[0m\n",
      "\u001b[34m[74]#011train-rmse:0.233019#011validation-rmse:0.324572\u001b[0m\n",
      "\u001b[34m[75]#011train-rmse:0.23201#011validation-rmse:0.324089\u001b[0m\n",
      "\u001b[34m[76]#011train-rmse:0.231457#011validation-rmse:0.323764\u001b[0m\n",
      "\u001b[34m[77]#011train-rmse:0.230884#011validation-rmse:0.323374\u001b[0m\n",
      "\u001b[34m[78]#011train-rmse:0.230298#011validation-rmse:0.323115\u001b[0m\n",
      "\u001b[34m[79]#011train-rmse:0.229297#011validation-rmse:0.322782\u001b[0m\n",
      "\u001b[34m[80]#011train-rmse:0.228299#011validation-rmse:0.322437\u001b[0m\n",
      "\u001b[34m[81]#011train-rmse:0.227452#011validation-rmse:0.322259\u001b[0m\n",
      "\u001b[34m[82]#011train-rmse:0.226833#011validation-rmse:0.321883\u001b[0m\n",
      "\u001b[34m[83]#011train-rmse:0.22619#011validation-rmse:0.321804\u001b[0m\n",
      "\u001b[34m[84]#011train-rmse:0.225385#011validation-rmse:0.321524\u001b[0m\n",
      "\u001b[34m[85]#011train-rmse:0.224661#011validation-rmse:0.321264\u001b[0m\n",
      "\u001b[34m[86]#011train-rmse:0.223934#011validation-rmse:0.321139\u001b[0m\n",
      "\u001b[34m[87]#011train-rmse:0.223341#011validation-rmse:0.320978\u001b[0m\n",
      "\u001b[34m[88]#011train-rmse:0.222726#011validation-rmse:0.32057\u001b[0m\n",
      "\u001b[34m[89]#011train-rmse:0.221929#011validation-rmse:0.3203\u001b[0m\n",
      "\u001b[34m[90]#011train-rmse:0.221104#011validation-rmse:0.320132\u001b[0m\n",
      "\u001b[34m[91]#011train-rmse:0.220467#011validation-rmse:0.319756\u001b[0m\n",
      "\u001b[34m[92]#011train-rmse:0.219804#011validation-rmse:0.319665\u001b[0m\n",
      "\u001b[34m[93]#011train-rmse:0.219194#011validation-rmse:0.319344\u001b[0m\n",
      "\u001b[34m[94]#011train-rmse:0.218723#011validation-rmse:0.319032\u001b[0m\n",
      "\u001b[34m[95]#011train-rmse:0.218119#011validation-rmse:0.319006\u001b[0m\n",
      "\u001b[34m[96]#011train-rmse:0.217487#011validation-rmse:0.318856\u001b[0m\n",
      "\u001b[34m[97]#011train-rmse:0.216906#011validation-rmse:0.318538\u001b[0m\n",
      "\u001b[34m[98]#011train-rmse:0.21616#011validation-rmse:0.318178\u001b[0m\n",
      "\u001b[34m[99]#011train-rmse:0.215651#011validation-rmse:0.318022\u001b[0m\n",
      "\u001b[34m[100]#011train-rmse:0.214947#011validation-rmse:0.317868\u001b[0m\n",
      "\u001b[34m[101]#011train-rmse:0.214444#011validation-rmse:0.317594\u001b[0m\n",
      "\u001b[34m[102]#011train-rmse:0.213991#011validation-rmse:0.317537\u001b[0m\n",
      "\u001b[34m[103]#011train-rmse:0.213487#011validation-rmse:0.317454\u001b[0m\n",
      "\u001b[34m[104]#011train-rmse:0.212893#011validation-rmse:0.317232\u001b[0m\n",
      "\u001b[34m[105]#011train-rmse:0.212421#011validation-rmse:0.31723\u001b[0m\n",
      "\u001b[34m[106]#011train-rmse:0.211995#011validation-rmse:0.317088\u001b[0m\n",
      "\u001b[34m[107]#011train-rmse:0.211484#011validation-rmse:0.316951\u001b[0m\n",
      "\u001b[34m[108]#011train-rmse:0.210817#011validation-rmse:0.316851\u001b[0m\n",
      "\u001b[34m[109]#011train-rmse:0.21049#011validation-rmse:0.316721\u001b[0m\n",
      "\u001b[34m[110]#011train-rmse:0.210176#011validation-rmse:0.31645\u001b[0m\n",
      "\u001b[34m[111]#011train-rmse:0.209448#011validation-rmse:0.316056\u001b[0m\n",
      "\u001b[34m[112]#011train-rmse:0.209022#011validation-rmse:0.315914\u001b[0m\n",
      "\u001b[34m[113]#011train-rmse:0.208625#011validation-rmse:0.315897\u001b[0m\n",
      "\u001b[34m[114]#011train-rmse:0.208092#011validation-rmse:0.315691\u001b[0m\n",
      "\u001b[34m[115]#011train-rmse:0.207573#011validation-rmse:0.315503\u001b[0m\n",
      "\u001b[34m[116]#011train-rmse:0.206932#011validation-rmse:0.315399\u001b[0m\n",
      "\u001b[34m[117]#011train-rmse:0.206683#011validation-rmse:0.315331\u001b[0m\n",
      "\u001b[34m[118]#011train-rmse:0.20628#011validation-rmse:0.315339\u001b[0m\n",
      "\u001b[34m[119]#011train-rmse:0.205891#011validation-rmse:0.315106\u001b[0m\n",
      "\u001b[34m[120]#011train-rmse:0.204942#011validation-rmse:0.314924\u001b[0m\n",
      "\u001b[34m[121]#011train-rmse:0.204685#011validation-rmse:0.314871\u001b[0m\n",
      "\u001b[34m[122]#011train-rmse:0.204301#011validation-rmse:0.314958\u001b[0m\n",
      "\u001b[34m[123]#011train-rmse:0.204044#011validation-rmse:0.314935\u001b[0m\n",
      "\u001b[34m[124]#011train-rmse:0.203863#011validation-rmse:0.314938\u001b[0m\n",
      "\u001b[34m[125]#011train-rmse:0.203514#011validation-rmse:0.314921\u001b[0m\n",
      "\u001b[34m[126]#011train-rmse:0.202563#011validation-rmse:0.314571\u001b[0m\n",
      "\u001b[34m[127]#011train-rmse:0.202431#011validation-rmse:0.314408\u001b[0m\n",
      "\u001b[34m[128]#011train-rmse:0.201989#011validation-rmse:0.314273\u001b[0m\n",
      "\u001b[34m[129]#011train-rmse:0.201516#011validation-rmse:0.314173\u001b[0m\n",
      "\u001b[34m[130]#011train-rmse:0.201183#011validation-rmse:0.313997\u001b[0m\n",
      "\u001b[34m[131]#011train-rmse:0.20098#011validation-rmse:0.313932\u001b[0m\n",
      "\u001b[34m[132]#011train-rmse:0.200543#011validation-rmse:0.313947\u001b[0m\n",
      "\u001b[34m[133]#011train-rmse:0.199776#011validation-rmse:0.313858\u001b[0m\n",
      "\u001b[34m[134]#011train-rmse:0.199532#011validation-rmse:0.313795\u001b[0m\n",
      "\u001b[34m[135]#011train-rmse:0.198846#011validation-rmse:0.313781\u001b[0m\n",
      "\u001b[34m[136]#011train-rmse:0.198339#011validation-rmse:0.31377\u001b[0m\n",
      "\u001b[34m[137]#011train-rmse:0.197962#011validation-rmse:0.313758\u001b[0m\n",
      "\u001b[34m[138]#011train-rmse:0.197724#011validation-rmse:0.313802\u001b[0m\n",
      "\u001b[34m[139]#011train-rmse:0.197715#011validation-rmse:0.313787\u001b[0m\n",
      "\u001b[34m[140]#011train-rmse:0.197383#011validation-rmse:0.313668\u001b[0m\n",
      "\u001b[34m[141]#011train-rmse:0.197113#011validation-rmse:0.313746\u001b[0m\n",
      "\u001b[34m[142]#011train-rmse:0.196928#011validation-rmse:0.31366\u001b[0m\n",
      "\u001b[34m[143]#011train-rmse:0.196671#011validation-rmse:0.313567\u001b[0m\n",
      "\u001b[34m[144]#011train-rmse:0.196597#011validation-rmse:0.313577\u001b[0m\n",
      "\u001b[34m[145]#011train-rmse:0.196466#011validation-rmse:0.313464\u001b[0m\n",
      "\u001b[34m[146]#011train-rmse:0.196416#011validation-rmse:0.313453\u001b[0m\n",
      "\u001b[34m[147]#011train-rmse:0.195886#011validation-rmse:0.313398\u001b[0m\n",
      "\u001b[34m[148]#011train-rmse:0.195647#011validation-rmse:0.313255\u001b[0m\n",
      "\u001b[34m[149]#011train-rmse:0.194871#011validation-rmse:0.313091\u001b[0m\n",
      "\u001b[34m[150]#011train-rmse:0.194522#011validation-rmse:0.313017\u001b[0m\n",
      "\u001b[34m[151]#011train-rmse:0.194199#011validation-rmse:0.313191\u001b[0m\n",
      "\u001b[34m[152]#011train-rmse:0.194157#011validation-rmse:0.313123\u001b[0m\n",
      "\u001b[34m[153]#011train-rmse:0.194176#011validation-rmse:0.313124\u001b[0m\n",
      "\u001b[34m[154]#011train-rmse:0.193616#011validation-rmse:0.313073\u001b[0m\n",
      "\u001b[34m[155]#011train-rmse:0.193268#011validation-rmse:0.31295\u001b[0m\n",
      "\u001b[34m[156]#011train-rmse:0.193188#011validation-rmse:0.312804\u001b[0m\n",
      "\u001b[34m[157]#011train-rmse:0.193201#011validation-rmse:0.312805\u001b[0m\n",
      "\u001b[34m[158]#011train-rmse:0.193196#011validation-rmse:0.312805\u001b[0m\n",
      "\u001b[34m[159]#011train-rmse:0.193192#011validation-rmse:0.312805\u001b[0m\n",
      "\u001b[34m[160]#011train-rmse:0.193149#011validation-rmse:0.312742\u001b[0m\n",
      "\u001b[34m[161]#011train-rmse:0.192808#011validation-rmse:0.312616\u001b[0m\n",
      "\u001b[34m[162]#011train-rmse:0.192806#011validation-rmse:0.312616\u001b[0m\n",
      "\u001b[34m[163]#011train-rmse:0.192329#011validation-rmse:0.312472\u001b[0m\n",
      "\u001b[34m[164]#011train-rmse:0.192014#011validation-rmse:0.31247\u001b[0m\n",
      "\u001b[34m[165]#011train-rmse:0.191455#011validation-rmse:0.312563\u001b[0m\n",
      "\u001b[34m[166]#011train-rmse:0.191463#011validation-rmse:0.312563\u001b[0m\n",
      "\u001b[34m[167]#011train-rmse:0.19143#011validation-rmse:0.31258\u001b[0m\n",
      "\u001b[34m[168]#011train-rmse:0.191129#011validation-rmse:0.312436\u001b[0m\n",
      "\u001b[34m[169]#011train-rmse:0.19079#011validation-rmse:0.312368\u001b[0m\n",
      "\u001b[34m[170]#011train-rmse:0.190792#011validation-rmse:0.312237\u001b[0m\n",
      "\u001b[34m[171]#011train-rmse:0.190782#011validation-rmse:0.312164\u001b[0m\n",
      "\u001b[34m[172]#011train-rmse:0.190311#011validation-rmse:0.312088\u001b[0m\n",
      "\u001b[34m[173]#011train-rmse:0.190312#011validation-rmse:0.312057\u001b[0m\n",
      "\u001b[34m[174]#011train-rmse:0.189991#011validation-rmse:0.312009\u001b[0m\n",
      "\u001b[34m[175]#011train-rmse:0.189995#011validation-rmse:0.312008\u001b[0m\n",
      "\u001b[34m[176]#011train-rmse:0.190002#011validation-rmse:0.312008\u001b[0m\n",
      "\u001b[34m[177]#011train-rmse:0.189691#011validation-rmse:0.311987\u001b[0m\n",
      "\u001b[34m[178]#011train-rmse:0.18937#011validation-rmse:0.311928\u001b[0m\n",
      "\u001b[34m[179]#011train-rmse:0.189376#011validation-rmse:0.311927\u001b[0m\n",
      "\u001b[34m[180]#011train-rmse:0.189118#011validation-rmse:0.311911\u001b[0m\n",
      "\u001b[34m[181]#011train-rmse:0.189112#011validation-rmse:0.311912\u001b[0m\n",
      "\u001b[34m[182]#011train-rmse:0.189111#011validation-rmse:0.311912\u001b[0m\n",
      "\u001b[34m[183]#011train-rmse:0.189124#011validation-rmse:0.311911\u001b[0m\n",
      "\u001b[34m[184]#011train-rmse:0.189114#011validation-rmse:0.311912\u001b[0m\n",
      "\u001b[34m[185]#011train-rmse:0.189052#011validation-rmse:0.311758\u001b[0m\n",
      "\u001b[34m[186]#011train-rmse:0.188946#011validation-rmse:0.311685\u001b[0m\n",
      "\u001b[34m[187]#011train-rmse:0.188132#011validation-rmse:0.311531\u001b[0m\n",
      "\u001b[34m[188]#011train-rmse:0.187882#011validation-rmse:0.311595\u001b[0m\n",
      "\u001b[34m[189]#011train-rmse:0.187573#011validation-rmse:0.31149\u001b[0m\n",
      "\u001b[34m[190]#011train-rmse:0.187565#011validation-rmse:0.311489\u001b[0m\n",
      "\u001b[34m[191]#011train-rmse:0.187272#011validation-rmse:0.311683\u001b[0m\n",
      "\u001b[34m[192]#011train-rmse:0.186595#011validation-rmse:0.311697\u001b[0m\n",
      "\u001b[34m[193]#011train-rmse:0.186318#011validation-rmse:0.311791\u001b[0m\n",
      "\u001b[34m[194]#011train-rmse:0.185953#011validation-rmse:0.311786\u001b[0m\n",
      "\u001b[34m[195]#011train-rmse:0.185605#011validation-rmse:0.311888\u001b[0m\n",
      "\u001b[34m[196]#011train-rmse:0.185607#011validation-rmse:0.311888\u001b[0m\n",
      "\u001b[34m[197]#011train-rmse:0.185537#011validation-rmse:0.311842\u001b[0m\n",
      "\u001b[34m[198]#011train-rmse:0.185525#011validation-rmse:0.311842\u001b[0m\n",
      "\u001b[34m[199]#011train-rmse:0.185331#011validation-rmse:0.311775\u001b[0m\n",
      "Training seconds: 521\n",
      "Billable seconds: 521\n"
     ]
    }
   ],
   "source": [
    "# TODO: Create a new estimator object attached to the best training job found during hyperparameter tuning\n",
    "\n",
    "xgb_attached = sagemaker.estimator.Estimator.attach(xgb_hyperparameter_tuner.best_training_job())\n"
   ]
  },
  {
   "cell_type": "markdown",
   "metadata": {},
   "source": [
    "Now that we have an estimator object attached to the correct training job, we can proceed as we normally would and create a transformer object."
   ]
  },
  {
   "cell_type": "code",
   "execution_count": 28,
   "metadata": {},
   "outputs": [],
   "source": [
    "# TODO: Create a transformer object from the attached estimator. Using an instance count of 1 and an instance type of ml.m4.xlarge\n",
    "#       should be more than enough.\n",
    "\n",
    "xgb_transformer = xgb_attached.transformer(instance_count = 1, instance_type = 'ml.m4.xlarge')\n"
   ]
  },
  {
   "cell_type": "markdown",
   "metadata": {},
   "source": [
    "Next we actually perform the transform job. When doing so we need to make sure to specify the type of data we are sending so that it is serialized correctly in the background. In our case we are providing our model with csv data so we specify `text/csv`. Also, if the test data that we have provided is too large to process all at once then we need to specify how the data file should be split up. Since each line is a single entry in our data set we tell SageMaker that it can split the input on each line."
   ]
  },
  {
   "cell_type": "code",
   "execution_count": 34,
   "metadata": {},
   "outputs": [],
   "source": [
    "# TODO: Start the transform job. Make sure to specify the content type and the split type of the test data.\n",
    "xgb_transformer.transform(test_location, content_type='text/csv', split_type='Line')"
   ]
  },
  {
   "cell_type": "markdown",
   "metadata": {},
   "source": [
    "Currently the transform job is running but it is doing so in the background. Since we wish to wait until the transform job is done and we would like a bit of feedback we can run the `wait()` method."
   ]
  },
  {
   "cell_type": "code",
   "execution_count": 35,
   "metadata": {},
   "outputs": [
    {
     "name": "stdout",
     "output_type": "stream",
     "text": [
      ".......................\u001b[34m[2020-03-01 20:04:24 +0000] [15] [INFO] Starting gunicorn 19.10.0\u001b[0m\n",
      "\u001b[34m[2020-03-01 20:04:24 +0000] [15] [INFO] Listening at: unix:/tmp/gunicorn.sock (15)\u001b[0m\n",
      "\u001b[34m[2020-03-01 20:04:24 +0000] [15] [INFO] Using worker: gevent\u001b[0m\n",
      "\u001b[34m[2020-03-01 20:04:24 +0000] [22] [INFO] Booting worker with pid: 22\u001b[0m\n",
      "\u001b[34m[2020-03-01 20:04:24 +0000] [23] [INFO] Booting worker with pid: 23\u001b[0m\n",
      "\u001b[34m[2020-03-01 20:04:25 +0000] [27] [INFO] Booting worker with pid: 27\u001b[0m\n",
      "\u001b[34m[2020-03-01 20:04:25 +0000] [28] [INFO] Booting worker with pid: 28\u001b[0m\n",
      "\u001b[34m[2020-03-01:20:04:49:INFO] No GPUs detected (normal if no gpus installed)\u001b[0m\n",
      "\u001b[35m[2020-03-01:20:04:49:INFO] No GPUs detected (normal if no gpus installed)\u001b[0m\n",
      "\u001b[34m169.254.255.130 - - [01/Mar/2020:20:04:49 +0000] \"GET /ping HTTP/1.1\" 200 0 \"-\" \"Go-http-client/1.1\"\u001b[0m\n",
      "\u001b[34m[2020-03-01:20:04:49:INFO] No GPUs detected (normal if no gpus installed)\u001b[0m\n",
      "\u001b[34m169.254.255.130 - - [01/Mar/2020:20:04:49 +0000] \"GET /execution-parameters HTTP/1.1\" 200 84 \"-\" \"Go-http-client/1.1\"\u001b[0m\n",
      "\u001b[35m169.254.255.130 - - [01/Mar/2020:20:04:49 +0000] \"GET /ping HTTP/1.1\" 200 0 \"-\" \"Go-http-client/1.1\"\u001b[0m\n",
      "\u001b[35m[2020-03-01:20:04:49:INFO] No GPUs detected (normal if no gpus installed)\u001b[0m\n",
      "\u001b[35m169.254.255.130 - - [01/Mar/2020:20:04:49 +0000] \"GET /execution-parameters HTTP/1.1\" 200 84 \"-\" \"Go-http-client/1.1\"\u001b[0m\n",
      "\u001b[32m2020-03-01T20:04:49.707:[sagemaker logs]: MaxConcurrentTransforms=4, MaxPayloadInMB=6, BatchStrategy=MULTI_RECORD\u001b[0m\n",
      "\u001b[34m[2020-03-01:20:04:52:INFO] No GPUs detected (normal if no gpus installed)\u001b[0m\n",
      "\u001b[34m[2020-03-01:20:04:52:INFO] Determined delimiter of CSV input is ','\u001b[0m\n",
      "\u001b[34m[2020-03-01:20:04:52:INFO] Determined delimiter of CSV input is ','\u001b[0m\n",
      "\u001b[34m[2020-03-01:20:04:52:INFO] No GPUs detected (normal if no gpus installed)\u001b[0m\n",
      "\u001b[34m[2020-03-01:20:04:52:INFO] Determined delimiter of CSV input is ','\u001b[0m\n",
      "\u001b[34m[2020-03-01:20:04:52:INFO] Determined delimiter of CSV input is ','\u001b[0m\n",
      "\u001b[35m[2020-03-01:20:04:52:INFO] No GPUs detected (normal if no gpus installed)\u001b[0m\n",
      "\u001b[35m[2020-03-01:20:04:52:INFO] Determined delimiter of CSV input is ','\u001b[0m\n",
      "\u001b[35m[2020-03-01:20:04:52:INFO] Determined delimiter of CSV input is ','\u001b[0m\n",
      "\u001b[35m[2020-03-01:20:04:52:INFO] No GPUs detected (normal if no gpus installed)\u001b[0m\n",
      "\u001b[35m[2020-03-01:20:04:52:INFO] Determined delimiter of CSV input is ','\u001b[0m\n",
      "\u001b[35m[2020-03-01:20:04:52:INFO] Determined delimiter of CSV input is ','\u001b[0m\n",
      "\u001b[34m169.254.255.130 - - [01/Mar/2020:20:04:56 +0000] \"POST /invocations HTTP/1.1\" 200 12311 \"-\" \"Go-http-client/1.1\"\u001b[0m\n",
      "\u001b[34m169.254.255.130 - - [01/Mar/2020:20:04:56 +0000] \"POST /invocations HTTP/1.1\" 200 12318 \"-\" \"Go-http-client/1.1\"\u001b[0m\n",
      "\u001b[34m169.254.255.130 - - [01/Mar/2020:20:04:56 +0000] \"POST /invocations HTTP/1.1\" 200 12317 \"-\" \"Go-http-client/1.1\"\u001b[0m\n",
      "\u001b[34m[2020-03-01:20:04:56:INFO] Determined delimiter of CSV input is ','\u001b[0m\n",
      "\u001b[34m169.254.255.130 - - [01/Mar/2020:20:04:56 +0000] \"POST /invocations HTTP/1.1\" 200 12274 \"-\" \"Go-http-client/1.1\"\u001b[0m\n",
      "\u001b[34m[2020-03-01:20:04:56:INFO] Determined delimiter of CSV input is ','\u001b[0m\n",
      "\u001b[34m[2020-03-01:20:04:56:INFO] Determined delimiter of CSV input is ','\u001b[0m\n",
      "\u001b[34m[2020-03-01:20:04:56:INFO] Determined delimiter of CSV input is ','\u001b[0m\n",
      "\u001b[35m169.254.255.130 - - [01/Mar/2020:20:04:56 +0000] \"POST /invocations HTTP/1.1\" 200 12311 \"-\" \"Go-http-client/1.1\"\u001b[0m\n",
      "\u001b[35m169.254.255.130 - - [01/Mar/2020:20:04:56 +0000] \"POST /invocations HTTP/1.1\" 200 12318 \"-\" \"Go-http-client/1.1\"\u001b[0m\n",
      "\u001b[35m169.254.255.130 - - [01/Mar/2020:20:04:56 +0000] \"POST /invocations HTTP/1.1\" 200 12317 \"-\" \"Go-http-client/1.1\"\u001b[0m\n",
      "\u001b[35m[2020-03-01:20:04:56:INFO] Determined delimiter of CSV input is ','\u001b[0m\n",
      "\u001b[35m169.254.255.130 - - [01/Mar/2020:20:04:56 +0000] \"POST /invocations HTTP/1.1\" 200 12274 \"-\" \"Go-http-client/1.1\"\u001b[0m\n",
      "\u001b[35m[2020-03-01:20:04:56:INFO] Determined delimiter of CSV input is ','\u001b[0m\n",
      "\u001b[35m[2020-03-01:20:04:56:INFO] Determined delimiter of CSV input is ','\u001b[0m\n",
      "\u001b[35m[2020-03-01:20:04:56:INFO] Determined delimiter of CSV input is ','\u001b[0m\n",
      "\u001b[34m169.254.255.130 - - [01/Mar/2020:20:04:59 +0000] \"POST /invocations HTTP/1.1\" 200 12322 \"-\" \"Go-http-client/1.1\"\u001b[0m\n",
      "\u001b[35m169.254.255.130 - - [01/Mar/2020:20:04:59 +0000] \"POST /invocations HTTP/1.1\" 200 12322 \"-\" \"Go-http-client/1.1\"\u001b[0m\n",
      "\u001b[34m169.254.255.130 - - [01/Mar/2020:20:04:59 +0000] \"POST /invocations HTTP/1.1\" 200 12330 \"-\" \"Go-http-client/1.1\"\u001b[0m\n",
      "\u001b[34m[2020-03-01:20:04:59:INFO] Determined delimiter of CSV input is ','\u001b[0m\n",
      "\u001b[34m169.254.255.130 - - [01/Mar/2020:20:05:00 +0000] \"POST /invocations HTTP/1.1\" 200 12293 \"-\" \"Go-http-client/1.1\"\u001b[0m\n",
      "\u001b[34m169.254.255.130 - - [01/Mar/2020:20:05:00 +0000] \"POST /invocations HTTP/1.1\" 200 12340 \"-\" \"Go-http-client/1.1\"\u001b[0m\n",
      "\u001b[34m[2020-03-01:20:05:00:INFO] Determined delimiter of CSV input is ','\u001b[0m\n",
      "\u001b[34m[2020-03-01:20:05:00:INFO] Determined delimiter of CSV input is ','\u001b[0m\n",
      "\u001b[34m[2020-03-01:20:05:00:INFO] Determined delimiter of CSV input is ','\u001b[0m\n",
      "\u001b[35m169.254.255.130 - - [01/Mar/2020:20:04:59 +0000] \"POST /invocations HTTP/1.1\" 200 12330 \"-\" \"Go-http-client/1.1\"\u001b[0m\n",
      "\u001b[35m[2020-03-01:20:04:59:INFO] Determined delimiter of CSV input is ','\u001b[0m\n",
      "\u001b[35m169.254.255.130 - - [01/Mar/2020:20:05:00 +0000] \"POST /invocations HTTP/1.1\" 200 12293 \"-\" \"Go-http-client/1.1\"\u001b[0m\n",
      "\u001b[35m169.254.255.130 - - [01/Mar/2020:20:05:00 +0000] \"POST /invocations HTTP/1.1\" 200 12340 \"-\" \"Go-http-client/1.1\"\u001b[0m\n",
      "\u001b[35m[2020-03-01:20:05:00:INFO] Determined delimiter of CSV input is ','\u001b[0m\n",
      "\u001b[35m[2020-03-01:20:05:00:INFO] Determined delimiter of CSV input is ','\u001b[0m\n",
      "\u001b[35m[2020-03-01:20:05:00:INFO] Determined delimiter of CSV input is ','\u001b[0m\n",
      "\u001b[34m[2020-03-01:20:05:03:INFO] Determined delimiter of CSV input is ','\u001b[0m\n",
      "\u001b[35m[2020-03-01:20:05:03:INFO] Determined delimiter of CSV input is ','\u001b[0m\n",
      "\u001b[34m169.254.255.130 - - [01/Mar/2020:20:05:07 +0000] \"POST /invocations HTTP/1.1\" 200 12256 \"-\" \"Go-http-client/1.1\"\u001b[0m\n",
      "\u001b[34m169.254.255.130 - - [01/Mar/2020:20:05:07 +0000] \"POST /invocations HTTP/1.1\" 200 12316 \"-\" \"Go-http-client/1.1\"\u001b[0m\n",
      "\u001b[34m[2020-03-01:20:05:07:INFO] Determined delimiter of CSV input is ','\u001b[0m\n",
      "\u001b[34m[2020-03-01:20:05:07:INFO] Determined delimiter of CSV input is ','\u001b[0m\n",
      "\u001b[34m169.254.255.130 - - [01/Mar/2020:20:05:07 +0000] \"POST /invocations HTTP/1.1\" 200 12300 \"-\" \"Go-http-client/1.1\"\u001b[0m\n",
      "\u001b[34m169.254.255.130 - - [01/Mar/2020:20:05:07 +0000] \"POST /invocations HTTP/1.1\" 200 12327 \"-\" \"Go-http-client/1.1\"\u001b[0m\n",
      "\u001b[34m[2020-03-01:20:05:07:INFO] Determined delimiter of CSV input is ','\u001b[0m\n",
      "\u001b[34m[2020-03-01:20:05:07:INFO] Determined delimiter of CSV input is ','\u001b[0m\n",
      "\u001b[35m169.254.255.130 - - [01/Mar/2020:20:05:07 +0000] \"POST /invocations HTTP/1.1\" 200 12256 \"-\" \"Go-http-client/1.1\"\u001b[0m\n",
      "\u001b[35m169.254.255.130 - - [01/Mar/2020:20:05:07 +0000] \"POST /invocations HTTP/1.1\" 200 12316 \"-\" \"Go-http-client/1.1\"\u001b[0m\n",
      "\u001b[35m[2020-03-01:20:05:07:INFO] Determined delimiter of CSV input is ','\u001b[0m\n",
      "\u001b[35m[2020-03-01:20:05:07:INFO] Determined delimiter of CSV input is ','\u001b[0m\n",
      "\u001b[35m169.254.255.130 - - [01/Mar/2020:20:05:07 +0000] \"POST /invocations HTTP/1.1\" 200 12300 \"-\" \"Go-http-client/1.1\"\u001b[0m\n",
      "\u001b[35m169.254.255.130 - - [01/Mar/2020:20:05:07 +0000] \"POST /invocations HTTP/1.1\" 200 12327 \"-\" \"Go-http-client/1.1\"\u001b[0m\n",
      "\u001b[35m[2020-03-01:20:05:07:INFO] Determined delimiter of CSV input is ','\u001b[0m\n",
      "\u001b[35m[2020-03-01:20:05:07:INFO] Determined delimiter of CSV input is ','\u001b[0m\n",
      "\u001b[34m169.254.255.130 - - [01/Mar/2020:20:05:14 +0000] \"POST /invocations HTTP/1.1\" 200 12297 \"-\" \"Go-http-client/1.1\"\u001b[0m\n",
      "\u001b[34m169.254.255.130 - - [01/Mar/2020:20:05:14 +0000] \"POST /invocations HTTP/1.1\" 200 12326 \"-\" \"Go-http-client/1.1\"\u001b[0m\n",
      "\u001b[34m[2020-03-01:20:05:14:INFO] Determined delimiter of CSV input is ','\u001b[0m\n",
      "\u001b[34m[2020-03-01:20:05:14:INFO] Determined delimiter of CSV input is ','\u001b[0m\n",
      "\u001b[35m169.254.255.130 - - [01/Mar/2020:20:05:14 +0000] \"POST /invocations HTTP/1.1\" 200 12297 \"-\" \"Go-http-client/1.1\"\u001b[0m\n",
      "\u001b[35m169.254.255.130 - - [01/Mar/2020:20:05:14 +0000] \"POST /invocations HTTP/1.1\" 200 12326 \"-\" \"Go-http-client/1.1\"\u001b[0m\n",
      "\u001b[35m[2020-03-01:20:05:14:INFO] Determined delimiter of CSV input is ','\u001b[0m\n",
      "\u001b[35m[2020-03-01:20:05:14:INFO] Determined delimiter of CSV input is ','\u001b[0m\n",
      "\u001b[34m169.254.255.130 - - [01/Mar/2020:20:05:14 +0000] \"POST /invocations HTTP/1.1\" 200 12335 \"-\" \"Go-http-client/1.1\"\u001b[0m\n",
      "\u001b[34m169.254.255.130 - - [01/Mar/2020:20:05:14 +0000] \"POST /invocations HTTP/1.1\" 200 12341 \"-\" \"Go-http-client/1.1\"\u001b[0m\n",
      "\u001b[34m[2020-03-01:20:05:15:INFO] Determined delimiter of CSV input is ','\u001b[0m\n",
      "\u001b[34m[2020-03-01:20:05:15:INFO] Determined delimiter of CSV input is ','\u001b[0m\n",
      "\u001b[35m169.254.255.130 - - [01/Mar/2020:20:05:14 +0000] \"POST /invocations HTTP/1.1\" 200 12335 \"-\" \"Go-http-client/1.1\"\u001b[0m\n",
      "\u001b[35m169.254.255.130 - - [01/Mar/2020:20:05:14 +0000] \"POST /invocations HTTP/1.1\" 200 12341 \"-\" \"Go-http-client/1.1\"\u001b[0m\n",
      "\u001b[35m[2020-03-01:20:05:15:INFO] Determined delimiter of CSV input is ','\u001b[0m\n",
      "\u001b[35m[2020-03-01:20:05:15:INFO] Determined delimiter of CSV input is ','\u001b[0m\n",
      "\u001b[34m169.254.255.130 - - [01/Mar/2020:20:05:18 +0000] \"POST /invocations HTTP/1.1\" 200 12300 \"-\" \"Go-http-client/1.1\"\u001b[0m\n",
      "\u001b[34m169.254.255.130 - - [01/Mar/2020:20:05:18 +0000] \"POST /invocations HTTP/1.1\" 200 12294 \"-\" \"Go-http-client/1.1\"\u001b[0m\n",
      "\u001b[34m[2020-03-01:20:05:18:INFO] Determined delimiter of CSV input is ','\u001b[0m\n",
      "\u001b[34m[2020-03-01:20:05:18:INFO] Determined delimiter of CSV input is ','\u001b[0m\n",
      "\u001b[34m169.254.255.130 - - [01/Mar/2020:20:05:18 +0000] \"POST /invocations HTTP/1.1\" 200 12283 \"-\" \"Go-http-client/1.1\"\u001b[0m\n",
      "\u001b[34m169.254.255.130 - - [01/Mar/2020:20:05:18 +0000] \"POST /invocations HTTP/1.1\" 200 12320 \"-\" \"Go-http-client/1.1\"\u001b[0m\n",
      "\u001b[34m[2020-03-01:20:05:18:INFO] Determined delimiter of CSV input is ','\u001b[0m\n",
      "\u001b[34m[2020-03-01:20:05:18:INFO] Determined delimiter of CSV input is ','\u001b[0m\n",
      "\u001b[35m169.254.255.130 - - [01/Mar/2020:20:05:18 +0000] \"POST /invocations HTTP/1.1\" 200 12300 \"-\" \"Go-http-client/1.1\"\u001b[0m\n",
      "\u001b[35m169.254.255.130 - - [01/Mar/2020:20:05:18 +0000] \"POST /invocations HTTP/1.1\" 200 12294 \"-\" \"Go-http-client/1.1\"\u001b[0m\n",
      "\u001b[35m[2020-03-01:20:05:18:INFO] Determined delimiter of CSV input is ','\u001b[0m\n",
      "\u001b[35m[2020-03-01:20:05:18:INFO] Determined delimiter of CSV input is ','\u001b[0m\n",
      "\u001b[35m169.254.255.130 - - [01/Mar/2020:20:05:18 +0000] \"POST /invocations HTTP/1.1\" 200 12283 \"-\" \"Go-http-client/1.1\"\u001b[0m\n",
      "\u001b[35m169.254.255.130 - - [01/Mar/2020:20:05:18 +0000] \"POST /invocations HTTP/1.1\" 200 12320 \"-\" \"Go-http-client/1.1\"\u001b[0m\n",
      "\u001b[35m[2020-03-01:20:05:18:INFO] Determined delimiter of CSV input is ','\u001b[0m\n",
      "\u001b[35m[2020-03-01:20:05:18:INFO] Determined delimiter of CSV input is ','\u001b[0m\n",
      "\u001b[34m169.254.255.130 - - [01/Mar/2020:20:05:25 +0000] \"POST /invocations HTTP/1.1\" 200 12316 \"-\" \"Go-http-client/1.1\"\u001b[0m\n",
      "\u001b[34m169.254.255.130 - - [01/Mar/2020:20:05:25 +0000] \"POST /invocations HTTP/1.1\" 200 12306 \"-\" \"Go-http-client/1.1\"\u001b[0m\n",
      "\u001b[34m[2020-03-01:20:05:25:INFO] Determined delimiter of CSV input is ','\u001b[0m\n",
      "\u001b[34m[2020-03-01:20:05:25:INFO] Determined delimiter of CSV input is ','\u001b[0m\n",
      "\u001b[35m169.254.255.130 - - [01/Mar/2020:20:05:25 +0000] \"POST /invocations HTTP/1.1\" 200 12316 \"-\" \"Go-http-client/1.1\"\u001b[0m\n",
      "\u001b[35m169.254.255.130 - - [01/Mar/2020:20:05:25 +0000] \"POST /invocations HTTP/1.1\" 200 12306 \"-\" \"Go-http-client/1.1\"\u001b[0m\n",
      "\u001b[35m[2020-03-01:20:05:25:INFO] Determined delimiter of CSV input is ','\u001b[0m\n",
      "\u001b[35m[2020-03-01:20:05:25:INFO] Determined delimiter of CSV input is ','\u001b[0m\n",
      "\u001b[34m169.254.255.130 - - [01/Mar/2020:20:05:25 +0000] \"POST /invocations HTTP/1.1\" 200 12337 \"-\" \"Go-http-client/1.1\"\u001b[0m\n",
      "\u001b[34m169.254.255.130 - - [01/Mar/2020:20:05:26 +0000] \"POST /invocations HTTP/1.1\" 200 12305 \"-\" \"Go-http-client/1.1\"\u001b[0m\n",
      "\u001b[34m[2020-03-01:20:05:26:INFO] Determined delimiter of CSV input is ','\u001b[0m\n",
      "\u001b[34m[2020-03-01:20:05:26:INFO] Determined delimiter of CSV input is ','\u001b[0m\n",
      "\u001b[35m169.254.255.130 - - [01/Mar/2020:20:05:25 +0000] \"POST /invocations HTTP/1.1\" 200 12337 \"-\" \"Go-http-client/1.1\"\u001b[0m\n",
      "\u001b[35m169.254.255.130 - - [01/Mar/2020:20:05:26 +0000] \"POST /invocations HTTP/1.1\" 200 12305 \"-\" \"Go-http-client/1.1\"\u001b[0m\n",
      "\u001b[35m[2020-03-01:20:05:26:INFO] Determined delimiter of CSV input is ','\u001b[0m\n",
      "\u001b[35m[2020-03-01:20:05:26:INFO] Determined delimiter of CSV input is ','\u001b[0m\n",
      "\u001b[34m169.254.255.130 - - [01/Mar/2020:20:05:28 +0000] \"POST /invocations HTTP/1.1\" 200 9190 \"-\" \"Go-http-client/1.1\"\u001b[0m\n",
      "\u001b[35m169.254.255.130 - - [01/Mar/2020:20:05:28 +0000] \"POST /invocations HTTP/1.1\" 200 9190 \"-\" \"Go-http-client/1.1\"\u001b[0m\n",
      "\u001b[34m169.254.255.130 - - [01/Mar/2020:20:05:29 +0000] \"POST /invocations HTTP/1.1\" 200 12305 \"-\" \"Go-http-client/1.1\"\u001b[0m\n",
      "\u001b[34m169.254.255.130 - - [01/Mar/2020:20:05:29 +0000] \"POST /invocations HTTP/1.1\" 200 12285 \"-\" \"Go-http-client/1.1\"\u001b[0m\n",
      "\u001b[34m169.254.255.130 - - [01/Mar/2020:20:05:29 +0000] \"POST /invocations HTTP/1.1\" 200 12313 \"-\" \"Go-http-client/1.1\"\u001b[0m\n",
      "\u001b[35m169.254.255.130 - - [01/Mar/2020:20:05:29 +0000] \"POST /invocations HTTP/1.1\" 200 12305 \"-\" \"Go-http-client/1.1\"\u001b[0m\n",
      "\u001b[35m169.254.255.130 - - [01/Mar/2020:20:05:29 +0000] \"POST /invocations HTTP/1.1\" 200 12285 \"-\" \"Go-http-client/1.1\"\u001b[0m\n",
      "\u001b[35m169.254.255.130 - - [01/Mar/2020:20:05:29 +0000] \"POST /invocations HTTP/1.1\" 200 12313 \"-\" \"Go-http-client/1.1\"\u001b[0m\n",
      "\n"
     ]
    }
   ],
   "source": [
    "xgb_transformer.wait()"
   ]
  },
  {
   "cell_type": "markdown",
   "metadata": {},
   "source": [
    "Now the transform job has executed and the result, the estimated sentiment of each review, has been saved on S3. Since we would rather work on this file locally we can perform a bit of notebook magic to copy the file to the `data_dir`."
   ]
  },
  {
   "cell_type": "code",
   "execution_count": 36,
   "metadata": {},
   "outputs": [
    {
     "name": "stdout",
     "output_type": "stream",
     "text": [
      "download: s3://sagemaker-us-east-1-788544388985/sagemaker-xgboost-200301-1832-019-167fe-2020-03-01-20-00-42-890/test.csv.out to ../data/xgboost/test.csv.out\n"
     ]
    }
   ],
   "source": [
    "!aws s3 cp --recursive $xgb_transformer.output_path $data_dir"
   ]
  },
  {
   "cell_type": "markdown",
   "metadata": {},
   "source": [
    "The last step is now to read in the output from our model, convert the output to something a little more usable, in this case we want the sentiment to be either `1` (positive) or `0` (negative), and then compare to the ground truth labels."
   ]
  },
  {
   "cell_type": "code",
   "execution_count": 37,
   "metadata": {},
   "outputs": [],
   "source": [
    "predictions = pd.read_csv(os.path.join(data_dir, 'test.csv.out'), header=None)\n",
    "predictions = [round(num) for num in predictions.squeeze().values]"
   ]
  },
  {
   "cell_type": "code",
   "execution_count": 38,
   "metadata": {},
   "outputs": [
    {
     "data": {
      "text/plain": [
       "0.87008"
      ]
     },
     "execution_count": 38,
     "metadata": {},
     "output_type": "execute_result"
    }
   ],
   "source": [
    "from sklearn.metrics import accuracy_score\n",
    "accuracy_score(test_y, predictions)"
   ]
  },
  {
   "cell_type": "markdown",
   "metadata": {},
   "source": [
    "## Optional: Clean up\n",
    "\n",
    "The default notebook instance on SageMaker doesn't have a lot of excess disk space available. As you continue to complete and execute notebooks you will eventually fill up this disk space, leading to errors which can be difficult to diagnose. Once you are completely finished using a notebook it is a good idea to remove the files that you created along the way. Of course, you can do this from the terminal or from the notebook hub if you would like. The cell below contains some commands to clean up the created files from within the notebook."
   ]
  },
  {
   "cell_type": "code",
   "execution_count": 42,
   "metadata": {},
   "outputs": [
    {
     "name": "stdout",
     "output_type": "stream",
     "text": [
      "rmdir: failed to remove ‘../data/xgboost’: No such file or directory\n",
      "rm: cannot remove ‘../cache/sentiment_analysis/*’: No such file or directory\n",
      "rmdir: failed to remove ‘../cache/sentiment_analysis’: No such file or directory\n"
     ]
    }
   ],
   "source": [
    "# First we will remove all of the files contained in the data_dir directory\n",
    "!rm -rf $data_dir/*\n",
    "\n",
    "# And then we delete the directory itself\n",
    "!rmdir $data_dir\n",
    "\n",
    "# Similarly we will remove the files in the cache_dir directory and the directory itself\n",
    "!rm $cache_dir/*\n",
    "!rmdir $cache_dir"
   ]
  },
  {
   "cell_type": "code",
   "execution_count": null,
   "metadata": {},
   "outputs": [],
   "source": []
  }
 ],
 "metadata": {
  "kernelspec": {
   "display_name": "conda_python3",
   "language": "python",
   "name": "conda_python3"
  },
  "language_info": {
   "codemirror_mode": {
    "name": "ipython",
    "version": 3
   },
   "file_extension": ".py",
   "mimetype": "text/x-python",
   "name": "python",
   "nbconvert_exporter": "python",
   "pygments_lexer": "ipython3",
   "version": "3.6.5"
  }
 },
 "nbformat": 4,
 "nbformat_minor": 4
}
